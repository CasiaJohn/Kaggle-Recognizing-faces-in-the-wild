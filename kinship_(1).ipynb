{
 "cells": [
  {
   "cell_type": "markdown",
   "metadata": {},
   "source": [
    "### https://www.kaggle.com/c/recognizing-faces-in-the-wild/leaderboard#score"
   ]
  },
  {
   "cell_type": "code",
   "execution_count": null,
   "metadata": {
    "colab": {
     "base_uri": "https://localhost:8080/",
     "height": 373
    },
    "colab_type": "code",
    "id": "vV8ptKK6Dbut",
    "outputId": "f9c5a88b-b670-454f-caf9-e6182a4c0f11"
   },
   "outputs": [
    {
     "name": "stdout",
     "output_type": "stream",
     "text": [
      "Collecting git+https://github.com/rcmalli/keras-vggface.git\n",
      "  Cloning https://github.com/rcmalli/keras-vggface.git to /tmp/pip-req-build-2it25gf5\n",
      "  Running command git clone -q https://github.com/rcmalli/keras-vggface.git /tmp/pip-req-build-2it25gf5\n",
      "Requirement already satisfied: numpy>=1.9.1 in /usr/local/lib/python3.6/dist-packages (from keras-vggface==0.6) (1.16.4)\n",
      "Requirement already satisfied: scipy>=0.14 in /usr/local/lib/python3.6/dist-packages (from keras-vggface==0.6) (1.3.0)\n",
      "Requirement already satisfied: h5py in /usr/local/lib/python3.6/dist-packages (from keras-vggface==0.6) (2.8.0)\n",
      "Requirement already satisfied: pillow in /usr/local/lib/python3.6/dist-packages (from keras-vggface==0.6) (4.3.0)\n",
      "Requirement already satisfied: keras in /usr/local/lib/python3.6/dist-packages (from keras-vggface==0.6) (2.2.4)\n",
      "Requirement already satisfied: six>=1.9.0 in /usr/local/lib/python3.6/dist-packages (from keras-vggface==0.6) (1.12.0)\n",
      "Requirement already satisfied: pyyaml in /usr/local/lib/python3.6/dist-packages (from keras-vggface==0.6) (3.13)\n",
      "Requirement already satisfied: olefile in /usr/local/lib/python3.6/dist-packages (from pillow->keras-vggface==0.6) (0.46)\n",
      "Requirement already satisfied: keras-applications>=1.0.6 in /usr/local/lib/python3.6/dist-packages (from keras->keras-vggface==0.6) (1.0.8)\n",
      "Requirement already satisfied: keras-preprocessing>=1.0.5 in /usr/local/lib/python3.6/dist-packages (from keras->keras-vggface==0.6) (1.1.0)\n",
      "Building wheels for collected packages: keras-vggface\n",
      "  Building wheel for keras-vggface (setup.py) ... \u001b[?25l\u001b[?25hdone\n",
      "  Created wheel for keras-vggface: filename=keras_vggface-0.6-cp36-none-any.whl size=8311 sha256=538ecb81019b212fb7087bb7d1c445f3b3f671c1e7c6ffa3855cb5a09bfd1831\n",
      "  Stored in directory: /tmp/pip-ephem-wheel-cache-nzazqyah/wheels/36/07/46/06c25ce8e9cd396dabe151ea1d8a2bc28dafcb11321c1f3a6d\n",
      "Successfully built keras-vggface\n",
      "Installing collected packages: keras-vggface\n",
      "Successfully installed keras-vggface-0.6\n"
     ]
    }
   ],
   "source": [
    "! pip install git+https://github.com/rcmalli/keras-vggface.git"
   ]
  },
  {
   "cell_type": "code",
   "execution_count": null,
   "metadata": {
    "colab": {
     "base_uri": "https://localhost:8080/",
     "height": 50
    },
    "colab_type": "code",
    "id": "oS3FKkpct-L7",
    "outputId": "b60c907a-16c8-447d-cfc4-9a75d88ee697"
   },
   "outputs": [
    {
     "name": "stderr",
     "output_type": "stream",
     "text": [
      "Using TensorFlow backend.\n"
     ]
    },
    {
     "name": "stdout",
     "output_type": "stream",
     "text": [
      "Requirement already satisfied: joblib in /usr/local/lib/python3.6/dist-packages (0.13.2)\n"
     ]
    }
   ],
   "source": [
    "from collections import defaultdict\n",
    "from glob import glob\n",
    "from random import choice, sample\n",
    "\n",
    "from keras_vggface.utils import preprocess_input\n",
    "\n",
    "import numpy as np\n",
    "import pandas as pd\n",
    "\n",
    "from keras.preprocessing import image\n",
    "import tensorflow as tf\n",
    "from sklearn.metrics import roc_auc_score\n",
    "def auroc(y_true, y_pred):\n",
    "    return tf.py_func(roc_auc_score, (y_true, y_pred), tf.double)\n",
    "! pip install joblib\n",
    "import joblib\n",
    "\n",
    "import cv2\n",
    "from keras.callbacks import ModelCheckpoint, ReduceLROnPlateau\n",
    "from keras.layers import Input, Dense, Flatten, GlobalMaxPool2D, GlobalAvgPool2D, Concatenate, Multiply, Dropout, Subtract, Add, Conv2D\n",
    "from keras.models import Model\n",
    "from keras.preprocessing import image\n",
    "from keras.optimizers import Adam\n",
    "#from keras_vggface.utils import preprocess_input\n",
    "from keras_vggface.vggface import VGGFace\n",
    "import h5py\n",
    "\n",
    "\n",
    "from keras.regularizers import l2\n",
    "from keras.models import Sequential\n",
    "from keras.optimizers import Adam\n",
    "from keras.layers import Conv2D, ZeroPadding2D, Activation, Input, concatenate\n",
    "from keras.models import Model\n",
    "\n",
    "from keras.layers.normalization import BatchNormalization\n",
    "from keras.layers.pooling import MaxPooling2D\n",
    "from keras.layers.merge import Concatenate\n",
    "from keras.layers.core import Lambda, Flatten, Dense\n",
    "from keras.initializers import glorot_uniform\n",
    "\n",
    "from keras.engine.topology import Layer\n",
    "from keras.regularizers import l2\n",
    "from keras import backend as K"
   ]
  },
  {
   "cell_type": "code",
   "execution_count": null,
   "metadata": {
    "colab": {
     "base_uri": "https://localhost:8080/",
     "height": 34
    },
    "colab_type": "code",
    "id": "UJJX7UEAU2vH",
    "outputId": "dbeb1d80-912b-4441-dcd1-7030033600e5"
   },
   "outputs": [
    {
     "data": {
      "text/plain": [
       "<module 'pandas' from '/usr/local/lib/python3.6/dist-packages/pandas/__init__.py'>"
      ]
     },
     "execution_count": 3,
     "metadata": {
      "tags": []
     },
     "output_type": "execute_result"
    }
   ],
   "source": [
    "pd"
   ]
  },
  {
   "cell_type": "code",
   "execution_count": null,
   "metadata": {
    "colab": {},
    "colab_type": "code",
    "id": "Cx9PRveJU24L"
   },
   "outputs": [],
   "source": []
  },
  {
   "cell_type": "code",
   "execution_count": null,
   "metadata": {
    "colab": {
     "base_uri": "https://localhost:8080/",
     "height": 185
    },
    "colab_type": "code",
    "id": "pOlij-RXupe4",
    "outputId": "448a5d99-fc2a-4770-938b-db45c3ca0575"
   },
   "outputs": [],
   "source": [
    "! pip show cvxopt"
   ]
  },
  {
   "cell_type": "code",
   "execution_count": null,
   "metadata": {
    "colab": {},
    "colab_type": "code",
    "id": "3MLi3il-uDLf"
   },
   "outputs": [],
   "source": []
  },
  {
   "cell_type": "code",
   "execution_count": null,
   "metadata": {
    "colab": {
     "base_uri": "https://localhost:8080/",
     "height": 121
    },
    "colab_type": "code",
    "id": "Y9_TzvWYutMh",
    "outputId": "82af7bd6-4b43-47d7-e8d0-9f4acb64fb62"
   },
   "outputs": [
    {
     "name": "stdout",
     "output_type": "stream",
     "text": [
      "Go to this URL in a browser: https://accounts.google.com/o/oauth2/auth?client_id=947318989803-6bn6qk8qdgf4n4g3pfee6491hc0brc4i.apps.googleusercontent.com&redirect_uri=urn%3Aietf%3Awg%3Aoauth%3A2.0%3Aoob&scope=email%20https%3A%2F%2Fwww.googleapis.com%2Fauth%2Fdocs.test%20https%3A%2F%2Fwww.googleapis.com%2Fauth%2Fdrive%20https%3A%2F%2Fwww.googleapis.com%2Fauth%2Fdrive.photos.readonly%20https%3A%2F%2Fwww.googleapis.com%2Fauth%2Fpeopleapi.readonly&response_type=code\n",
      "\n",
      "Enter your authorization code:\n",
      "··········\n",
      "Mounted at /content/drive\n"
     ]
    }
   ],
   "source": [
    "from google.colab import drive\n",
    "drive.mount('/content/drive')"
   ]
  },
  {
   "cell_type": "code",
   "execution_count": null,
   "metadata": {
    "colab": {},
    "colab_type": "code",
    "id": "9Kl8RmF0t-MQ"
   },
   "outputs": [],
   "source": []
  },
  {
   "cell_type": "markdown",
   "metadata": {
    "colab": {},
    "colab_type": "code",
    "id": "7QmLvfdbcxRm"
   },
   "source": [
    "### Preparing files for dataset generation"
   ]
  },
  {
   "cell_type": "code",
   "execution_count": null,
   "metadata": {
    "colab": {},
    "colab_type": "code",
    "id": "vBoPRw7ht-MZ"
   },
   "outputs": [],
   "source": [
    "train_file_path = \"drive/My Drive/Face_recognition/train_relationships.csv\"\n",
    "train_folders_path = \"drive/My Drive/Face_recognition/train/\"\n",
    "val_famillies = \"F09\""
   ]
  },
  {
   "cell_type": "code",
   "execution_count": null,
   "metadata": {
    "colab": {
     "base_uri": "https://localhost:8080/",
     "height": 67
    },
    "colab_type": "code",
    "id": "g7n2pStzuoy9",
    "outputId": "ba8c90f5-40e4-4c8c-9378-dc56b60202cf"
   },
   "outputs": [
    {
     "data": {
      "text/plain": [
       "['drive/My Drive/Face_recognition/train/F0009/MID4/P00089_face4.jpg',\n",
       " 'drive/My Drive/Face_recognition/train/F0009/MID4/P11720_face2.jpg',\n",
       " 'drive/My Drive/Face_recognition/train/F0009/MID4/P10574_face5.jpg']"
      ]
     },
     "execution_count": 7,
     "metadata": {
      "tags": []
     },
     "output_type": "execute_result"
    }
   ],
   "source": [
    "all_images = glob(train_folders_path + \"*/*/*.jpg\")\n",
    "all_images[:3]"
   ]
  },
  {
   "cell_type": "code",
   "execution_count": null,
   "metadata": {
    "colab": {
     "base_uri": "https://localhost:8080/",
     "height": 67
    },
    "colab_type": "code",
    "id": "TR-IW-46t-Mj",
    "outputId": "919c6d6f-43ea-4515-bcf9-bde9bbb34651"
   },
   "outputs": [
    {
     "data": {
      "text/plain": [
       "['drive/My Drive/Face_recognition/train/F0009/MID4/P00089_face4.jpg',\n",
       " 'drive/My Drive/Face_recognition/train/F0009/MID4/P11720_face2.jpg',\n",
       " 'drive/My Drive/Face_recognition/train/F0009/MID4/P10574_face5.jpg']"
      ]
     },
     "execution_count": 8,
     "metadata": {
      "tags": []
     },
     "output_type": "execute_result"
    }
   ],
   "source": [
    "all_images = glob(train_folders_path + \"*/*/*.jpg\")\n",
    "all_images = list(map(lambda x:x.replace(\"\\\\\",\"/\"),all_images))\n",
    "all_images[0:3]"
   ]
  },
  {
   "cell_type": "code",
   "execution_count": null,
   "metadata": {
    "colab": {},
    "colab_type": "code",
    "id": "NOf9pPNva80A"
   },
   "outputs": [],
   "source": []
  },
  {
   "cell_type": "code",
   "execution_count": null,
   "metadata": {
    "colab": {},
    "colab_type": "code",
    "id": "05xZv60Ft-NP"
   },
   "outputs": [],
   "source": [
    "#all_images[0:3]"
   ]
  },
  {
   "cell_type": "code",
   "execution_count": null,
   "metadata": {
    "colab": {},
    "colab_type": "code",
    "id": "SD4apYhKnRdU"
   },
   "outputs": [],
   "source": [
    "#Code inspiration link : https://www.kaggle.com/hsinwenchang/vggface-baseline-197x197"
   ]
  },
  {
   "cell_type": "code",
   "execution_count": null,
   "metadata": {
    "colab": {
     "base_uri": "https://localhost:8080/",
     "height": 84
    },
    "colab_type": "code",
    "id": "5AL3CaK3t-NX",
    "outputId": "131404a4-958c-4722-c289-9576e4a85e54"
   },
   "outputs": [
    {
     "name": "stdout",
     "output_type": "stream",
     "text": [
      "11252\n",
      "1147\n",
      "drive/My Drive/Face_recognition/train/F0009/MID4/P00089_face4.jpg\n",
      "F0009/MID4\n"
     ]
    }
   ],
   "source": [
    "train_images = [x for x in all_images if val_famillies not in x]\n",
    "val_images = [x for x in all_images if val_famillies in x]\n",
    "print(len(train_images))\n",
    "print(len(val_images))\n",
    "print(all_images[0])\n",
    "print(all_images[0].split(\"/\")[-3] + \"/\" + all_images[0].split(\"/\")[-2])"
   ]
  },
  {
   "cell_type": "code",
   "execution_count": null,
   "metadata": {
    "colab": {
     "base_uri": "https://localhost:8080/",
     "height": 67
    },
    "colab_type": "code",
    "id": "YsgM5B8-aECy",
    "outputId": "f7af5f35-1a3f-43d4-ce3f-f5bcb3def7cf"
   },
   "outputs": [
    {
     "data": {
      "text/plain": [
       "['drive/My Drive/Face_recognition/train/F1000/MID5/P10586_face1.jpg',\n",
       " 'drive/My Drive/Face_recognition/train/F1000/MID3/P10578_face2.jpg',\n",
       " 'drive/My Drive/Face_recognition/train/F1000/MID6/P10584_face1.jpg']"
      ]
     },
     "execution_count": 12,
     "metadata": {
      "tags": []
     },
     "output_type": "execute_result"
    }
   ],
   "source": [
    "train_images[-3:]"
   ]
  },
  {
   "cell_type": "code",
   "execution_count": null,
   "metadata": {
    "colab": {
     "base_uri": "https://localhost:8080/",
     "height": 185
    },
    "colab_type": "code",
    "id": "FCeHUwGUt-Ni",
    "outputId": "afa139c5-980a-4170-a654-06edaf834458"
   },
   "outputs": [
    {
     "data": {
      "text/plain": [
       "['F0009/MID4',\n",
       " 'F0009/MID4',\n",
       " 'F0009/MID4',\n",
       " 'F0009/MID4',\n",
       " 'F0009/MID4',\n",
       " 'F0009/MID4',\n",
       " 'F0009/MID4',\n",
       " 'F0009/MID4',\n",
       " 'F0009/MID4',\n",
       " 'F0009/MID4']"
      ]
     },
     "execution_count": 13,
     "metadata": {
      "tags": []
     },
     "output_type": "execute_result"
    }
   ],
   "source": [
    "train_person_to_images_map = defaultdict(list)\n",
    "ppl = [x.split(\"/\")[-3] + \"/\" + x.split(\"/\")[-2] for x in all_images]\n",
    "ppl[0:10]"
   ]
  },
  {
   "cell_type": "code",
   "execution_count": null,
   "metadata": {
    "colab": {},
    "colab_type": "code",
    "id": "u6r53IEMt-N5"
   },
   "outputs": [],
   "source": [
    "for sample_img in train_images:\n",
    "    train_person_to_images_map[sample_img.split(\"/\")[-3] + \"/\" + sample_img.split(\"/\")[-2]].append(sample_img)\n",
    "    \n",
    "val_person_to_images_map = defaultdict(list)\n",
    "for sample_img in val_images:\n",
    "    val_person_to_images_map[sample_img.split(\"/\")[-3] + \"/\" + sample_img.split(\"/\")[-2]].append(sample_img)"
   ]
  },
  {
   "cell_type": "code",
   "execution_count": null,
   "metadata": {
    "colab": {},
    "colab_type": "code",
    "id": "a1la-76Mt-OD"
   },
   "outputs": [],
   "source": [
    "train_person_to_images_map = dict(train_person_to_images_map)\n",
    "val_person_to_images_map = dict(val_person_to_images_map)"
   ]
  },
  {
   "cell_type": "code",
   "execution_count": null,
   "metadata": {
    "colab": {},
    "colab_type": "code",
    "id": "VK-cWD4ft-OR"
   },
   "outputs": [],
   "source": [
    "#'F0002\\MID1' in val_images"
   ]
  },
  {
   "cell_type": "code",
   "execution_count": null,
   "metadata": {
    "colab": {},
    "colab_type": "code",
    "id": "bkmari9Ht-OZ"
   },
   "outputs": [],
   "source": [
    "#val_person_to_images_map[list(val_person_to_images_map.keys())[0]]"
   ]
  },
  {
   "cell_type": "code",
   "execution_count": null,
   "metadata": {
    "colab": {},
    "colab_type": "code",
    "id": "nfmVH84mt-Oo"
   },
   "outputs": [],
   "source": [
    "for k in val_person_to_images_map.keys():\n",
    "    if len(val_person_to_images_map[k]) == 0:\n",
    "        print(\"VAL Damn\")\n",
    "        print(k)\n",
    "for k in train_person_to_images_map.keys():\n",
    "    if len(train_person_to_images_map[k]) == 0:\n",
    "        print(\"Train Damn\")\n",
    "        print(k)"
   ]
  },
  {
   "cell_type": "code",
   "execution_count": null,
   "metadata": {
    "colab": {},
    "colab_type": "code",
    "id": "BM6FM6rwt-Ov"
   },
   "outputs": [],
   "source": [
    "#train_file_path = \"drive/My Drive/Face_recognition/train_relationships.csv\""
   ]
  },
  {
   "cell_type": "code",
   "execution_count": null,
   "metadata": {
    "colab": {},
    "colab_type": "code",
    "id": "dCVbD9KEt-O1"
   },
   "outputs": [],
   "source": [
    "relationships = pd.read_csv(train_file_path)"
   ]
  },
  {
   "cell_type": "code",
   "execution_count": null,
   "metadata": {
    "colab": {},
    "colab_type": "code",
    "id": "2nPEZuFQt-O-"
   },
   "outputs": [],
   "source": [
    "relationships = list(zip(relationships['p1'].values, relationships['p2'].values))"
   ]
  },
  {
   "cell_type": "code",
   "execution_count": null,
   "metadata": {
    "colab": {
     "base_uri": "https://localhost:8080/",
     "height": 34
    },
    "colab_type": "code",
    "id": "RnThpErTt-Pj",
    "outputId": "16b2b085-ff55-4f1b-fcd6-c28cbcd72bf1"
   },
   "outputs": [
    {
     "data": {
      "text/plain": [
       "3598"
      ]
     },
     "execution_count": 22,
     "metadata": {
      "tags": []
     },
     "output_type": "execute_result"
    }
   ],
   "source": [
    "len(relationships)"
   ]
  },
  {
   "cell_type": "code",
   "execution_count": null,
   "metadata": {
    "colab": {},
    "colab_type": "code",
    "id": "_1who1RIt-Pz"
   },
   "outputs": [],
   "source": [
    "#ppl = [x.replace(\"\\\\\",\"/\") for x in ppl]"
   ]
  },
  {
   "cell_type": "code",
   "execution_count": null,
   "metadata": {
    "colab": {},
    "colab_type": "code",
    "id": "obnQSPJOt-P7"
   },
   "outputs": [],
   "source": [
    "relationships = [x for x in relationships if x[0] in ppl and x[1] in ppl]"
   ]
  },
  {
   "cell_type": "code",
   "execution_count": null,
   "metadata": {
    "colab": {
     "base_uri": "https://localhost:8080/",
     "height": 34
    },
    "colab_type": "code",
    "id": "I7ogU6Gct-QU",
    "outputId": "74f7f1b9-cbac-41a8-ac95-14208e388165"
   },
   "outputs": [
    {
     "data": {
      "text/plain": [
       "3362"
      ]
     },
     "execution_count": 25,
     "metadata": {
      "tags": []
     },
     "output_type": "execute_result"
    }
   ],
   "source": [
    "len(relationships)"
   ]
  },
  {
   "cell_type": "markdown",
   "metadata": {
    "colab_type": "text",
    "id": "hrPem-cut-Qi"
   },
   "source": [
    "##### Getting train and val sets from relationships"
   ]
  },
  {
   "cell_type": "code",
   "execution_count": null,
   "metadata": {
    "colab": {},
    "colab_type": "code",
    "id": "ybCf83Dut-Q1"
   },
   "outputs": [],
   "source": [
    "train = [x for x in relationships if val_famillies not in x[0]]\n",
    "val = [x for x in relationships if val_famillies in x[0]]"
   ]
  },
  {
   "cell_type": "code",
   "execution_count": null,
   "metadata": {
    "colab": {
     "base_uri": "https://localhost:8080/",
     "height": 101
    },
    "colab_type": "code",
    "id": "eEa5zdWrt-Q9",
    "outputId": "70100fea-235e-4f3c-f596-e4c8bcfbc8b9"
   },
   "outputs": [
    {
     "data": {
      "text/plain": [
       "[('F0002/MID1', 'F0002/MID3'),\n",
       " ('F0002/MID2', 'F0002/MID3'),\n",
       " ('F0005/MID1', 'F0005/MID2'),\n",
       " ('F0005/MID3', 'F0005/MID2'),\n",
       " ('F0009/MID1', 'F0009/MID4')]"
      ]
     },
     "execution_count": 27,
     "metadata": {
      "tags": []
     },
     "output_type": "execute_result"
    }
   ],
   "source": [
    "train[0:5]"
   ]
  },
  {
   "cell_type": "code",
   "execution_count": null,
   "metadata": {
    "colab": {
     "base_uri": "https://localhost:8080/",
     "height": 101
    },
    "colab_type": "code",
    "id": "02yzH3sxt-RR",
    "outputId": "6d4da97d-6627-4f14-d8c8-b4eb8033cbf2"
   },
   "outputs": [
    {
     "data": {
      "text/plain": [
       "[('F0998/MID5', 'F0998/MID3'),\n",
       " ('F0998/MID5', 'F0998/MID1'),\n",
       " ('F0998/MID6', 'F0998/MID1'),\n",
       " ('F0998/MID6', 'F0998/MID2'),\n",
       " ('F0998/MID6', 'F0998/MID3')]"
      ]
     },
     "execution_count": 28,
     "metadata": {
      "tags": []
     },
     "output_type": "execute_result"
    }
   ],
   "source": [
    "val[-5:]"
   ]
  },
  {
   "cell_type": "code",
   "execution_count": null,
   "metadata": {
    "colab": {
     "base_uri": "https://localhost:8080/",
     "height": 50
    },
    "colab_type": "code",
    "id": "HqXqm4-It-Rb",
    "outputId": "a86f0d7f-1f0c-4676-89b4-cd95a49e96f7"
   },
   "outputs": [
    {
     "name": "stdout",
     "output_type": "stream",
     "text": [
      "3066\n",
      "296\n"
     ]
    }
   ],
   "source": [
    "print(len(train))\n",
    "print(len(val))"
   ]
  },
  {
   "cell_type": "code",
   "execution_count": null,
   "metadata": {
    "colab": {},
    "colab_type": "code",
    "id": "r_TcKnAKt-R9"
   },
   "outputs": [],
   "source": [
    "#from keras.preprocessing import image\n",
    "def read_img(path):\n",
    "    #change1\n",
    "    img = image.load_img(path, target_size=(197, 197))\n",
    "    img = np.array(img).astype(np.float)\n",
    "    return preprocess_input(img, version=2)"
   ]
  },
  {
   "cell_type": "code",
   "execution_count": null,
   "metadata": {
    "colab": {
     "base_uri": "https://localhost:8080/",
     "height": 241
    },
    "colab_type": "code",
    "id": "SXk5oo4Kt-SE",
    "outputId": "fef3322a-e790-40b3-c5b8-e72f571ea8c8"
   },
   "outputs": [
    {
     "data": {
      "image/png": "[encoded data removed]",
      "text/plain": [
       "<PIL.JpegImagePlugin.JpegImageFile image mode=RGB size=224x224 at 0x7F31BA081908>"
      ]
     },
     "execution_count": 31,
     "metadata": {
      "tags": []
     },
     "output_type": "execute_result"
    }
   ],
   "source": [
    "image.load_img(\"drive/My Drive/Face_recognition/train/F0002/MID1/P00010_face4.jpg\")"
   ]
  },
  {
   "cell_type": "code",
   "execution_count": null,
   "metadata": {
    "colab": {
     "base_uri": "https://localhost:8080/",
     "height": 34
    },
    "colab_type": "code",
    "id": "YncZMXF6t-SN",
    "outputId": "9905f36d-64c2-43d4-9150-38e313af11b3"
   },
   "outputs": [
    {
     "data": {
      "text/plain": [
       "224"
      ]
     },
     "execution_count": 32,
     "metadata": {
      "tags": []
     },
     "output_type": "execute_result"
    }
   ],
   "source": [
    "len(np.array(image.load_img(\"drive/My Drive/Face_recognition/train/F0002/MID1/P00010_face4.jpg\")))"
   ]
  },
  {
   "cell_type": "code",
   "execution_count": null,
   "metadata": {
    "colab": {
     "base_uri": "https://localhost:8080/",
     "height": 214
    },
    "colab_type": "code",
    "id": "fhWNHtslt-SY",
    "outputId": "1ffaeb81-c075-40fb-d907-5592c06a2807"
   },
   "outputs": [
    {
     "data": {
      "image/png": "[encoded data removed]",
      "text/plain": [
       "<PIL.Image.Image image mode=RGB size=197x197 at 0x7F31825FC470>"
      ]
     },
     "execution_count": 33,
     "metadata": {
      "tags": []
     },
     "output_type": "execute_result"
    }
   ],
   "source": [
    "image.load_img(\"drive/My Drive/Face_recognition/train/F0002/MID1/P00010_face4.jpg\", target_size=(197, 197))"
   ]
  },
  {
   "cell_type": "code",
   "execution_count": null,
   "metadata": {
    "colab": {
     "base_uri": "https://localhost:8080/",
     "height": 177
    },
    "colab_type": "code",
    "id": "2w5Vor1HuvaJ",
    "outputId": "b478e48d-372d-4544-8623-764c3df82d8c"
   },
   "outputs": [
    {
     "data": {
      "image/png": "[encoded data removed]",
      "text/plain": [
       "<PIL.Image.Image image mode=RGB size=160x160 at 0x7F31825FC438>"
      ]
     },
     "execution_count": 34,
     "metadata": {
      "tags": []
     },
     "output_type": "execute_result"
    }
   ],
   "source": [
    "image.load_img(\"drive/My Drive/Face_recognition/train/F0002/MID1/P00010_face4.jpg\", target_size=(160, 160))"
   ]
  },
  {
   "cell_type": "code",
   "execution_count": null,
   "metadata": {
    "colab": {
     "base_uri": "https://localhost:8080/",
     "height": 34
    },
    "colab_type": "code",
    "id": "cjxrhXyLt-Sj",
    "outputId": "7636e54a-9a79-4955-d25f-4e3ad11b1360"
   },
   "outputs": [
    {
     "data": {
      "text/plain": [
       "197"
      ]
     },
     "execution_count": 35,
     "metadata": {
      "tags": []
     },
     "output_type": "execute_result"
    }
   ],
   "source": [
    "len(np.array(image.load_img(\"drive/My Drive/Face_recognition/train/F0002/MID1/P00010_face4.jpg\", target_size=(197, 197))))"
   ]
  },
  {
   "cell_type": "code",
   "execution_count": null,
   "metadata": {
    "colab": {},
    "colab_type": "code",
    "id": "wQYOL4vFt-S_"
   },
   "outputs": [],
   "source": [
    "temp = read_img(\"drive/My Drive/Face_recognition/train/F0002/MID1/P00010_face4.jpg\")"
   ]
  },
  {
   "cell_type": "code",
   "execution_count": null,
   "metadata": {
    "colab": {
     "base_uri": "https://localhost:8080/",
     "height": 34
    },
    "colab_type": "code",
    "id": "ocLodNB1t-TH",
    "outputId": "4433642f-be76-4810-921f-282e5ff0b17b"
   },
   "outputs": [
    {
     "data": {
      "text/plain": [
       "(197, 197, 3)"
      ]
     },
     "execution_count": 37,
     "metadata": {
      "tags": []
     },
     "output_type": "execute_result"
    }
   ],
   "source": [
    "temp.shape"
   ]
  },
  {
   "cell_type": "code",
   "execution_count": null,
   "metadata": {
    "colab": {},
    "colab_type": "code",
    "id": "z-rSYspmt-TP"
   },
   "outputs": [],
   "source": [
    "#temp"
   ]
  },
  {
   "cell_type": "code",
   "execution_count": null,
   "metadata": {
    "colab": {},
    "colab_type": "code",
    "id": "muo9df4nt-TU"
   },
   "outputs": [],
   "source": [
    "#val_person_to_images_map"
   ]
  },
  {
   "cell_type": "markdown",
   "metadata": {
    "colab_type": "text",
    "id": "7y9qKlzqp8Tx"
   },
   "source": [
    "### 1. VGGFace and Distance metrics"
   ]
  },
  {
   "cell_type": "code",
   "execution_count": null,
   "metadata": {
    "colab": {},
    "colab_type": "code",
    "id": "yvuYp03Yt-Ta"
   },
   "outputs": [],
   "source": [
    "def gen(list_tuples, person_to_images_map, batch_size=16):\n",
    "    ppl = list(person_to_images_map.keys())\n",
    "    while True:\n",
    "        #sample() Chooses k unique random elements from a population sequence or set\n",
    "        # Filling batch tuples with half 1 lables\n",
    "        batch_tuples = sample(list_tuples, batch_size // 2)\n",
    "        # Assigning 1 label to all the pairs given in relationships file\n",
    "        labels = [1] * len(batch_tuples)\n",
    "        # Filling half batch_tuples with 0 labels\n",
    "        while len(batch_tuples) < batch_size:\n",
    "            p1 = choice(ppl)\n",
    "            p2 = choice(ppl)\n",
    "\n",
    "            if p1 != p2 and (p1, p2) not in list_tuples and (p2, p1) not in list_tuples:\n",
    "                batch_tuples.append((p1, p2))\n",
    "                labels.append(0)\n",
    "\n",
    "        for x in batch_tuples:\n",
    "            if not len(person_to_images_map[x[0]]):\n",
    "                print(x[0])\n",
    "        \n",
    "        # Selecting a single image out of many provided for each user\n",
    "        X1 = [choice(person_to_images_map[x[0]]) for x in batch_tuples]\n",
    "        X1 = np.array([read_img(x) for x in X1])\n",
    "        \n",
    "        # Selecting a single image out of many provided for each user\n",
    "        X2 = [choice(person_to_images_map[x[1]]) for x in batch_tuples]\n",
    "        X2 = np.array([read_img(x) for x in X2])\n",
    "\n",
    "        yield [X1, X2], labels"
   ]
  },
  {
   "cell_type": "code",
   "execution_count": null,
   "metadata": {
    "colab": {},
    "colab_type": "code",
    "id": "qI--1hw7M3ZW"
   },
   "outputs": [],
   "source": []
  },
  {
   "cell_type": "code",
   "execution_count": null,
   "metadata": {
    "colab": {},
    "colab_type": "code",
    "id": "0-F7UMd0t-Tj"
   },
   "outputs": [],
   "source": [
    "def baseline_model():\n",
    "    #change 2\n",
    "    input_1 = Input(shape=(197, 197, 3))\n",
    "    input_2 = Input(shape=(197, 197, 3))\n",
    "\n",
    "    base_model = VGGFace(model='resnet50', include_top=False)\n",
    "\n",
    "    for x in base_model.layers[:-3]:\n",
    "        x.trainable = True\n",
    "\n",
    "    x1 = base_model(input_1)\n",
    "    x2 = base_model(input_2)\n",
    "\n",
    "    x1 = Concatenate(axis=-1)([GlobalMaxPool2D()(x1), GlobalAvgPool2D()(x1)])\n",
    "    x2 = Concatenate(axis=-1)([GlobalMaxPool2D()(x2), GlobalAvgPool2D()(x2)])\n",
    "\n",
    "    x3 = Subtract()([x1, x2])\n",
    "    x3 = Multiply()([x3, x3])\n",
    "\n",
    "    x1_ = Multiply()([x1, x1])\n",
    "    x2_ = Multiply()([x2, x2])\n",
    "    x4 = Subtract()([x1_, x2_])\n",
    "    x = Concatenate(axis=-1)([x4, x3])\n",
    "\n",
    "    x = Dense(100, activation=\"relu\")(x)\n",
    "    x = Dropout(0.01)(x)\n",
    "    out = Dense(1, activation=\"sigmoid\")(x)\n",
    "\n",
    "    model = Model([input_1, input_2], out)\n",
    "\n",
    "    model.compile(loss=\"binary_crossentropy\", metrics=['acc',auroc], optimizer=Adam(0.00001))\n",
    "\n",
    "    model.summary()\n",
    "\n",
    "    return model"
   ]
  },
  {
   "cell_type": "code",
   "execution_count": null,
   "metadata": {
    "colab": {},
    "colab_type": "code",
    "id": "mPFTGc62t-Tq"
   },
   "outputs": [],
   "source": [
    "file_path = \"vgg_face.h5\"\n",
    "\n",
    "checkpoint = ModelCheckpoint(file_path, monitor='val_acc', verbose=1, save_best_only=True, mode='max')\n",
    "\n",
    "reduce_on_plateau = ReduceLROnPlateau(monitor=\"val_acc\", mode=\"max\", factor=0.1, patience=20, verbose=1)\n",
    "\n",
    "callbacks_list = [checkpoint, reduce_on_plateau]\n",
    "\n",
    "model = baseline_model()\n"
   ]
  },
  {
   "cell_type": "code",
   "execution_count": null,
   "metadata": {
    "colab": {},
    "colab_type": "code",
    "id": "p4P8EvTkt-Tz"
   },
   "outputs": [],
   "source": [
    "for k in val_person_to_images_map.keys():\n",
    "    if len(val_person_to_images_map[k]) == 0:\n",
    "        print(\"VAL Damn\")\n",
    "        print(k)\n",
    "for k in train_person_to_images_map.keys():\n",
    "    if len(train_person_to_images_map[k]) == 0:\n",
    "        print(\"Train Damn\")\n",
    "        print(k)"
   ]
  },
  {
   "cell_type": "code",
   "execution_count": null,
   "metadata": {
    "colab": {},
    "colab_type": "code",
    "id": "KGJnF_8At-T5"
   },
   "outputs": [],
   "source": [
    "model.fit_generator(gen(train, train_person_to_images_map, batch_size=16), use_multiprocessing=True,\n",
    "                    validation_data=gen(val, val_person_to_images_map, batch_size=16), epochs=100, verbose=1,\n",
    "                    workers = 4, callbacks=callbacks_list, steps_per_epoch=200, validation_steps=100)"
   ]
  },
  {
   "cell_type": "code",
   "execution_count": null,
   "metadata": {
    "colab": {},
    "colab_type": "code",
    "id": "manfWqS6t-UB"
   },
   "outputs": [],
   "source": [
    "model"
   ]
  },
  {
   "cell_type": "code",
   "execution_count": null,
   "metadata": {
    "colab": {},
    "colab_type": "code",
    "id": "BzPVP0Vgt-UK"
   },
   "outputs": [],
   "source": [
    "! pip install joblib"
   ]
  },
  {
   "cell_type": "code",
   "execution_count": null,
   "metadata": {
    "colab": {},
    "colab_type": "code",
    "id": "Tn03bUL8t-UP"
   },
   "outputs": [],
   "source": [
    "\n",
    "joblib.dump(model,\"drive/My Drive/Face_recognition/model.pkl\")"
   ]
  },
  {
   "cell_type": "code",
   "execution_count": null,
   "metadata": {
    "colab": {},
    "colab_type": "code",
    "id": "VHBVFFjht-UX"
   },
   "outputs": [],
   "source": [
    "! dir"
   ]
  },
  {
   "cell_type": "code",
   "execution_count": null,
   "metadata": {
    "colab": {},
    "colab_type": "code",
    "id": "4c38k1qOt-Ui"
   },
   "outputs": [],
   "source": [
    "with open(\"vgg_face.h5\",'rb') as f:\n",
    "    with open(\"drive/My Drive/Face_recognition/vgg_face_copy.h5\", \"wb\") as f1:\n",
    "        for line in f:\n",
    "            f1.write(line)"
   ]
  },
  {
   "cell_type": "code",
   "execution_count": null,
   "metadata": {
    "colab": {},
    "colab_type": "code",
    "id": "Ljckll_1t-Us"
   },
   "outputs": [],
   "source": [
    "model.load_weights('vgg_face.h5')"
   ]
  },
  {
   "cell_type": "code",
   "execution_count": null,
   "metadata": {
    "colab": {},
    "colab_type": "code",
    "id": "uOJcOwJbt-Uw"
   },
   "outputs": [],
   "source": [
    "model.compile(loss=\"binary_crossentropy\", metrics=['acc',auroc], optimizer=Adam(0.00001))"
   ]
  },
  {
   "cell_type": "code",
   "execution_count": null,
   "metadata": {
    "colab": {},
    "colab_type": "code",
    "id": "23ySnUxgt-U1"
   },
   "outputs": [],
   "source": [
    "model.save_weights(\"drive/My Drive/Face_recognition/vgg_face_copy(2).h5\")"
   ]
  },
  {
   "cell_type": "code",
   "execution_count": null,
   "metadata": {
    "colab": {},
    "colab_type": "code",
    "id": "8Q1UYOaYt-U7"
   },
   "outputs": [],
   "source": []
  },
  {
   "cell_type": "code",
   "execution_count": null,
   "metadata": {
    "colab": {},
    "colab_type": "code",
    "id": "C_w-zvJCt-VB"
   },
   "outputs": [],
   "source": [
    "model.load_weights(\"drive/My Drive/Face_recognition/vgg_face.h5\")"
   ]
  },
  {
   "cell_type": "code",
   "execution_count": null,
   "metadata": {
    "colab": {},
    "colab_type": "code",
    "id": "D9KLhiZQt-VG"
   },
   "outputs": [],
   "source": [
    "model.compile(loss=\"binary_crossentropy\", metrics=['acc',auroc], optimizer=Adam(0.00001))"
   ]
  },
  {
   "cell_type": "code",
   "execution_count": null,
   "metadata": {
    "colab": {
     "base_uri": "https://localhost:8080/",
     "height": 1000
    },
    "colab_type": "code",
    "id": "wv_AsC-2t-VO",
    "outputId": "10ffedc4-cf6e-4361-8875-91ad1fc9f648"
   },
   "outputs": [
    {
     "name": "stderr",
     "output_type": "stream",
     "text": [
      "\n",
      "0it [00:00, ?it/s]\u001b[A\n",
      "1it [00:24, 24.43s/it]\u001b[A\n",
      "2it [00:42, 22.55s/it]\u001b[A\n",
      "3it [00:59, 20.89s/it]\u001b[A\n",
      "4it [01:17, 20.07s/it]\u001b[A\n",
      "5it [01:35, 19.31s/it]\u001b[A\n",
      "6it [01:52, 18.73s/it]\u001b[A\n",
      "7it [02:10, 18.38s/it]\u001b[A\n",
      "8it [02:26, 17.70s/it]\u001b[A\n",
      "9it [02:43, 17.43s/it]\u001b[A\n",
      "10it [03:00, 17.37s/it]\u001b[A\n",
      "11it [03:16, 17.03s/it]\u001b[A\n",
      "12it [03:31, 16.50s/it]\u001b[A\n",
      "13it [03:47, 16.38s/it]\u001b[A\n",
      "14it [04:03, 16.06s/it]\u001b[A\n",
      "15it [04:20, 16.33s/it]\u001b[A\n",
      "16it [04:35, 15.96s/it]\u001b[A\n",
      "17it [04:51, 16.07s/it]\u001b[A\n",
      "18it [05:06, 15.60s/it]\u001b[A\n",
      "19it [05:21, 15.38s/it]\u001b[A\n",
      "20it [05:35, 15.22s/it]\u001b[A\n",
      "21it [05:51, 15.24s/it]\u001b[A\n",
      "22it [06:07, 15.55s/it]\u001b[A\n",
      "23it [06:22, 15.46s/it]\u001b[A\n",
      "24it [06:36, 15.02s/it]\u001b[A\n",
      "25it [06:51, 15.08s/it]\u001b[A\n",
      "26it [07:05, 14.58s/it]\u001b[A\n",
      "27it [07:19, 14.33s/it]\u001b[A\n",
      "28it [07:31, 13.71s/it]\u001b[A\n",
      "29it [07:46, 14.04s/it]\u001b[A\n",
      "30it [07:58, 13.50s/it]\u001b[A\n",
      "31it [08:11, 13.27s/it]\u001b[A\n",
      "32it [08:24, 13.30s/it]\u001b[A\n",
      "33it [08:39, 13.71s/it]\u001b[A\n",
      "34it [08:53, 13.81s/it]\u001b[A\n",
      "35it [09:04, 13.16s/it]\u001b[A\n",
      "36it [09:18, 13.19s/it]\u001b[A\n",
      "37it [09:28, 12.25s/it]\u001b[A\n",
      "38it [09:43, 13.09s/it]\u001b[A\n",
      "39it [09:54, 12.55s/it]\u001b[A\n",
      "40it [10:07, 12.76s/it]\u001b[A\n",
      "41it [10:19, 12.59s/it]\u001b[A\n",
      "42it [10:31, 12.19s/it]\u001b[A\n",
      "43it [10:42, 12.03s/it]\u001b[A\n",
      "44it [10:56, 12.64s/it]\u001b[A\n",
      "45it [11:07, 12.13s/it]\u001b[A\n",
      "46it [11:20, 12.13s/it]\u001b[A\n",
      "47it [11:32, 12.11s/it]\u001b[A\n",
      "48it [11:42, 11.61s/it]\u001b[A\n",
      "49it [11:56, 12.24s/it]\u001b[A\n",
      "50it [12:07, 11.81s/it]\u001b[A\n",
      "51it [12:18, 11.58s/it]\u001b[A\n",
      "52it [12:31, 12.14s/it]\u001b[A\n",
      "53it [12:42, 11.79s/it]\u001b[A\n",
      "54it [12:55, 12.13s/it]\u001b[A\n",
      "55it [13:07, 12.21s/it]\u001b[A\n",
      "56it [13:19, 12.16s/it]\u001b[A\n",
      "57it [13:32, 12.32s/it]\u001b[A\n",
      "58it [13:41, 11.24s/it]\u001b[A\n",
      "59it [13:53, 11.41s/it]\u001b[A\n",
      "60it [14:04, 11.32s/it]\u001b[A\n",
      "61it [14:16, 11.60s/it]\u001b[A\n",
      "62it [14:26, 11.15s/it]\u001b[A\n",
      "63it [14:36, 10.84s/it]\u001b[A\n",
      "64it [14:47, 10.75s/it]\u001b[A\n",
      "65it [14:56, 10.32s/it]\u001b[A\n",
      "66it [15:09, 11.20s/it]\u001b[A\n",
      "67it [15:18, 10.41s/it]\u001b[A\n",
      "68it [15:29, 10.70s/it]\u001b[A\n",
      "69it [15:41, 10.90s/it]\u001b[A\n",
      "70it [15:48,  9.82s/it]\u001b[A\n",
      "71it [15:57,  9.76s/it]\u001b[A\n",
      "72it [16:08,  9.90s/it]\u001b[A\n",
      "73it [16:16,  9.31s/it]\u001b[A\n",
      "74it [16:23,  8.75s/it]\u001b[A\n",
      "75it [16:34,  9.51s/it]\u001b[A\n",
      "76it [16:46, 10.06s/it]\u001b[A\n",
      "77it [16:56, 10.05s/it]\u001b[A\n",
      "78it [17:08, 10.65s/it]\u001b[A\n",
      "79it [17:17, 10.14s/it]\u001b[A\n",
      "80it [17:26,  9.97s/it]\u001b[A\n",
      "81it [17:34,  9.33s/it]\u001b[A\n",
      "82it [17:44,  9.33s/it]\u001b[A\n",
      "83it [17:52,  9.15s/it]\u001b[A\n",
      "84it [17:59,  8.51s/it]\u001b[A\n",
      "85it [18:07,  8.42s/it]\u001b[A\n",
      "86it [18:17,  8.74s/it]\u001b[A\n",
      "87it [18:26,  8.91s/it]\u001b[A\n",
      "88it [18:35,  8.89s/it]\u001b[A\n",
      "89it [18:45,  9.10s/it]\u001b[A\n",
      "90it [18:55,  9.43s/it]\u001b[A\n",
      "91it [19:03,  9.09s/it]\u001b[A\n",
      "92it [19:13,  9.35s/it]\u001b[A\n",
      "93it [19:22,  9.21s/it]\u001b[A\n",
      "94it [19:32,  9.45s/it]\u001b[A\n",
      "95it [19:41,  9.28s/it]\u001b[A\n",
      "96it [19:49,  8.85s/it]\u001b[A\n",
      "97it [19:57,  8.76s/it]\u001b[A\n",
      "98it [20:05,  8.40s/it]\u001b[A\n",
      "99it [20:13,  8.32s/it]\u001b[A\n",
      "100it [20:22,  8.48s/it]\u001b[A\n",
      "101it [20:30,  8.36s/it]\u001b[A\n",
      "102it [20:38,  8.30s/it]\u001b[A\n",
      "103it [20:47,  8.58s/it]\u001b[A\n",
      "104it [20:57,  8.90s/it]\u001b[A\n",
      "105it [21:06,  8.83s/it]\u001b[A\n",
      "106it [21:15,  8.88s/it]\u001b[A\n",
      "107it [21:24,  8.88s/it]\u001b[A\n",
      "108it [21:32,  8.64s/it]\u001b[A\n",
      "109it [21:40,  8.51s/it]\u001b[A\n",
      "110it [21:46,  7.91s/it]\u001b[A\n",
      "111it [21:54,  7.85s/it]\u001b[A\n",
      "112it [22:02,  7.81s/it]\u001b[A\n",
      "113it [22:10,  8.09s/it]\u001b[A\n",
      "114it [22:20,  8.39s/it]\u001b[A\n",
      "115it [22:29,  8.60s/it]\u001b[A\n",
      "116it [22:37,  8.66s/it]\u001b[A\n",
      "117it [22:44,  8.13s/it]\u001b[A\n",
      "118it [22:50,  7.40s/it]\u001b[A\n",
      "119it [22:59,  7.88s/it]\u001b[A\n",
      "120it [23:06,  7.73s/it]\u001b[A\n",
      "121it [23:14,  7.68s/it]\u001b[A\n",
      "122it [23:23,  8.18s/it]\u001b[A\n",
      "123it [23:30,  7.62s/it]\u001b[A\n",
      "124it [23:39,  8.16s/it]\u001b[A\n",
      "125it [23:46,  7.66s/it]\u001b[A\n",
      "126it [23:54,  7.87s/it]\u001b[A\n",
      "127it [24:02,  7.81s/it]\u001b[A\n",
      "128it [24:08,  7.52s/it]\u001b[A\n",
      "129it [24:16,  7.57s/it]\u001b[A\n",
      "130it [24:24,  7.77s/it]\u001b[A\n",
      "131it [24:31,  7.55s/it]\u001b[A\n",
      "132it [24:38,  7.38s/it]\u001b[A\n",
      "133it [24:48,  7.90s/it]\u001b[A\n",
      "134it [24:56,  8.06s/it]\u001b[A\n",
      "135it [25:04,  8.12s/it]\u001b[A\n",
      "136it [25:12,  7.91s/it]\u001b[A\n",
      "137it [25:20,  7.98s/it]\u001b[A\n",
      "138it [25:27,  7.63s/it]\u001b[A\n",
      "139it [25:34,  7.43s/it]\u001b[A\n",
      "140it [25:42,  7.78s/it]\u001b[A\n",
      "141it [25:51,  8.16s/it]\u001b[A\n",
      "142it [26:01,  8.52s/it]\u001b[A\n",
      "143it [26:07,  8.02s/it]\u001b[A\n",
      "144it [26:15,  7.81s/it]\u001b[A\n",
      "145it [26:24,  8.26s/it]\u001b[A\n",
      "146it [26:33,  8.41s/it]\u001b[A\n",
      "147it [26:41,  8.44s/it]\u001b[A\n",
      "148it [26:52,  9.22s/it]\u001b[A\n",
      "149it [27:01,  9.13s/it]\u001b[A\n",
      "150it [27:09,  8.74s/it]\u001b[A\n",
      "151it [27:17,  8.55s/it]\u001b[A\n",
      "152it [27:23,  7.80s/it]\u001b[A\n",
      "153it [27:28,  6.97s/it]\u001b[A\n",
      "154it [27:37,  7.60s/it]\u001b[A\n",
      "155it [27:44,  7.43s/it]\u001b[A\n",
      "156it [27:53,  7.65s/it]\u001b[A\n",
      "157it [28:01,  7.89s/it]\u001b[A\n",
      "158it [28:10,  8.27s/it]\u001b[A\n",
      "159it [28:18,  8.01s/it]\u001b[A\n",
      "160it [28:25,  7.95s/it]\u001b[A\n",
      "161it [28:35,  8.43s/it]\u001b[A\n",
      "162it [28:45,  8.87s/it]\u001b[A\n",
      "163it [28:53,  8.69s/it]\u001b[A\n",
      "164it [29:02,  8.74s/it]\u001b[A\n",
      "165it [29:09,  8.15s/it]\u001b[A\n",
      "166it [29:17,  8.21s/it]\u001b[A\n",
      "\u001b[A"
     ]
    }
   ],
   "source": [
    "test_path = \"drive/My Drive/Face_recognition/test/\"\n",
    "def chunker(seq, size=32):\n",
    "    return (seq[pos:pos + size] for pos in range(0, len(seq), size))\n",
    "\n",
    "\n",
    "from tqdm import tqdm\n",
    "\n",
    "submission = pd.read_csv('drive/My Drive/Face_recognition/sample_submission.csv')\n",
    "\n",
    "predictions = []\n",
    "\n",
    "for batch in tqdm(chunker(submission.img_pair.values)):\n",
    "    X1 = [x.split(\"-\")[0] for x in batch]\n",
    "    X1 = np.array([read_img(test_path + x) for x in X1])\n",
    "\n",
    "    X2 = [x.split(\"-\")[1] for x in batch]\n",
    "    X2 = np.array([read_img(test_path + x) for x in X2])\n",
    "\n",
    "    pred = model.predict([X1, X2]).ravel().tolist()\n",
    "    predictions += pred\n",
    "\n",
    "submission['is_related'] = predictions\n",
    "\n",
    "submission.to_csv(\"vgg_face.csv\", index=False)"
   ]
  },
  {
   "cell_type": "code",
   "execution_count": null,
   "metadata": {
    "colab": {},
    "colab_type": "code",
    "id": "r6La7e_at-Vo"
   },
   "outputs": [],
   "source": []
  },
  {
   "cell_type": "markdown",
   "metadata": {
    "colab_type": "text",
    "id": "eh-62z-nW_3V"
   },
   "source": [
    "#### Test AUC score on kaggle submission: 0.852"
   ]
  },
  {
   "cell_type": "code",
   "execution_count": null,
   "metadata": {
    "colab": {},
    "colab_type": "code",
    "id": "rxidY3RZWS2X"
   },
   "outputs": [],
   "source": []
  },
  {
   "cell_type": "markdown",
   "metadata": {
    "colab_type": "text",
    "id": "gMxHQS1WkkZ8"
   },
   "source": [
    "### 2. Experimenting with few additional layers at end and different dropouts"
   ]
  },
  {
   "cell_type": "code",
   "execution_count": null,
   "metadata": {
    "colab": {},
    "colab_type": "code",
    "id": "1rLQ18Rnkk5P"
   },
   "outputs": [],
   "source": [
    "def baseline_model2():\n",
    "    #change 2\n",
    "    input_1 = Input(shape=(197, 197, 3))\n",
    "    input_2 = Input(shape=(197, 197, 3))\n",
    "\n",
    "    base_model = VGGFace(model='resnet50', include_top=False)\n",
    "\n",
    "    for x in base_model.layers[:-3]:\n",
    "        x.trainable = True\n",
    "\n",
    "    x1 = base_model(input_1)\n",
    "    x2 = base_model(input_2)\n",
    "\n",
    "    x1 = Concatenate(axis=-1)([GlobalMaxPool2D()(x1), GlobalAvgPool2D()(x1)])\n",
    "    x2 = Concatenate(axis=-1)([GlobalMaxPool2D()(x2), GlobalAvgPool2D()(x2)])\n",
    "\n",
    "    x3 = Subtract()([x1, x2])\n",
    "    x3 = Multiply()([x3, x3])\n",
    "\n",
    "    x1_ = Multiply()([x1, x1])\n",
    "    x2_ = Multiply()([x2, x2])\n",
    "    x4 = Subtract()([x1_, x2_])\n",
    "    x = Concatenate(axis=-1)([x4, x3])\n",
    "\n",
    "    x = Dense(100, activation=\"relu\")(x)\n",
    "    x = Dropout(0.5)(x)\n",
    "    x = Dense(50, activation=\"relu\")(x)\n",
    "    out = Dense(1, activation=\"sigmoid\")(x)\n",
    "\n",
    "    model = Model([input_1, input_2], out)\n",
    "\n",
    "    model.compile(loss=\"binary_crossentropy\", metrics=['acc',auroc], optimizer=Adam(0.0001))\n",
    "\n",
    "    model.summary()\n",
    "\n",
    "    return model"
   ]
  },
  {
   "cell_type": "code",
   "execution_count": null,
   "metadata": {
    "colab": {
     "base_uri": "https://localhost:8080/",
     "height": 924
    },
    "colab_type": "code",
    "id": "dln1fFC9k2M8",
    "outputId": "4f0962bb-b575-495d-e553-7eaf94572f35"
   },
   "outputs": [
    {
     "name": "stdout",
     "output_type": "stream",
     "text": [
      "__________________________________________________________________________________________________\n",
      "Layer (type)                    Output Shape         Param #     Connected to                     \n",
      "==================================================================================================\n",
      "input_7 (InputLayer)            (None, 197, 197, 3)  0                                            \n",
      "__________________________________________________________________________________________________\n",
      "input_8 (InputLayer)            (None, 197, 197, 3)  0                                            \n",
      "__________________________________________________________________________________________________\n",
      "vggface_resnet50 (Model)        multiple             23561152    input_7[0][0]                    \n",
      "                                                                 input_8[0][0]                    \n",
      "__________________________________________________________________________________________________\n",
      "global_max_pooling2d_5 (GlobalM (None, 2048)         0           vggface_resnet50[1][0]           \n",
      "__________________________________________________________________________________________________\n",
      "global_average_pooling2d_5 (Glo (None, 2048)         0           vggface_resnet50[1][0]           \n",
      "__________________________________________________________________________________________________\n",
      "global_max_pooling2d_6 (GlobalM (None, 2048)         0           vggface_resnet50[2][0]           \n",
      "__________________________________________________________________________________________________\n",
      "global_average_pooling2d_6 (Glo (None, 2048)         0           vggface_resnet50[2][0]           \n",
      "__________________________________________________________________________________________________\n",
      "concatenate_7 (Concatenate)     (None, 4096)         0           global_max_pooling2d_5[0][0]     \n",
      "                                                                 global_average_pooling2d_5[0][0] \n",
      "__________________________________________________________________________________________________\n",
      "concatenate_8 (Concatenate)     (None, 4096)         0           global_max_pooling2d_6[0][0]     \n",
      "                                                                 global_average_pooling2d_6[0][0] \n",
      "__________________________________________________________________________________________________\n",
      "multiply_8 (Multiply)           (None, 4096)         0           concatenate_7[0][0]              \n",
      "                                                                 concatenate_7[0][0]              \n",
      "__________________________________________________________________________________________________\n",
      "multiply_9 (Multiply)           (None, 4096)         0           concatenate_8[0][0]              \n",
      "                                                                 concatenate_8[0][0]              \n",
      "__________________________________________________________________________________________________\n",
      "subtract_5 (Subtract)           (None, 4096)         0           concatenate_7[0][0]              \n",
      "                                                                 concatenate_8[0][0]              \n",
      "__________________________________________________________________________________________________\n",
      "subtract_6 (Subtract)           (None, 4096)         0           multiply_8[0][0]                 \n",
      "                                                                 multiply_9[0][0]                 \n",
      "__________________________________________________________________________________________________\n",
      "multiply_7 (Multiply)           (None, 4096)         0           subtract_5[0][0]                 \n",
      "                                                                 subtract_5[0][0]                 \n",
      "__________________________________________________________________________________________________\n",
      "concatenate_9 (Concatenate)     (None, 8192)         0           subtract_6[0][0]                 \n",
      "                                                                 multiply_7[0][0]                 \n",
      "__________________________________________________________________________________________________\n",
      "dense_7 (Dense)                 (None, 100)          819300      concatenate_9[0][0]              \n",
      "__________________________________________________________________________________________________\n",
      "dropout_3 (Dropout)             (None, 100)          0           dense_7[0][0]                    \n",
      "__________________________________________________________________________________________________\n",
      "dense_8 (Dense)                 (None, 50)           5050        dropout_3[0][0]                  \n",
      "__________________________________________________________________________________________________\n",
      "dense_9 (Dense)                 (None, 1)            51          dense_8[0][0]                    \n",
      "==================================================================================================\n",
      "Total params: 24,385,553\n",
      "Trainable params: 24,332,433\n",
      "Non-trainable params: 53,120\n",
      "__________________________________________________________________________________________________\n"
     ]
    }
   ],
   "source": [
    "file_path = \"drive/My Drive/Face_recognition/vgg_face_baseline_model2.h5\"\n",
    "\n",
    "checkpoint = ModelCheckpoint(file_path, monitor='val_auroc', verbose=1, save_best_only=True, mode='max')\n",
    "\n",
    "reduce_on_plateau = ReduceLROnPlateau(monitor=\"val_auroc\", mode=\"max\", factor=0.1, patience=20, verbose=1)\n",
    "\n",
    "callbacks_list = [checkpoint, reduce_on_plateau]\n",
    "\n",
    "model = baseline_model2()\n"
   ]
  },
  {
   "cell_type": "code",
   "execution_count": null,
   "metadata": {
    "colab": {
     "base_uri": "https://localhost:8080/",
     "height": 1000
    },
    "colab_type": "code",
    "id": "UcDzwvfNlT0o",
    "outputId": "22391f49-e8f8-4e5c-a311-4a9512548427"
   },
   "outputs": [
    {
     "name": "stderr",
     "output_type": "stream",
     "text": [
      "/usr/local/lib/python3.6/dist-packages/keras/engine/training_generator.py:47: UserWarning: Using a generator with `use_multiprocessing=True` and multiple workers may duplicate your data. Please consider using the`keras.utils.Sequence class.\n",
      "  UserWarning('Using a generator with `use_multiprocessing=True`'\n"
     ]
    },
    {
     "name": "stdout",
     "output_type": "stream",
     "text": [
      "Epoch 1/100\n",
      "200/200 [==============================] - 116s 578ms/step - loss: 1.5499 - acc: 0.5709 - auroc: 0.6005 - val_loss: 0.6931 - val_acc: 0.6206 - val_auroc: 0.6713\n",
      "\n",
      "Epoch 00001: val_auroc improved from -inf to 0.67125, saving model to drive/My Drive/Face_recognition/vgg_face_baseline_model2.h5\n",
      "Epoch 2/100\n",
      "200/200 [==============================] - 92s 459ms/step - loss: 0.6614 - acc: 0.6084 - auroc: 0.6545 - val_loss: 0.6613 - val_acc: 0.6400 - val_auroc: 0.6694\n",
      "\n",
      "Epoch 00002: val_auroc did not improve from 0.67125\n",
      "Epoch 3/100\n",
      "200/200 [==============================] - 92s 458ms/step - loss: 0.6413 - acc: 0.6234 - auroc: 0.6792 - val_loss: 0.6560 - val_acc: 0.6375 - val_auroc: 0.6669\n",
      "\n",
      "Epoch 00003: val_auroc did not improve from 0.67125\n",
      "Epoch 4/100\n",
      "200/200 [==============================] - 92s 458ms/step - loss: 0.6182 - acc: 0.6594 - auroc: 0.7100 - val_loss: 0.6179 - val_acc: 0.6756 - val_auroc: 0.7142\n",
      "\n",
      "Epoch 00004: val_auroc improved from 0.67125 to 0.71422, saving model to drive/My Drive/Face_recognition/vgg_face_baseline_model2.h5\n",
      "Epoch 5/100\n",
      "200/200 [==============================] - 92s 458ms/step - loss: 0.6185 - acc: 0.6522 - auroc: 0.6983 - val_loss: 0.5956 - val_acc: 0.6894 - val_auroc: 0.7417\n",
      "\n",
      "Epoch 00005: val_auroc improved from 0.71422 to 0.74172, saving model to drive/My Drive/Face_recognition/vgg_face_baseline_model2.h5\n",
      "Epoch 6/100\n",
      "200/200 [==============================] - 92s 458ms/step - loss: 0.5982 - acc: 0.6784 - auroc: 0.7360 - val_loss: 0.5879 - val_acc: 0.6944 - val_auroc: 0.7480\n",
      "\n",
      "Epoch 00006: val_auroc improved from 0.74172 to 0.74797, saving model to drive/My Drive/Face_recognition/vgg_face_baseline_model2.h5\n",
      "Epoch 7/100\n",
      "200/200 [==============================] - 92s 459ms/step - loss: 0.5909 - acc: 0.6947 - auroc: 0.7457 - val_loss: 0.6025 - val_acc: 0.6781 - val_auroc: 0.7186\n",
      "\n",
      "Epoch 00007: val_auroc did not improve from 0.74797\n",
      "Epoch 8/100\n",
      "200/200 [==============================] - 91s 457ms/step - loss: 0.5667 - acc: 0.7022 - auroc: 0.7678 - val_loss: 0.5701 - val_acc: 0.7181 - val_auroc: 0.7694\n",
      "\n",
      "Epoch 00008: val_auroc improved from 0.74797 to 0.76938, saving model to drive/My Drive/Face_recognition/vgg_face_baseline_model2.h5\n",
      "Epoch 9/100\n",
      "200/200 [==============================] - 91s 457ms/step - loss: 0.5668 - acc: 0.7022 - auroc: 0.7691 - val_loss: 0.5811 - val_acc: 0.6906 - val_auroc: 0.7514\n",
      "\n",
      "Epoch 00009: val_auroc did not improve from 0.76938\n",
      "Epoch 10/100\n",
      "200/200 [==============================] - 92s 458ms/step - loss: 0.5524 - acc: 0.7150 - auroc: 0.7799 - val_loss: 0.5841 - val_acc: 0.7000 - val_auroc: 0.7584\n",
      "\n",
      "Epoch 00010: val_auroc did not improve from 0.76938\n",
      "Epoch 11/100\n",
      "200/200 [==============================] - 91s 457ms/step - loss: 0.5388 - acc: 0.7231 - auroc: 0.7927 - val_loss: 0.5569 - val_acc: 0.7244 - val_auroc: 0.7941\n",
      "\n",
      "Epoch 00011: val_auroc improved from 0.76938 to 0.79406, saving model to drive/My Drive/Face_recognition/vgg_face_baseline_model2.h5\n",
      "Epoch 12/100\n",
      "200/200 [==============================] - 92s 458ms/step - loss: 0.5327 - acc: 0.7356 - auroc: 0.7998 - val_loss: 0.5345 - val_acc: 0.7381 - val_auroc: 0.8064\n",
      "\n",
      "Epoch 00012: val_auroc improved from 0.79406 to 0.80641, saving model to drive/My Drive/Face_recognition/vgg_face_baseline_model2.h5\n",
      "Epoch 13/100\n",
      "200/200 [==============================] - 92s 458ms/step - loss: 0.5291 - acc: 0.7384 - auroc: 0.8041 - val_loss: 0.5406 - val_acc: 0.7238 - val_auroc: 0.8002\n",
      "\n",
      "Epoch 00013: val_auroc did not improve from 0.80641\n",
      "Epoch 14/100\n",
      "200/200 [==============================] - 91s 457ms/step - loss: 0.5175 - acc: 0.7494 - auroc: 0.8120 - val_loss: 0.5172 - val_acc: 0.7525 - val_auroc: 0.8217\n",
      "\n",
      "Epoch 00014: val_auroc improved from 0.80641 to 0.82172, saving model to drive/My Drive/Face_recognition/vgg_face_baseline_model2.h5\n",
      "Epoch 15/100\n",
      "200/200 [==============================] - 92s 458ms/step - loss: 0.5285 - acc: 0.7400 - auroc: 0.7959 - val_loss: 0.5620 - val_acc: 0.7181 - val_auroc: 0.7855\n",
      "\n",
      "Epoch 00015: val_auroc did not improve from 0.82172\n",
      "Epoch 16/100\n",
      "200/200 [==============================] - 91s 456ms/step - loss: 0.5066 - acc: 0.7541 - auroc: 0.8250 - val_loss: 0.5166 - val_acc: 0.7469 - val_auroc: 0.8128\n",
      "\n",
      "Epoch 00016: val_auroc did not improve from 0.82172\n",
      "Epoch 17/100\n",
      "200/200 [==============================] - 92s 458ms/step - loss: 0.5035 - acc: 0.7619 - auroc: 0.8306 - val_loss: 0.5318 - val_acc: 0.7444 - val_auroc: 0.7953\n",
      "\n",
      "Epoch 00017: val_auroc did not improve from 0.82172\n",
      "Epoch 18/100\n",
      "200/200 [==============================] - 91s 457ms/step - loss: 0.4993 - acc: 0.7569 - auroc: 0.8277 - val_loss: 0.5358 - val_acc: 0.7163 - val_auroc: 0.8033\n",
      "\n",
      "Epoch 00018: val_auroc did not improve from 0.82172\n",
      "Epoch 19/100\n",
      "200/200 [==============================] - 92s 458ms/step - loss: 0.5058 - acc: 0.7625 - auroc: 0.8289 - val_loss: 0.5125 - val_acc: 0.7425 - val_auroc: 0.8241\n",
      "\n",
      "Epoch 00019: val_auroc improved from 0.82172 to 0.82406, saving model to drive/My Drive/Face_recognition/vgg_face_baseline_model2.h5\n",
      "Epoch 20/100\n",
      "200/200 [==============================] - 92s 459ms/step - loss: 0.4889 - acc: 0.7744 - auroc: 0.8366 - val_loss: 0.5257 - val_acc: 0.7494 - val_auroc: 0.8186\n",
      "\n",
      "Epoch 00020: val_auroc did not improve from 0.82406\n",
      "Epoch 21/100\n",
      "200/200 [==============================] - 92s 458ms/step - loss: 0.4941 - acc: 0.7594 - auroc: 0.8329 - val_loss: 0.5313 - val_acc: 0.7269 - val_auroc: 0.8034\n",
      "\n",
      "Epoch 00021: val_auroc did not improve from 0.82406\n",
      "Epoch 22/100\n",
      "200/200 [==============================] - 92s 459ms/step - loss: 0.4885 - acc: 0.7616 - auroc: 0.8334 - val_loss: 0.5356 - val_acc: 0.7356 - val_auroc: 0.8061\n",
      "\n",
      "Epoch 00022: val_auroc did not improve from 0.82406\n",
      "Epoch 23/100\n",
      "200/200 [==============================] - 92s 459ms/step - loss: 0.4978 - acc: 0.7556 - auroc: 0.8310 - val_loss: 0.5313 - val_acc: 0.7431 - val_auroc: 0.8087\n",
      "\n",
      "Epoch 00023: val_auroc did not improve from 0.82406\n",
      "Epoch 24/100\n",
      "200/200 [==============================] - 92s 458ms/step - loss: 0.4865 - acc: 0.7719 - auroc: 0.8331 - val_loss: 0.5240 - val_acc: 0.7406 - val_auroc: 0.8217\n",
      "\n",
      "Epoch 00024: val_auroc did not improve from 0.82406\n",
      "Epoch 25/100\n",
      "200/200 [==============================] - 92s 459ms/step - loss: 0.4734 - acc: 0.7766 - auroc: 0.8438 - val_loss: 0.5236 - val_acc: 0.7262 - val_auroc: 0.8063\n",
      "\n",
      "Epoch 00025: val_auroc did not improve from 0.82406\n",
      "Epoch 26/100\n",
      "200/200 [==============================] - 92s 458ms/step - loss: 0.4748 - acc: 0.7837 - auroc: 0.8482 - val_loss: 0.5180 - val_acc: 0.7488 - val_auroc: 0.8177\n",
      "\n",
      "Epoch 00026: val_auroc did not improve from 0.82406\n",
      "Epoch 27/100\n",
      "200/200 [==============================] - 92s 458ms/step - loss: 0.4837 - acc: 0.7678 - auroc: 0.8389 - val_loss: 0.5154 - val_acc: 0.7331 - val_auroc: 0.8056\n",
      "\n",
      "Epoch 00027: val_auroc did not improve from 0.82406\n",
      "Epoch 28/100\n",
      "200/200 [==============================] - 92s 458ms/step - loss: 0.4683 - acc: 0.7803 - auroc: 0.8522 - val_loss: 0.5417 - val_acc: 0.7331 - val_auroc: 0.8056\n",
      "\n",
      "Epoch 00028: val_auroc did not improve from 0.82406\n",
      "Epoch 29/100\n",
      "200/200 [==============================] - 92s 458ms/step - loss: 0.4772 - acc: 0.7728 - auroc: 0.8449 - val_loss: 0.5090 - val_acc: 0.7488 - val_auroc: 0.8217\n",
      "\n",
      "Epoch 00029: val_auroc did not improve from 0.82406\n",
      "Epoch 30/100\n",
      "200/200 [==============================] - 92s 458ms/step - loss: 0.4721 - acc: 0.7803 - auroc: 0.8483 - val_loss: 0.5410 - val_acc: 0.7325 - val_auroc: 0.8027\n",
      "\n",
      "Epoch 00030: val_auroc did not improve from 0.82406\n",
      "Epoch 31/100\n",
      "200/200 [==============================] - 92s 458ms/step - loss: 0.4676 - acc: 0.7691 - auroc: 0.8541 - val_loss: 0.5140 - val_acc: 0.7394 - val_auroc: 0.8169\n",
      "\n",
      "Epoch 00031: val_auroc did not improve from 0.82406\n",
      "Epoch 32/100\n",
      "200/200 [==============================] - 92s 458ms/step - loss: 0.4602 - acc: 0.7797 - auroc: 0.8573 - val_loss: 0.5365 - val_acc: 0.7325 - val_auroc: 0.8072\n",
      "\n",
      "Epoch 00032: val_auroc did not improve from 0.82406\n",
      "Epoch 33/100\n",
      "200/200 [==============================] - 91s 457ms/step - loss: 0.4593 - acc: 0.7894 - auroc: 0.8582 - val_loss: 0.5455 - val_acc: 0.7331 - val_auroc: 0.7934\n",
      "\n",
      "Epoch 00033: val_auroc did not improve from 0.82406\n",
      "Epoch 34/100\n",
      "200/200 [==============================] - 92s 459ms/step - loss: 0.4623 - acc: 0.7822 - auroc: 0.8532 - val_loss: 0.5368 - val_acc: 0.7306 - val_auroc: 0.8042\n",
      "\n",
      "Epoch 00034: val_auroc did not improve from 0.82406\n",
      "Epoch 35/100\n",
      "200/200 [==============================] - 92s 458ms/step - loss: 0.4476 - acc: 0.7884 - auroc: 0.8624 - val_loss: 0.5636 - val_acc: 0.7150 - val_auroc: 0.7825\n",
      "\n",
      "Epoch 00035: val_auroc did not improve from 0.82406\n",
      "Epoch 36/100\n",
      "200/200 [==============================] - 92s 459ms/step - loss: 0.4563 - acc: 0.7897 - auroc: 0.8566 - val_loss: 0.5311 - val_acc: 0.7312 - val_auroc: 0.8045\n",
      "\n",
      "Epoch 00036: val_auroc did not improve from 0.82406\n",
      "Epoch 37/100\n",
      "200/200 [==============================] - 92s 458ms/step - loss: 0.4524 - acc: 0.7875 - auroc: 0.8577 - val_loss: 0.5702 - val_acc: 0.7144 - val_auroc: 0.7941\n",
      "\n",
      "Epoch 00037: val_auroc did not improve from 0.82406\n",
      "Epoch 38/100\n",
      "200/200 [==============================] - 92s 458ms/step - loss: 0.4527 - acc: 0.7816 - auroc: 0.8548 - val_loss: 0.5452 - val_acc: 0.7212 - val_auroc: 0.8016\n",
      "\n",
      "Epoch 00038: val_auroc did not improve from 0.82406\n",
      "Epoch 39/100\n",
      "200/200 [==============================] - 92s 458ms/step - loss: 0.4416 - acc: 0.7981 - auroc: 0.8709 - val_loss: 0.5273 - val_acc: 0.7388 - val_auroc: 0.7992\n",
      "\n",
      "Epoch 00039: val_auroc did not improve from 0.82406\n",
      "\n",
      "Epoch 00039: ReduceLROnPlateau reducing learning rate to 9.999999747378752e-06.\n",
      "Epoch 40/100\n",
      "200/200 [==============================] - 91s 457ms/step - loss: 0.4250 - acc: 0.8091 - auroc: 0.8808 - val_loss: 0.5244 - val_acc: 0.7450 - val_auroc: 0.8137\n",
      "\n",
      "Epoch 00040: val_auroc did not improve from 0.82406\n",
      "Epoch 41/100\n",
      "200/200 [==============================] - 91s 457ms/step - loss: 0.4025 - acc: 0.8203 - auroc: 0.8893 - val_loss: 0.5023 - val_acc: 0.7500 - val_auroc: 0.8248\n",
      "\n",
      "Epoch 00041: val_auroc improved from 0.82406 to 0.82484, saving model to drive/My Drive/Face_recognition/vgg_face_baseline_model2.h5\n",
      "Epoch 42/100\n",
      "200/200 [==============================] - 91s 457ms/step - loss: 0.3977 - acc: 0.8181 - auroc: 0.8932 - val_loss: 0.4808 - val_acc: 0.7712 - val_auroc: 0.8531\n",
      "\n",
      "Epoch 00042: val_auroc improved from 0.82484 to 0.85313, saving model to drive/My Drive/Face_recognition/vgg_face_baseline_model2.h5\n",
      "Epoch 43/100\n",
      "200/200 [==============================] - 91s 457ms/step - loss: 0.3836 - acc: 0.8322 - auroc: 0.9031 - val_loss: 0.4973 - val_acc: 0.7650 - val_auroc: 0.8470\n",
      "\n",
      "Epoch 00043: val_auroc did not improve from 0.85313\n",
      "Epoch 44/100\n",
      "200/200 [==============================] - 91s 457ms/step - loss: 0.3721 - acc: 0.8394 - auroc: 0.9028 - val_loss: 0.4918 - val_acc: 0.7775 - val_auroc: 0.8363\n",
      "\n",
      "Epoch 00044: val_auroc did not improve from 0.85313\n",
      "Epoch 45/100\n",
      "200/200 [==============================] - 92s 458ms/step - loss: 0.3814 - acc: 0.8334 - auroc: 0.9012 - val_loss: 0.5181 - val_acc: 0.7562 - val_auroc: 0.8208\n",
      "\n",
      "Epoch 00045: val_auroc did not improve from 0.85313\n",
      "Epoch 46/100\n",
      "200/200 [==============================] - 91s 457ms/step - loss: 0.3631 - acc: 0.8438 - auroc: 0.9111 - val_loss: 0.4935 - val_acc: 0.7650 - val_auroc: 0.8444\n",
      "\n",
      "Epoch 00046: val_auroc did not improve from 0.85313\n",
      "Epoch 47/100\n",
      "200/200 [==============================] - 91s 457ms/step - loss: 0.3502 - acc: 0.8475 - auroc: 0.9196 - val_loss: 0.5196 - val_acc: 0.7606 - val_auroc: 0.8367\n",
      "\n",
      "Epoch 00047: val_auroc did not improve from 0.85313\n",
      "Epoch 48/100\n",
      "200/200 [==============================] - 91s 457ms/step - loss: 0.3664 - acc: 0.8409 - auroc: 0.9063 - val_loss: 0.5184 - val_acc: 0.7519 - val_auroc: 0.8292\n",
      "\n",
      "Epoch 00048: val_auroc did not improve from 0.85313\n",
      "Epoch 49/100\n",
      "200/200 [==============================] - 91s 457ms/step - loss: 0.3635 - acc: 0.8409 - auroc: 0.9123 - val_loss: 0.5369 - val_acc: 0.7550 - val_auroc: 0.8214\n",
      "\n",
      "Epoch 00049: val_auroc did not improve from 0.85313\n",
      "Epoch 50/100\n",
      "200/200 [==============================] - 91s 457ms/step - loss: 0.3415 - acc: 0.8506 - auroc: 0.9205 - val_loss: 0.5044 - val_acc: 0.7738 - val_auroc: 0.8445\n",
      "\n",
      "Epoch 00050: val_auroc did not improve from 0.85313\n",
      "Epoch 51/100\n",
      "200/200 [==============================] - 91s 457ms/step - loss: 0.3459 - acc: 0.8481 - auroc: 0.9209 - val_loss: 0.4944 - val_acc: 0.7706 - val_auroc: 0.8459\n",
      "\n",
      "Epoch 00051: val_auroc did not improve from 0.85313\n",
      "Epoch 52/100\n",
      "200/200 [==============================] - 91s 457ms/step - loss: 0.3265 - acc: 0.8616 - auroc: 0.9277 - val_loss: 0.5153 - val_acc: 0.7606 - val_auroc: 0.8316\n",
      "\n",
      "Epoch 00052: val_auroc did not improve from 0.85313\n",
      "Epoch 53/100\n",
      "200/200 [==============================] - 91s 457ms/step - loss: 0.3301 - acc: 0.8634 - auroc: 0.9261 - val_loss: 0.4784 - val_acc: 0.7887 - val_auroc: 0.8575\n",
      "\n",
      "Epoch 00053: val_auroc improved from 0.85313 to 0.85750, saving model to drive/My Drive/Face_recognition/vgg_face_baseline_model2.h5\n",
      "Epoch 54/100\n",
      "200/200 [==============================] - 92s 458ms/step - loss: 0.3222 - acc: 0.8594 - auroc: 0.9305 - val_loss: 0.5009 - val_acc: 0.7712 - val_auroc: 0.8386\n",
      "\n",
      "Epoch 00054: val_auroc did not improve from 0.85750\n",
      "Epoch 55/100\n",
      "200/200 [==============================] - 91s 457ms/step - loss: 0.3140 - acc: 0.8672 - auroc: 0.9306 - val_loss: 0.5033 - val_acc: 0.7625 - val_auroc: 0.8414\n",
      "\n",
      "Epoch 00055: val_auroc did not improve from 0.85750\n",
      "Epoch 56/100\n",
      "200/200 [==============================] - 92s 458ms/step - loss: 0.3478 - acc: 0.8525 - auroc: 0.9112 - val_loss: 0.4923 - val_acc: 0.7638 - val_auroc: 0.8525\n",
      "\n",
      "Epoch 00056: val_auroc did not improve from 0.85750\n",
      "Epoch 57/100\n",
      "200/200 [==============================] - 91s 457ms/step - loss: 0.3253 - acc: 0.8603 - auroc: 0.9259 - val_loss: 0.5084 - val_acc: 0.7731 - val_auroc: 0.8494\n",
      "\n",
      "Epoch 00057: val_auroc did not improve from 0.85750\n",
      "Epoch 58/100\n",
      "200/200 [==============================] - 91s 457ms/step - loss: 0.3175 - acc: 0.8638 - auroc: 0.9320 - val_loss: 0.4658 - val_acc: 0.7712 - val_auroc: 0.8511\n",
      "\n",
      "Epoch 00058: val_auroc did not improve from 0.85750\n",
      "Epoch 59/100\n",
      "200/200 [==============================] - 92s 458ms/step - loss: 0.3140 - acc: 0.8712 - auroc: 0.9330 - val_loss: 0.5037 - val_acc: 0.7606 - val_auroc: 0.8425\n",
      "\n",
      "Epoch 00059: val_auroc did not improve from 0.85750\n",
      "Epoch 60/100\n",
      "200/200 [==============================] - 91s 457ms/step - loss: 0.3039 - acc: 0.8744 - auroc: 0.9384 - val_loss: 0.5194 - val_acc: 0.7506 - val_auroc: 0.8322\n",
      "\n",
      "Epoch 00060: val_auroc did not improve from 0.85750\n",
      "Epoch 61/100\n",
      "200/200 [==============================] - 91s 457ms/step - loss: 0.3165 - acc: 0.8597 - auroc: 0.9297 - val_loss: 0.5537 - val_acc: 0.7531 - val_auroc: 0.8270\n",
      "\n",
      "Epoch 00061: val_auroc did not improve from 0.85750\n",
      "Epoch 62/100\n",
      "200/200 [==============================] - 91s 456ms/step - loss: 0.3030 - acc: 0.8675 - auroc: 0.9373 - val_loss: 0.4956 - val_acc: 0.7762 - val_auroc: 0.8495\n",
      "\n",
      "Epoch 00062: val_auroc did not improve from 0.85750\n",
      "Epoch 63/100\n",
      "200/200 [==============================] - 91s 457ms/step - loss: 0.2896 - acc: 0.8819 - auroc: 0.9402 - val_loss: 0.5407 - val_acc: 0.7488 - val_auroc: 0.8339\n",
      "\n",
      "Epoch 00063: val_auroc did not improve from 0.85750\n",
      "Epoch 64/100\n",
      "200/200 [==============================] - 91s 456ms/step - loss: 0.3017 - acc: 0.8725 - auroc: 0.9356 - val_loss: 0.5112 - val_acc: 0.7606 - val_auroc: 0.8505\n",
      "\n",
      "Epoch 00064: val_auroc did not improve from 0.85750\n",
      "Epoch 65/100\n",
      "200/200 [==============================] - 91s 457ms/step - loss: 0.3089 - acc: 0.8694 - auroc: 0.9348 - val_loss: 0.4905 - val_acc: 0.7762 - val_auroc: 0.8622\n",
      "\n",
      "Epoch 00065: val_auroc improved from 0.85750 to 0.86219, saving model to drive/My Drive/Face_recognition/vgg_face_baseline_model2.h5\n",
      "Epoch 66/100\n",
      "200/200 [==============================] - 92s 459ms/step - loss: 0.3072 - acc: 0.8747 - auroc: 0.9305 - val_loss: 0.5083 - val_acc: 0.7700 - val_auroc: 0.8505\n",
      "\n",
      "Epoch 00066: val_auroc did not improve from 0.86219\n",
      "Epoch 67/100\n",
      "200/200 [==============================] - 91s 456ms/step - loss: 0.2875 - acc: 0.8853 - auroc: 0.9401 - val_loss: 0.5629 - val_acc: 0.7519 - val_auroc: 0.8289\n",
      "\n",
      "Epoch 00067: val_auroc did not improve from 0.86219\n",
      "Epoch 68/100\n",
      "200/200 [==============================] - 91s 456ms/step - loss: 0.2848 - acc: 0.8797 - auroc: 0.9438 - val_loss: 0.5196 - val_acc: 0.7631 - val_auroc: 0.8425\n",
      "\n",
      "Epoch 00068: val_auroc did not improve from 0.86219\n",
      "Epoch 69/100\n",
      "200/200 [==============================] - 91s 457ms/step - loss: 0.2837 - acc: 0.8869 - auroc: 0.9441 - val_loss: 0.5176 - val_acc: 0.7750 - val_auroc: 0.8619\n",
      "\n",
      "Epoch 00069: val_auroc did not improve from 0.86219\n",
      "Epoch 70/100\n",
      "200/200 [==============================] - 91s 457ms/step - loss: 0.2888 - acc: 0.8762 - auroc: 0.9434 - val_loss: 0.5108 - val_acc: 0.7638 - val_auroc: 0.8542\n",
      "\n",
      "Epoch 00070: val_auroc did not improve from 0.86219\n",
      "Epoch 71/100\n",
      "200/200 [==============================] - 91s 457ms/step - loss: 0.2751 - acc: 0.8897 - auroc: 0.9478 - val_loss: 0.5843 - val_acc: 0.7619 - val_auroc: 0.8381\n",
      "\n",
      "Epoch 00071: val_auroc did not improve from 0.86219\n",
      "Epoch 72/100\n",
      "200/200 [==============================] - 91s 456ms/step - loss: 0.2808 - acc: 0.8881 - auroc: 0.9422 - val_loss: 0.6048 - val_acc: 0.7488 - val_auroc: 0.8367\n",
      "\n",
      "Epoch 00072: val_auroc did not improve from 0.86219\n",
      "Epoch 73/100\n",
      "200/200 [==============================] - 91s 457ms/step - loss: 0.2800 - acc: 0.8872 - auroc: 0.9440 - val_loss: 0.5737 - val_acc: 0.7406 - val_auroc: 0.8381\n",
      "\n",
      "Epoch 00073: val_auroc did not improve from 0.86219\n",
      "Epoch 74/100\n",
      "200/200 [==============================] - 91s 457ms/step - loss: 0.2668 - acc: 0.8906 - auroc: 0.9502 - val_loss: 0.5711 - val_acc: 0.7494 - val_auroc: 0.8350\n",
      "\n",
      "Epoch 00074: val_auroc did not improve from 0.86219\n",
      "Epoch 75/100\n",
      "200/200 [==============================] - 91s 457ms/step - loss: 0.2695 - acc: 0.8906 - auroc: 0.9495 - val_loss: 0.5791 - val_acc: 0.7669 - val_auroc: 0.8516\n",
      "\n",
      "Epoch 00075: val_auroc did not improve from 0.86219\n",
      "Epoch 76/100\n",
      "200/200 [==============================] - 91s 456ms/step - loss: 0.2553 - acc: 0.8991 - auroc: 0.9548 - val_loss: 0.6802 - val_acc: 0.7288 - val_auroc: 0.8320\n",
      "\n",
      "Epoch 00076: val_auroc did not improve from 0.86219\n",
      "Epoch 77/100\n",
      "200/200 [==============================] - 91s 457ms/step - loss: 0.2764 - acc: 0.8837 - auroc: 0.9479 - val_loss: 0.5462 - val_acc: 0.7550 - val_auroc: 0.8431\n",
      "\n",
      "Epoch 00077: val_auroc did not improve from 0.86219\n",
      "Epoch 78/100\n",
      "200/200 [==============================] - 91s 456ms/step - loss: 0.2825 - acc: 0.8884 - auroc: 0.9462 - val_loss: 0.6010 - val_acc: 0.7312 - val_auroc: 0.8248\n",
      "\n",
      "Epoch 00078: val_auroc did not improve from 0.86219\n",
      "Epoch 79/100\n",
      "200/200 [==============================] - 91s 457ms/step - loss: 0.2673 - acc: 0.8872 - auroc: 0.9530 - val_loss: 0.6254 - val_acc: 0.7469 - val_auroc: 0.8414\n",
      "\n",
      "Epoch 00079: val_auroc did not improve from 0.86219\n",
      "Epoch 80/100\n",
      "200/200 [==============================] - 91s 456ms/step - loss: 0.2668 - acc: 0.8884 - auroc: 0.9507 - val_loss: 0.5363 - val_acc: 0.7625 - val_auroc: 0.8617\n",
      "\n",
      "Epoch 00080: val_auroc did not improve from 0.86219\n",
      "Epoch 81/100\n",
      "200/200 [==============================] - 91s 457ms/step - loss: 0.2660 - acc: 0.8934 - auroc: 0.9480 - val_loss: 0.5738 - val_acc: 0.7475 - val_auroc: 0.8480\n",
      "\n",
      "Epoch 00081: val_auroc did not improve from 0.86219\n",
      "Epoch 82/100\n",
      "200/200 [==============================] - 92s 458ms/step - loss: 0.2638 - acc: 0.8875 - auroc: 0.9523 - val_loss: 0.5364 - val_acc: 0.7588 - val_auroc: 0.8634\n",
      "\n",
      "Epoch 00082: val_auroc improved from 0.86219 to 0.86344, saving model to drive/My Drive/Face_recognition/vgg_face_baseline_model2.h5\n",
      "Epoch 83/100\n",
      "200/200 [==============================] - 92s 458ms/step - loss: 0.2419 - acc: 0.9066 - auroc: 0.9580 - val_loss: 0.6077 - val_acc: 0.7425 - val_auroc: 0.8406\n",
      "\n",
      "Epoch 00083: val_auroc did not improve from 0.86344\n",
      "Epoch 84/100\n",
      "200/200 [==============================] - 91s 457ms/step - loss: 0.2544 - acc: 0.8975 - auroc: 0.9519 - val_loss: 0.5900 - val_acc: 0.7581 - val_auroc: 0.8509\n",
      "\n",
      "Epoch 00084: val_auroc did not improve from 0.86344\n",
      "Epoch 85/100\n",
      "200/200 [==============================] - 92s 458ms/step - loss: 0.2502 - acc: 0.9016 - auroc: 0.9553 - val_loss: 0.5971 - val_acc: 0.7475 - val_auroc: 0.8489\n",
      "\n",
      "Epoch 00085: val_auroc did not improve from 0.86344\n",
      "Epoch 86/100\n",
      "200/200 [==============================] - 91s 457ms/step - loss: 0.2462 - acc: 0.9084 - auroc: 0.9572 - val_loss: 0.6158 - val_acc: 0.7362 - val_auroc: 0.8391\n",
      "\n",
      "Epoch 00086: val_auroc did not improve from 0.86344\n",
      "Epoch 87/100\n",
      "200/200 [==============================] - 91s 457ms/step - loss: 0.2554 - acc: 0.9003 - auroc: 0.9525 - val_loss: 0.6371 - val_acc: 0.7300 - val_auroc: 0.8280\n",
      "\n",
      "Epoch 00087: val_auroc did not improve from 0.86344\n",
      "Epoch 88/100\n",
      "200/200 [==============================] - 94s 468ms/step - loss: 0.2613 - acc: 0.8941 - auroc: 0.9510 - val_loss: 0.6200 - val_acc: 0.7544 - val_auroc: 0.8386\n",
      "\n",
      "Epoch 00088: val_auroc did not improve from 0.86344\n",
      "Epoch 89/100\n",
      "200/200 [==============================] - 92s 461ms/step - loss: 0.2425 - acc: 0.9053 - auroc: 0.9593 - val_loss: 0.6374 - val_acc: 0.7506 - val_auroc: 0.8381\n",
      "\n",
      "Epoch 00089: val_auroc did not improve from 0.86344\n",
      "Epoch 90/100\n",
      "200/200 [==============================] - 92s 461ms/step - loss: 0.2429 - acc: 0.9000 - auroc: 0.9602 - val_loss: 0.6468 - val_acc: 0.7381 - val_auroc: 0.8352\n",
      "\n",
      "Epoch 00090: val_auroc did not improve from 0.86344\n",
      "Epoch 91/100\n",
      "200/200 [==============================] - 92s 462ms/step - loss: 0.2296 - acc: 0.9091 - auroc: 0.9577 - val_loss: 0.6681 - val_acc: 0.7225 - val_auroc: 0.8208\n",
      "\n",
      "Epoch 00091: val_auroc did not improve from 0.86344\n",
      "Epoch 92/100\n",
      "200/200 [==============================] - 92s 462ms/step - loss: 0.2180 - acc: 0.9106 - auroc: 0.9656 - val_loss: 0.6524 - val_acc: 0.7300 - val_auroc: 0.8387\n",
      "\n",
      "Epoch 00092: val_auroc did not improve from 0.86344\n",
      "Epoch 93/100\n",
      "200/200 [==============================] - 92s 462ms/step - loss: 0.2378 - acc: 0.9075 - auroc: 0.9581 - val_loss: 0.6537 - val_acc: 0.7331 - val_auroc: 0.8327\n",
      "\n",
      "Epoch 00093: val_auroc did not improve from 0.86344\n",
      "Epoch 94/100\n",
      "200/200 [==============================] - 92s 461ms/step - loss: 0.2547 - acc: 0.8972 - auroc: 0.9498 - val_loss: 0.6413 - val_acc: 0.7506 - val_auroc: 0.8512\n",
      "\n",
      "Epoch 00094: val_auroc did not improve from 0.86344\n",
      "Epoch 95/100\n",
      "200/200 [==============================] - 92s 462ms/step - loss: 0.2273 - acc: 0.9116 - auroc: 0.9602 - val_loss: 0.6491 - val_acc: 0.7319 - val_auroc: 0.8314\n",
      "\n",
      "Epoch 00095: val_auroc did not improve from 0.86344\n",
      "Epoch 96/100\n",
      "200/200 [==============================] - 92s 461ms/step - loss: 0.2318 - acc: 0.9106 - auroc: 0.9619 - val_loss: 0.6758 - val_acc: 0.7306 - val_auroc: 0.8258\n",
      "\n",
      "Epoch 00096: val_auroc did not improve from 0.86344\n",
      "Epoch 97/100\n",
      "200/200 [==============================] - 92s 460ms/step - loss: 0.2317 - acc: 0.9075 - auroc: 0.9611 - val_loss: 0.6366 - val_acc: 0.7200 - val_auroc: 0.8281\n",
      "\n",
      "Epoch 00097: val_auroc did not improve from 0.86344\n",
      "Epoch 98/100\n",
      "200/200 [==============================] - 92s 461ms/step - loss: 0.2165 - acc: 0.9166 - auroc: 0.9662 - val_loss: 0.7162 - val_acc: 0.7350 - val_auroc: 0.8209\n",
      "\n",
      "Epoch 00098: val_auroc did not improve from 0.86344\n",
      "Epoch 99/100\n",
      "200/200 [==============================] - 92s 461ms/step - loss: 0.2188 - acc: 0.9147 - auroc: 0.9664 - val_loss: 0.6919 - val_acc: 0.7375 - val_auroc: 0.8191\n",
      "\n",
      "Epoch 00099: val_auroc did not improve from 0.86344\n",
      "Epoch 100/100\n",
      "200/200 [==============================] - 92s 461ms/step - loss: 0.2501 - acc: 0.9072 - auroc: 0.9541 - val_loss: 0.6812 - val_acc: 0.7188 - val_auroc: 0.8155\n",
      "\n",
      "Epoch 00100: val_auroc did not improve from 0.86344\n"
     ]
    },
    {
     "data": {
      "text/plain": [
       "<keras.callbacks.History at 0x7f4f64f86c88>"
      ]
     },
     "execution_count": 42,
     "metadata": {
      "tags": []
     },
     "output_type": "execute_result"
    }
   ],
   "source": [
    "model.fit_generator(gen(train, train_person_to_images_map, batch_size=16), use_multiprocessing=True,\n",
    "                    validation_data=gen(val, val_person_to_images_map, batch_size=16), epochs=100, verbose=1,\n",
    "                    workers = 4, callbacks=callbacks_list, steps_per_epoch=200, validation_steps=100)"
   ]
  },
  {
   "cell_type": "code",
   "execution_count": null,
   "metadata": {
    "colab": {},
    "colab_type": "code",
    "id": "GozowxQclhHd"
   },
   "outputs": [],
   "source": [
    "model.load_weights(\"drive/My Drive/Face_recognition/vgg_face_baseline_model2.h5\")"
   ]
  },
  {
   "cell_type": "code",
   "execution_count": null,
   "metadata": {
    "colab": {},
    "colab_type": "code",
    "id": "Vwbi-7HUtmzP"
   },
   "outputs": [],
   "source": [
    "model.compile(loss=\"binary_crossentropy\", metrics=['acc',auroc], optimizer=Adam(0.0001))"
   ]
  },
  {
   "cell_type": "code",
   "execution_count": null,
   "metadata": {
    "colab": {
     "base_uri": "https://localhost:8080/",
     "height": 34
    },
    "colab_type": "code",
    "id": "_9yCwnoQtzk6",
    "outputId": "e0307bd0-28dc-42c9-8c23-22e53f2b7e59"
   },
   "outputs": [
    {
     "name": "stderr",
     "output_type": "stream",
     "text": [
      "166it [45:15, 12.36s/it]\n"
     ]
    }
   ],
   "source": [
    "test_path = \"drive/My Drive/Face_recognition/test/\"\n",
    "def chunker(seq, size=32):\n",
    "    return (seq[pos:pos + size] for pos in range(0, len(seq), size))\n",
    "\n",
    "\n",
    "from tqdm import tqdm\n",
    "\n",
    "submission = pd.read_csv('drive/My Drive/Face_recognition/sample_submission.csv')\n",
    "\n",
    "predictions = []\n",
    "\n",
    "for batch in tqdm(chunker(submission.img_pair.values)):\n",
    "    X1 = [x.split(\"-\")[0] for x in batch]\n",
    "    X1 = np.array([read_img(test_path + x) for x in X1])\n",
    "\n",
    "    X2 = [x.split(\"-\")[1] for x in batch]\n",
    "    X2 = np.array([read_img(test_path + x) for x in X2])\n",
    "\n",
    "    pred = model.predict([X1, X2]).ravel().tolist()\n",
    "    predictions += pred\n",
    "\n",
    "submission['is_related'] = predictions\n",
    "\n",
    "submission.to_csv(\"vgg_face.csv\", index=False)"
   ]
  },
  {
   "cell_type": "markdown",
   "metadata": {
    "colab_type": "text",
    "id": "hHcpOrv07i4c"
   },
   "source": [
    "### Test score: 0.825"
   ]
  },
  {
   "cell_type": "code",
   "execution_count": null,
   "metadata": {
    "colab": {},
    "colab_type": "code",
    "id": "2VheqsY9DRsK"
   },
   "outputs": [],
   "source": []
  },
  {
   "cell_type": "code",
   "execution_count": null,
   "metadata": {
    "colab": {},
    "colab_type": "code",
    "id": "WydnGDTtvB_N"
   },
   "outputs": [],
   "source": []
  },
  {
   "cell_type": "markdown",
   "metadata": {
    "colab_type": "text",
    "id": "bRfympEEvEDz"
   },
   "source": [
    "### 3. Adding Cosine similiarity among other metrics"
   ]
  },
  {
   "cell_type": "code",
   "execution_count": null,
   "metadata": {
    "colab": {},
    "colab_type": "code",
    "id": "bf1Q6UG9xM2v"
   },
   "outputs": [],
   "source": [
    "from keras import backend as K\n",
    "\n",
    "def cosine_distance(vests):\n",
    "    x, y = vests\n",
    "    x = K.l2_normalize(x, axis=-1)\n",
    "    y = K.l2_normalize(y, axis=-1)\n",
    "    return -K.mean(x * y, axis=-1, keepdims=True)\n",
    "\n",
    "def cos_dist_output_shape(shapes):\n",
    "    shape1, shape2 = shapes\n",
    "    return (shape1[0],1)"
   ]
  },
  {
   "cell_type": "code",
   "execution_count": null,
   "metadata": {
    "colab": {},
    "colab_type": "code",
    "id": "Q9umYVhVvCGh"
   },
   "outputs": [],
   "source": [
    "def cosine_model():\n",
    "    #change 2\n",
    "    input_1 = Input(shape=(197, 197, 3))\n",
    "    input_2 = Input(shape=(197, 197, 3))\n",
    "\n",
    "    base_model = VGGFace(model='resnet50', include_top=False)\n",
    "\n",
    "    for x in base_model.layers[:-3]:\n",
    "        x.trainable = True\n",
    "\n",
    "    x1 = base_model(input_1)\n",
    "    x2 = base_model(input_2)\n",
    "\n",
    "    x1 = Concatenate(axis=-1)([GlobalMaxPool2D()(x1), GlobalAvgPool2D()(x1)])\n",
    "    x2 = Concatenate(axis=-1)([GlobalMaxPool2D()(x2), GlobalAvgPool2D()(x2)])\n",
    "\n",
    "    x3 = Subtract()([x1, x2])\n",
    "    x3 = Multiply()([x3, x3])\n",
    "\n",
    "    x1_ = Multiply()([x1, x1])\n",
    "    x2_ = Multiply()([x2, x2])\n",
    "    x4 = Subtract()([x1_, x2_])\n",
    "    \n",
    "    #https://stackoverflow.com/a/51003359/10650182\n",
    "    x5 = Lambda(cosine_distance, output_shape=cos_dist_output_shape)([x1, x2])\n",
    "    \n",
    "    x = Concatenate(axis=-1)([x5,x4, x3])\n",
    "\n",
    "    x = Dense(100, activation=\"relu\")(x)\n",
    "    x = Dropout(0.01)(x)\n",
    "    out = Dense(1, activation=\"sigmoid\")(x)\n",
    "\n",
    "    model = Model([input_1, input_2], out)\n",
    "\n",
    "    model.compile(loss=\"binary_crossentropy\", metrics=['acc',auroc], optimizer=Adam(0.00001))\n",
    "\n",
    "    model.summary()\n",
    "\n",
    "    return model"
   ]
  },
  {
   "cell_type": "code",
   "execution_count": null,
   "metadata": {
    "colab": {
     "base_uri": "https://localhost:8080/",
     "height": 1000
    },
    "colab_type": "code",
    "id": "1BGC-WQ9DRsL",
    "outputId": "e707c753-957c-48f7-8ddc-688f4ad566b7"
   },
   "outputs": [
    {
     "name": "stderr",
     "output_type": "stream",
     "text": [
      "WARNING: Logging before flag parsing goes to stderr.\n",
      "W0730 03:44:42.807980 139937882212224 deprecation_wrapper.py:119] From /usr/local/lib/python3.6/dist-packages/keras/backend/tensorflow_backend.py:74: The name tf.get_default_graph is deprecated. Please use tf.compat.v1.get_default_graph instead.\n",
      "\n",
      "W0730 03:44:42.825098 139937882212224 deprecation_wrapper.py:119] From /usr/local/lib/python3.6/dist-packages/keras/backend/tensorflow_backend.py:517: The name tf.placeholder is deprecated. Please use tf.compat.v1.placeholder instead.\n",
      "\n",
      "W0730 03:44:42.830878 139937882212224 deprecation_wrapper.py:119] From /usr/local/lib/python3.6/dist-packages/keras/backend/tensorflow_backend.py:4138: The name tf.random_uniform is deprecated. Please use tf.random.uniform instead.\n",
      "\n",
      "W0730 03:44:42.852989 139937882212224 deprecation_wrapper.py:119] From /usr/local/lib/python3.6/dist-packages/keras/backend/tensorflow_backend.py:174: The name tf.get_default_session is deprecated. Please use tf.compat.v1.get_default_session instead.\n",
      "\n",
      "W0730 03:44:42.854120 139937882212224 deprecation_wrapper.py:119] From /usr/local/lib/python3.6/dist-packages/keras/backend/tensorflow_backend.py:181: The name tf.ConfigProto is deprecated. Please use tf.compat.v1.ConfigProto instead.\n",
      "\n",
      "W0730 03:44:43.725043 139937882212224 deprecation_wrapper.py:119] From /usr/local/lib/python3.6/dist-packages/keras/backend/tensorflow_backend.py:1834: The name tf.nn.fused_batch_norm is deprecated. Please use tf.compat.v1.nn.fused_batch_norm instead.\n",
      "\n",
      "W0730 03:44:43.792669 139937882212224 deprecation_wrapper.py:119] From /usr/local/lib/python3.6/dist-packages/keras/backend/tensorflow_backend.py:3976: The name tf.nn.max_pool is deprecated. Please use tf.nn.max_pool2d instead.\n",
      "\n",
      "W0730 03:44:48.188672 139937882212224 deprecation_wrapper.py:119] From /usr/local/lib/python3.6/dist-packages/keras/backend/tensorflow_backend.py:3980: The name tf.nn.avg_pool is deprecated. Please use tf.nn.avg_pool2d instead.\n",
      "\n",
      "W0730 03:44:57.684166 139937882212224 deprecation.py:506] From /usr/local/lib/python3.6/dist-packages/keras/backend/tensorflow_backend.py:3445: calling dropout (from tensorflow.python.ops.nn_ops) with keep_prob is deprecated and will be removed in a future version.\n",
      "Instructions for updating:\n",
      "Please use `rate` instead of `keep_prob`. Rate should be set to `rate = 1 - keep_prob`.\n",
      "W0730 03:44:57.723798 139937882212224 deprecation_wrapper.py:119] From /usr/local/lib/python3.6/dist-packages/keras/optimizers.py:790: The name tf.train.Optimizer is deprecated. Please use tf.compat.v1.train.Optimizer instead.\n",
      "\n",
      "W0730 03:44:57.733903 139937882212224 deprecation.py:323] From /usr/local/lib/python3.6/dist-packages/tensorflow/python/ops/nn_impl.py:180: add_dispatch_support.<locals>.wrapper (from tensorflow.python.ops.array_ops) is deprecated and will be removed in a future version.\n",
      "Instructions for updating:\n",
      "Use tf.where in 2.0, which has the same broadcast rule as np.where\n",
      "W0730 03:44:57.753005 139937882212224 deprecation.py:323] From <ipython-input-3-bc412d992b42>:14: py_func (from tensorflow.python.ops.script_ops) is deprecated and will be removed in a future version.\n",
      "Instructions for updating:\n",
      "tf.py_func is deprecated in TF V2. Instead, there are two\n",
      "    options available in V2.\n",
      "    - tf.py_function takes a python function which manipulates tf eager\n",
      "    tensors instead of numpy arrays. It's easy to convert a tf eager tensor to\n",
      "    an ndarray (just call tensor.numpy()) but having access to eager tensors\n",
      "    means `tf.py_function`s can use accelerators such as GPUs as well as\n",
      "    being differentiable using a gradient tape.\n",
      "    - tf.numpy_function maintains the semantics of the deprecated tf.py_func\n",
      "    (it is not differentiable, and manipulates numpy arrays). It drops the\n",
      "    stateful argument making all functions stateful.\n",
      "    \n"
     ]
    },
    {
     "name": "stdout",
     "output_type": "stream",
     "text": [
      "__________________________________________________________________________________________________\n",
      "Layer (type)                    Output Shape         Param #     Connected to                     \n",
      "==================================================================================================\n",
      "input_1 (InputLayer)            (None, 197, 197, 3)  0                                            \n",
      "__________________________________________________________________________________________________\n",
      "input_2 (InputLayer)            (None, 197, 197, 3)  0                                            \n",
      "__________________________________________________________________________________________________\n",
      "vggface_resnet50 (Model)        multiple             23561152    input_1[0][0]                    \n",
      "                                                                 input_2[0][0]                    \n",
      "__________________________________________________________________________________________________\n",
      "global_max_pooling2d_1 (GlobalM (None, 2048)         0           vggface_resnet50[1][0]           \n",
      "__________________________________________________________________________________________________\n",
      "global_average_pooling2d_1 (Glo (None, 2048)         0           vggface_resnet50[1][0]           \n",
      "__________________________________________________________________________________________________\n",
      "global_max_pooling2d_2 (GlobalM (None, 2048)         0           vggface_resnet50[2][0]           \n",
      "__________________________________________________________________________________________________\n",
      "global_average_pooling2d_2 (Glo (None, 2048)         0           vggface_resnet50[2][0]           \n",
      "__________________________________________________________________________________________________\n",
      "concatenate_1 (Concatenate)     (None, 4096)         0           global_max_pooling2d_1[0][0]     \n",
      "                                                                 global_average_pooling2d_1[0][0] \n",
      "__________________________________________________________________________________________________\n",
      "concatenate_2 (Concatenate)     (None, 4096)         0           global_max_pooling2d_2[0][0]     \n",
      "                                                                 global_average_pooling2d_2[0][0] \n",
      "__________________________________________________________________________________________________\n",
      "multiply_2 (Multiply)           (None, 4096)         0           concatenate_1[0][0]              \n",
      "                                                                 concatenate_1[0][0]              \n",
      "__________________________________________________________________________________________________\n",
      "multiply_3 (Multiply)           (None, 4096)         0           concatenate_2[0][0]              \n",
      "                                                                 concatenate_2[0][0]              \n",
      "__________________________________________________________________________________________________\n",
      "subtract_1 (Subtract)           (None, 4096)         0           concatenate_1[0][0]              \n",
      "                                                                 concatenate_2[0][0]              \n",
      "__________________________________________________________________________________________________\n",
      "lambda_1 (Lambda)               (None, 1)            0           concatenate_1[0][0]              \n",
      "                                                                 concatenate_2[0][0]              \n",
      "__________________________________________________________________________________________________\n",
      "subtract_2 (Subtract)           (None, 4096)         0           multiply_2[0][0]                 \n",
      "                                                                 multiply_3[0][0]                 \n",
      "__________________________________________________________________________________________________\n",
      "multiply_1 (Multiply)           (None, 4096)         0           subtract_1[0][0]                 \n",
      "                                                                 subtract_1[0][0]                 \n",
      "__________________________________________________________________________________________________\n",
      "concatenate_3 (Concatenate)     (None, 8193)         0           lambda_1[0][0]                   \n",
      "                                                                 subtract_2[0][0]                 \n",
      "                                                                 multiply_1[0][0]                 \n",
      "__________________________________________________________________________________________________\n",
      "dense_1 (Dense)                 (None, 100)          819400      concatenate_3[0][0]              \n",
      "__________________________________________________________________________________________________\n",
      "dropout_1 (Dropout)             (None, 100)          0           dense_1[0][0]                    \n",
      "__________________________________________________________________________________________________\n",
      "dense_2 (Dense)                 (None, 1)            101         dropout_1[0][0]                  \n",
      "==================================================================================================\n",
      "Total params: 24,380,653\n",
      "Trainable params: 24,327,533\n",
      "Non-trainable params: 53,120\n",
      "__________________________________________________________________________________________________\n"
     ]
    }
   ],
   "source": [
    "file_path = \"drive/My Drive/Face_recognition/vgg_face_cosine.h5\"\n",
    "\n",
    "checkpoint = ModelCheckpoint(file_path, monitor='val_auroc', verbose=1, save_best_only=True, mode='max')\n",
    "\n",
    "reduce_on_plateau = ReduceLROnPlateau(monitor=\"val_auroc\", mode=\"max\", factor=0.1, patience=7, verbose=1)\n",
    "\n",
    "callbacks_list = [checkpoint, reduce_on_plateau]\n",
    "\n",
    "model = cosine_model()\n"
   ]
  },
  {
   "cell_type": "code",
   "execution_count": null,
   "metadata": {
    "colab": {
     "base_uri": "https://localhost:8080/",
     "height": 1000
    },
    "colab_type": "code",
    "id": "T8DkQAgwx6Bf",
    "outputId": "fa1776a5-dbcd-4cd2-b8ac-d2327cacf6eb"
   },
   "outputs": [
    {
     "name": "stdout",
     "output_type": "stream",
     "text": [
      "Epoch 1/100"
     ]
    },
    {
     "name": "stderr",
     "output_type": "stream",
     "text": [
      "/usr/local/lib/python3.6/dist-packages/keras/engine/training_generator.py:47: UserWarning: Using a generator with `use_multiprocessing=True` and multiple workers may duplicate your data. Please consider using the`keras.utils.Sequence class.\n",
      "  UserWarning('Using a generator with `use_multiprocessing=True`'\n"
     ]
    },
    {
     "name": "stdout",
     "output_type": "stream",
     "text": [
      "\n",
      "200/200 [==============================] - 109s 547ms/step - loss: 3.4510 - acc: 0.5600 - auroc: 0.5945 - val_loss: 3.8314 - val_acc: 0.5775 - val_auroc: 0.5927\n",
      "\n",
      "Epoch 00001: val_auroc improved from -inf to 0.59273, saving model to drive/My Drive/Face_recognition/vgg_face_cosine.h5\n",
      "Epoch 2/100\n",
      "200/200 [==============================] - 90s 450ms/step - loss: 1.6573 - acc: 0.6275 - auroc: 0.6880 - val_loss: 2.1614 - val_acc: 0.5869 - val_auroc: 0.6169\n",
      "\n",
      "Epoch 00002: val_auroc improved from 0.59273 to 0.61687, saving model to drive/My Drive/Face_recognition/vgg_face_cosine.h5\n",
      "Epoch 3/100\n",
      "200/200 [==============================] - 90s 450ms/step - loss: 1.0561 - acc: 0.6234 - auroc: 0.6745 - val_loss: 1.5515 - val_acc: 0.5781 - val_auroc: 0.6034\n",
      "\n",
      "Epoch 00003: val_auroc did not improve from 0.61687\n",
      "Epoch 4/100\n",
      "200/200 [==============================] - 90s 450ms/step - loss: 0.7581 - acc: 0.6663 - auroc: 0.7195 - val_loss: 0.9396 - val_acc: 0.6338 - val_auroc: 0.6734\n",
      "\n",
      "Epoch 00004: val_auroc improved from 0.61687 to 0.67344, saving model to drive/My Drive/Face_recognition/vgg_face_cosine.h5\n",
      "Epoch 5/100\n",
      "200/200 [==============================] - 90s 450ms/step - loss: 0.6359 - acc: 0.6822 - auroc: 0.7468 - val_loss: 0.7451 - val_acc: 0.6569 - val_auroc: 0.7186\n",
      "\n",
      "Epoch 00005: val_auroc improved from 0.67344 to 0.71859, saving model to drive/My Drive/Face_recognition/vgg_face_cosine.h5\n",
      "Epoch 6/100\n",
      "200/200 [==============================] - 90s 449ms/step - loss: 0.5734 - acc: 0.7116 - auroc: 0.7801 - val_loss: 0.7261 - val_acc: 0.6381 - val_auroc: 0.7036\n",
      "\n",
      "Epoch 00006: val_auroc did not improve from 0.71859\n",
      "Epoch 7/100\n",
      "200/200 [==============================] - 90s 450ms/step - loss: 0.5750 - acc: 0.7122 - auroc: 0.7802 - val_loss: 0.7025 - val_acc: 0.6731 - val_auroc: 0.7244\n",
      "\n",
      "Epoch 00007: val_auroc improved from 0.71859 to 0.72437, saving model to drive/My Drive/Face_recognition/vgg_face_cosine.h5\n",
      "Epoch 8/100\n",
      "200/200 [==============================] - 90s 450ms/step - loss: 0.5463 - acc: 0.7306 - auroc: 0.7976 - val_loss: 0.6555 - val_acc: 0.6781 - val_auroc: 0.7330\n",
      "\n",
      "Epoch 00008: val_auroc improved from 0.72437 to 0.73297, saving model to drive/My Drive/Face_recognition/vgg_face_cosine.h5\n",
      "Epoch 9/100\n",
      "200/200 [==============================] - 90s 449ms/step - loss: 0.5143 - acc: 0.7384 - auroc: 0.8127 - val_loss: 0.6490 - val_acc: 0.6719 - val_auroc: 0.7300\n",
      "\n",
      "Epoch 00009: val_auroc did not improve from 0.73297\n",
      "Epoch 10/100\n",
      "200/200 [==============================] - 90s 449ms/step - loss: 0.4857 - acc: 0.7591 - auroc: 0.8387 - val_loss: 0.5800 - val_acc: 0.7087 - val_auroc: 0.7741\n",
      "\n",
      "Epoch 00010: val_auroc improved from 0.73297 to 0.77406, saving model to drive/My Drive/Face_recognition/vgg_face_cosine.h5\n",
      "Epoch 11/100\n",
      "200/200 [==============================] - 90s 449ms/step - loss: 0.4823 - acc: 0.7616 - auroc: 0.8422 - val_loss: 0.5829 - val_acc: 0.7019 - val_auroc: 0.7744\n",
      "\n",
      "Epoch 00011: val_auroc improved from 0.77406 to 0.77438, saving model to drive/My Drive/Face_recognition/vgg_face_cosine.h5\n",
      "Epoch 12/100\n",
      "200/200 [==============================] - 90s 449ms/step - loss: 0.4798 - acc: 0.7731 - auroc: 0.8466 - val_loss: 0.5535 - val_acc: 0.7294 - val_auroc: 0.8000\n",
      "\n",
      "Epoch 00012: val_auroc improved from 0.77438 to 0.80000, saving model to drive/My Drive/Face_recognition/vgg_face_cosine.h5\n",
      "Epoch 13/100\n",
      "200/200 [==============================] - 90s 449ms/step - loss: 0.4510 - acc: 0.7816 - auroc: 0.8635 - val_loss: 0.5731 - val_acc: 0.7294 - val_auroc: 0.7964\n",
      "\n",
      "Epoch 00013: val_auroc did not improve from 0.80000\n",
      "Epoch 14/100\n",
      "200/200 [==============================] - 90s 449ms/step - loss: 0.4709 - acc: 0.7712 - auroc: 0.8504 - val_loss: 0.5526 - val_acc: 0.7244 - val_auroc: 0.8002\n",
      "\n",
      "Epoch 00014: val_auroc improved from 0.80000 to 0.80016, saving model to drive/My Drive/Face_recognition/vgg_face_cosine.h5\n",
      "Epoch 15/100\n",
      "200/200 [==============================] - 90s 448ms/step - loss: 0.4365 - acc: 0.8000 - auroc: 0.8741 - val_loss: 0.5764 - val_acc: 0.7206 - val_auroc: 0.7953\n",
      "\n",
      "Epoch 00015: val_auroc did not improve from 0.80016\n",
      "Epoch 16/100\n",
      "200/200 [==============================] - 90s 449ms/step - loss: 0.4287 - acc: 0.8013 - auroc: 0.8760 - val_loss: 0.5557 - val_acc: 0.7319 - val_auroc: 0.8019\n",
      "\n",
      "Epoch 00016: val_auroc improved from 0.80016 to 0.80188, saving model to drive/My Drive/Face_recognition/vgg_face_cosine.h5\n",
      "Epoch 17/100\n",
      "200/200 [==============================] - 90s 449ms/step - loss: 0.4194 - acc: 0.8050 - auroc: 0.8808 - val_loss: 0.5475 - val_acc: 0.7238 - val_auroc: 0.7994\n",
      "\n",
      "Epoch 00017: val_auroc did not improve from 0.80188\n",
      "Epoch 18/100\n",
      "200/200 [==============================] - 90s 448ms/step - loss: 0.4334 - acc: 0.7994 - auroc: 0.8717 - val_loss: 0.5121 - val_acc: 0.7438 - val_auroc: 0.8177\n",
      "\n",
      "Epoch 00018: val_auroc improved from 0.80188 to 0.81766, saving model to drive/My Drive/Face_recognition/vgg_face_cosine.h5\n",
      "Epoch 19/100\n",
      "200/200 [==============================] - 90s 449ms/step - loss: 0.4049 - acc: 0.8075 - auroc: 0.8884 - val_loss: 0.4813 - val_acc: 0.7806 - val_auroc: 0.8423\n",
      "\n",
      "Epoch 00019: val_auroc improved from 0.81766 to 0.84234, saving model to drive/My Drive/Face_recognition/vgg_face_cosine.h5\n",
      "Epoch 20/100\n",
      "200/200 [==============================] - 90s 448ms/step - loss: 0.4003 - acc: 0.8103 - auroc: 0.8915 - val_loss: 0.4997 - val_acc: 0.7612 - val_auroc: 0.8433\n",
      "\n",
      "Epoch 00020: val_auroc improved from 0.84234 to 0.84328, saving model to drive/My Drive/Face_recognition/vgg_face_cosine.h5\n",
      "Epoch 21/100\n",
      "200/200 [==============================] - 90s 449ms/step - loss: 0.4008 - acc: 0.8175 - auroc: 0.8931 - val_loss: 0.4799 - val_acc: 0.7744 - val_auroc: 0.8531\n",
      "\n",
      "Epoch 00021: val_auroc improved from 0.84328 to 0.85313, saving model to drive/My Drive/Face_recognition/vgg_face_cosine.h5\n",
      "Epoch 22/100\n",
      "200/200 [==============================] - 90s 449ms/step - loss: 0.4041 - acc: 0.8125 - auroc: 0.8916 - val_loss: 0.4871 - val_acc: 0.7706 - val_auroc: 0.8519\n",
      "\n",
      "Epoch 00022: val_auroc did not improve from 0.85313\n",
      "Epoch 23/100\n",
      "200/200 [==============================] - 90s 448ms/step - loss: 0.3990 - acc: 0.8181 - auroc: 0.8925 - val_loss: 0.5196 - val_acc: 0.7525 - val_auroc: 0.8147\n",
      "\n",
      "Epoch 00023: val_auroc did not improve from 0.85313\n",
      "Epoch 24/100\n",
      "200/200 [==============================] - 90s 448ms/step - loss: 0.3920 - acc: 0.8228 - auroc: 0.8998 - val_loss: 0.4916 - val_acc: 0.7631 - val_auroc: 0.8375\n",
      "\n",
      "Epoch 00024: val_auroc did not improve from 0.85313\n",
      "Epoch 25/100\n",
      "200/200 [==============================] - 90s 449ms/step - loss: 0.3764 - acc: 0.8322 - auroc: 0.9062 - val_loss: 0.4836 - val_acc: 0.7681 - val_auroc: 0.8570\n",
      "\n",
      "Epoch 00025: val_auroc improved from 0.85313 to 0.85703, saving model to drive/My Drive/Face_recognition/vgg_face_cosine.h5\n",
      "Epoch 26/100\n",
      "200/200 [==============================] - 90s 449ms/step - loss: 0.3639 - acc: 0.8403 - auroc: 0.9095 - val_loss: 0.4906 - val_acc: 0.7694 - val_auroc: 0.8478\n",
      "\n",
      "Epoch 00026: val_auroc did not improve from 0.85703\n",
      "Epoch 27/100\n",
      "200/200 [==============================] - 90s 448ms/step - loss: 0.3877 - acc: 0.8269 - auroc: 0.9020 - val_loss: 0.5182 - val_acc: 0.7556 - val_auroc: 0.8352\n",
      "\n",
      "Epoch 00027: val_auroc did not improve from 0.85703\n",
      "Epoch 28/100\n",
      "200/200 [==============================] - 90s 448ms/step - loss: 0.3662 - acc: 0.8309 - auroc: 0.9098 - val_loss: 0.5003 - val_acc: 0.7538 - val_auroc: 0.8438\n",
      "\n",
      "Epoch 00028: val_auroc did not improve from 0.85703\n",
      "Epoch 29/100\n",
      "200/200 [==============================] - 90s 449ms/step - loss: 0.3626 - acc: 0.8353 - auroc: 0.9113 - val_loss: 0.5201 - val_acc: 0.7588 - val_auroc: 0.8366\n",
      "\n",
      "Epoch 00029: val_auroc did not improve from 0.85703\n",
      "Epoch 30/100\n",
      "200/200 [==============================] - 90s 448ms/step - loss: 0.3490 - acc: 0.8462 - auroc: 0.9187 - val_loss: 0.4875 - val_acc: 0.7769 - val_auroc: 0.8475\n",
      "\n",
      "Epoch 00030: val_auroc did not improve from 0.85703\n",
      "Epoch 31/100\n",
      "200/200 [==============================] - 90s 452ms/step - loss: 0.3600 - acc: 0.8413 - auroc: 0.9134 - val_loss: 0.4738 - val_acc: 0.7875 - val_auroc: 0.8592\n",
      "\n",
      "Epoch 00031: val_auroc improved from 0.85703 to 0.85922, saving model to drive/My Drive/Face_recognition/vgg_face_cosine.h5\n",
      "Epoch 32/100\n",
      "200/200 [==============================] - 90s 451ms/step - loss: 0.3529 - acc: 0.8422 - auroc: 0.9170 - val_loss: 0.5163 - val_acc: 0.7606 - val_auroc: 0.8481\n",
      "\n",
      "Epoch 00032: val_auroc did not improve from 0.85922\n",
      "Epoch 33/100\n",
      "200/200 [==============================] - 90s 451ms/step - loss: 0.3329 - acc: 0.8538 - auroc: 0.9254 - val_loss: 0.5157 - val_acc: 0.7575 - val_auroc: 0.8472\n",
      "\n",
      "Epoch 00033: val_auroc did not improve from 0.85922\n",
      "Epoch 34/100\n",
      "200/200 [==============================] - 90s 450ms/step - loss: 0.3313 - acc: 0.8512 - auroc: 0.9273 - val_loss: 0.5425 - val_acc: 0.7512 - val_auroc: 0.8239\n",
      "\n",
      "Epoch 00034: val_auroc did not improve from 0.85922\n",
      "Epoch 35/100\n",
      "200/200 [==============================] - 90s 450ms/step - loss: 0.3253 - acc: 0.8597 - auroc: 0.9299 - val_loss: 0.5138 - val_acc: 0.7650 - val_auroc: 0.8522\n",
      "\n",
      "Epoch 00035: val_auroc did not improve from 0.85922\n",
      "Epoch 36/100\n",
      "200/200 [==============================] - 90s 451ms/step - loss: 0.3422 - acc: 0.8522 - auroc: 0.9197 - val_loss: 0.4909 - val_acc: 0.7725 - val_auroc: 0.8605\n",
      "\n",
      "Epoch 00036: val_auroc improved from 0.85922 to 0.86047, saving model to drive/My Drive/Face_recognition/vgg_face_cosine.h5\n",
      "Epoch 37/100\n",
      "200/200 [==============================] - 90s 450ms/step - loss: 0.3304 - acc: 0.8556 - auroc: 0.9293 - val_loss: 0.5204 - val_acc: 0.7619 - val_auroc: 0.8420\n",
      "\n",
      "Epoch 00037: val_auroc did not improve from 0.86047\n",
      "Epoch 38/100\n",
      "200/200 [==============================] - 90s 450ms/step - loss: 0.3194 - acc: 0.8606 - auroc: 0.9323 - val_loss: 0.5221 - val_acc: 0.7788 - val_auroc: 0.8506\n",
      "\n",
      "Epoch 00038: val_auroc did not improve from 0.86047\n",
      "Epoch 39/100\n",
      "200/200 [==============================] - 90s 450ms/step - loss: 0.3090 - acc: 0.8741 - auroc: 0.9363 - val_loss: 0.5307 - val_acc: 0.7806 - val_auroc: 0.8525\n",
      "\n",
      "Epoch 00039: val_auroc did not improve from 0.86047\n",
      "Epoch 40/100\n",
      "200/200 [==============================] - 90s 450ms/step - loss: 0.3239 - acc: 0.8622 - auroc: 0.9323 - val_loss: 0.5153 - val_acc: 0.7506 - val_auroc: 0.8492\n",
      "\n",
      "Epoch 00040: val_auroc did not improve from 0.86047\n",
      "Epoch 41/100\n",
      "200/200 [==============================] - 90s 450ms/step - loss: 0.3144 - acc: 0.8628 - auroc: 0.9355 - val_loss: 0.5152 - val_acc: 0.7462 - val_auroc: 0.8431\n",
      "\n",
      "Epoch 00041: val_auroc did not improve from 0.86047\n",
      "Epoch 42/100\n",
      "200/200 [==============================] - 90s 450ms/step - loss: 0.3131 - acc: 0.8722 - auroc: 0.9345 - val_loss: 0.5175 - val_acc: 0.7688 - val_auroc: 0.8533\n",
      "\n",
      "Epoch 00042: val_auroc did not improve from 0.86047\n",
      "Epoch 43/100\n",
      "200/200 [==============================] - 90s 450ms/step - loss: 0.3143 - acc: 0.8719 - auroc: 0.9317 - val_loss: 0.5195 - val_acc: 0.7731 - val_auroc: 0.8527\n",
      "\n",
      "Epoch 00043: val_auroc did not improve from 0.86047\n",
      "\n",
      "Epoch 00043: ReduceLROnPlateau reducing learning rate to 9.999999747378752e-07.\n",
      "Epoch 44/100\n",
      "200/200 [==============================] - 90s 450ms/step - loss: 0.2866 - acc: 0.8816 - auroc: 0.9448 - val_loss: 0.5074 - val_acc: 0.7531 - val_auroc: 0.8581\n",
      "\n",
      "Epoch 00044: val_auroc did not improve from 0.86047\n",
      "Epoch 45/100\n",
      "200/200 [==============================] - 90s 451ms/step - loss: 0.3053 - acc: 0.8609 - auroc: 0.9385 - val_loss: 0.5216 - val_acc: 0.7562 - val_auroc: 0.8480\n",
      "\n",
      "Epoch 00045: val_auroc did not improve from 0.86047\n",
      "Epoch 46/100\n",
      "200/200 [==============================] - 90s 450ms/step - loss: 0.2833 - acc: 0.8731 - auroc: 0.9451 - val_loss: 0.5270 - val_acc: 0.7638 - val_auroc: 0.8502\n",
      "\n",
      "Epoch 00046: val_auroc did not improve from 0.86047\n",
      "Epoch 47/100\n",
      "200/200 [==============================] - 90s 451ms/step - loss: 0.2889 - acc: 0.8766 - auroc: 0.9464 - val_loss: 0.5364 - val_acc: 0.7612 - val_auroc: 0.8544\n",
      "\n",
      "Epoch 00047: val_auroc did not improve from 0.86047\n",
      "Epoch 48/100\n",
      "200/200 [==============================] - 90s 450ms/step - loss: 0.2924 - acc: 0.8794 - auroc: 0.9405 - val_loss: 0.4772 - val_acc: 0.7844 - val_auroc: 0.8719\n",
      "\n",
      "Epoch 00048: val_auroc improved from 0.86047 to 0.87187, saving model to drive/My Drive/Face_recognition/vgg_face_cosine.h5\n",
      "Epoch 49/100\n",
      "200/200 [==============================] - 90s 450ms/step - loss: 0.2692 - acc: 0.8903 - auroc: 0.9520 - val_loss: 0.5205 - val_acc: 0.7756 - val_auroc: 0.8580\n",
      "\n",
      "Epoch 00049: val_auroc did not improve from 0.87187\n",
      "Epoch 50/100\n",
      "200/200 [==============================] - 90s 449ms/step - loss: 0.2809 - acc: 0.8856 - auroc: 0.9480 - val_loss: 0.5114 - val_acc: 0.7681 - val_auroc: 0.8672\n",
      "\n",
      "Epoch 00050: val_auroc did not improve from 0.87187\n",
      "Epoch 51/100\n",
      "200/200 [==============================] - 90s 451ms/step - loss: 0.2813 - acc: 0.8756 - auroc: 0.9493 - val_loss: 0.5375 - val_acc: 0.7644 - val_auroc: 0.8653\n",
      "\n",
      "Epoch 00051: val_auroc did not improve from 0.87187\n",
      "Epoch 52/100\n",
      "200/200 [==============================] - 90s 450ms/step - loss: 0.2819 - acc: 0.8834 - auroc: 0.9487 - val_loss: 0.4932 - val_acc: 0.7656 - val_auroc: 0.8639\n",
      "\n",
      "Epoch 00052: val_auroc did not improve from 0.87187\n",
      "Epoch 53/100\n",
      "200/200 [==============================] - 90s 450ms/step - loss: 0.2581 - acc: 0.8944 - auroc: 0.9559 - val_loss: 0.4994 - val_acc: 0.7681 - val_auroc: 0.8638\n",
      "\n",
      "Epoch 00053: val_auroc did not improve from 0.87187\n",
      "Epoch 54/100\n",
      "200/200 [==============================] - 90s 450ms/step - loss: 0.2593 - acc: 0.8925 - auroc: 0.9579 - val_loss: 0.5149 - val_acc: 0.7606 - val_auroc: 0.8586\n",
      "\n",
      "Epoch 00054: val_auroc did not improve from 0.87187\n",
      "Epoch 55/100\n",
      "200/200 [==============================] - 90s 451ms/step - loss: 0.2644 - acc: 0.8934 - auroc: 0.9527 - val_loss: 0.5162 - val_acc: 0.7744 - val_auroc: 0.8666\n",
      "\n",
      "Epoch 00055: val_auroc did not improve from 0.87187\n",
      "\n",
      "Epoch 00055: ReduceLROnPlateau reducing learning rate to 9.999999974752428e-08.\n",
      "Epoch 56/100\n",
      "200/200 [==============================] - 90s 451ms/step - loss: 0.2628 - acc: 0.8922 - auroc: 0.9523 - val_loss: 0.5314 - val_acc: 0.7588 - val_auroc: 0.8491\n",
      "\n",
      "Epoch 00056: val_auroc did not improve from 0.87187\n",
      "Epoch 57/100\n",
      "200/200 [==============================] - 90s 451ms/step - loss: 0.2635 - acc: 0.8897 - auroc: 0.9519 - val_loss: 0.5239 - val_acc: 0.7588 - val_auroc: 0.8586\n",
      "\n",
      "Epoch 00057: val_auroc did not improve from 0.87187\n",
      "Epoch 58/100\n",
      "200/200 [==============================] - 90s 451ms/step - loss: 0.2626 - acc: 0.8934 - auroc: 0.9554 - val_loss: 0.5038 - val_acc: 0.7756 - val_auroc: 0.8744\n",
      "\n",
      "Epoch 00058: val_auroc improved from 0.87187 to 0.87438, saving model to drive/My Drive/Face_recognition/vgg_face_cosine.h5\n",
      "Epoch 59/100\n",
      "200/200 [==============================] - 90s 451ms/step - loss: 0.2384 - acc: 0.9006 - auroc: 0.9622 - val_loss: 0.4869 - val_acc: 0.7788 - val_auroc: 0.8716\n",
      "\n",
      "Epoch 00059: val_auroc did not improve from 0.87438\n",
      "Epoch 60/100\n",
      "200/200 [==============================] - 90s 450ms/step - loss: 0.2485 - acc: 0.8972 - auroc: 0.9591 - val_loss: 0.5366 - val_acc: 0.7494 - val_auroc: 0.8489\n",
      "\n",
      "Epoch 00060: val_auroc did not improve from 0.87438\n",
      "Epoch 61/100\n",
      "200/200 [==============================] - 90s 450ms/step - loss: 0.2530 - acc: 0.8956 - auroc: 0.9577 - val_loss: 0.4809 - val_acc: 0.7769 - val_auroc: 0.8839\n",
      "\n",
      "Epoch 00061: val_auroc improved from 0.87438 to 0.88391, saving model to drive/My Drive/Face_recognition/vgg_face_cosine.h5\n",
      "Epoch 62/100\n",
      "200/200 [==============================] - 90s 452ms/step - loss: 0.2614 - acc: 0.8966 - auroc: 0.9540 - val_loss: 0.5187 - val_acc: 0.7694 - val_auroc: 0.8653\n",
      "\n",
      "Epoch 00062: val_auroc did not improve from 0.88391\n",
      "Epoch 63/100\n",
      "200/200 [==============================] - 90s 450ms/step - loss: 0.2458 - acc: 0.9012 - auroc: 0.9587 - val_loss: 0.5027 - val_acc: 0.7662 - val_auroc: 0.8703\n",
      "\n",
      "Epoch 00063: val_auroc did not improve from 0.88391\n",
      "Epoch 64/100\n",
      "200/200 [==============================] - 90s 452ms/step - loss: 0.2436 - acc: 0.9050 - auroc: 0.9609 - val_loss: 0.4866 - val_acc: 0.7756 - val_auroc: 0.8719\n",
      "\n",
      "Epoch 00064: val_auroc did not improve from 0.88391\n",
      "Epoch 65/100\n",
      "200/200 [==============================] - 90s 451ms/step - loss: 0.2474 - acc: 0.8972 - auroc: 0.9573 - val_loss: 0.5297 - val_acc: 0.7569 - val_auroc: 0.8534\n",
      "\n",
      "Epoch 00065: val_auroc did not improve from 0.88391\n",
      "Epoch 66/100\n",
      "200/200 [==============================] - 90s 450ms/step - loss: 0.2635 - acc: 0.8847 - auroc: 0.9537 - val_loss: 0.5408 - val_acc: 0.7588 - val_auroc: 0.8472\n",
      "\n",
      "Epoch 00066: val_auroc did not improve from 0.88391\n",
      "Epoch 67/100\n",
      "200/200 [==============================] - 90s 450ms/step - loss: 0.2538 - acc: 0.8925 - auroc: 0.9557 - val_loss: 0.5259 - val_acc: 0.7662 - val_auroc: 0.8633\n",
      "\n",
      "Epoch 00067: val_auroc did not improve from 0.88391\n",
      "Epoch 68/100\n",
      "200/200 [==============================] - 90s 451ms/step - loss: 0.2514 - acc: 0.8950 - auroc: 0.9579 - val_loss: 0.5141 - val_acc: 0.7769 - val_auroc: 0.8648\n",
      "\n",
      "Epoch 00068: val_auroc did not improve from 0.88391\n",
      "\n",
      "Epoch 00068: ReduceLROnPlateau reducing learning rate to 1.0000000116860975e-08.\n",
      "Epoch 69/100\n",
      "200/200 [==============================] - 90s 452ms/step - loss: 0.2570 - acc: 0.8928 - auroc: 0.9521 - val_loss: 0.5505 - val_acc: 0.7662 - val_auroc: 0.8466\n",
      "\n",
      "Epoch 00069: val_auroc did not improve from 0.88391\n",
      "Epoch 70/100\n",
      "200/200 [==============================] - 90s 452ms/step - loss: 0.2620 - acc: 0.8906 - auroc: 0.9538 - val_loss: 0.5452 - val_acc: 0.7694 - val_auroc: 0.8512\n",
      "\n",
      "Epoch 00070: val_auroc did not improve from 0.88391\n",
      "Epoch 71/100\n",
      "200/200 [==============================] - 90s 451ms/step - loss: 0.2513 - acc: 0.9025 - auroc: 0.9583 - val_loss: 0.5387 - val_acc: 0.7569 - val_auroc: 0.8409\n",
      "\n",
      "Epoch 00071: val_auroc did not improve from 0.88391\n",
      "Epoch 72/100\n",
      "200/200 [==============================] - 90s 451ms/step - loss: 0.2461 - acc: 0.9025 - auroc: 0.9584 - val_loss: 0.4961 - val_acc: 0.7744 - val_auroc: 0.8673\n",
      "\n",
      "Epoch 00072: val_auroc did not improve from 0.88391\n",
      "Epoch 73/100\n",
      "200/200 [==============================] - 90s 452ms/step - loss: 0.2363 - acc: 0.9025 - auroc: 0.9620 - val_loss: 0.4859 - val_acc: 0.7788 - val_auroc: 0.8797\n",
      "\n",
      "Epoch 00073: val_auroc did not improve from 0.88391\n",
      "Epoch 74/100\n",
      "200/200 [==============================] - 90s 451ms/step - loss: 0.2475 - acc: 0.9034 - auroc: 0.9598 - val_loss: 0.5551 - val_acc: 0.7594 - val_auroc: 0.8530\n",
      "\n",
      "Epoch 00074: val_auroc did not improve from 0.88391\n",
      "Epoch 75/100\n",
      "200/200 [==============================] - 90s 452ms/step - loss: 0.2516 - acc: 0.8950 - auroc: 0.9583 - val_loss: 0.4576 - val_acc: 0.7981 - val_auroc: 0.8844\n",
      "\n",
      "Epoch 00075: val_auroc improved from 0.88391 to 0.88438, saving model to drive/My Drive/Face_recognition/vgg_face_cosine.h5\n",
      "Epoch 76/100\n",
      "200/200 [==============================] - 90s 452ms/step - loss: 0.2488 - acc: 0.8997 - auroc: 0.9572 - val_loss: 0.4975 - val_acc: 0.7925 - val_auroc: 0.8794\n",
      "\n",
      "Epoch 00076: val_auroc did not improve from 0.88438\n",
      "Epoch 77/100\n",
      "200/200 [==============================] - 90s 451ms/step - loss: 0.2442 - acc: 0.9056 - auroc: 0.9590 - val_loss: 0.4890 - val_acc: 0.7725 - val_auroc: 0.8791\n",
      "\n",
      "Epoch 00077: val_auroc did not improve from 0.88438\n",
      "Epoch 78/100\n",
      "200/200 [==============================] - 90s 452ms/step - loss: 0.2607 - acc: 0.8928 - auroc: 0.9520 - val_loss: 0.4553 - val_acc: 0.7925 - val_auroc: 0.8912\n",
      "\n",
      "Epoch 00078: val_auroc improved from 0.88438 to 0.89125, saving model to drive/My Drive/Face_recognition/vgg_face_cosine.h5\n",
      "Epoch 79/100\n",
      "200/200 [==============================] - 90s 452ms/step - loss: 0.2709 - acc: 0.8847 - auroc: 0.9486 - val_loss: 0.5141 - val_acc: 0.7700 - val_auroc: 0.8644\n",
      "\n",
      "Epoch 00079: val_auroc did not improve from 0.89125\n",
      "Epoch 80/100\n",
      "200/200 [==============================] - 90s 451ms/step - loss: 0.2540 - acc: 0.8962 - auroc: 0.9580 - val_loss: 0.5248 - val_acc: 0.7756 - val_auroc: 0.8655\n",
      "\n",
      "Epoch 00080: val_auroc did not improve from 0.89125\n",
      "Epoch 81/100\n",
      "200/200 [==============================] - 90s 452ms/step - loss: 0.2616 - acc: 0.8887 - auroc: 0.9516 - val_loss: 0.5499 - val_acc: 0.7681 - val_auroc: 0.8638\n",
      "\n",
      "Epoch 00081: val_auroc did not improve from 0.89125\n",
      "Epoch 82/100\n",
      "200/200 [==============================] - 90s 451ms/step - loss: 0.2368 - acc: 0.9038 - auroc: 0.9615 - val_loss: 0.4952 - val_acc: 0.7875 - val_auroc: 0.8598\n",
      "\n",
      "Epoch 00082: val_auroc did not improve from 0.89125\n",
      "Epoch 83/100\n",
      "200/200 [==============================] - 90s 451ms/step - loss: 0.2672 - acc: 0.8900 - auroc: 0.9521 - val_loss: 0.5342 - val_acc: 0.7606 - val_auroc: 0.8484\n",
      "\n",
      "Epoch 00083: val_auroc did not improve from 0.89125\n",
      "Epoch 84/100\n",
      "200/200 [==============================] - 90s 451ms/step - loss: 0.2529 - acc: 0.8931 - auroc: 0.9552 - val_loss: 0.5108 - val_acc: 0.7700 - val_auroc: 0.8673\n",
      "\n",
      "Epoch 00084: val_auroc did not improve from 0.89125\n",
      "Epoch 85/100\n",
      "200/200 [==============================] - 90s 451ms/step - loss: 0.2526 - acc: 0.8938 - auroc: 0.9559 - val_loss: 0.5087 - val_acc: 0.7762 - val_auroc: 0.8673\n",
      "\n",
      "Epoch 00085: val_auroc did not improve from 0.89125\n",
      "\n",
      "Epoch 00085: ReduceLROnPlateau reducing learning rate to 9.999999939225292e-10.\n",
      "Epoch 86/100\n",
      "200/200 [==============================] - 90s 451ms/step - loss: 0.2532 - acc: 0.8884 - auroc: 0.9576 - val_loss: 0.5567 - val_acc: 0.7612 - val_auroc: 0.8459\n",
      "\n",
      "Epoch 00086: val_auroc did not improve from 0.89125\n",
      "Epoch 87/100\n",
      "200/200 [==============================] - 90s 451ms/step - loss: 0.2467 - acc: 0.9025 - auroc: 0.9605 - val_loss: 0.4852 - val_acc: 0.7744 - val_auroc: 0.8733\n",
      "\n",
      "Epoch 00087: val_auroc did not improve from 0.89125\n",
      "Epoch 88/100\n",
      "200/200 [==============================] - 90s 451ms/step - loss: 0.2336 - acc: 0.9066 - auroc: 0.9642 - val_loss: 0.5299 - val_acc: 0.7700 - val_auroc: 0.8575\n",
      "\n",
      "Epoch 00088: val_auroc did not improve from 0.89125\n",
      "Epoch 89/100\n",
      "200/200 [==============================] - 90s 450ms/step - loss: 0.2487 - acc: 0.9000 - auroc: 0.9573 - val_loss: 0.4943 - val_acc: 0.7806 - val_auroc: 0.8819\n",
      "\n",
      "Epoch 00089: val_auroc did not improve from 0.89125\n",
      "Epoch 90/100\n",
      "200/200 [==============================] - 90s 451ms/step - loss: 0.2518 - acc: 0.8981 - auroc: 0.9595 - val_loss: 0.5112 - val_acc: 0.7681 - val_auroc: 0.8628\n",
      "\n",
      "Epoch 00090: val_auroc did not improve from 0.89125\n",
      "Epoch 91/100\n",
      "200/200 [==============================] - 90s 451ms/step - loss: 0.2536 - acc: 0.8956 - auroc: 0.9591 - val_loss: 0.4838 - val_acc: 0.7906 - val_auroc: 0.8838\n",
      "\n",
      "Epoch 00091: val_auroc did not improve from 0.89125\n",
      "Epoch 92/100\n",
      "200/200 [==============================] - 90s 451ms/step - loss: 0.2477 - acc: 0.8969 - auroc: 0.9592 - val_loss: 0.4839 - val_acc: 0.7769 - val_auroc: 0.8616\n",
      "\n",
      "Epoch 00092: val_auroc did not improve from 0.89125\n",
      "\n",
      "Epoch 00092: ReduceLROnPlateau reducing learning rate to 9.999999717180686e-11.\n",
      "Epoch 93/100\n",
      "200/200 [==============================] - 90s 450ms/step - loss: 0.2582 - acc: 0.8881 - auroc: 0.9555 - val_loss: 0.4622 - val_acc: 0.7950 - val_auroc: 0.8836\n",
      "\n",
      "Epoch 00093: val_auroc did not improve from 0.89125\n",
      "Epoch 94/100\n",
      "200/200 [==============================] - 90s 451ms/step - loss: 0.2481 - acc: 0.8997 - auroc: 0.9572 - val_loss: 0.5459 - val_acc: 0.7631 - val_auroc: 0.8550\n",
      "\n",
      "Epoch 00094: val_auroc did not improve from 0.89125\n",
      "Epoch 95/100\n",
      "200/200 [==============================] - 90s 450ms/step - loss: 0.2417 - acc: 0.8981 - auroc: 0.9605 - val_loss: 0.5286 - val_acc: 0.7594 - val_auroc: 0.8552\n",
      "\n",
      "Epoch 00095: val_auroc did not improve from 0.89125\n",
      "Epoch 96/100\n",
      "200/200 [==============================] - 90s 451ms/step - loss: 0.2504 - acc: 0.8991 - auroc: 0.9592 - val_loss: 0.5001 - val_acc: 0.7831 - val_auroc: 0.8725\n",
      "\n",
      "Epoch 00096: val_auroc did not improve from 0.89125\n",
      "Epoch 97/100\n",
      "200/200 [==============================] - 90s 451ms/step - loss: 0.2572 - acc: 0.8953 - auroc: 0.9583 - val_loss: 0.4603 - val_acc: 0.8019 - val_auroc: 0.8858\n",
      "\n",
      "Epoch 00097: val_auroc did not improve from 0.89125\n",
      "Epoch 98/100\n",
      "200/200 [==============================] - 90s 450ms/step - loss: 0.2515 - acc: 0.8972 - auroc: 0.9585 - val_loss: 0.5237 - val_acc: 0.7694 - val_auroc: 0.8764\n",
      "\n",
      "Epoch 00098: val_auroc did not improve from 0.89125\n",
      "Epoch 99/100\n",
      "200/200 [==============================] - 90s 451ms/step - loss: 0.2411 - acc: 0.9041 - auroc: 0.9595 - val_loss: 0.5039 - val_acc: 0.7725 - val_auroc: 0.8658\n",
      "\n",
      "Epoch 00099: val_auroc did not improve from 0.89125\n",
      "\n",
      "Epoch 00099: ReduceLROnPlateau reducing learning rate to 9.99999943962493e-12.\n",
      "Epoch 100/100\n",
      "200/200 [==============================] - 90s 451ms/step - loss: 0.2454 - acc: 0.9034 - auroc: 0.9592 - val_loss: 0.5166 - val_acc: 0.7794 - val_auroc: 0.8634\n",
      "\n",
      "Epoch 00100: val_auroc did not improve from 0.89125\n"
     ]
    },
    {
     "data": {
      "text/plain": [
       "<keras.callbacks.History at 0x7f4578687c50>"
      ]
     },
     "execution_count": 44,
     "metadata": {
      "tags": []
     },
     "output_type": "execute_result"
    }
   ],
   "source": [
    "model.fit_generator(gen(train, train_person_to_images_map, batch_size=16), use_multiprocessing=True,\n",
    "                    validation_data=gen(val, val_person_to_images_map, batch_size=16), epochs=100, verbose=1,\n",
    "                    workers = 4, callbacks=callbacks_list, steps_per_epoch=200, validation_steps=100)"
   ]
  },
  {
   "cell_type": "code",
   "execution_count": null,
   "metadata": {
    "colab": {},
    "colab_type": "code",
    "id": "g6LExOS6x5yF"
   },
   "outputs": [],
   "source": [
    "model.load_weights(\"drive/My Drive/Face_recognition/vgg_face_cosine.h5\")"
   ]
  },
  {
   "cell_type": "code",
   "execution_count": null,
   "metadata": {
    "colab": {},
    "colab_type": "code",
    "id": "yJsTr5iQx5tV"
   },
   "outputs": [],
   "source": [
    "model.compile(loss=\"binary_crossentropy\", metrics=['acc',auroc], optimizer=Adam(0.00001))"
   ]
  },
  {
   "cell_type": "code",
   "execution_count": null,
   "metadata": {
    "colab": {
     "base_uri": "https://localhost:8080/",
     "height": 34
    },
    "colab_type": "code",
    "id": "3rxS09I-7l8f",
    "outputId": "7433f0b1-7eb9-4939-d314-af256f8ae0b3"
   },
   "outputs": [
    {
     "name": "stderr",
     "output_type": "stream",
     "text": [
      "166it [32:28,  9.13s/it]\n"
     ]
    }
   ],
   "source": [
    "test_path = \"drive/My Drive/Face_recognition/test/\"\n",
    "def chunker(seq, size=32):\n",
    "    return (seq[pos:pos + size] for pos in range(0, len(seq), size))\n",
    "\n",
    "\n",
    "from tqdm import tqdm\n",
    "\n",
    "submission = pd.read_csv('drive/My Drive/Face_recognition/sample_submission.csv')\n",
    "\n",
    "predictions = []\n",
    "\n",
    "for batch in tqdm(chunker(submission.img_pair.values)):\n",
    "    X1 = [x.split(\"-\")[0] for x in batch]\n",
    "    X1 = np.array([read_img(test_path + x) for x in X1])\n",
    "\n",
    "    X2 = [x.split(\"-\")[1] for x in batch]\n",
    "    X2 = np.array([read_img(test_path + x) for x in X2])\n",
    "\n",
    "    pred = model.predict([X1, X2]).ravel().tolist()\n",
    "    predictions += pred\n",
    "\n",
    "submission['is_related'] = predictions\n",
    "\n",
    "submission.to_csv(\"drive/My Drive/Face_recognition/cosine_submission.csv\", index=False)"
   ]
  },
  {
   "cell_type": "markdown",
   "metadata": {
    "colab_type": "text",
    "id": "XcyH1lqV5P-D"
   },
   "source": [
    "### Test Score: 0.858"
   ]
  },
  {
   "cell_type": "code",
   "execution_count": null,
   "metadata": {
    "colab": {},
    "colab_type": "code",
    "id": "QETJ6qiXPh3k"
   },
   "outputs": [],
   "source": []
  },
  {
   "cell_type": "markdown",
   "metadata": {
    "colab_type": "text",
    "id": "Rm5_56bCa6um"
   },
   "source": [
    "### 4. Experimenting with dropouts and learning rates from previous model(Model 4)"
   ]
  },
  {
   "cell_type": "code",
   "execution_count": null,
   "metadata": {
    "colab": {},
    "colab_type": "code",
    "id": "9BfeTh5Z7Vsx"
   },
   "outputs": [],
   "source": [
    "def cosine_model2():\n",
    "    #change 2\n",
    "    input_1 = Input(shape=(197, 197, 3))\n",
    "    input_2 = Input(shape=(197, 197, 3))\n",
    "\n",
    "    base_model = VGGFace(model='resnet50', include_top=False)\n",
    "\n",
    "    for x in base_model.layers[:-3]:\n",
    "        x.trainable = True\n",
    "\n",
    "    x1 = base_model(input_1)\n",
    "    x2 = base_model(input_2)\n",
    "\n",
    "    x1 = Concatenate(axis=-1)([GlobalMaxPool2D()(x1), GlobalAvgPool2D()(x1)])\n",
    "    x2 = Concatenate(axis=-1)([GlobalMaxPool2D()(x2), GlobalAvgPool2D()(x2)])\n",
    "\n",
    "    x3 = Subtract()([x1, x2])\n",
    "    x3 = Multiply()([x3, x3])\n",
    "\n",
    "    x1_ = Multiply()([x1, x1])\n",
    "    x2_ = Multiply()([x2, x2])\n",
    "    x4 = Subtract()([x1_, x2_])\n",
    "    \n",
    "    #https://stackoverflow.com/a/51003359/10650182\n",
    "    x5 = Lambda(cosine_distance, output_shape=cos_dist_output_shape)([x1, x2])\n",
    "    \n",
    "    x = Concatenate(axis=-1)([x5,x4, x3])\n",
    "\n",
    "    x = Dense(100, activation=\"relu\")(x)\n",
    "    x = Dropout(0.2)(x)\n",
    "    out = Dense(1, activation=\"sigmoid\")(x)\n",
    "\n",
    "    model = Model([input_1, input_2], out)\n",
    "\n",
    "    model.compile(loss=\"binary_crossentropy\", metrics=['acc',auroc], optimizer=Adam(0.00001))\n",
    "\n",
    "    model.summary()\n",
    "\n",
    "    return model"
   ]
  },
  {
   "cell_type": "code",
   "execution_count": null,
   "metadata": {
    "colab": {
     "base_uri": "https://localhost:8080/",
     "height": 958
    },
    "colab_type": "code",
    "id": "VtMZR-3u7VoC",
    "outputId": "a2a3bb57-5b79-4915-f889-190648561058"
   },
   "outputs": [
    {
     "name": "stdout",
     "output_type": "stream",
     "text": [
      "__________________________________________________________________________________________________\n",
      "Layer (type)                    Output Shape         Param #     Connected to                     \n",
      "==================================================================================================\n",
      "input_4 (InputLayer)            (None, 197, 197, 3)  0                                            \n",
      "__________________________________________________________________________________________________\n",
      "input_5 (InputLayer)            (None, 197, 197, 3)  0                                            \n",
      "__________________________________________________________________________________________________\n",
      "vggface_resnet50 (Model)        multiple             23561152    input_4[0][0]                    \n",
      "                                                                 input_5[0][0]                    \n",
      "__________________________________________________________________________________________________\n",
      "global_max_pooling2d_3 (GlobalM (None, 2048)         0           vggface_resnet50[1][0]           \n",
      "__________________________________________________________________________________________________\n",
      "global_average_pooling2d_3 (Glo (None, 2048)         0           vggface_resnet50[1][0]           \n",
      "__________________________________________________________________________________________________\n",
      "global_max_pooling2d_4 (GlobalM (None, 2048)         0           vggface_resnet50[2][0]           \n",
      "__________________________________________________________________________________________________\n",
      "global_average_pooling2d_4 (Glo (None, 2048)         0           vggface_resnet50[2][0]           \n",
      "__________________________________________________________________________________________________\n",
      "concatenate_4 (Concatenate)     (None, 4096)         0           global_max_pooling2d_3[0][0]     \n",
      "                                                                 global_average_pooling2d_3[0][0] \n",
      "__________________________________________________________________________________________________\n",
      "concatenate_5 (Concatenate)     (None, 4096)         0           global_max_pooling2d_4[0][0]     \n",
      "                                                                 global_average_pooling2d_4[0][0] \n",
      "__________________________________________________________________________________________________\n",
      "multiply_5 (Multiply)           (None, 4096)         0           concatenate_4[0][0]              \n",
      "                                                                 concatenate_4[0][0]              \n",
      "__________________________________________________________________________________________________\n",
      "multiply_6 (Multiply)           (None, 4096)         0           concatenate_5[0][0]              \n",
      "                                                                 concatenate_5[0][0]              \n",
      "__________________________________________________________________________________________________\n",
      "subtract_3 (Subtract)           (None, 4096)         0           concatenate_4[0][0]              \n",
      "                                                                 concatenate_5[0][0]              \n",
      "__________________________________________________________________________________________________\n",
      "lambda_2 (Lambda)               (None, 1)            0           concatenate_4[0][0]              \n",
      "                                                                 concatenate_5[0][0]              \n",
      "__________________________________________________________________________________________________\n",
      "subtract_4 (Subtract)           (None, 4096)         0           multiply_5[0][0]                 \n",
      "                                                                 multiply_6[0][0]                 \n",
      "__________________________________________________________________________________________________\n",
      "multiply_4 (Multiply)           (None, 4096)         0           subtract_3[0][0]                 \n",
      "                                                                 subtract_3[0][0]                 \n",
      "__________________________________________________________________________________________________\n",
      "concatenate_6 (Concatenate)     (None, 8193)         0           lambda_2[0][0]                   \n",
      "                                                                 subtract_4[0][0]                 \n",
      "                                                                 multiply_4[0][0]                 \n",
      "__________________________________________________________________________________________________\n",
      "dense_3 (Dense)                 (None, 100)          819400      concatenate_6[0][0]              \n",
      "__________________________________________________________________________________________________\n",
      "dropout_2 (Dropout)             (None, 100)          0           dense_3[0][0]                    \n",
      "__________________________________________________________________________________________________\n",
      "dense_4 (Dense)                 (None, 1)            101         dropout_2[0][0]                  \n",
      "==================================================================================================\n",
      "Total params: 24,380,653\n",
      "Trainable params: 24,327,533\n",
      "Non-trainable params: 53,120\n",
      "__________________________________________________________________________________________________\n"
     ]
    }
   ],
   "source": [
    "file_path = \"drive/My Drive/Face_recognition/vgg_face_cosine2.h5\"\n",
    "\n",
    "checkpoint = ModelCheckpoint(file_path, monitor='val_auroc', verbose=1, save_best_only=True, mode='max')\n",
    "\n",
    "reduce_on_plateau = ReduceLROnPlateau(monitor=\"val_auroc\", mode=\"max\", factor=0.1, patience=5, verbose=1)\n",
    "\n",
    "callbacks_list = [checkpoint, reduce_on_plateau]\n",
    "\n",
    "model2 = cosine_model2()\n"
   ]
  },
  {
   "cell_type": "code",
   "execution_count": null,
   "metadata": {
    "colab": {
     "base_uri": "https://localhost:8080/",
     "height": 1000
    },
    "colab_type": "code",
    "id": "YdHUMlcb7VjS",
    "outputId": "800584c9-0096-4ca0-ea35-71788acca86b"
   },
   "outputs": [
    {
     "name": "stderr",
     "output_type": "stream",
     "text": [
      "/usr/local/lib/python3.6/dist-packages/keras/engine/training_generator.py:47: UserWarning: Using a generator with `use_multiprocessing=True` and multiple workers may duplicate your data. Please consider using the`keras.utils.Sequence class.\n",
      "  UserWarning('Using a generator with `use_multiprocessing=True`'\n"
     ]
    },
    {
     "name": "stdout",
     "output_type": "stream",
     "text": [
      "Epoch 1/100\n",
      "100/100 [==============================] - 74s 744ms/step - loss: 4.1887 - acc: 0.5363 - auroc: 0.5628 - val_loss: 4.1303 - val_acc: 0.5719 - val_auroc: 0.5984\n",
      "\n",
      "Epoch 00001: val_auroc improved from -inf to 0.59844, saving model to drive/My Drive/Face_recognition/vgg_face_cosine2.h5\n",
      "Epoch 2/100\n",
      "100/100 [==============================] - 53s 530ms/step - loss: 2.9020 - acc: 0.5981 - auroc: 0.6362 - val_loss: 2.9841 - val_acc: 0.6162 - val_auroc: 0.6570\n",
      "\n",
      "Epoch 00002: val_auroc improved from 0.59844 to 0.65695, saving model to drive/My Drive/Face_recognition/vgg_face_cosine2.h5\n",
      "Epoch 3/100\n",
      "100/100 [==============================] - 53s 528ms/step - loss: 2.1237 - acc: 0.6038 - auroc: 0.6441 - val_loss: 2.3747 - val_acc: 0.5837 - val_auroc: 0.6227\n",
      "\n",
      "Epoch 00003: val_auroc did not improve from 0.65695\n",
      "Epoch 4/100\n",
      "100/100 [==============================] - 53s 525ms/step - loss: 1.5186 - acc: 0.6106 - auroc: 0.6531 - val_loss: 1.8971 - val_acc: 0.5731 - val_auroc: 0.5910\n",
      "\n",
      "Epoch 00004: val_auroc did not improve from 0.65695\n",
      "Epoch 5/100\n",
      "100/100 [==============================] - 52s 525ms/step - loss: 1.1004 - acc: 0.6106 - auroc: 0.6633 - val_loss: 1.2777 - val_acc: 0.6200 - val_auroc: 0.6670\n",
      "\n",
      "Epoch 00005: val_auroc improved from 0.65695 to 0.66695, saving model to drive/My Drive/Face_recognition/vgg_face_cosine2.h5\n",
      "Epoch 6/100\n",
      "100/100 [==============================] - 53s 526ms/step - loss: 0.9189 - acc: 0.6281 - auroc: 0.6831 - val_loss: 1.1927 - val_acc: 0.6306 - val_auroc: 0.6572\n",
      "\n",
      "Epoch 00006: val_auroc did not improve from 0.66695\n",
      "Epoch 7/100\n",
      "100/100 [==============================] - 52s 522ms/step - loss: 0.7722 - acc: 0.6388 - auroc: 0.7020 - val_loss: 1.0478 - val_acc: 0.6438 - val_auroc: 0.6720\n",
      "\n",
      "Epoch 00007: val_auroc improved from 0.66695 to 0.67203, saving model to drive/My Drive/Face_recognition/vgg_face_cosine2.h5\n",
      "Epoch 8/100\n",
      "100/100 [==============================] - 53s 525ms/step - loss: 0.7316 - acc: 0.6562 - auroc: 0.7016 - val_loss: 0.9022 - val_acc: 0.6388 - val_auroc: 0.6750\n",
      "\n",
      "Epoch 00008: val_auroc improved from 0.67203 to 0.67500, saving model to drive/My Drive/Face_recognition/vgg_face_cosine2.h5\n",
      "Epoch 9/100\n",
      "100/100 [==============================] - 52s 524ms/step - loss: 0.6975 - acc: 0.6531 - auroc: 0.7011 - val_loss: 0.7782 - val_acc: 0.6675 - val_auroc: 0.7098\n",
      "\n",
      "Epoch 00009: val_auroc improved from 0.67500 to 0.70984, saving model to drive/My Drive/Face_recognition/vgg_face_cosine2.h5\n",
      "Epoch 10/100\n",
      "100/100 [==============================] - 53s 525ms/step - loss: 0.6261 - acc: 0.6750 - auroc: 0.7456 - val_loss: 0.7947 - val_acc: 0.6681 - val_auroc: 0.7196\n",
      "\n",
      "Epoch 00010: val_auroc improved from 0.70984 to 0.71961, saving model to drive/My Drive/Face_recognition/vgg_face_cosine2.h5\n",
      "Epoch 11/100\n",
      "100/100 [==============================] - 53s 526ms/step - loss: 0.6075 - acc: 0.6813 - auroc: 0.7466 - val_loss: 0.8400 - val_acc: 0.6900 - val_auroc: 0.7268\n",
      "\n",
      "Epoch 00011: val_auroc improved from 0.71961 to 0.72680, saving model to drive/My Drive/Face_recognition/vgg_face_cosine2.h5\n",
      "Epoch 12/100\n",
      "100/100 [==============================] - 52s 524ms/step - loss: 0.6247 - acc: 0.6675 - auroc: 0.7281 - val_loss: 0.7698 - val_acc: 0.6863 - val_auroc: 0.7419\n",
      "\n",
      "Epoch 00012: val_auroc improved from 0.72680 to 0.74187, saving model to drive/My Drive/Face_recognition/vgg_face_cosine2.h5\n",
      "Epoch 13/100\n",
      "100/100 [==============================] - 52s 524ms/step - loss: 0.5928 - acc: 0.7137 - auroc: 0.7636 - val_loss: 0.7669 - val_acc: 0.6800 - val_auroc: 0.7243\n",
      "\n",
      "Epoch 00013: val_auroc did not improve from 0.74187\n",
      "Epoch 14/100\n",
      "100/100 [==============================] - 52s 524ms/step - loss: 0.5613 - acc: 0.7125 - auroc: 0.7778 - val_loss: 0.7732 - val_acc: 0.6969 - val_auroc: 0.7519\n",
      "\n",
      "Epoch 00014: val_auroc improved from 0.74187 to 0.75187, saving model to drive/My Drive/Face_recognition/vgg_face_cosine2.h5\n",
      "Epoch 15/100\n",
      "100/100 [==============================] - 53s 525ms/step - loss: 0.5383 - acc: 0.7144 - auroc: 0.7930 - val_loss: 0.6681 - val_acc: 0.7119 - val_auroc: 0.7577\n",
      "\n",
      "Epoch 00015: val_auroc improved from 0.75187 to 0.75766, saving model to drive/My Drive/Face_recognition/vgg_face_cosine2.h5\n",
      "Epoch 16/100\n",
      "100/100 [==============================] - 52s 525ms/step - loss: 0.5552 - acc: 0.7181 - auroc: 0.7881 - val_loss: 0.8071 - val_acc: 0.7069 - val_auroc: 0.7437\n",
      "\n",
      "Epoch 00016: val_auroc did not improve from 0.75766\n",
      "Epoch 17/100\n",
      "100/100 [==============================] - 52s 523ms/step - loss: 0.5575 - acc: 0.7119 - auroc: 0.7823 - val_loss: 0.6719 - val_acc: 0.7069 - val_auroc: 0.7645\n",
      "\n",
      "Epoch 00017: val_auroc improved from 0.75766 to 0.76453, saving model to drive/My Drive/Face_recognition/vgg_face_cosine2.h5\n",
      "Epoch 18/100\n",
      "100/100 [==============================] - 53s 526ms/step - loss: 0.5262 - acc: 0.7250 - auroc: 0.8031 - val_loss: 0.6081 - val_acc: 0.7338 - val_auroc: 0.8023\n",
      "\n",
      "Epoch 00018: val_auroc improved from 0.76453 to 0.80234, saving model to drive/My Drive/Face_recognition/vgg_face_cosine2.h5\n",
      "Epoch 19/100\n",
      "100/100 [==============================] - 52s 524ms/step - loss: 0.5059 - acc: 0.7438 - auroc: 0.8238 - val_loss: 0.5877 - val_acc: 0.7350 - val_auroc: 0.7981\n",
      "\n",
      "Epoch 00019: val_auroc did not improve from 0.80234\n",
      "Epoch 20/100\n",
      "100/100 [==============================] - 52s 524ms/step - loss: 0.5110 - acc: 0.7313 - auroc: 0.8136 - val_loss: 0.7667 - val_acc: 0.7206 - val_auroc: 0.7764\n",
      "\n",
      "Epoch 00020: val_auroc did not improve from 0.80234\n",
      "Epoch 21/100\n",
      "100/100 [==============================] - 52s 523ms/step - loss: 0.5163 - acc: 0.7381 - auroc: 0.8123 - val_loss: 0.6657 - val_acc: 0.7231 - val_auroc: 0.7797\n",
      "\n",
      "Epoch 00021: val_auroc did not improve from 0.80234\n",
      "Epoch 22/100\n",
      "100/100 [==============================] - 53s 526ms/step - loss: 0.5262 - acc: 0.7356 - auroc: 0.8056 - val_loss: 0.6320 - val_acc: 0.7375 - val_auroc: 0.7863\n",
      "\n",
      "Epoch 00022: val_auroc did not improve from 0.80234\n",
      "Epoch 23/100\n",
      "100/100 [==============================] - 52s 525ms/step - loss: 0.5041 - acc: 0.7438 - auroc: 0.8256 - val_loss: 0.6443 - val_acc: 0.7412 - val_auroc: 0.7948\n",
      "\n",
      "Epoch 00023: val_auroc did not improve from 0.80234\n",
      "\n",
      "Epoch 00023: ReduceLROnPlateau reducing learning rate to 9.999999747378752e-07.\n",
      "Epoch 24/100\n",
      "100/100 [==============================] - 52s 524ms/step - loss: 0.5239 - acc: 0.7338 - auroc: 0.8103 - val_loss: 0.5888 - val_acc: 0.7519 - val_auroc: 0.8113\n",
      "\n",
      "Epoch 00024: val_auroc improved from 0.80234 to 0.81125, saving model to drive/My Drive/Face_recognition/vgg_face_cosine2.h5\n",
      "Epoch 25/100\n",
      "100/100 [==============================] - 53s 526ms/step - loss: 0.4865 - acc: 0.7562 - auroc: 0.8397 - val_loss: 0.5690 - val_acc: 0.7375 - val_auroc: 0.8006\n",
      "\n",
      "Epoch 00025: val_auroc did not improve from 0.81125\n",
      "Epoch 26/100\n",
      "100/100 [==============================] - 52s 524ms/step - loss: 0.4932 - acc: 0.7525 - auroc: 0.8356 - val_loss: 0.5807 - val_acc: 0.7219 - val_auroc: 0.7850\n",
      "\n",
      "Epoch 00026: val_auroc did not improve from 0.81125\n",
      "Epoch 27/100\n",
      "100/100 [==============================] - 52s 525ms/step - loss: 0.5044 - acc: 0.7537 - auroc: 0.8291 - val_loss: 0.5853 - val_acc: 0.7344 - val_auroc: 0.7981\n",
      "\n",
      "Epoch 00027: val_auroc did not improve from 0.81125\n",
      "Epoch 28/100\n",
      "100/100 [==============================] - 53s 525ms/step - loss: 0.4912 - acc: 0.7488 - auroc: 0.8319 - val_loss: 0.5588 - val_acc: 0.7288 - val_auroc: 0.8034\n",
      "\n",
      "Epoch 00028: val_auroc did not improve from 0.81125\n",
      "Epoch 29/100\n",
      "100/100 [==============================] - 53s 525ms/step - loss: 0.4878 - acc: 0.7694 - auroc: 0.8337 - val_loss: 0.5846 - val_acc: 0.7556 - val_auroc: 0.8134\n",
      "\n",
      "Epoch 00029: val_auroc improved from 0.81125 to 0.81344, saving model to drive/My Drive/Face_recognition/vgg_face_cosine2.h5\n",
      "Epoch 30/100\n",
      "100/100 [==============================] - 53s 526ms/step - loss: 0.4927 - acc: 0.7594 - auroc: 0.8291 - val_loss: 0.5804 - val_acc: 0.7475 - val_auroc: 0.7992\n",
      "\n",
      "Epoch 00030: val_auroc did not improve from 0.81344\n",
      "Epoch 31/100\n",
      "100/100 [==============================] - 53s 525ms/step - loss: 0.4683 - acc: 0.7662 - auroc: 0.8530 - val_loss: 0.5566 - val_acc: 0.7462 - val_auroc: 0.8039\n",
      "\n",
      "Epoch 00031: val_auroc did not improve from 0.81344\n",
      "Epoch 32/100\n",
      "100/100 [==============================] - 52s 524ms/step - loss: 0.5185 - acc: 0.7313 - auroc: 0.8131 - val_loss: 0.5889 - val_acc: 0.7481 - val_auroc: 0.8148\n",
      "\n",
      "Epoch 00032: val_auroc improved from 0.81344 to 0.81484, saving model to drive/My Drive/Face_recognition/vgg_face_cosine2.h5\n",
      "Epoch 33/100\n",
      "100/100 [==============================] - 53s 525ms/step - loss: 0.4837 - acc: 0.7638 - auroc: 0.8409 - val_loss: 0.5893 - val_acc: 0.7419 - val_auroc: 0.8037\n",
      "\n",
      "Epoch 00033: val_auroc did not improve from 0.81484\n",
      "Epoch 34/100\n",
      "100/100 [==============================] - 52s 524ms/step - loss: 0.4804 - acc: 0.7544 - auroc: 0.8353 - val_loss: 0.5907 - val_acc: 0.7569 - val_auroc: 0.8187\n",
      "\n",
      "Epoch 00034: val_auroc improved from 0.81484 to 0.81875, saving model to drive/My Drive/Face_recognition/vgg_face_cosine2.h5\n",
      "Epoch 35/100\n",
      "100/100 [==============================] - 52s 525ms/step - loss: 0.4941 - acc: 0.7506 - auroc: 0.8286 - val_loss: 0.5282 - val_acc: 0.7544 - val_auroc: 0.8256\n",
      "\n",
      "Epoch 00035: val_auroc improved from 0.81875 to 0.82563, saving model to drive/My Drive/Face_recognition/vgg_face_cosine2.h5\n",
      "Epoch 36/100\n",
      "100/100 [==============================] - 52s 523ms/step - loss: 0.4746 - acc: 0.7687 - auroc: 0.8486 - val_loss: 0.5397 - val_acc: 0.7712 - val_auroc: 0.8278\n",
      "\n",
      "Epoch 00036: val_auroc improved from 0.82563 to 0.82781, saving model to drive/My Drive/Face_recognition/vgg_face_cosine2.h5\n",
      "Epoch 37/100\n",
      "100/100 [==============================] - 52s 525ms/step - loss: 0.4551 - acc: 0.7825 - auroc: 0.8603 - val_loss: 0.5595 - val_acc: 0.7481 - val_auroc: 0.8144\n",
      "\n",
      "Epoch 00037: val_auroc did not improve from 0.82781\n",
      "Epoch 38/100\n",
      "100/100 [==============================] - 52s 522ms/step - loss: 0.4835 - acc: 0.7600 - auroc: 0.8341 - val_loss: 0.6128 - val_acc: 0.7400 - val_auroc: 0.7948\n",
      "\n",
      "Epoch 00038: val_auroc did not improve from 0.82781\n",
      "Epoch 39/100\n",
      "100/100 [==============================] - 52s 521ms/step - loss: 0.4972 - acc: 0.7613 - auroc: 0.8333 - val_loss: 0.5603 - val_acc: 0.7512 - val_auroc: 0.8223\n",
      "\n",
      "Epoch 00039: val_auroc did not improve from 0.82781\n",
      "Epoch 40/100\n",
      "100/100 [==============================] - 52s 521ms/step - loss: 0.4665 - acc: 0.7831 - auroc: 0.8488 - val_loss: 0.6019 - val_acc: 0.7306 - val_auroc: 0.8095\n",
      "\n",
      "Epoch 00040: val_auroc did not improve from 0.82781\n",
      "Epoch 41/100\n",
      "100/100 [==============================] - 52s 522ms/step - loss: 0.4695 - acc: 0.7831 - auroc: 0.8467 - val_loss: 0.5723 - val_acc: 0.7431 - val_auroc: 0.8161\n",
      "\n",
      "Epoch 00041: val_auroc did not improve from 0.82781\n",
      "\n",
      "Epoch 00041: ReduceLROnPlateau reducing learning rate to 9.999999974752428e-08.\n",
      "Epoch 42/100\n",
      "100/100 [==============================] - 52s 523ms/step - loss: 0.4640 - acc: 0.7738 - auroc: 0.8516 - val_loss: 0.5884 - val_acc: 0.7438 - val_auroc: 0.8025\n",
      "\n",
      "Epoch 00042: val_auroc did not improve from 0.82781\n",
      "Epoch 43/100\n",
      "100/100 [==============================] - 52s 524ms/step - loss: 0.4722 - acc: 0.7700 - auroc: 0.8456 - val_loss: 0.5957 - val_acc: 0.7512 - val_auroc: 0.8033\n",
      "\n",
      "Epoch 00043: val_auroc did not improve from 0.82781\n",
      "Epoch 44/100\n",
      "100/100 [==============================] - 52s 521ms/step - loss: 0.4785 - acc: 0.7687 - auroc: 0.8370 - val_loss: 0.5481 - val_acc: 0.7381 - val_auroc: 0.8045\n",
      "\n",
      "Epoch 00044: val_auroc did not improve from 0.82781\n",
      "Epoch 45/100\n",
      "100/100 [==============================] - 52s 523ms/step - loss: 0.4636 - acc: 0.7800 - auroc: 0.8563 - val_loss: 0.5508 - val_acc: 0.7631 - val_auroc: 0.8315\n",
      "\n",
      "Epoch 00045: val_auroc improved from 0.82781 to 0.83148, saving model to drive/My Drive/Face_recognition/vgg_face_cosine2.h5\n",
      "Epoch 46/100\n",
      "100/100 [==============================] - 52s 524ms/step - loss: 0.4658 - acc: 0.7625 - auroc: 0.8473 - val_loss: 0.5364 - val_acc: 0.7494 - val_auroc: 0.8144\n",
      "\n",
      "Epoch 00046: val_auroc did not improve from 0.83148\n",
      "Epoch 47/100\n",
      "100/100 [==============================] - 52s 522ms/step - loss: 0.4715 - acc: 0.7800 - auroc: 0.8544 - val_loss: 0.6041 - val_acc: 0.7425 - val_auroc: 0.8105\n",
      "\n",
      "Epoch 00047: val_auroc did not improve from 0.83148\n",
      "Epoch 48/100\n",
      "100/100 [==============================] - 52s 523ms/step - loss: 0.4755 - acc: 0.7706 - auroc: 0.8470 - val_loss: 0.6028 - val_acc: 0.7569 - val_auroc: 0.8173\n",
      "\n",
      "Epoch 00048: val_auroc did not improve from 0.83148\n",
      "Epoch 49/100\n",
      "100/100 [==============================] - 52s 522ms/step - loss: 0.4703 - acc: 0.7775 - auroc: 0.8489 - val_loss: 0.5402 - val_acc: 0.7481 - val_auroc: 0.8119\n",
      "\n",
      "Epoch 00049: val_auroc did not improve from 0.83148\n",
      "Epoch 50/100\n",
      "100/100 [==============================] - 52s 523ms/step - loss: 0.4624 - acc: 0.7738 - auroc: 0.8544 - val_loss: 0.5875 - val_acc: 0.7419 - val_auroc: 0.8050\n",
      "\n",
      "Epoch 00050: val_auroc did not improve from 0.83148\n",
      "\n",
      "Epoch 00050: ReduceLROnPlateau reducing learning rate to 1.0000000116860975e-08.\n",
      "Epoch 51/100\n",
      "100/100 [==============================] - 52s 523ms/step - loss: 0.4612 - acc: 0.7825 - auroc: 0.8552 - val_loss: 0.5517 - val_acc: 0.7612 - val_auroc: 0.8284\n",
      "\n",
      "Epoch 00051: val_auroc did not improve from 0.83148\n",
      "Epoch 52/100\n",
      "100/100 [==============================] - 52s 521ms/step - loss: 0.4755 - acc: 0.7613 - auroc: 0.8406 - val_loss: 0.5563 - val_acc: 0.7606 - val_auroc: 0.8281\n",
      "\n",
      "Epoch 00052: val_auroc did not improve from 0.83148\n",
      "Epoch 53/100\n",
      "100/100 [==============================] - 52s 523ms/step - loss: 0.4672 - acc: 0.7687 - auroc: 0.8514 - val_loss: 0.6168 - val_acc: 0.7612 - val_auroc: 0.8259\n",
      "\n",
      "Epoch 00053: val_auroc did not improve from 0.83148\n",
      "Epoch 54/100\n",
      "100/100 [==============================] - 52s 523ms/step - loss: 0.4840 - acc: 0.7544 - auroc: 0.8419 - val_loss: 0.6068 - val_acc: 0.7412 - val_auroc: 0.8070\n",
      "\n",
      "Epoch 00054: val_auroc did not improve from 0.83148\n",
      "Epoch 55/100\n",
      "100/100 [==============================] - 52s 522ms/step - loss: 0.4460 - acc: 0.7975 - auroc: 0.8673 - val_loss: 0.5806 - val_acc: 0.7469 - val_auroc: 0.8036\n",
      "\n",
      "Epoch 00055: val_auroc did not improve from 0.83148\n",
      "\n",
      "Epoch 00055: ReduceLROnPlateau reducing learning rate to 9.999999939225292e-10.\n",
      "Epoch 56/100\n",
      "100/100 [==============================] - 52s 522ms/step - loss: 0.4740 - acc: 0.7562 - auroc: 0.8409 - val_loss: 0.6157 - val_acc: 0.7600 - val_auroc: 0.8083\n",
      "\n",
      "Epoch 00056: val_auroc did not improve from 0.83148\n",
      "Epoch 57/100\n",
      "100/100 [==============================] - 52s 521ms/step - loss: 0.4707 - acc: 0.7662 - auroc: 0.8472 - val_loss: 0.5683 - val_acc: 0.7650 - val_auroc: 0.8156\n",
      "\n",
      "Epoch 00057: val_auroc did not improve from 0.83148\n",
      "Epoch 58/100\n",
      "100/100 [==============================] - 52s 521ms/step - loss: 0.4799 - acc: 0.7644 - auroc: 0.8361 - val_loss: 0.6448 - val_acc: 0.7412 - val_auroc: 0.7936\n",
      "\n",
      "Epoch 00058: val_auroc did not improve from 0.83148\n",
      "Epoch 59/100\n",
      "100/100 [==============================] - 52s 522ms/step - loss: 0.4823 - acc: 0.7731 - auroc: 0.8409 - val_loss: 0.5879 - val_acc: 0.7681 - val_auroc: 0.8177\n",
      "\n",
      "Epoch 00059: val_auroc did not improve from 0.83148\n",
      "Epoch 60/100\n",
      "100/100 [==============================] - 52s 521ms/step - loss: 0.4775 - acc: 0.7719 - auroc: 0.8461 - val_loss: 0.6125 - val_acc: 0.7406 - val_auroc: 0.8011\n",
      "\n",
      "Epoch 00060: val_auroc did not improve from 0.83148\n",
      "\n",
      "Epoch 00060: ReduceLROnPlateau reducing learning rate to 9.999999717180686e-11.\n",
      "Epoch 61/100\n",
      "100/100 [==============================] - 52s 521ms/step - loss: 0.4601 - acc: 0.7831 - auroc: 0.8600 - val_loss: 0.5540 - val_acc: 0.7450 - val_auroc: 0.8152\n",
      "\n",
      "Epoch 00061: val_auroc did not improve from 0.83148\n",
      "Epoch 62/100\n",
      "100/100 [==============================] - 52s 521ms/step - loss: 0.4660 - acc: 0.7588 - auroc: 0.8519 - val_loss: 0.5615 - val_acc: 0.7531 - val_auroc: 0.8225\n",
      "\n",
      "Epoch 00062: val_auroc did not improve from 0.83148\n",
      "Epoch 63/100\n",
      "100/100 [==============================] - 52s 523ms/step - loss: 0.4812 - acc: 0.7681 - auroc: 0.8363 - val_loss: 0.5282 - val_acc: 0.7575 - val_auroc: 0.8271\n",
      "\n",
      "Epoch 00063: val_auroc did not improve from 0.83148\n",
      "Epoch 64/100\n",
      "100/100 [==============================] - 52s 522ms/step - loss: 0.4818 - acc: 0.7681 - auroc: 0.8327 - val_loss: 0.5750 - val_acc: 0.7594 - val_auroc: 0.8033\n",
      "\n",
      "Epoch 00064: val_auroc did not improve from 0.83148\n",
      "Epoch 65/100\n",
      "100/100 [==============================] - 52s 521ms/step - loss: 0.4713 - acc: 0.7562 - auroc: 0.8420 - val_loss: 0.5669 - val_acc: 0.7462 - val_auroc: 0.8153\n",
      "\n",
      "Epoch 00065: val_auroc did not improve from 0.83148\n",
      "\n",
      "Epoch 00065: ReduceLROnPlateau reducing learning rate to 9.99999943962493e-12.\n",
      "Epoch 66/100\n",
      "100/100 [==============================] - 52s 523ms/step - loss: 0.4508 - acc: 0.7863 - auroc: 0.8634 - val_loss: 0.5896 - val_acc: 0.7575 - val_auroc: 0.8194\n",
      "\n",
      "Epoch 00066: val_auroc did not improve from 0.83148\n",
      "Epoch 67/100\n",
      "100/100 [==============================] - 52s 522ms/step - loss: 0.4614 - acc: 0.7906 - auroc: 0.8558 - val_loss: 0.5333 - val_acc: 0.7700 - val_auroc: 0.8439\n",
      "\n",
      "Epoch 00067: val_auroc improved from 0.83148 to 0.84391, saving model to drive/My Drive/Face_recognition/vgg_face_cosine2.h5\n",
      "Epoch 68/100\n",
      "100/100 [==============================] - 52s 522ms/step - loss: 0.4529 - acc: 0.7738 - auroc: 0.8644 - val_loss: 0.6006 - val_acc: 0.7375 - val_auroc: 0.7983\n",
      "\n",
      "Epoch 00068: val_auroc did not improve from 0.84391\n",
      "Epoch 69/100\n",
      "100/100 [==============================] - 52s 520ms/step - loss: 0.4806 - acc: 0.7662 - auroc: 0.8431 - val_loss: 0.5687 - val_acc: 0.7750 - val_auroc: 0.8102\n",
      "\n",
      "Epoch 00069: val_auroc did not improve from 0.84391\n",
      "Epoch 70/100\n",
      "100/100 [==============================] - 52s 521ms/step - loss: 0.4757 - acc: 0.7750 - auroc: 0.8450 - val_loss: 0.6301 - val_acc: 0.7294 - val_auroc: 0.7917\n",
      "\n",
      "Epoch 00070: val_auroc did not improve from 0.84391\n",
      "Epoch 71/100\n",
      "100/100 [==============================] - 52s 521ms/step - loss: 0.4798 - acc: 0.7750 - auroc: 0.8478 - val_loss: 0.5492 - val_acc: 0.7650 - val_auroc: 0.8234\n",
      "\n",
      "Epoch 00071: val_auroc did not improve from 0.84391\n",
      "Epoch 72/100\n",
      "100/100 [==============================] - 52s 522ms/step - loss: 0.4621 - acc: 0.7825 - auroc: 0.8525 - val_loss: 0.5530 - val_acc: 0.7594 - val_auroc: 0.8163\n",
      "\n",
      "Epoch 00072: val_auroc did not improve from 0.84391\n",
      "\n",
      "Epoch 00072: ReduceLROnPlateau reducing learning rate to 9.999999092680235e-13.\n",
      "Epoch 73/100\n",
      "100/100 [==============================] - 52s 521ms/step - loss: 0.4815 - acc: 0.7525 - auroc: 0.8394 - val_loss: 0.5861 - val_acc: 0.7556 - val_auroc: 0.8155\n",
      "\n",
      "Epoch 00073: val_auroc did not improve from 0.84391\n",
      "Epoch 74/100\n",
      "100/100 [==============================] - 52s 522ms/step - loss: 0.4578 - acc: 0.7756 - auroc: 0.8545 - val_loss: 0.5514 - val_acc: 0.7619 - val_auroc: 0.8225\n",
      "\n",
      "Epoch 00074: val_auroc did not improve from 0.84391\n",
      "Epoch 75/100\n",
      "100/100 [==============================] - 52s 521ms/step - loss: 0.4738 - acc: 0.7756 - auroc: 0.8433 - val_loss: 0.5101 - val_acc: 0.7675 - val_auroc: 0.8391\n",
      "\n",
      "Epoch 00075: val_auroc did not improve from 0.84391\n",
      "Epoch 76/100\n",
      "100/100 [==============================] - 52s 520ms/step - loss: 0.4448 - acc: 0.7906 - auroc: 0.8662 - val_loss: 0.5849 - val_acc: 0.7531 - val_auroc: 0.8141\n",
      "\n",
      "Epoch 00076: val_auroc did not improve from 0.84391\n",
      "Epoch 77/100\n",
      "100/100 [==============================] - 52s 522ms/step - loss: 0.4695 - acc: 0.7756 - auroc: 0.8539 - val_loss: 0.5539 - val_acc: 0.7462 - val_auroc: 0.8142\n",
      "\n",
      "Epoch 00077: val_auroc did not improve from 0.84391\n",
      "\n",
      "Epoch 00077: ReduceLROnPlateau reducing learning rate to 9.9999988758398e-14.\n",
      "Epoch 78/100\n",
      "100/100 [==============================] - 52s 520ms/step - loss: 0.4790 - acc: 0.7613 - auroc: 0.8375 - val_loss: 0.6746 - val_acc: 0.7381 - val_auroc: 0.7785\n",
      "\n",
      "Epoch 00078: val_auroc did not improve from 0.84391\n",
      "Epoch 79/100\n",
      "100/100 [==============================] - 52s 522ms/step - loss: 0.4998 - acc: 0.7475 - auroc: 0.8269 - val_loss: 0.5996 - val_acc: 0.7462 - val_auroc: 0.8111\n",
      "\n",
      "Epoch 00079: val_auroc did not improve from 0.84391\n",
      "Epoch 80/100\n",
      "100/100 [==============================] - 52s 523ms/step - loss: 0.4974 - acc: 0.7456 - auroc: 0.8289 - val_loss: 0.6001 - val_acc: 0.7600 - val_auroc: 0.8073\n",
      "\n",
      "Epoch 00080: val_auroc did not improve from 0.84391\n",
      "Epoch 81/100\n",
      "100/100 [==============================] - 52s 521ms/step - loss: 0.4621 - acc: 0.7675 - auroc: 0.8548 - val_loss: 0.5348 - val_acc: 0.7750 - val_auroc: 0.8312\n",
      "\n",
      "Epoch 00081: val_auroc did not improve from 0.84391\n",
      "Epoch 82/100\n",
      "100/100 [==============================] - 52s 521ms/step - loss: 0.4777 - acc: 0.7669 - auroc: 0.8481 - val_loss: 0.6064 - val_acc: 0.7569 - val_auroc: 0.8070\n",
      "\n",
      "Epoch 00082: val_auroc did not improve from 0.84391\n",
      "\n",
      "Epoch 00082: ReduceLROnPlateau reducing learning rate to 9.999999146890344e-15.\n",
      "Epoch 83/100\n",
      "100/100 [==============================] - 52s 522ms/step - loss: 0.4614 - acc: 0.7831 - auroc: 0.8533 - val_loss: 0.6006 - val_acc: 0.7469 - val_auroc: 0.8037\n",
      "\n",
      "Epoch 00083: val_auroc did not improve from 0.84391\n",
      "Epoch 84/100\n",
      "100/100 [==============================] - 52s 521ms/step - loss: 0.4562 - acc: 0.7900 - auroc: 0.8563 - val_loss: 0.5664 - val_acc: 0.7494 - val_auroc: 0.8069\n",
      "\n",
      "Epoch 00084: val_auroc did not improve from 0.84391\n",
      "Epoch 85/100\n",
      "100/100 [==============================] - 52s 523ms/step - loss: 0.4862 - acc: 0.7613 - auroc: 0.8337 - val_loss: 0.5651 - val_acc: 0.7669 - val_auroc: 0.8283\n",
      "\n",
      "Epoch 00085: val_auroc did not improve from 0.84391\n",
      "Epoch 86/100\n",
      "100/100 [==============================] - 52s 522ms/step - loss: 0.4552 - acc: 0.7950 - auroc: 0.8609 - val_loss: 0.5394 - val_acc: 0.7625 - val_auroc: 0.8346\n",
      "\n",
      "Epoch 00086: val_auroc did not improve from 0.84391\n",
      "Epoch 87/100\n",
      "100/100 [==============================] - 52s 521ms/step - loss: 0.4674 - acc: 0.7706 - auroc: 0.8481 - val_loss: 0.5746 - val_acc: 0.7375 - val_auroc: 0.8016\n",
      "\n",
      "Epoch 00087: val_auroc did not improve from 0.84391\n",
      "\n",
      "Epoch 00087: ReduceLROnPlateau reducing learning rate to 9.999998977483753e-16.\n",
      "Epoch 88/100\n",
      "100/100 [==============================] - 52s 522ms/step - loss: 0.4632 - acc: 0.7731 - auroc: 0.8491 - val_loss: 0.6042 - val_acc: 0.7306 - val_auroc: 0.7931\n",
      "\n",
      "Epoch 00088: val_auroc did not improve from 0.84391\n",
      "Epoch 89/100\n",
      "100/100 [==============================] - 52s 522ms/step - loss: 0.4706 - acc: 0.7650 - auroc: 0.8409 - val_loss: 0.6055 - val_acc: 0.7462 - val_auroc: 0.8009\n",
      "\n",
      "Epoch 00089: val_auroc did not improve from 0.84391\n",
      "Epoch 90/100\n",
      "100/100 [==============================] - 52s 523ms/step - loss: 0.4833 - acc: 0.7656 - auroc: 0.8373 - val_loss: 0.5956 - val_acc: 0.7512 - val_auroc: 0.8056\n",
      "\n",
      "Epoch 00090: val_auroc did not improve from 0.84391\n",
      "Epoch 91/100\n",
      "100/100 [==============================] - 53s 526ms/step - loss: 0.4760 - acc: 0.7444 - auroc: 0.8344 - val_loss: 0.5473 - val_acc: 0.7475 - val_auroc: 0.8219\n",
      "\n",
      "Epoch 00091: val_auroc did not improve from 0.84391\n",
      "Epoch 92/100\n",
      "100/100 [==============================] - 52s 524ms/step - loss: 0.4700 - acc: 0.7687 - auroc: 0.8405 - val_loss: 0.5808 - val_acc: 0.7431 - val_auroc: 0.8034\n",
      "\n",
      "Epoch 00092: val_auroc did not improve from 0.84391\n",
      "\n",
      "Epoch 00092: ReduceLROnPlateau reducing learning rate to 9.999998977483754e-17.\n",
      "Epoch 93/100\n",
      "100/100 [==============================] - 52s 523ms/step - loss: 0.4592 - acc: 0.7875 - auroc: 0.8570 - val_loss: 0.5682 - val_acc: 0.7500 - val_auroc: 0.8116\n",
      "\n",
      "Epoch 00093: val_auroc did not improve from 0.84391\n",
      "Epoch 94/100\n",
      "100/100 [==============================] - 52s 524ms/step - loss: 0.5013 - acc: 0.7463 - auroc: 0.8216 - val_loss: 0.5723 - val_acc: 0.7519 - val_auroc: 0.8203\n",
      "\n",
      "Epoch 00094: val_auroc did not improve from 0.84391\n",
      "Epoch 95/100\n",
      "100/100 [==============================] - 52s 525ms/step - loss: 0.4737 - acc: 0.7762 - auroc: 0.8453 - val_loss: 0.5848 - val_acc: 0.7625 - val_auroc: 0.8167\n",
      "\n",
      "Epoch 00095: val_auroc did not improve from 0.84391\n",
      "Epoch 96/100\n",
      "100/100 [==============================] - 52s 523ms/step - loss: 0.4862 - acc: 0.7625 - auroc: 0.8341 - val_loss: 0.6308 - val_acc: 0.7469 - val_auroc: 0.7863\n",
      "\n",
      "Epoch 00096: val_auroc did not improve from 0.84391\n",
      "Epoch 97/100\n",
      "100/100 [==============================] - 52s 523ms/step - loss: 0.4784 - acc: 0.7581 - auroc: 0.8395 - val_loss: 0.6145 - val_acc: 0.7225 - val_auroc: 0.8011\n",
      "\n",
      "Epoch 00097: val_auroc did not improve from 0.84391\n",
      "\n",
      "Epoch 00097: ReduceLROnPlateau reducing learning rate to 9.999998845134856e-18.\n",
      "Epoch 98/100\n",
      "100/100 [==============================] - 52s 524ms/step - loss: 0.4691 - acc: 0.7694 - auroc: 0.8472 - val_loss: 0.5939 - val_acc: 0.7606 - val_auroc: 0.8105\n",
      "\n",
      "Epoch 00098: val_auroc did not improve from 0.84391\n",
      "Epoch 99/100\n",
      "100/100 [==============================] - 52s 524ms/step - loss: 0.4918 - acc: 0.7681 - auroc: 0.8416 - val_loss: 0.5698 - val_acc: 0.7675 - val_auroc: 0.8283\n",
      "\n",
      "Epoch 00099: val_auroc did not improve from 0.84391\n",
      "Epoch 100/100\n",
      "100/100 [==============================] - 52s 524ms/step - loss: 0.4686 - acc: 0.7662 - auroc: 0.8456 - val_loss: 0.5841 - val_acc: 0.7594 - val_auroc: 0.8211\n",
      "\n",
      "Epoch 00100: val_auroc did not improve from 0.84391\n"
     ]
    },
    {
     "data": {
      "text/plain": [
       "<keras.callbacks.History at 0x7f44f069a710>"
      ]
     },
     "execution_count": 50,
     "metadata": {
      "tags": []
     },
     "output_type": "execute_result"
    }
   ],
   "source": [
    "model2.fit_generator(gen(train, train_person_to_images_map, batch_size=16), use_multiprocessing=True,\n",
    "                    validation_data=gen(val, val_person_to_images_map, batch_size=16), epochs=100, verbose=1,\n",
    "                    workers = 4, callbacks=callbacks_list, steps_per_epoch=100, validation_steps=100)"
   ]
  },
  {
   "cell_type": "code",
   "execution_count": null,
   "metadata": {
    "colab": {},
    "colab_type": "code",
    "id": "eLfmBna97VdX"
   },
   "outputs": [],
   "source": [
    "model2.load_weights(\"drive/My Drive/Face_recognition/vgg_face_cosine2.h5\")"
   ]
  },
  {
   "cell_type": "code",
   "execution_count": null,
   "metadata": {
    "colab": {},
    "colab_type": "code",
    "id": "X0p8xIOc7VYn"
   },
   "outputs": [],
   "source": [
    "model2.compile(loss=\"binary_crossentropy\", metrics=['acc',auroc], optimizer=Adam(0.00001))"
   ]
  },
  {
   "cell_type": "code",
   "execution_count": null,
   "metadata": {
    "colab": {
     "base_uri": "https://localhost:8080/",
     "height": 34
    },
    "colab_type": "code",
    "id": "vHLhgf7X7VTh",
    "outputId": "cea65d6d-a5fe-4747-8b19-b3b4dcc272d8"
   },
   "outputs": [
    {
     "name": "stderr",
     "output_type": "stream",
     "text": [
      "166it [01:18,  2.28it/s]\n"
     ]
    }
   ],
   "source": [
    "test_path = \"drive/My Drive/Face_recognition/test/\"\n",
    "def chunker(seq, size=32):\n",
    "    return (seq[pos:pos + size] for pos in range(0, len(seq), size))\n",
    "\n",
    "\n",
    "from tqdm import tqdm\n",
    "\n",
    "submission = pd.read_csv('drive/My Drive/Face_recognition/sample_submission.csv')\n",
    "\n",
    "predictions = []\n",
    "\n",
    "for batch in tqdm(chunker(submission.img_pair.values)):\n",
    "    X1 = [x.split(\"-\")[0] for x in batch]\n",
    "    X1 = np.array([read_img(test_path + x) for x in X1])\n",
    "\n",
    "    X2 = [x.split(\"-\")[1] for x in batch]\n",
    "    X2 = np.array([read_img(test_path + x) for x in X2])\n",
    "\n",
    "    pred = model.predict([X1, X2]).ravel().tolist()\n",
    "    predictions += pred\n",
    "\n",
    "submission['is_related'] = predictions\n",
    "\n",
    "submission.to_csv(\"drive/My Drive/Face_recognition/cosine_submission2.csv\", index=False)"
   ]
  },
  {
   "cell_type": "markdown",
   "metadata": {
    "colab_type": "text",
    "id": "6TVmOoEHZ3J7"
   },
   "source": [
    "### test score : 0.858"
   ]
  },
  {
   "cell_type": "code",
   "execution_count": null,
   "metadata": {
    "colab": {},
    "colab_type": "code",
    "id": "-fC4abwLZ8Cy"
   },
   "outputs": [],
   "source": []
  },
  {
   "cell_type": "markdown",
   "metadata": {
    "colab_type": "text",
    "id": "1u3F-UVIbHJQ"
   },
   "source": [
    "### 5. Experimenting with focal loss and Global Max Pool layer"
   ]
  },
  {
   "cell_type": "markdown",
   "metadata": {
    "colab_type": "text",
    "id": "e2p_ywdGgoFm"
   },
   "source": [
    "### https://www.kaggle.com/tenffe/vggface-cv-focal-loss"
   ]
  },
  {
   "cell_type": "code",
   "execution_count": null,
   "metadata": {
    "colab": {},
    "colab_type": "code",
    "id": "SIe3IzCzeuW7"
   },
   "outputs": [],
   "source": [
    "\n",
    "def focal_loss(gamma=2., alpha=.25):\n",
    "    def focal_loss_fixed(y_true, y_pred):\n",
    "        pt_1 = tf.where(tf.equal(y_true, 1), y_pred, tf.ones_like(y_pred))\n",
    "        pt_0 = tf.where(tf.equal(y_true, 0), y_pred, tf.zeros_like(y_pred))\n",
    "        return -K.sum(alpha * K.pow(1. - pt_1, gamma) * K.log(K.epsilon()+pt_1))-K.sum((1-alpha) * K.pow( pt_0, gamma) * K.log(1. - pt_0 + K.epsilon()))\n",
    "    return focal_loss_fixed"
   ]
  },
  {
   "cell_type": "code",
   "execution_count": null,
   "metadata": {
    "colab": {},
    "colab_type": "code",
    "id": "MNX1SUyphI7S"
   },
   "outputs": [],
   "source": [
    "def cosine_focal_model():\n",
    "    #change 2\n",
    "    input_1 = Input(shape=(197, 197, 3))\n",
    "    input_2 = Input(shape=(197, 197, 3))\n",
    "\n",
    "    base_model = VGGFace(model='resnet50', include_top=False)\n",
    "\n",
    "    for x in base_model.layers[:-3]:\n",
    "        x.trainable = True\n",
    "\n",
    "    x1 = base_model(input_1)\n",
    "    x2 = base_model(input_2)\n",
    "\n",
    "    x1 = Concatenate(axis=-1)([GlobalMaxPool2D()(x1), GlobalAvgPool2D()(x1)])\n",
    "    x2 = Concatenate(axis=-1)([GlobalMaxPool2D()(x2), GlobalAvgPool2D()(x2)])\n",
    "\n",
    "    x3 = Subtract()([x1, x2])\n",
    "    x3 = Multiply()([x3, x3])\n",
    "\n",
    "    x1_ = Multiply()([x1, x1])\n",
    "    x2_ = Multiply()([x2, x2])\n",
    "    x4 = Subtract()([x1_, x2_])\n",
    "    \n",
    "    #https://stackoverflow.com/a/51003359/10650182\n",
    "    x5 = Lambda(cosine_distance, output_shape=cos_dist_output_shape)([x1, x2])\n",
    "    \n",
    "    x = Concatenate(axis=-1)([x5,x4, x3])\n",
    "\n",
    "    x = Dense(100, activation=\"relu\")(x)\n",
    "    x = Dropout(0.01)(x)\n",
    "    out = Dense(1, activation=\"sigmoid\")(x)\n",
    "\n",
    "    model = Model([input_1, input_2], out)\n",
    "\n",
    "    model.compile(loss=[focal_loss(alpha=.25, gamma=2)], metrics=['acc',auroc], optimizer=Adam(0.00001))\n",
    "\n",
    "    model.summary()\n",
    "\n",
    "    return model"
   ]
  },
  {
   "cell_type": "code",
   "execution_count": null,
   "metadata": {
    "colab": {
     "base_uri": "https://localhost:8080/",
     "height": 1000
    },
    "colab_type": "code",
    "id": "apAKylAweupK",
    "outputId": "da6924a9-fc12-45c2-c699-c78e39307cb8"
   },
   "outputs": [
    {
     "name": "stderr",
     "output_type": "stream",
     "text": [
      "W0731 05:47:04.422280 139844433500032 deprecation.py:506] From /usr/local/lib/python3.6/dist-packages/keras/backend/tensorflow_backend.py:3445: calling dropout (from tensorflow.python.ops.nn_ops) with keep_prob is deprecated and will be removed in a future version.\n",
      "Instructions for updating:\n",
      "Please use `rate` instead of `keep_prob`. Rate should be set to `rate = 1 - keep_prob`.\n",
      "W0731 05:47:04.461184 139844433500032 deprecation_wrapper.py:119] From /usr/local/lib/python3.6/dist-packages/keras/optimizers.py:790: The name tf.train.Optimizer is deprecated. Please use tf.compat.v1.train.Optimizer instead.\n",
      "\n",
      "W0731 05:47:04.467456 139844433500032 deprecation.py:323] From <ipython-input-39-5d124dd4d6b8>:3: add_dispatch_support.<locals>.wrapper (from tensorflow.python.ops.array_ops) is deprecated and will be removed in a future version.\n",
      "Instructions for updating:\n",
      "Use tf.where in 2.0, which has the same broadcast rule as np.where\n",
      "W0731 05:47:04.498289 139844433500032 deprecation.py:323] From <ipython-input-2-bc412d992b42>:14: py_func (from tensorflow.python.ops.script_ops) is deprecated and will be removed in a future version.\n",
      "Instructions for updating:\n",
      "tf.py_func is deprecated in TF V2. Instead, there are two\n",
      "    options available in V2.\n",
      "    - tf.py_function takes a python function which manipulates tf eager\n",
      "    tensors instead of numpy arrays. It's easy to convert a tf eager tensor to\n",
      "    an ndarray (just call tensor.numpy()) but having access to eager tensors\n",
      "    means `tf.py_function`s can use accelerators such as GPUs as well as\n",
      "    being differentiable using a gradient tape.\n",
      "    - tf.numpy_function maintains the semantics of the deprecated tf.py_func\n",
      "    (it is not differentiable, and manipulates numpy arrays). It drops the\n",
      "    stateful argument making all functions stateful.\n",
      "    \n"
     ]
    },
    {
     "name": "stdout",
     "output_type": "stream",
     "text": [
      "__________________________________________________________________________________________________\n",
      "Layer (type)                    Output Shape         Param #     Connected to                     \n",
      "==================================================================================================\n",
      "input_4 (InputLayer)            (None, 197, 197, 3)  0                                            \n",
      "__________________________________________________________________________________________________\n",
      "input_5 (InputLayer)            (None, 197, 197, 3)  0                                            \n",
      "__________________________________________________________________________________________________\n",
      "vggface_resnet50 (Model)        multiple             23561152    input_4[0][0]                    \n",
      "                                                                 input_5[0][0]                    \n",
      "__________________________________________________________________________________________________\n",
      "global_max_pooling2d_3 (GlobalM (None, 2048)         0           vggface_resnet50[1][0]           \n",
      "__________________________________________________________________________________________________\n",
      "global_average_pooling2d_2 (Glo (None, 2048)         0           vggface_resnet50[1][0]           \n",
      "__________________________________________________________________________________________________\n",
      "global_max_pooling2d_4 (GlobalM (None, 2048)         0           vggface_resnet50[2][0]           \n",
      "__________________________________________________________________________________________________\n",
      "global_average_pooling2d_3 (Glo (None, 2048)         0           vggface_resnet50[2][0]           \n",
      "__________________________________________________________________________________________________\n",
      "concatenate_1 (Concatenate)     (None, 4096)         0           global_max_pooling2d_3[0][0]     \n",
      "                                                                 global_average_pooling2d_2[0][0] \n",
      "__________________________________________________________________________________________________\n",
      "concatenate_2 (Concatenate)     (None, 4096)         0           global_max_pooling2d_4[0][0]     \n",
      "                                                                 global_average_pooling2d_3[0][0] \n",
      "__________________________________________________________________________________________________\n",
      "multiply_2 (Multiply)           (None, 4096)         0           concatenate_1[0][0]              \n",
      "                                                                 concatenate_1[0][0]              \n",
      "__________________________________________________________________________________________________\n",
      "multiply_3 (Multiply)           (None, 4096)         0           concatenate_2[0][0]              \n",
      "                                                                 concatenate_2[0][0]              \n",
      "__________________________________________________________________________________________________\n",
      "subtract_2 (Subtract)           (None, 4096)         0           concatenate_1[0][0]              \n",
      "                                                                 concatenate_2[0][0]              \n",
      "__________________________________________________________________________________________________\n",
      "lambda_1 (Lambda)               (None, 1)            0           concatenate_1[0][0]              \n",
      "                                                                 concatenate_2[0][0]              \n",
      "__________________________________________________________________________________________________\n",
      "subtract_3 (Subtract)           (None, 4096)         0           multiply_2[0][0]                 \n",
      "                                                                 multiply_3[0][0]                 \n",
      "__________________________________________________________________________________________________\n",
      "multiply_1 (Multiply)           (None, 4096)         0           subtract_2[0][0]                 \n",
      "                                                                 subtract_2[0][0]                 \n",
      "__________________________________________________________________________________________________\n",
      "concatenate_3 (Concatenate)     (None, 8193)         0           lambda_1[0][0]                   \n",
      "                                                                 subtract_3[0][0]                 \n",
      "                                                                 multiply_1[0][0]                 \n",
      "__________________________________________________________________________________________________\n",
      "dense_1 (Dense)                 (None, 100)          819400      concatenate_3[0][0]              \n",
      "__________________________________________________________________________________________________\n",
      "dropout_1 (Dropout)             (None, 100)          0           dense_1[0][0]                    \n",
      "__________________________________________________________________________________________________\n",
      "dense_2 (Dense)                 (None, 1)            101         dropout_1[0][0]                  \n",
      "==================================================================================================\n",
      "Total params: 24,380,653\n",
      "Trainable params: 24,327,533\n",
      "Non-trainable params: 53,120\n",
      "__________________________________________________________________________________________________\n"
     ]
    }
   ],
   "source": [
    "file_path = \"drive/My Drive/Face_recognition/vgg_face_cosine_focal.h5\"\n",
    "\n",
    "checkpoint = ModelCheckpoint(file_path, monitor='val_auroc', verbose=1, save_best_only=True, mode='max')\n",
    "\n",
    "reduce_on_plateau = ReduceLROnPlateau(monitor=\"val_auroc\", mode=\"max\", factor=0.1, patience=10, verbose=1)\n",
    "\n",
    "callbacks_list = [checkpoint, reduce_on_plateau]\n",
    "\n",
    "model = cosine_focal_model()\n"
   ]
  },
  {
   "cell_type": "code",
   "execution_count": null,
   "metadata": {
    "colab": {
     "base_uri": "https://localhost:8080/",
     "height": 1000
    },
    "colab_type": "code",
    "id": "7YzYLAHdg8CD",
    "outputId": "c6af1489-402a-4db2-8f50-63570fbe3063"
   },
   "outputs": [
    {
     "name": "stdout",
     "output_type": "stream",
     "text": [
      "Epoch 1/100"
     ]
    },
    {
     "name": "stderr",
     "output_type": "stream",
     "text": [
      "/usr/local/lib/python3.6/dist-packages/keras/engine/training_generator.py:47: UserWarning: Using a generator with `use_multiprocessing=True` and multiple workers may duplicate your data. Please consider using the`keras.utils.Sequence class.\n",
      "  UserWarning('Using a generator with `use_multiprocessing=True`'\n"
     ]
    },
    {
     "name": "stdout",
     "output_type": "stream",
     "text": [
      "\n",
      "200/200 [==============================] - 296s 1s/step - loss: 22.2924 - acc: 0.5687 - auroc: 0.6291 - val_loss: 24.6558 - val_acc: 0.6000 - val_auroc: 0.6250\n",
      "\n",
      "Epoch 00001: val_auroc improved from -inf to 0.62500, saving model to drive/My Drive/Face_recognition/vgg_face_cosine_focal.h5\n",
      "Epoch 2/100\n",
      "200/200 [==============================] - 136s 678ms/step - loss: 12.5627 - acc: 0.5809 - auroc: 0.6542 - val_loss: 17.2172 - val_acc: 0.5794 - val_auroc: 0.6200\n",
      "\n",
      "Epoch 00002: val_auroc did not improve from 0.62500\n",
      "Epoch 3/100\n",
      "200/200 [==============================] - 97s 486ms/step - loss: 5.3335 - acc: 0.5997 - auroc: 0.6770 - val_loss: 6.9322 - val_acc: 0.5850 - val_auroc: 0.6465\n",
      "\n",
      "Epoch 00003: val_auroc improved from 0.62500 to 0.64648, saving model to drive/My Drive/Face_recognition/vgg_face_cosine_focal.h5\n",
      "Epoch 4/100\n",
      "200/200 [==============================] - 89s 445ms/step - loss: 2.8715 - acc: 0.6134 - auroc: 0.6917 - val_loss: 3.6709 - val_acc: 0.6144 - val_auroc: 0.6909\n",
      "\n",
      "Epoch 00004: val_auroc improved from 0.64648 to 0.69094, saving model to drive/My Drive/Face_recognition/vgg_face_cosine_focal.h5\n",
      "Epoch 5/100\n",
      "200/200 [==============================] - 90s 448ms/step - loss: 1.9031 - acc: 0.6078 - auroc: 0.6862 - val_loss: 2.5229 - val_acc: 0.5875 - val_auroc: 0.6694\n",
      "\n",
      "Epoch 00005: val_auroc did not improve from 0.69094\n",
      "Epoch 6/100\n",
      "200/200 [==============================] - 89s 446ms/step - loss: 1.3842 - acc: 0.6219 - auroc: 0.7294 - val_loss: 1.9658 - val_acc: 0.6206 - val_auroc: 0.6956\n",
      "\n",
      "Epoch 00006: val_auroc improved from 0.69094 to 0.69563, saving model to drive/My Drive/Face_recognition/vgg_face_cosine_focal.h5\n",
      "Epoch 7/100\n",
      "200/200 [==============================] - 89s 447ms/step - loss: 1.2555 - acc: 0.6288 - auroc: 0.7325 - val_loss: 1.9831 - val_acc: 0.6106 - val_auroc: 0.6875\n",
      "\n",
      "Epoch 00007: val_auroc did not improve from 0.69563\n",
      "Epoch 8/100\n",
      "200/200 [==============================] - 89s 447ms/step - loss: 1.1069 - acc: 0.6272 - auroc: 0.7587 - val_loss: 1.7468 - val_acc: 0.6325 - val_auroc: 0.7152\n",
      "\n",
      "Epoch 00008: val_auroc improved from 0.69563 to 0.71516, saving model to drive/My Drive/Face_recognition/vgg_face_cosine_focal.h5\n",
      "Epoch 9/100\n",
      "200/200 [==============================] - 89s 445ms/step - loss: 1.0606 - acc: 0.6234 - auroc: 0.7607 - val_loss: 1.4611 - val_acc: 0.6138 - val_auroc: 0.7219\n",
      "\n",
      "Epoch 00009: val_auroc improved from 0.71516 to 0.72188, saving model to drive/My Drive/Face_recognition/vgg_face_cosine_focal.h5\n",
      "Epoch 10/100\n",
      "200/200 [==============================] - 89s 445ms/step - loss: 1.0461 - acc: 0.6372 - auroc: 0.7639 - val_loss: 1.2553 - val_acc: 0.6406 - val_auroc: 0.7577\n",
      "\n",
      "Epoch 00010: val_auroc improved from 0.72188 to 0.75766, saving model to drive/My Drive/Face_recognition/vgg_face_cosine_focal.h5\n",
      "Epoch 11/100\n",
      "200/200 [==============================] - 89s 446ms/step - loss: 0.9745 - acc: 0.6534 - auroc: 0.7933 - val_loss: 1.4011 - val_acc: 0.6312 - val_auroc: 0.7330\n",
      "\n",
      "Epoch 00011: val_auroc did not improve from 0.75766\n",
      "Epoch 12/100\n",
      "200/200 [==============================] - 89s 443ms/step - loss: 0.9629 - acc: 0.6356 - auroc: 0.7941 - val_loss: 1.2292 - val_acc: 0.6225 - val_auroc: 0.7492\n",
      "\n",
      "Epoch 00012: val_auroc did not improve from 0.75766\n",
      "Epoch 13/100\n",
      "200/200 [==============================] - 90s 448ms/step - loss: 0.9107 - acc: 0.6634 - auroc: 0.8130 - val_loss: 1.2425 - val_acc: 0.6294 - val_auroc: 0.7669\n",
      "\n",
      "Epoch 00013: val_auroc improved from 0.75766 to 0.76687, saving model to drive/My Drive/Face_recognition/vgg_face_cosine_focal.h5\n",
      "Epoch 14/100\n",
      "200/200 [==============================] - 89s 443ms/step - loss: 0.9288 - acc: 0.6428 - auroc: 0.8087 - val_loss: 0.9884 - val_acc: 0.6494 - val_auroc: 0.7947\n",
      "\n",
      "Epoch 00014: val_auroc improved from 0.76687 to 0.79469, saving model to drive/My Drive/Face_recognition/vgg_face_cosine_focal.h5\n",
      "Epoch 15/100\n",
      "200/200 [==============================] - 88s 442ms/step - loss: 0.8670 - acc: 0.6716 - auroc: 0.8282 - val_loss: 1.0700 - val_acc: 0.6350 - val_auroc: 0.7858\n",
      "\n",
      "Epoch 00015: val_auroc did not improve from 0.79469\n",
      "Epoch 16/100\n",
      "200/200 [==============================] - 89s 443ms/step - loss: 0.8698 - acc: 0.6697 - auroc: 0.8301 - val_loss: 1.2093 - val_acc: 0.6288 - val_auroc: 0.7864\n",
      "\n",
      "Epoch 00016: val_auroc did not improve from 0.79469\n",
      "Epoch 17/100\n",
      "200/200 [==============================] - 88s 442ms/step - loss: 0.8584 - acc: 0.6903 - auroc: 0.8337 - val_loss: 1.0430 - val_acc: 0.6650 - val_auroc: 0.8103\n",
      "\n",
      "Epoch 00017: val_auroc improved from 0.79469 to 0.81031, saving model to drive/My Drive/Face_recognition/vgg_face_cosine_focal.h5\n",
      "Epoch 18/100\n",
      "200/200 [==============================] - 88s 442ms/step - loss: 0.8193 - acc: 0.6928 - auroc: 0.8498 - val_loss: 1.1294 - val_acc: 0.6806 - val_auroc: 0.8009\n",
      "\n",
      "Epoch 00018: val_auroc did not improve from 0.81031\n",
      "Epoch 19/100\n",
      "200/200 [==============================] - 88s 441ms/step - loss: 0.8463 - acc: 0.6853 - auroc: 0.8419 - val_loss: 0.9285 - val_acc: 0.6538 - val_auroc: 0.8194\n",
      "\n",
      "Epoch 00019: val_auroc improved from 0.81031 to 0.81937, saving model to drive/My Drive/Face_recognition/vgg_face_cosine_focal.h5\n",
      "Epoch 20/100\n",
      "200/200 [==============================] - 88s 441ms/step - loss: 0.8076 - acc: 0.6978 - auroc: 0.8616 - val_loss: 1.0558 - val_acc: 0.6444 - val_auroc: 0.7989\n",
      "\n",
      "Epoch 00020: val_auroc did not improve from 0.81937\n",
      "Epoch 21/100\n",
      "200/200 [==============================] - 88s 441ms/step - loss: 0.7806 - acc: 0.7159 - auroc: 0.8713 - val_loss: 1.0007 - val_acc: 0.6913 - val_auroc: 0.8213\n",
      "\n",
      "Epoch 00021: val_auroc improved from 0.81937 to 0.82125, saving model to drive/My Drive/Face_recognition/vgg_face_cosine_focal.h5\n",
      "Epoch 22/100\n",
      "200/200 [==============================] - 88s 442ms/step - loss: 0.7741 - acc: 0.7188 - auroc: 0.8688 - val_loss: 0.8921 - val_acc: 0.6913 - val_auroc: 0.8397\n",
      "\n",
      "Epoch 00022: val_auroc improved from 0.82125 to 0.83969, saving model to drive/My Drive/Face_recognition/vgg_face_cosine_focal.h5\n",
      "Epoch 23/100\n",
      "200/200 [==============================] - 88s 440ms/step - loss: 0.7901 - acc: 0.7122 - auroc: 0.8673 - val_loss: 0.9577 - val_acc: 0.6881 - val_auroc: 0.8402\n",
      "\n",
      "Epoch 00023: val_auroc improved from 0.83969 to 0.84016, saving model to drive/My Drive/Face_recognition/vgg_face_cosine_focal.h5\n",
      "Epoch 24/100\n",
      "200/200 [==============================] - 88s 441ms/step - loss: 0.7637 - acc: 0.7269 - auroc: 0.8754 - val_loss: 0.9569 - val_acc: 0.6925 - val_auroc: 0.8353\n",
      "\n",
      "Epoch 00024: val_auroc did not improve from 0.84016\n",
      "Epoch 25/100\n",
      "200/200 [==============================] - 88s 440ms/step - loss: 0.7470 - acc: 0.7347 - auroc: 0.8795 - val_loss: 0.9996 - val_acc: 0.6744 - val_auroc: 0.8083\n",
      "\n",
      "Epoch 00025: val_auroc did not improve from 0.84016\n",
      "Epoch 26/100\n",
      "200/200 [==============================] - 88s 441ms/step - loss: 0.7393 - acc: 0.7322 - auroc: 0.8848 - val_loss: 1.0805 - val_acc: 0.7031 - val_auroc: 0.8344\n",
      "\n",
      "Epoch 00026: val_auroc did not improve from 0.84016\n",
      "Epoch 27/100\n",
      "200/200 [==============================] - 88s 441ms/step - loss: 0.7332 - acc: 0.7438 - auroc: 0.8844 - val_loss: 0.9150 - val_acc: 0.6956 - val_auroc: 0.8650\n",
      "\n",
      "Epoch 00027: val_auroc improved from 0.84016 to 0.86500, saving model to drive/My Drive/Face_recognition/vgg_face_cosine_focal.h5\n",
      "Epoch 28/100\n",
      "200/200 [==============================] - 88s 441ms/step - loss: 0.7461 - acc: 0.7244 - auroc: 0.8853 - val_loss: 1.0742 - val_acc: 0.6887 - val_auroc: 0.8348\n",
      "\n",
      "Epoch 00028: val_auroc did not improve from 0.86500\n",
      "Epoch 29/100\n",
      "200/200 [==============================] - 88s 440ms/step - loss: 0.6789 - acc: 0.7622 - auroc: 0.9067 - val_loss: 0.8834 - val_acc: 0.7137 - val_auroc: 0.8614\n",
      "\n",
      "Epoch 00029: val_auroc did not improve from 0.86500\n",
      "Epoch 30/100\n",
      "200/200 [==============================] - 88s 441ms/step - loss: 0.7089 - acc: 0.7541 - auroc: 0.8945 - val_loss: 0.9673 - val_acc: 0.7144 - val_auroc: 0.8592\n",
      "\n",
      "Epoch 00030: val_auroc did not improve from 0.86500\n",
      "Epoch 31/100\n",
      "200/200 [==============================] - 88s 441ms/step - loss: 0.6900 - acc: 0.7669 - auroc: 0.9027 - val_loss: 0.9609 - val_acc: 0.7219 - val_auroc: 0.8508\n",
      "\n",
      "Epoch 00031: val_auroc did not improve from 0.86500\n",
      "Epoch 32/100\n",
      "200/200 [==============================] - 88s 440ms/step - loss: 0.6927 - acc: 0.7547 - auroc: 0.9030 - val_loss: 0.9397 - val_acc: 0.7056 - val_auroc: 0.8403\n",
      "\n",
      "Epoch 00032: val_auroc did not improve from 0.86500\n",
      "Epoch 33/100\n",
      "200/200 [==============================] - 88s 441ms/step - loss: 0.7203 - acc: 0.7422 - auroc: 0.8900 - val_loss: 0.8788 - val_acc: 0.6900 - val_auroc: 0.8545\n",
      "\n",
      "Epoch 00033: val_auroc did not improve from 0.86500\n",
      "Epoch 34/100\n",
      "200/200 [==============================] - 88s 440ms/step - loss: 0.6947 - acc: 0.7547 - auroc: 0.9043 - val_loss: 0.9033 - val_acc: 0.7013 - val_auroc: 0.8564\n",
      "\n",
      "Epoch 00034: val_auroc did not improve from 0.86500\n",
      "Epoch 35/100\n",
      "200/200 [==============================] - 88s 441ms/step - loss: 0.6630 - acc: 0.7741 - auroc: 0.9109 - val_loss: 0.8771 - val_acc: 0.7031 - val_auroc: 0.8505\n",
      "\n",
      "Epoch 00035: val_auroc did not improve from 0.86500\n",
      "Epoch 36/100\n",
      "200/200 [==============================] - 88s 440ms/step - loss: 0.6861 - acc: 0.7644 - auroc: 0.9039 - val_loss: 0.8385 - val_acc: 0.7175 - val_auroc: 0.8670\n",
      "\n",
      "Epoch 00036: val_auroc improved from 0.86500 to 0.86703, saving model to drive/My Drive/Face_recognition/vgg_face_cosine_focal.h5\n",
      "Epoch 37/100\n",
      "200/200 [==============================] - 88s 441ms/step - loss: 0.6852 - acc: 0.7637 - auroc: 0.9058 - val_loss: 0.8697 - val_acc: 0.7137 - val_auroc: 0.8506\n",
      "\n",
      "Epoch 00037: val_auroc did not improve from 0.86703\n",
      "Epoch 38/100\n",
      "200/200 [==============================] - 88s 441ms/step - loss: 0.6463 - acc: 0.7797 - auroc: 0.9163 - val_loss: 0.8545 - val_acc: 0.6831 - val_auroc: 0.8534\n",
      "\n",
      "Epoch 00038: val_auroc did not improve from 0.86703\n",
      "Epoch 39/100\n",
      "200/200 [==============================] - 88s 441ms/step - loss: 0.6488 - acc: 0.7759 - auroc: 0.9177 - val_loss: 0.9051 - val_acc: 0.6900 - val_auroc: 0.8402\n",
      "\n",
      "Epoch 00039: val_auroc did not improve from 0.86703\n",
      "Epoch 40/100\n",
      "200/200 [==============================] - 88s 440ms/step - loss: 0.6322 - acc: 0.7956 - auroc: 0.9169 - val_loss: 0.8487 - val_acc: 0.7181 - val_auroc: 0.8711\n",
      "\n",
      "Epoch 00040: val_auroc improved from 0.86703 to 0.87109, saving model to drive/My Drive/Face_recognition/vgg_face_cosine_focal.h5\n",
      "Epoch 41/100\n",
      "200/200 [==============================] - 88s 441ms/step - loss: 0.6183 - acc: 0.7969 - auroc: 0.9222 - val_loss: 1.0309 - val_acc: 0.7000 - val_auroc: 0.8419\n",
      "\n",
      "Epoch 00041: val_auroc did not improve from 0.87109\n",
      "Epoch 42/100\n",
      "200/200 [==============================] - 88s 441ms/step - loss: 0.6335 - acc: 0.7837 - auroc: 0.9109 - val_loss: 0.8811 - val_acc: 0.7156 - val_auroc: 0.8502\n",
      "\n",
      "Epoch 00042: val_auroc did not improve from 0.87109\n",
      "Epoch 43/100\n",
      "200/200 [==============================] - 88s 440ms/step - loss: 0.6249 - acc: 0.7863 - auroc: 0.9173 - val_loss: 0.8321 - val_acc: 0.6913 - val_auroc: 0.8759\n",
      "\n",
      "Epoch 00043: val_auroc improved from 0.87109 to 0.87594, saving model to drive/My Drive/Face_recognition/vgg_face_cosine_focal.h5\n",
      "Epoch 44/100\n",
      "200/200 [==============================] - 88s 441ms/step - loss: 0.6205 - acc: 0.7953 - auroc: 0.9227 - val_loss: 0.9278 - val_acc: 0.6875 - val_auroc: 0.8612\n",
      "\n",
      "Epoch 00044: val_auroc did not improve from 0.87594\n",
      "Epoch 45/100\n",
      "200/200 [==============================] - 88s 440ms/step - loss: 0.5930 - acc: 0.8066 - auroc: 0.9292 - val_loss: 0.8759 - val_acc: 0.7269 - val_auroc: 0.8600\n",
      "\n",
      "Epoch 00045: val_auroc did not improve from 0.87594\n",
      "Epoch 46/100\n",
      "200/200 [==============================] - 88s 441ms/step - loss: 0.6086 - acc: 0.7988 - auroc: 0.9234 - val_loss: 0.9261 - val_acc: 0.7087 - val_auroc: 0.8603\n",
      "\n",
      "Epoch 00046: val_auroc did not improve from 0.87594\n",
      "Epoch 47/100\n",
      "200/200 [==============================] - 88s 441ms/step - loss: 0.6024 - acc: 0.8106 - auroc: 0.9313 - val_loss: 0.9260 - val_acc: 0.6819 - val_auroc: 0.8488\n",
      "\n",
      "Epoch 00047: val_auroc did not improve from 0.87594\n",
      "Epoch 48/100\n",
      "200/200 [==============================] - 88s 440ms/step - loss: 0.5929 - acc: 0.8091 - auroc: 0.9288 - val_loss: 0.7929 - val_acc: 0.7188 - val_auroc: 0.8803\n",
      "\n",
      "Epoch 00048: val_auroc improved from 0.87594 to 0.88031, saving model to drive/My Drive/Face_recognition/vgg_face_cosine_focal.h5\n",
      "Epoch 49/100\n",
      "200/200 [==============================] - 88s 441ms/step - loss: 0.6199 - acc: 0.8000 - auroc: 0.9255 - val_loss: 0.8254 - val_acc: 0.7081 - val_auroc: 0.8720\n",
      "\n",
      "Epoch 00049: val_auroc did not improve from 0.88031\n",
      "Epoch 50/100\n",
      "200/200 [==============================] - 88s 440ms/step - loss: 0.6079 - acc: 0.8053 - auroc: 0.9286 - val_loss: 0.9115 - val_acc: 0.6806 - val_auroc: 0.8519\n",
      "\n",
      "Epoch 00050: val_auroc did not improve from 0.88031\n",
      "Epoch 51/100\n",
      "200/200 [==============================] - 88s 442ms/step - loss: 0.5720 - acc: 0.8225 - auroc: 0.9377 - val_loss: 0.8461 - val_acc: 0.7056 - val_auroc: 0.8680\n",
      "\n",
      "Epoch 00051: val_auroc did not improve from 0.88031\n",
      "Epoch 52/100\n",
      "200/200 [==============================] - 88s 440ms/step - loss: 0.5988 - acc: 0.8103 - auroc: 0.9297 - val_loss: 0.8591 - val_acc: 0.7006 - val_auroc: 0.8633\n",
      "\n",
      "Epoch 00052: val_auroc did not improve from 0.88031\n",
      "Epoch 53/100\n",
      "200/200 [==============================] - 88s 441ms/step - loss: 0.5687 - acc: 0.8100 - auroc: 0.9373 - val_loss: 0.8445 - val_acc: 0.7087 - val_auroc: 0.8664\n",
      "\n",
      "Epoch 00053: val_auroc did not improve from 0.88031\n",
      "Epoch 54/100\n",
      "200/200 [==============================] - 88s 441ms/step - loss: 0.5864 - acc: 0.8109 - auroc: 0.9321 - val_loss: 0.8664 - val_acc: 0.7137 - val_auroc: 0.8731\n",
      "\n",
      "Epoch 00054: val_auroc did not improve from 0.88031\n",
      "Epoch 55/100\n",
      "200/200 [==============================] - 88s 441ms/step - loss: 0.5743 - acc: 0.8194 - auroc: 0.9376 - val_loss: 1.0583 - val_acc: 0.7319 - val_auroc: 0.8722\n",
      "\n",
      "Epoch 00055: val_auroc did not improve from 0.88031\n",
      "Epoch 56/100\n",
      "200/200 [==============================] - 88s 441ms/step - loss: 0.5737 - acc: 0.8231 - auroc: 0.9385 - val_loss: 0.9574 - val_acc: 0.7000 - val_auroc: 0.8473\n",
      "\n",
      "Epoch 00056: val_auroc did not improve from 0.88031\n",
      "Epoch 57/100\n",
      "200/200 [==============================] - 88s 441ms/step - loss: 0.5564 - acc: 0.8281 - auroc: 0.9386 - val_loss: 0.8674 - val_acc: 0.7244 - val_auroc: 0.8680\n",
      "\n",
      "Epoch 00057: val_auroc did not improve from 0.88031\n",
      "Epoch 58/100\n",
      "200/200 [==============================] - 88s 441ms/step - loss: 0.5430 - acc: 0.8303 - auroc: 0.9422 - val_loss: 0.9097 - val_acc: 0.7319 - val_auroc: 0.8609\n",
      "\n",
      "Epoch 00058: val_auroc did not improve from 0.88031\n",
      "\n",
      "Epoch 00058: ReduceLROnPlateau reducing learning rate to 9.999999747378752e-07.\n",
      "Epoch 59/100\n",
      "200/200 [==============================] - 88s 440ms/step - loss: 0.5482 - acc: 0.8184 - auroc: 0.9378 - val_loss: 0.8776 - val_acc: 0.7169 - val_auroc: 0.8747\n",
      "\n",
      "Epoch 00059: val_auroc did not improve from 0.88031\n",
      "Epoch 60/100\n",
      "200/200 [==============================] - 88s 441ms/step - loss: 0.5427 - acc: 0.8269 - auroc: 0.9420 - val_loss: 0.9142 - val_acc: 0.6956 - val_auroc: 0.8656\n",
      "\n",
      "Epoch 00060: val_auroc did not improve from 0.88031\n",
      "Epoch 61/100\n",
      "200/200 [==============================] - 88s 440ms/step - loss: 0.5139 - acc: 0.8378 - auroc: 0.9509 - val_loss: 0.8493 - val_acc: 0.7212 - val_auroc: 0.8773\n",
      "\n",
      "Epoch 00061: val_auroc did not improve from 0.88031\n",
      "Epoch 62/100\n",
      "200/200 [==============================] - 88s 441ms/step - loss: 0.4881 - acc: 0.8450 - auroc: 0.9533 - val_loss: 0.8998 - val_acc: 0.7006 - val_auroc: 0.8653\n",
      "\n",
      "Epoch 00062: val_auroc did not improve from 0.88031\n",
      "Epoch 63/100\n",
      "200/200 [==============================] - 88s 440ms/step - loss: 0.4946 - acc: 0.8500 - auroc: 0.9562 - val_loss: 0.9318 - val_acc: 0.7025 - val_auroc: 0.8748\n",
      "\n",
      "Epoch 00063: val_auroc did not improve from 0.88031\n",
      "Epoch 64/100\n",
      "200/200 [==============================] - 88s 441ms/step - loss: 0.4702 - acc: 0.8613 - auroc: 0.9582 - val_loss: 1.0155 - val_acc: 0.7144 - val_auroc: 0.8706\n",
      "\n",
      "Epoch 00064: val_auroc did not improve from 0.88031\n",
      "Epoch 65/100\n",
      "200/200 [==============================] - 88s 440ms/step - loss: 0.4687 - acc: 0.8578 - auroc: 0.9578 - val_loss: 1.0428 - val_acc: 0.7087 - val_auroc: 0.8644\n",
      "\n",
      "Epoch 00065: val_auroc did not improve from 0.88031\n",
      "Epoch 66/100\n",
      "200/200 [==============================] - 88s 441ms/step - loss: 0.4570 - acc: 0.8625 - auroc: 0.9625 - val_loss: 0.9312 - val_acc: 0.7212 - val_auroc: 0.8620\n",
      "\n",
      "Epoch 00066: val_auroc did not improve from 0.88031\n",
      "Epoch 67/100\n",
      "200/200 [==============================] - 88s 441ms/step - loss: 0.4878 - acc: 0.8600 - auroc: 0.9548 - val_loss: 0.9881 - val_acc: 0.7119 - val_auroc: 0.8761\n",
      "\n",
      "Epoch 00067: val_auroc did not improve from 0.88031\n",
      "Epoch 68/100\n",
      "200/200 [==============================] - 88s 441ms/step - loss: 0.4792 - acc: 0.8634 - auroc: 0.9564 - val_loss: 0.8947 - val_acc: 0.7056 - val_auroc: 0.8842\n",
      "\n",
      "Epoch 00068: val_auroc improved from 0.88031 to 0.88422, saving model to drive/My Drive/Face_recognition/vgg_face_cosine_focal.h5\n",
      "Epoch 69/100\n",
      "200/200 [==============================] - 88s 441ms/step - loss: 0.4660 - acc: 0.8666 - auroc: 0.9617 - val_loss: 0.9481 - val_acc: 0.6987 - val_auroc: 0.8556\n",
      "\n",
      "Epoch 00069: val_auroc did not improve from 0.88422\n",
      "Epoch 70/100\n",
      "200/200 [==============================] - 88s 440ms/step - loss: 0.4927 - acc: 0.8488 - auroc: 0.9548 - val_loss: 0.8616 - val_acc: 0.7169 - val_auroc: 0.8730\n",
      "\n",
      "Epoch 00070: val_auroc did not improve from 0.88422\n",
      "Epoch 71/100\n",
      "200/200 [==============================] - 88s 441ms/step - loss: 0.4523 - acc: 0.8722 - auroc: 0.9628 - val_loss: 0.8997 - val_acc: 0.7050 - val_auroc: 0.8686\n",
      "\n",
      "Epoch 00071: val_auroc did not improve from 0.88422\n",
      "Epoch 72/100\n",
      "200/200 [==============================] - 88s 440ms/step - loss: 0.4753 - acc: 0.8622 - auroc: 0.9587 - val_loss: 0.8816 - val_acc: 0.7200 - val_auroc: 0.8762\n",
      "\n",
      "Epoch 00072: val_auroc did not improve from 0.88422\n",
      "Epoch 73/100\n",
      "200/200 [==============================] - 88s 441ms/step - loss: 0.4598 - acc: 0.8644 - auroc: 0.9613 - val_loss: 0.8927 - val_acc: 0.7294 - val_auroc: 0.8767\n",
      "\n",
      "Epoch 00073: val_auroc did not improve from 0.88422\n",
      "Epoch 74/100\n",
      "200/200 [==============================] - 88s 441ms/step - loss: 0.4373 - acc: 0.8756 - auroc: 0.9645 - val_loss: 0.8791 - val_acc: 0.7194 - val_auroc: 0.8784\n",
      "\n",
      "Epoch 00074: val_auroc did not improve from 0.88422\n",
      "Epoch 75/100\n",
      "200/200 [==============================] - 88s 441ms/step - loss: 0.4343 - acc: 0.8706 - auroc: 0.9644 - val_loss: 0.8424 - val_acc: 0.7069 - val_auroc: 0.8753\n",
      "\n",
      "Epoch 00075: val_auroc did not improve from 0.88422\n",
      "Epoch 76/100\n",
      "200/200 [==============================] - 88s 441ms/step - loss: 0.4471 - acc: 0.8725 - auroc: 0.9626 - val_loss: 0.9485 - val_acc: 0.7000 - val_auroc: 0.8606\n",
      "\n",
      "Epoch 00076: val_auroc did not improve from 0.88422\n",
      "Epoch 77/100\n",
      "200/200 [==============================] - 88s 442ms/step - loss: 0.4369 - acc: 0.8716 - auroc: 0.9659 - val_loss: 0.9146 - val_acc: 0.7150 - val_auroc: 0.8738\n",
      "\n",
      "Epoch 00077: val_auroc did not improve from 0.88422\n",
      "Epoch 78/100\n",
      "200/200 [==============================] - 88s 441ms/step - loss: 0.4203 - acc: 0.8741 - auroc: 0.9672 - val_loss: 0.8869 - val_acc: 0.7069 - val_auroc: 0.8697\n",
      "\n",
      "Epoch 00078: val_auroc did not improve from 0.88422\n",
      "\n",
      "Epoch 00078: ReduceLROnPlateau reducing learning rate to 9.999999974752428e-08.\n",
      "Epoch 79/100\n",
      "200/200 [==============================] - 88s 442ms/step - loss: 0.4458 - acc: 0.8669 - auroc: 0.9609 - val_loss: 0.8743 - val_acc: 0.7169 - val_auroc: 0.8817\n",
      "\n",
      "Epoch 00079: val_auroc did not improve from 0.88422\n",
      "Epoch 80/100\n",
      "200/200 [==============================] - 88s 441ms/step - loss: 0.4219 - acc: 0.8741 - auroc: 0.9667 - val_loss: 0.8901 - val_acc: 0.7188 - val_auroc: 0.8672\n",
      "\n",
      "Epoch 00080: val_auroc did not improve from 0.88422\n",
      "Epoch 81/100\n",
      "200/200 [==============================] - 88s 441ms/step - loss: 0.4305 - acc: 0.8791 - auroc: 0.9660 - val_loss: 0.8445 - val_acc: 0.7131 - val_auroc: 0.8795\n",
      "\n",
      "Epoch 00081: val_auroc did not improve from 0.88422\n",
      "Epoch 82/100\n",
      "200/200 [==============================] - 88s 440ms/step - loss: 0.4180 - acc: 0.8797 - auroc: 0.9681 - val_loss: 0.9332 - val_acc: 0.7181 - val_auroc: 0.8667\n",
      "\n",
      "Epoch 00082: val_auroc did not improve from 0.88422\n",
      "Epoch 83/100\n",
      "200/200 [==============================] - 88s 442ms/step - loss: 0.4252 - acc: 0.8822 - auroc: 0.9665 - val_loss: 0.9394 - val_acc: 0.7075 - val_auroc: 0.8786\n",
      "\n",
      "Epoch 00083: val_auroc did not improve from 0.88422\n",
      "Epoch 84/100\n",
      "200/200 [==============================] - 88s 441ms/step - loss: 0.4202 - acc: 0.8744 - auroc: 0.9662 - val_loss: 0.8288 - val_acc: 0.7319 - val_auroc: 0.8797\n",
      "\n",
      "Epoch 00084: val_auroc did not improve from 0.88422\n",
      "Epoch 85/100\n",
      "200/200 [==============================] - 88s 441ms/step - loss: 0.4172 - acc: 0.8862 - auroc: 0.9677 - val_loss: 0.9082 - val_acc: 0.7212 - val_auroc: 0.8772\n",
      "\n",
      "Epoch 00085: val_auroc did not improve from 0.88422\n",
      "Epoch 86/100\n",
      "200/200 [==============================] - 88s 442ms/step - loss: 0.4277 - acc: 0.8862 - auroc: 0.9646 - val_loss: 0.9293 - val_acc: 0.7075 - val_auroc: 0.8731\n",
      "\n",
      "Epoch 00086: val_auroc did not improve from 0.88422\n",
      "Epoch 87/100\n",
      "200/200 [==============================] - 88s 442ms/step - loss: 0.4506 - acc: 0.8747 - auroc: 0.9621 - val_loss: 0.9523 - val_acc: 0.7169 - val_auroc: 0.8741\n",
      "\n",
      "Epoch 00087: val_auroc did not improve from 0.88422\n",
      "Epoch 88/100\n",
      "200/200 [==============================] - 88s 441ms/step - loss: 0.3914 - acc: 0.8881 - auroc: 0.9721 - val_loss: 0.9188 - val_acc: 0.7025 - val_auroc: 0.8759\n",
      "\n",
      "Epoch 00088: val_auroc did not improve from 0.88422\n",
      "\n",
      "Epoch 00088: ReduceLROnPlateau reducing learning rate to 1.0000000116860975e-08.\n",
      "Epoch 89/100\n",
      "200/200 [==============================] - 88s 441ms/step - loss: 0.4309 - acc: 0.8753 - auroc: 0.9662 - val_loss: 0.8616 - val_acc: 0.7206 - val_auroc: 0.8889\n",
      "\n",
      "Epoch 00089: val_auroc improved from 0.88422 to 0.88891, saving model to drive/My Drive/Face_recognition/vgg_face_cosine_focal.h5\n",
      "Epoch 90/100\n",
      "200/200 [==============================] - 88s 442ms/step - loss: 0.4334 - acc: 0.8722 - auroc: 0.9643 - val_loss: 0.9378 - val_acc: 0.7125 - val_auroc: 0.8769\n",
      "\n",
      "Epoch 00090: val_auroc did not improve from 0.88891\n",
      "Epoch 91/100\n",
      "200/200 [==============================] - 88s 441ms/step - loss: 0.4154 - acc: 0.8766 - auroc: 0.9666 - val_loss: 0.8687 - val_acc: 0.7144 - val_auroc: 0.8831\n",
      "\n",
      "Epoch 00091: val_auroc did not improve from 0.88891\n",
      "Epoch 92/100\n",
      "200/200 [==============================] - 88s 441ms/step - loss: 0.4147 - acc: 0.8806 - auroc: 0.9680 - val_loss: 1.0708 - val_acc: 0.7106 - val_auroc: 0.8652\n",
      "\n",
      "Epoch 00092: val_auroc did not improve from 0.88891\n",
      "Epoch 93/100\n",
      "200/200 [==============================] - 88s 441ms/step - loss: 0.4036 - acc: 0.8831 - auroc: 0.9708 - val_loss: 0.8812 - val_acc: 0.7256 - val_auroc: 0.8828\n",
      "\n",
      "Epoch 00093: val_auroc did not improve from 0.88891\n",
      "Epoch 94/100\n",
      "200/200 [==============================] - 88s 441ms/step - loss: 0.4235 - acc: 0.8759 - auroc: 0.9680 - val_loss: 0.9912 - val_acc: 0.7056 - val_auroc: 0.8744\n",
      "\n",
      "Epoch 00094: val_auroc did not improve from 0.88891\n",
      "Epoch 95/100\n",
      "200/200 [==============================] - 88s 440ms/step - loss: 0.4617 - acc: 0.8669 - auroc: 0.9592 - val_loss: 0.8776 - val_acc: 0.7231 - val_auroc: 0.8800\n",
      "\n",
      "Epoch 00095: val_auroc did not improve from 0.88891\n",
      "Epoch 96/100\n",
      "200/200 [==============================] - 88s 440ms/step - loss: 0.4538 - acc: 0.8663 - auroc: 0.9587 - val_loss: 0.8944 - val_acc: 0.7181 - val_auroc: 0.8897\n",
      "\n",
      "Epoch 00096: val_auroc improved from 0.88891 to 0.88969, saving model to drive/My Drive/Face_recognition/vgg_face_cosine_focal.h5\n",
      "Epoch 97/100\n",
      "200/200 [==============================] - 88s 442ms/step - loss: 0.4264 - acc: 0.8725 - auroc: 0.9666 - val_loss: 0.9479 - val_acc: 0.6987 - val_auroc: 0.8609\n",
      "\n",
      "Epoch 00097: val_auroc did not improve from 0.88969\n",
      "Epoch 98/100\n",
      "200/200 [==============================] - 88s 441ms/step - loss: 0.4389 - acc: 0.8684 - auroc: 0.9614 - val_loss: 0.9413 - val_acc: 0.7094 - val_auroc: 0.8708\n",
      "\n",
      "Epoch 00098: val_auroc did not improve from 0.88969\n",
      "Epoch 99/100\n",
      "200/200 [==============================] - 88s 441ms/step - loss: 0.4486 - acc: 0.8747 - auroc: 0.9619 - val_loss: 0.9358 - val_acc: 0.7087 - val_auroc: 0.8728\n",
      "\n",
      "Epoch 00099: val_auroc did not improve from 0.88969\n",
      "Epoch 100/100\n",
      "200/200 [==============================] - 88s 441ms/step - loss: 0.4402 - acc: 0.8784 - auroc: 0.9641 - val_loss: 0.8364 - val_acc: 0.7350 - val_auroc: 0.8914\n",
      "\n",
      "Epoch 00100: val_auroc improved from 0.88969 to 0.89141, saving model to drive/My Drive/Face_recognition/vgg_face_cosine_focal.h5\n"
     ]
    },
    {
     "data": {
      "text/plain": [
       "<keras.callbacks.History at 0x7f2f1b6e87b8>"
      ]
     },
     "execution_count": 49,
     "metadata": {
      "tags": []
     },
     "output_type": "execute_result"
    }
   ],
   "source": [
    "model.fit_generator(gen(train, train_person_to_images_map, batch_size=16), use_multiprocessing=True,\n",
    "                    validation_data=gen(val, val_person_to_images_map, batch_size=16), epochs=100, verbose=1,\n",
    "                    workers = 4, callbacks=callbacks_list, steps_per_epoch=200, validation_steps=100)"
   ]
  },
  {
   "cell_type": "code",
   "execution_count": null,
   "metadata": {
    "colab": {},
    "colab_type": "code",
    "id": "514oUb8Kg78B"
   },
   "outputs": [],
   "source": [
    "model.load_weights(\"drive/My Drive/Face_recognition/vgg_face_cosine_focal.h5\")"
   ]
  },
  {
   "cell_type": "code",
   "execution_count": null,
   "metadata": {
    "colab": {},
    "colab_type": "code",
    "id": "4y9lhv6yeu4Y"
   },
   "outputs": [],
   "source": [
    "model.compile(loss=[focal_loss(alpha=.25, gamma=2)], metrics=['acc',auroc], optimizer=Adam(0.00001))"
   ]
  },
  {
   "cell_type": "code",
   "execution_count": null,
   "metadata": {
    "colab": {
     "base_uri": "https://localhost:8080/",
     "height": 34
    },
    "colab_type": "code",
    "id": "LBJ7V4VIeuRd",
    "outputId": "87527c21-4336-4602-d49b-a7065a3a0a15"
   },
   "outputs": [
    {
     "name": "stderr",
     "output_type": "stream",
     "text": [
      "166it [24:50,  6.76s/it]\n"
     ]
    }
   ],
   "source": [
    "test_path = \"drive/My Drive/Face_recognition/test/\"\n",
    "def chunker(seq, size=32):\n",
    "    return (seq[pos:pos + size] for pos in range(0, len(seq), size))\n",
    "\n",
    "\n",
    "from tqdm import tqdm\n",
    "\n",
    "submission = pd.read_csv('drive/My Drive/Face_recognition/sample_submission.csv')\n",
    "\n",
    "predictions = []\n",
    "\n",
    "for batch in tqdm(chunker(submission.img_pair.values)):\n",
    "    X1 = [x.split(\"-\")[0] for x in batch]\n",
    "    X1 = np.array([read_img(test_path + x) for x in X1])\n",
    "\n",
    "    X2 = [x.split(\"-\")[1] for x in batch]\n",
    "    X2 = np.array([read_img(test_path + x) for x in X2])\n",
    "\n",
    "    pred = model.predict([X1, X2]).ravel().tolist()\n",
    "    predictions += pred\n",
    "\n",
    "submission['is_related'] = predictions\n",
    "\n",
    "submission.to_csv(\"drive/My Drive/Face_recognition/cosine_focal_submission.csv\", index=False)"
   ]
  },
  {
   "cell_type": "markdown",
   "metadata": {
    "colab_type": "text",
    "id": "fYL1NU1DRQuD"
   },
   "source": [
    "### Test Score : 0.865"
   ]
  },
  {
   "cell_type": "code",
   "execution_count": null,
   "metadata": {
    "colab": {},
    "colab_type": "code",
    "id": "Rx7ofFjoRVHQ"
   },
   "outputs": [],
   "source": []
  },
  {
   "cell_type": "markdown",
   "metadata": {
    "colab_type": "text",
    "id": "UqkoKXTZutc5"
   },
   "source": [
    "### 6. Passing the metrics through dense layers"
   ]
  },
  {
   "cell_type": "markdown",
   "metadata": {
    "colab_type": "text",
    "id": "T128KBOsuozQ"
   },
   "source": [
    "### Monitoring Accuracy instead of ROCAUC"
   ]
  },
  {
   "cell_type": "code",
   "execution_count": null,
   "metadata": {
    "colab": {},
    "colab_type": "code",
    "id": "cAFtvEafW6mm"
   },
   "outputs": [],
   "source": [
    "def cosine_focal_model2():\n",
    "    #change 2\n",
    "    input_1 = Input(shape=(197, 197, 3))\n",
    "    input_2 = Input(shape=(197, 197, 3))\n",
    "\n",
    "    base_model = VGGFace(model='resnet50', include_top=False)\n",
    "\n",
    "    for x in base_model.layers[:-3]:\n",
    "        x.trainable = True\n",
    "\n",
    "    x1 = base_model(input_1)\n",
    "    x2 = base_model(input_2)\n",
    "\n",
    "    x1 = GlobalMaxPool2D()(x1)\n",
    "    x2 = GlobalMaxPool2D()(x2)\n",
    "\n",
    "    x3 = Subtract()([x1, x2])\n",
    "    x3 = Multiply()([x3, x3])\n",
    "    x3 = Dense(100, activation = 'relu')(x3)\n",
    "\n",
    "    x1_ = Multiply()([x1, x1])\n",
    "    x2_ = Multiply()([x2, x2])\n",
    "    x4 = Subtract()([x1_, x2_])\n",
    "    x4 = Dense(100, activation = 'relu')(x4)\n",
    "    \n",
    "    \n",
    "    #https://stackoverflow.com/a/51003359/10650182\n",
    "    x5 = Lambda(cosine_distance, output_shape=cos_dist_output_shape)([x1, x2])\n",
    "    x5 = Dense(100, activation = 'relu')(x5)\n",
    "    \n",
    "    x = Concatenate(axis=-1)([x5,x4, x3])\n",
    "\n",
    "    x = Dense(100, activation=\"relu\")(x)\n",
    "    x = Dropout(0.05)(x)\n",
    "    out = Dense(1, activation=\"sigmoid\")(x)\n",
    "\n",
    "    model = Model([input_1, input_2], out)\n",
    "\n",
    "    model.compile(loss=[focal_loss(alpha=.25, gamma=2)], metrics=['acc',auroc], optimizer=Adam(0.00001))\n",
    "\n",
    "    model.summary()\n",
    "\n",
    "    return model"
   ]
  },
  {
   "cell_type": "code",
   "execution_count": null,
   "metadata": {
    "colab": {
     "base_uri": "https://localhost:8080/",
     "height": 1000
    },
    "colab_type": "code",
    "id": "_Vf5FujoW6e0",
    "outputId": "c6cd793c-ff11-47a9-e89c-bdac01f6adf6"
   },
   "outputs": [
    {
     "name": "stdout",
     "output_type": "stream",
     "text": [
      "Downloading data from https://github.com/rcmalli/keras-vggface/releases/download/v2.0/rcmalli_vggface_tf_notop_resnet50.h5\n",
      "94699520/94694792 [==============================] - 4s 0us/step\n"
     ]
    },
    {
     "name": "stderr",
     "output_type": "stream",
     "text": [
      "W0801 01:26:19.410187 140346887079808 deprecation.py:506] From /usr/local/lib/python3.6/dist-packages/keras/backend/tensorflow_backend.py:3445: calling dropout (from tensorflow.python.ops.nn_ops) with keep_prob is deprecated and will be removed in a future version.\n",
      "Instructions for updating:\n",
      "Please use `rate` instead of `keep_prob`. Rate should be set to `rate = 1 - keep_prob`.\n",
      "W0801 01:26:19.460252 140346887079808 deprecation_wrapper.py:119] From /usr/local/lib/python3.6/dist-packages/keras/optimizers.py:790: The name tf.train.Optimizer is deprecated. Please use tf.compat.v1.train.Optimizer instead.\n",
      "\n",
      "W0801 01:26:19.469247 140346887079808 deprecation.py:323] From <ipython-input-44-5d124dd4d6b8>:3: add_dispatch_support.<locals>.wrapper (from tensorflow.python.ops.array_ops) is deprecated and will be removed in a future version.\n",
      "Instructions for updating:\n",
      "Use tf.where in 2.0, which has the same broadcast rule as np.where\n",
      "W0801 01:26:19.509076 140346887079808 deprecation.py:323] From <ipython-input-3-bc412d992b42>:14: py_func (from tensorflow.python.ops.script_ops) is deprecated and will be removed in a future version.\n",
      "Instructions for updating:\n",
      "tf.py_func is deprecated in TF V2. Instead, there are two\n",
      "    options available in V2.\n",
      "    - tf.py_function takes a python function which manipulates tf eager\n",
      "    tensors instead of numpy arrays. It's easy to convert a tf eager tensor to\n",
      "    an ndarray (just call tensor.numpy()) but having access to eager tensors\n",
      "    means `tf.py_function`s can use accelerators such as GPUs as well as\n",
      "    being differentiable using a gradient tape.\n",
      "    - tf.numpy_function maintains the semantics of the deprecated tf.py_func\n",
      "    (it is not differentiable, and manipulates numpy arrays). It drops the\n",
      "    stateful argument making all functions stateful.\n",
      "    \n"
     ]
    },
    {
     "name": "stdout",
     "output_type": "stream",
     "text": [
      "__________________________________________________________________________________________________\n",
      "Layer (type)                    Output Shape         Param #     Connected to                     \n",
      "==================================================================================================\n",
      "input_4 (InputLayer)            (None, 197, 197, 3)  0                                            \n",
      "__________________________________________________________________________________________________\n",
      "input_5 (InputLayer)            (None, 197, 197, 3)  0                                            \n",
      "__________________________________________________________________________________________________\n",
      "vggface_resnet50 (Model)        multiple             23561152    input_4[0][0]                    \n",
      "                                                                 input_5[0][0]                    \n",
      "__________________________________________________________________________________________________\n",
      "global_max_pooling2d_1 (GlobalM (None, 2048)         0           vggface_resnet50[1][0]           \n",
      "__________________________________________________________________________________________________\n",
      "global_max_pooling2d_2 (GlobalM (None, 2048)         0           vggface_resnet50[2][0]           \n",
      "__________________________________________________________________________________________________\n",
      "multiply_2 (Multiply)           (None, 2048)         0           global_max_pooling2d_1[0][0]     \n",
      "                                                                 global_max_pooling2d_1[0][0]     \n",
      "__________________________________________________________________________________________________\n",
      "multiply_3 (Multiply)           (None, 2048)         0           global_max_pooling2d_2[0][0]     \n",
      "                                                                 global_max_pooling2d_2[0][0]     \n",
      "__________________________________________________________________________________________________\n",
      "subtract_1 (Subtract)           (None, 2048)         0           global_max_pooling2d_1[0][0]     \n",
      "                                                                 global_max_pooling2d_2[0][0]     \n",
      "__________________________________________________________________________________________________\n",
      "lambda_1 (Lambda)               (None, 1)            0           global_max_pooling2d_1[0][0]     \n",
      "                                                                 global_max_pooling2d_2[0][0]     \n",
      "__________________________________________________________________________________________________\n",
      "subtract_2 (Subtract)           (None, 2048)         0           multiply_2[0][0]                 \n",
      "                                                                 multiply_3[0][0]                 \n",
      "__________________________________________________________________________________________________\n",
      "multiply_1 (Multiply)           (None, 2048)         0           subtract_1[0][0]                 \n",
      "                                                                 subtract_1[0][0]                 \n",
      "__________________________________________________________________________________________________\n",
      "dense_3 (Dense)                 (None, 100)          200         lambda_1[0][0]                   \n",
      "__________________________________________________________________________________________________\n",
      "dense_2 (Dense)                 (None, 100)          204900      subtract_2[0][0]                 \n",
      "__________________________________________________________________________________________________\n",
      "dense_1 (Dense)                 (None, 100)          204900      multiply_1[0][0]                 \n",
      "__________________________________________________________________________________________________\n",
      "concatenate_1 (Concatenate)     (None, 300)          0           dense_3[0][0]                    \n",
      "                                                                 dense_2[0][0]                    \n",
      "                                                                 dense_1[0][0]                    \n",
      "__________________________________________________________________________________________________\n",
      "dense_4 (Dense)                 (None, 100)          30100       concatenate_1[0][0]              \n",
      "__________________________________________________________________________________________________\n",
      "dropout_1 (Dropout)             (None, 100)          0           dense_4[0][0]                    \n",
      "__________________________________________________________________________________________________\n",
      "dense_5 (Dense)                 (None, 1)            101         dropout_1[0][0]                  \n",
      "==================================================================================================\n",
      "Total params: 24,001,353\n",
      "Trainable params: 23,948,233\n",
      "Non-trainable params: 53,120\n",
      "__________________________________________________________________________________________________\n"
     ]
    }
   ],
   "source": [
    "file_path = \"drive/My Drive/Face_recognition/vgg_face_cosine_focal2\"\n",
    "\n",
    "checkpoint = ModelCheckpoint(file_path, monitor='val_acc', verbose=1, save_best_only=True, mode='max')\n",
    "\n",
    "reduce_on_plateau = ReduceLROnPlateau(monitor=\"val_acc\", mode=\"max\", factor=0.1, patience=10, verbose=1)\n",
    "\n",
    "callbacks_list = [checkpoint, reduce_on_plateau]\n",
    "\n",
    "model = cosine_focal_model2()"
   ]
  },
  {
   "cell_type": "code",
   "execution_count": null,
   "metadata": {
    "colab": {
     "base_uri": "https://localhost:8080/",
     "height": 1000
    },
    "colab_type": "code",
    "id": "3VpVsN8pW5xy",
    "outputId": "61a275e2-df26-4b34-bed4-e1c820d993fd"
   },
   "outputs": [
    {
     "name": "stdout",
     "output_type": "stream",
     "text": [
      "Epoch 1/100"
     ]
    },
    {
     "name": "stderr",
     "output_type": "stream",
     "text": [
      "/usr/local/lib/python3.6/dist-packages/keras/engine/training_generator.py:47: UserWarning: Using a generator with `use_multiprocessing=True` and multiple workers may duplicate your data. Please consider using the`keras.utils.Sequence class.\n",
      "  UserWarning('Using a generator with `use_multiprocessing=True`'\n"
     ]
    },
    {
     "name": "stdout",
     "output_type": "stream",
     "text": [
      "\n",
      "200/200 [==============================] - 621s 3s/step - loss: 13.1002 - acc: 0.5353 - auroc: 0.5678 - val_loss: 11.5723 - val_acc: 0.5238 - val_auroc: 0.5599\n",
      "\n",
      "Epoch 00001: val_acc improved from -inf to 0.52375, saving model to drive/My Drive/Face_recognition/vgg_face_cosine_focal2\n",
      "Epoch 2/100\n",
      "200/200 [==============================] - 305s 2s/step - loss: 5.4389 - acc: 0.5816 - auroc: 0.6530 - val_loss: 6.3874 - val_acc: 0.5506 - val_auroc: 0.6009\n",
      "\n",
      "Epoch 00002: val_acc improved from 0.52375 to 0.55063, saving model to drive/My Drive/Face_recognition/vgg_face_cosine_focal2\n",
      "Epoch 3/100\n",
      "200/200 [==============================] - 202s 1s/step - loss: 3.2549 - acc: 0.5778 - auroc: 0.6445 - val_loss: 4.3567 - val_acc: 0.5487 - val_auroc: 0.5866\n",
      "\n",
      "Epoch 00003: val_acc did not improve from 0.55063\n",
      "Epoch 4/100\n",
      "200/200 [==============================] - 191s 953ms/step - loss: 2.0147 - acc: 0.5891 - auroc: 0.6484 - val_loss: 2.5833 - val_acc: 0.5563 - val_auroc: 0.6044\n",
      "\n",
      "Epoch 00004: val_acc improved from 0.55063 to 0.55625, saving model to drive/My Drive/Face_recognition/vgg_face_cosine_focal2\n",
      "Epoch 5/100\n",
      "200/200 [==============================] - 191s 953ms/step - loss: 1.5568 - acc: 0.5853 - auroc: 0.6647 - val_loss: 1.8283 - val_acc: 0.5644 - val_auroc: 0.6292\n",
      "\n",
      "Epoch 00005: val_acc improved from 0.55625 to 0.56437, saving model to drive/My Drive/Face_recognition/vgg_face_cosine_focal2\n",
      "Epoch 6/100\n",
      "200/200 [==============================] - 191s 954ms/step - loss: 1.3103 - acc: 0.5884 - auroc: 0.6850 - val_loss: 1.5993 - val_acc: 0.5725 - val_auroc: 0.6519\n",
      "\n",
      "Epoch 00006: val_acc improved from 0.56437 to 0.57250, saving model to drive/My Drive/Face_recognition/vgg_face_cosine_focal2\n",
      "Epoch 7/100\n",
      "200/200 [==============================] - 190s 952ms/step - loss: 1.1954 - acc: 0.5975 - auroc: 0.6938 - val_loss: 1.3337 - val_acc: 0.5494 - val_auroc: 0.6456\n",
      "\n",
      "Epoch 00007: val_acc did not improve from 0.57250\n",
      "Epoch 8/100\n",
      "200/200 [==============================] - 190s 952ms/step - loss: 1.1275 - acc: 0.5913 - auroc: 0.7110 - val_loss: 1.1876 - val_acc: 0.5938 - val_auroc: 0.6817\n",
      "\n",
      "Epoch 00008: val_acc improved from 0.57250 to 0.59375, saving model to drive/My Drive/Face_recognition/vgg_face_cosine_focal2\n",
      "Epoch 9/100\n",
      "200/200 [==============================] - 191s 954ms/step - loss: 1.0627 - acc: 0.6003 - auroc: 0.7398 - val_loss: 1.1671 - val_acc: 0.5881 - val_auroc: 0.6967\n",
      "\n",
      "Epoch 00009: val_acc did not improve from 0.59375\n",
      "Epoch 10/100\n",
      "200/200 [==============================] - 191s 955ms/step - loss: 1.0544 - acc: 0.6053 - auroc: 0.7347 - val_loss: 1.1389 - val_acc: 0.5837 - val_auroc: 0.7150\n",
      "\n",
      "Epoch 00010: val_acc did not improve from 0.59375\n",
      "Epoch 11/100\n",
      "200/200 [==============================] - 191s 957ms/step - loss: 1.0225 - acc: 0.5994 - auroc: 0.7512 - val_loss: 1.0955 - val_acc: 0.5819 - val_auroc: 0.7220\n",
      "\n",
      "Epoch 00011: val_acc did not improve from 0.59375\n",
      "Epoch 12/100\n",
      "200/200 [==============================] - 191s 957ms/step - loss: 0.9883 - acc: 0.6047 - auroc: 0.7598 - val_loss: 1.0452 - val_acc: 0.5887 - val_auroc: 0.7438\n",
      "\n",
      "Epoch 00012: val_acc did not improve from 0.59375\n",
      "Epoch 13/100\n",
      "200/200 [==============================] - 192s 959ms/step - loss: 0.9287 - acc: 0.6297 - auroc: 0.7934 - val_loss: 1.0441 - val_acc: 0.6075 - val_auroc: 0.7406\n",
      "\n",
      "Epoch 00013: val_acc improved from 0.59375 to 0.60750, saving model to drive/My Drive/Face_recognition/vgg_face_cosine_focal2\n",
      "Epoch 14/100\n",
      "200/200 [==============================] - 192s 960ms/step - loss: 0.9204 - acc: 0.6294 - auroc: 0.7987 - val_loss: 1.0641 - val_acc: 0.6069 - val_auroc: 0.7427\n",
      "\n",
      "Epoch 00014: val_acc did not improve from 0.60750\n",
      "Epoch 15/100\n",
      "200/200 [==============================] - 192s 961ms/step - loss: 0.9437 - acc: 0.6219 - auroc: 0.7916 - val_loss: 1.0063 - val_acc: 0.6069 - val_auroc: 0.7706\n",
      "\n",
      "Epoch 00015: val_acc did not improve from 0.60750\n",
      "Epoch 16/100\n",
      "200/200 [==============================] - 192s 958ms/step - loss: 0.9029 - acc: 0.6466 - auroc: 0.8083 - val_loss: 1.0480 - val_acc: 0.5869 - val_auroc: 0.7481\n",
      "\n",
      "Epoch 00016: val_acc did not improve from 0.60750\n",
      "Epoch 17/100\n",
      "200/200 [==============================] - 192s 958ms/step - loss: 0.9001 - acc: 0.6269 - auroc: 0.8080 - val_loss: 0.9892 - val_acc: 0.5813 - val_auroc: 0.7772\n",
      "\n",
      "Epoch 00017: val_acc did not improve from 0.60750\n",
      "Epoch 18/100\n",
      "200/200 [==============================] - 192s 959ms/step - loss: 0.8682 - acc: 0.6497 - auroc: 0.8282 - val_loss: 0.9705 - val_acc: 0.6444 - val_auroc: 0.7861\n",
      "\n",
      "Epoch 00018: val_acc improved from 0.60750 to 0.64438, saving model to drive/My Drive/Face_recognition/vgg_face_cosine_focal2\n",
      "Epoch 19/100\n",
      "200/200 [==============================] - 192s 959ms/step - loss: 0.8425 - acc: 0.6659 - auroc: 0.8422 - val_loss: 0.9628 - val_acc: 0.6238 - val_auroc: 0.7845\n",
      "\n",
      "Epoch 00019: val_acc did not improve from 0.64438\n",
      "Epoch 20/100\n",
      "200/200 [==============================] - 192s 959ms/step - loss: 0.8415 - acc: 0.6725 - auroc: 0.8395 - val_loss: 0.9447 - val_acc: 0.6375 - val_auroc: 0.7895\n",
      "\n",
      "Epoch 00020: val_acc did not improve from 0.64438\n",
      "Epoch 21/100\n",
      "200/200 [==============================] - 192s 958ms/step - loss: 0.8258 - acc: 0.6738 - auroc: 0.8420 - val_loss: 1.0056 - val_acc: 0.6288 - val_auroc: 0.7606\n",
      "\n",
      "Epoch 00021: val_acc did not improve from 0.64438\n",
      "Epoch 22/100\n",
      "200/200 [==============================] - 192s 959ms/step - loss: 0.8545 - acc: 0.6594 - auroc: 0.8375 - val_loss: 0.9212 - val_acc: 0.6162 - val_auroc: 0.8064\n",
      "\n",
      "Epoch 00022: val_acc did not improve from 0.64438\n",
      "Epoch 23/100\n",
      "200/200 [==============================] - 192s 962ms/step - loss: 0.8207 - acc: 0.6825 - auroc: 0.8502 - val_loss: 0.8709 - val_acc: 0.6375 - val_auroc: 0.8275\n",
      "\n",
      "Epoch 00023: val_acc did not improve from 0.64438\n",
      "Epoch 24/100\n",
      "200/200 [==============================] - 192s 959ms/step - loss: 0.8201 - acc: 0.6788 - auroc: 0.8491 - val_loss: 0.9021 - val_acc: 0.6362 - val_auroc: 0.8192\n",
      "\n",
      "Epoch 00024: val_acc did not improve from 0.64438\n",
      "Epoch 25/100\n",
      "200/200 [==============================] - 191s 954ms/step - loss: 0.8073 - acc: 0.6837 - auroc: 0.8530 - val_loss: 0.9691 - val_acc: 0.6331 - val_auroc: 0.7870\n",
      "\n",
      "Epoch 00025: val_acc did not improve from 0.64438\n",
      "Epoch 26/100\n",
      "200/200 [==============================] - 191s 953ms/step - loss: 0.7943 - acc: 0.6950 - auroc: 0.8598 - val_loss: 0.9554 - val_acc: 0.6375 - val_auroc: 0.7961\n",
      "\n",
      "Epoch 00026: val_acc did not improve from 0.64438\n",
      "Epoch 27/100\n",
      "200/200 [==============================] - 191s 954ms/step - loss: 0.7534 - acc: 0.7150 - auroc: 0.8792 - val_loss: 0.9343 - val_acc: 0.6569 - val_auroc: 0.8127\n",
      "\n",
      "Epoch 00027: val_acc improved from 0.64438 to 0.65687, saving model to drive/My Drive/Face_recognition/vgg_face_cosine_focal2\n",
      "Epoch 28/100\n",
      "200/200 [==============================] - 191s 957ms/step - loss: 0.7719 - acc: 0.7131 - auroc: 0.8720 - val_loss: 0.9265 - val_acc: 0.6581 - val_auroc: 0.8008\n",
      "\n",
      "Epoch 00028: val_acc improved from 0.65687 to 0.65812, saving model to drive/My Drive/Face_recognition/vgg_face_cosine_focal2\n",
      "Epoch 29/100\n",
      "200/200 [==============================] - 192s 959ms/step - loss: 0.7587 - acc: 0.7150 - auroc: 0.8748 - val_loss: 0.9197 - val_acc: 0.6469 - val_auroc: 0.8241\n",
      "\n",
      "Epoch 00029: val_acc did not improve from 0.65812\n",
      "Epoch 30/100\n",
      "200/200 [==============================] - 192s 960ms/step - loss: 0.7125 - acc: 0.7413 - auroc: 0.8904 - val_loss: 0.9072 - val_acc: 0.6681 - val_auroc: 0.8191\n",
      "\n",
      "Epoch 00030: val_acc improved from 0.65812 to 0.66812, saving model to drive/My Drive/Face_recognition/vgg_face_cosine_focal2\n",
      "Epoch 31/100\n",
      "200/200 [==============================] - 191s 957ms/step - loss: 0.7525 - acc: 0.7306 - auroc: 0.8770 - val_loss: 0.8602 - val_acc: 0.6775 - val_auroc: 0.8402\n",
      "\n",
      "Epoch 00031: val_acc improved from 0.66812 to 0.67750, saving model to drive/My Drive/Face_recognition/vgg_face_cosine_focal2\n",
      "Epoch 32/100\n",
      "200/200 [==============================] - 192s 960ms/step - loss: 0.7489 - acc: 0.7256 - auroc: 0.8796 - val_loss: 0.8791 - val_acc: 0.6794 - val_auroc: 0.8278\n",
      "\n",
      "Epoch 00032: val_acc improved from 0.67750 to 0.67937, saving model to drive/My Drive/Face_recognition/vgg_face_cosine_focal2\n",
      "Epoch 33/100\n",
      "200/200 [==============================] - 192s 959ms/step - loss: 0.7446 - acc: 0.7241 - auroc: 0.8784 - val_loss: 0.8530 - val_acc: 0.6706 - val_auroc: 0.8392\n",
      "\n",
      "Epoch 00033: val_acc did not improve from 0.67937\n",
      "Epoch 34/100\n",
      "200/200 [==============================] - 192s 961ms/step - loss: 0.7220 - acc: 0.7328 - auroc: 0.8904 - val_loss: 0.8638 - val_acc: 0.6619 - val_auroc: 0.8398\n",
      "\n",
      "Epoch 00034: val_acc did not improve from 0.67937\n",
      "Epoch 35/100\n",
      "200/200 [==============================] - 192s 958ms/step - loss: 0.7108 - acc: 0.7519 - auroc: 0.8928 - val_loss: 0.9258 - val_acc: 0.6281 - val_auroc: 0.8216\n",
      "\n",
      "Epoch 00035: val_acc did not improve from 0.67937\n",
      "Epoch 36/100\n",
      "200/200 [==============================] - 192s 959ms/step - loss: 0.7008 - acc: 0.7538 - auroc: 0.8972 - val_loss: 0.8398 - val_acc: 0.6944 - val_auroc: 0.8598\n",
      "\n",
      "Epoch 00036: val_acc improved from 0.67937 to 0.69437, saving model to drive/My Drive/Face_recognition/vgg_face_cosine_focal2\n",
      "Epoch 37/100\n",
      "200/200 [==============================] - 192s 961ms/step - loss: 0.6900 - acc: 0.7581 - auroc: 0.9009 - val_loss: 0.8615 - val_acc: 0.6956 - val_auroc: 0.8433\n",
      "\n",
      "Epoch 00037: val_acc improved from 0.69437 to 0.69563, saving model to drive/My Drive/Face_recognition/vgg_face_cosine_focal2\n",
      "Epoch 38/100\n",
      "200/200 [==============================] - 192s 961ms/step - loss: 0.6780 - acc: 0.7528 - auroc: 0.9041 - val_loss: 0.8633 - val_acc: 0.6806 - val_auroc: 0.8391\n",
      "\n",
      "Epoch 00038: val_acc did not improve from 0.69563\n",
      "Epoch 39/100\n",
      "200/200 [==============================] - 192s 961ms/step - loss: 0.6900 - acc: 0.7594 - auroc: 0.8982 - val_loss: 0.8597 - val_acc: 0.6950 - val_auroc: 0.8467\n",
      "\n",
      "Epoch 00039: val_acc did not improve from 0.69563\n",
      "Epoch 40/100\n",
      "200/200 [==============================] - 192s 961ms/step - loss: 0.6650 - acc: 0.7591 - auroc: 0.9070 - val_loss: 0.8159 - val_acc: 0.6975 - val_auroc: 0.8603\n",
      "\n",
      "Epoch 00040: val_acc improved from 0.69563 to 0.69750, saving model to drive/My Drive/Face_recognition/vgg_face_cosine_focal2\n",
      "Epoch 41/100\n",
      "200/200 [==============================] - 192s 960ms/step - loss: 0.6979 - acc: 0.7541 - auroc: 0.8989 - val_loss: 0.8492 - val_acc: 0.6831 - val_auroc: 0.8414\n",
      "\n",
      "Epoch 00041: val_acc did not improve from 0.69750\n",
      "Epoch 42/100\n",
      "200/200 [==============================] - 192s 960ms/step - loss: 0.6757 - acc: 0.7616 - auroc: 0.9038 - val_loss: 0.8234 - val_acc: 0.7013 - val_auroc: 0.8611\n",
      "\n",
      "Epoch 00042: val_acc improved from 0.69750 to 0.70125, saving model to drive/My Drive/Face_recognition/vgg_face_cosine_focal2\n",
      "Epoch 43/100\n",
      "200/200 [==============================] - 192s 959ms/step - loss: 0.7088 - acc: 0.7503 - auroc: 0.8958 - val_loss: 0.9257 - val_acc: 0.6737 - val_auroc: 0.8219\n",
      "\n",
      "Epoch 00043: val_acc did not improve from 0.70125\n",
      "Epoch 44/100\n",
      "200/200 [==============================] - 192s 959ms/step - loss: 0.6419 - acc: 0.7694 - auroc: 0.9168 - val_loss: 0.8689 - val_acc: 0.7212 - val_auroc: 0.8495\n",
      "\n",
      "Epoch 00044: val_acc improved from 0.70125 to 0.72125, saving model to drive/My Drive/Face_recognition/vgg_face_cosine_focal2\n",
      "Epoch 45/100\n",
      "200/200 [==============================] - 192s 960ms/step - loss: 0.6620 - acc: 0.7716 - auroc: 0.9106 - val_loss: 0.7788 - val_acc: 0.7300 - val_auroc: 0.8731\n",
      "\n",
      "Epoch 00045: val_acc improved from 0.72125 to 0.73000, saving model to drive/My Drive/Face_recognition/vgg_face_cosine_focal2\n",
      "Epoch 46/100\n",
      "200/200 [==============================] - 192s 961ms/step - loss: 0.6391 - acc: 0.7819 - auroc: 0.9144 - val_loss: 0.9142 - val_acc: 0.6731 - val_auroc: 0.8272\n",
      "\n",
      "Epoch 00046: val_acc did not improve from 0.73000\n",
      "Epoch 47/100\n",
      "200/200 [==============================] - 191s 956ms/step - loss: 0.6373 - acc: 0.7856 - auroc: 0.9170 - val_loss: 0.8170 - val_acc: 0.7087 - val_auroc: 0.8672\n",
      "\n",
      "Epoch 00047: val_acc did not improve from 0.73000\n",
      "Epoch 48/100\n",
      "200/200 [==============================] - 191s 956ms/step - loss: 0.6482 - acc: 0.7747 - auroc: 0.9108 - val_loss: 0.8145 - val_acc: 0.7006 - val_auroc: 0.8581\n",
      "\n",
      "Epoch 00048: val_acc did not improve from 0.73000\n",
      "Epoch 49/100\n",
      "200/200 [==============================] - 191s 957ms/step - loss: 0.6248 - acc: 0.7984 - auroc: 0.9252 - val_loss: 0.8537 - val_acc: 0.6956 - val_auroc: 0.8514\n",
      "\n",
      "Epoch 00049: val_acc did not improve from 0.73000\n",
      "Epoch 50/100\n",
      "200/200 [==============================] - 192s 959ms/step - loss: 0.6260 - acc: 0.7869 - auroc: 0.9205 - val_loss: 0.8388 - val_acc: 0.6950 - val_auroc: 0.8639\n",
      "\n",
      "Epoch 00050: val_acc did not improve from 0.73000\n",
      "Epoch 51/100\n",
      "200/200 [==============================] - 192s 958ms/step - loss: 0.5874 - acc: 0.8091 - auroc: 0.9340 - val_loss: 0.8690 - val_acc: 0.7056 - val_auroc: 0.8459\n",
      "\n",
      "Epoch 00051: val_acc did not improve from 0.73000\n",
      "Epoch 52/100\n",
      "200/200 [==============================] - 192s 959ms/step - loss: 0.6317 - acc: 0.7884 - auroc: 0.9212 - val_loss: 0.9198 - val_acc: 0.6931 - val_auroc: 0.8383\n",
      "\n",
      "Epoch 00052: val_acc did not improve from 0.73000\n",
      "Epoch 53/100\n",
      "200/200 [==============================] - 192s 960ms/step - loss: 0.6151 - acc: 0.7962 - auroc: 0.9225 - val_loss: 0.8576 - val_acc: 0.6869 - val_auroc: 0.8541\n",
      "\n",
      "Epoch 00053: val_acc did not improve from 0.73000\n",
      "Epoch 54/100\n",
      "200/200 [==============================] - 192s 959ms/step - loss: 0.6128 - acc: 0.7975 - auroc: 0.9221 - val_loss: 0.8882 - val_acc: 0.6963 - val_auroc: 0.8488\n",
      "\n",
      "Epoch 00054: val_acc did not improve from 0.73000\n",
      "Epoch 55/100\n",
      "200/200 [==============================] - 192s 959ms/step - loss: 0.5640 - acc: 0.8169 - auroc: 0.9383 - val_loss: 0.7910 - val_acc: 0.7406 - val_auroc: 0.8834\n",
      "\n",
      "Epoch 00055: val_acc improved from 0.73000 to 0.74062, saving model to drive/My Drive/Face_recognition/vgg_face_cosine_focal2\n",
      "Epoch 56/100\n",
      "200/200 [==============================] - 192s 960ms/step - loss: 0.5954 - acc: 0.8097 - auroc: 0.9303 - val_loss: 0.8968 - val_acc: 0.6944 - val_auroc: 0.8397\n",
      "\n",
      "Epoch 00056: val_acc did not improve from 0.74062\n",
      "Epoch 57/100\n",
      "200/200 [==============================] - 192s 958ms/step - loss: 0.5730 - acc: 0.8191 - auroc: 0.9345 - val_loss: 0.8840 - val_acc: 0.7150 - val_auroc: 0.8500\n",
      "\n",
      "Epoch 00057: val_acc did not improve from 0.74062\n",
      "Epoch 58/100\n",
      "200/200 [==============================] - 192s 958ms/step - loss: 0.5769 - acc: 0.8097 - auroc: 0.9346 - val_loss: 0.8820 - val_acc: 0.6881 - val_auroc: 0.8620\n",
      "\n",
      "Epoch 00058: val_acc did not improve from 0.74062\n",
      "Epoch 59/100\n",
      "200/200 [==============================] - 192s 958ms/step - loss: 0.5793 - acc: 0.8078 - auroc: 0.9331 - val_loss: 0.8691 - val_acc: 0.7019 - val_auroc: 0.8552\n",
      "\n",
      "Epoch 00059: val_acc did not improve from 0.74062\n",
      "Epoch 60/100\n",
      "200/200 [==============================] - 191s 957ms/step - loss: 0.5431 - acc: 0.8341 - auroc: 0.9442 - val_loss: 0.8513 - val_acc: 0.6987 - val_auroc: 0.8689\n",
      "\n",
      "Epoch 00060: val_acc did not improve from 0.74062\n",
      "Epoch 61/100\n",
      "200/200 [==============================] - 192s 959ms/step - loss: 0.5612 - acc: 0.8175 - auroc: 0.9409 - val_loss: 0.8813 - val_acc: 0.7144 - val_auroc: 0.8636\n",
      "\n",
      "Epoch 00061: val_acc did not improve from 0.74062\n",
      "Epoch 62/100\n",
      "200/200 [==============================] - 192s 960ms/step - loss: 0.5731 - acc: 0.8128 - auroc: 0.9342 - val_loss: 0.8609 - val_acc: 0.7250 - val_auroc: 0.8562\n",
      "\n",
      "Epoch 00062: val_acc did not improve from 0.74062\n",
      "Epoch 63/100\n",
      "200/200 [==============================] - 192s 960ms/step - loss: 0.5700 - acc: 0.8144 - auroc: 0.9365 - val_loss: 0.8283 - val_acc: 0.7087 - val_auroc: 0.8712\n",
      "\n",
      "Epoch 00063: val_acc did not improve from 0.74062\n",
      "Epoch 64/100\n",
      "200/200 [==============================] - 192s 960ms/step - loss: 0.5535 - acc: 0.8178 - auroc: 0.9377 - val_loss: 0.8589 - val_acc: 0.6981 - val_auroc: 0.8648\n",
      "\n",
      "Epoch 00064: val_acc did not improve from 0.74062\n",
      "Epoch 65/100\n",
      "200/200 [==============================] - 191s 956ms/step - loss: 0.5477 - acc: 0.8303 - auroc: 0.9416 - val_loss: 0.8510 - val_acc: 0.7369 - val_auroc: 0.8688\n",
      "\n",
      "Epoch 00065: val_acc did not improve from 0.74062\n",
      "\n",
      "Epoch 00065: ReduceLROnPlateau reducing learning rate to 9.999999747378752e-07.\n",
      "Epoch 66/100\n",
      "200/200 [==============================] - 191s 957ms/step - loss: 0.5340 - acc: 0.8334 - auroc: 0.9450 - val_loss: 0.8634 - val_acc: 0.7212 - val_auroc: 0.8623\n",
      "\n",
      "Epoch 00066: val_acc did not improve from 0.74062\n",
      "Epoch 67/100\n",
      "200/200 [==============================] - 191s 956ms/step - loss: 0.5354 - acc: 0.8366 - auroc: 0.9424 - val_loss: 0.8429 - val_acc: 0.7250 - val_auroc: 0.8673\n",
      "\n",
      "Epoch 00067: val_acc did not improve from 0.74062\n",
      "Epoch 68/100\n",
      "200/200 [==============================] - 191s 957ms/step - loss: 0.4981 - acc: 0.8450 - auroc: 0.9515 - val_loss: 0.8292 - val_acc: 0.7281 - val_auroc: 0.8702\n",
      "\n",
      "Epoch 00068: val_acc did not improve from 0.74062\n",
      "Epoch 69/100\n",
      "200/200 [==============================] - 191s 956ms/step - loss: 0.5288 - acc: 0.8378 - auroc: 0.9461 - val_loss: 0.9288 - val_acc: 0.6987 - val_auroc: 0.8500\n",
      "\n",
      "Epoch 00069: val_acc did not improve from 0.74062\n",
      "Epoch 70/100\n",
      "200/200 [==============================] - 192s 958ms/step - loss: 0.4993 - acc: 0.8425 - auroc: 0.9510 - val_loss: 0.8632 - val_acc: 0.7013 - val_auroc: 0.8638\n",
      "\n",
      "Epoch 00070: val_acc did not improve from 0.74062\n",
      "Epoch 71/100\n",
      "200/200 [==============================] - 192s 958ms/step - loss: 0.4858 - acc: 0.8484 - auroc: 0.9555 - val_loss: 0.8932 - val_acc: 0.7063 - val_auroc: 0.8603\n",
      "\n",
      "Epoch 00071: val_acc did not improve from 0.74062\n",
      "Epoch 72/100\n",
      "200/200 [==============================] - 192s 958ms/step - loss: 0.4939 - acc: 0.8406 - auroc: 0.9514 - val_loss: 0.8866 - val_acc: 0.7100 - val_auroc: 0.8736\n",
      "\n",
      "Epoch 00072: val_acc did not improve from 0.74062\n",
      "Epoch 73/100\n",
      "200/200 [==============================] - 192s 959ms/step - loss: 0.5183 - acc: 0.8466 - auroc: 0.9462 - val_loss: 0.8745 - val_acc: 0.7206 - val_auroc: 0.8653\n",
      "\n",
      "Epoch 00073: val_acc did not improve from 0.74062\n",
      "Epoch 74/100\n",
      "200/200 [==============================] - 192s 959ms/step - loss: 0.4906 - acc: 0.8416 - auroc: 0.9550 - val_loss: 0.8648 - val_acc: 0.7194 - val_auroc: 0.8603\n",
      "\n",
      "Epoch 00074: val_acc did not improve from 0.74062\n",
      "Epoch 75/100\n",
      "200/200 [==============================] - 192s 958ms/step - loss: 0.4698 - acc: 0.8538 - auroc: 0.9559 - val_loss: 0.8636 - val_acc: 0.6981 - val_auroc: 0.8612\n",
      "\n",
      "Epoch 00075: val_acc did not improve from 0.74062\n",
      "\n",
      "Epoch 00075: ReduceLROnPlateau reducing learning rate to 9.999999974752428e-08.\n",
      "Epoch 76/100\n",
      "200/200 [==============================] - 191s 957ms/step - loss: 0.4774 - acc: 0.8609 - auroc: 0.9570 - val_loss: 0.8611 - val_acc: 0.7275 - val_auroc: 0.8689\n",
      "\n",
      "Epoch 00076: val_acc did not improve from 0.74062\n",
      "Epoch 77/100\n",
      "200/200 [==============================] - 192s 958ms/step - loss: 0.4934 - acc: 0.8534 - auroc: 0.9520 - val_loss: 0.9273 - val_acc: 0.7137 - val_auroc: 0.8567\n",
      "\n",
      "Epoch 00077: val_acc did not improve from 0.74062\n",
      "Epoch 78/100\n",
      "200/200 [==============================] - 191s 957ms/step - loss: 0.4831 - acc: 0.8556 - auroc: 0.9543 - val_loss: 0.8816 - val_acc: 0.7219 - val_auroc: 0.8603\n",
      "\n",
      "Epoch 00078: val_acc did not improve from 0.74062\n",
      "Epoch 79/100\n",
      "200/200 [==============================] - 192s 959ms/step - loss: 0.4979 - acc: 0.8566 - auroc: 0.9524 - val_loss: 0.9047 - val_acc: 0.7150 - val_auroc: 0.8591\n",
      "\n",
      "Epoch 00079: val_acc did not improve from 0.74062\n",
      "Epoch 80/100\n",
      "200/200 [==============================] - 192s 960ms/step - loss: 0.4809 - acc: 0.8553 - auroc: 0.9556 - val_loss: 0.8907 - val_acc: 0.7106 - val_auroc: 0.8514\n",
      "\n",
      "Epoch 00080: val_acc did not improve from 0.74062\n",
      "Epoch 81/100\n",
      "200/200 [==============================] - 191s 957ms/step - loss: 0.4717 - acc: 0.8606 - auroc: 0.9577 - val_loss: 0.8482 - val_acc: 0.7219 - val_auroc: 0.8778\n",
      "\n",
      "Epoch 00081: val_acc did not improve from 0.74062\n",
      "Epoch 82/100\n",
      "200/200 [==============================] - 192s 959ms/step - loss: 0.4686 - acc: 0.8594 - auroc: 0.9544 - val_loss: 0.8125 - val_acc: 0.7312 - val_auroc: 0.8895\n",
      "\n",
      "Epoch 00082: val_acc did not improve from 0.74062\n",
      "Epoch 83/100\n",
      "200/200 [==============================] - 192s 961ms/step - loss: 0.4766 - acc: 0.8538 - auroc: 0.9555 - val_loss: 0.8590 - val_acc: 0.7219 - val_auroc: 0.8627\n",
      "\n",
      "Epoch 00083: val_acc did not improve from 0.74062\n",
      "Epoch 84/100\n",
      "200/200 [==============================] - 192s 961ms/step - loss: 0.4560 - acc: 0.8584 - auroc: 0.9591 - val_loss: 0.8638 - val_acc: 0.7194 - val_auroc: 0.8745\n",
      "\n",
      "Epoch 00084: val_acc did not improve from 0.74062\n",
      "Epoch 85/100\n",
      "200/200 [==============================] - 192s 960ms/step - loss: 0.4988 - acc: 0.8538 - auroc: 0.9512 - val_loss: 0.8780 - val_acc: 0.7075 - val_auroc: 0.8600\n",
      "\n",
      "Epoch 00085: val_acc did not improve from 0.74062\n",
      "\n",
      "Epoch 00085: ReduceLROnPlateau reducing learning rate to 1.0000000116860975e-08.\n",
      "Epoch 86/100\n",
      "200/200 [==============================] - 192s 960ms/step - loss: 0.5100 - acc: 0.8522 - auroc: 0.9480 - val_loss: 0.8220 - val_acc: 0.7238 - val_auroc: 0.8827\n",
      "\n",
      "Epoch 00086: val_acc did not improve from 0.74062\n",
      "Epoch 87/100\n",
      "200/200 [==============================] - 192s 958ms/step - loss: 0.4687 - acc: 0.8581 - auroc: 0.9586 - val_loss: 0.8206 - val_acc: 0.7381 - val_auroc: 0.8828\n",
      "\n",
      "Epoch 00087: val_acc did not improve from 0.74062\n",
      "Epoch 88/100\n",
      "200/200 [==============================] - 192s 958ms/step - loss: 0.4567 - acc: 0.8681 - auroc: 0.9621 - val_loss: 0.8886 - val_acc: 0.7169 - val_auroc: 0.8689\n",
      "\n",
      "Epoch 00088: val_acc did not improve from 0.74062\n",
      "Epoch 89/100\n",
      "200/200 [==============================] - 191s 956ms/step - loss: 0.4347 - acc: 0.8684 - auroc: 0.9678 - val_loss: 0.9263 - val_acc: 0.7063 - val_auroc: 0.8550\n",
      "\n",
      "Epoch 00089: val_acc did not improve from 0.74062\n",
      "Epoch 90/100\n",
      "200/200 [==============================] - 191s 957ms/step - loss: 0.4647 - acc: 0.8616 - auroc: 0.9594 - val_loss: 0.8855 - val_acc: 0.7144 - val_auroc: 0.8698\n",
      "\n",
      "Epoch 00090: val_acc did not improve from 0.74062\n",
      "Epoch 91/100\n",
      "200/200 [==============================] - 191s 956ms/step - loss: 0.4722 - acc: 0.8484 - auroc: 0.9558 - val_loss: 0.8795 - val_acc: 0.7238 - val_auroc: 0.8634\n",
      "\n",
      "Epoch 00091: val_acc did not improve from 0.74062\n",
      "Epoch 92/100\n",
      "200/200 [==============================] - 192s 958ms/step - loss: 0.4807 - acc: 0.8584 - auroc: 0.9570 - val_loss: 0.8215 - val_acc: 0.7319 - val_auroc: 0.8772\n",
      "\n",
      "Epoch 00092: val_acc did not improve from 0.74062\n",
      "Epoch 93/100\n",
      "200/200 [==============================] - 191s 954ms/step - loss: 0.4869 - acc: 0.8584 - auroc: 0.9557 - val_loss: 0.8941 - val_acc: 0.7125 - val_auroc: 0.8647\n",
      "\n",
      "Epoch 00093: val_acc did not improve from 0.74062\n",
      "Epoch 94/100\n",
      "200/200 [==============================] - 191s 954ms/step - loss: 0.4941 - acc: 0.8475 - auroc: 0.9535 - val_loss: 0.9007 - val_acc: 0.7106 - val_auroc: 0.8748\n",
      "\n",
      "Epoch 00094: val_acc did not improve from 0.74062\n",
      "Epoch 95/100\n",
      "200/200 [==============================] - 191s 955ms/step - loss: 0.4785 - acc: 0.8516 - auroc: 0.9555 - val_loss: 0.8935 - val_acc: 0.7131 - val_auroc: 0.8669\n",
      "\n",
      "Epoch 00095: val_acc did not improve from 0.74062\n",
      "\n",
      "Epoch 00095: ReduceLROnPlateau reducing learning rate to 9.999999939225292e-10.\n",
      "Epoch 96/100\n",
      "200/200 [==============================] - 191s 954ms/step - loss: 0.4541 - acc: 0.8634 - auroc: 0.9588 - val_loss: 0.8724 - val_acc: 0.7194 - val_auroc: 0.8644\n",
      "\n",
      "Epoch 00096: val_acc did not improve from 0.74062\n",
      "Epoch 97/100\n",
      "200/200 [==============================] - 191s 953ms/step - loss: 0.5132 - acc: 0.8438 - auroc: 0.9490 - val_loss: 0.8936 - val_acc: 0.7175 - val_auroc: 0.8725\n",
      "\n",
      "Epoch 00097: val_acc did not improve from 0.74062\n",
      "Epoch 98/100\n",
      "200/200 [==============================] - 191s 955ms/step - loss: 0.4433 - acc: 0.8703 - auroc: 0.9652 - val_loss: 0.8438 - val_acc: 0.7262 - val_auroc: 0.8739\n",
      "\n",
      "Epoch 00098: val_acc did not improve from 0.74062\n",
      "Epoch 99/100\n",
      "200/200 [==============================] - 192s 962ms/step - loss: 0.4628 - acc: 0.8628 - auroc: 0.9585 - val_loss: 0.8782 - val_acc: 0.7131 - val_auroc: 0.8580\n",
      "\n",
      "Epoch 00099: val_acc did not improve from 0.74062\n",
      "Epoch 100/100\n",
      "200/200 [==============================] - 192s 961ms/step - loss: 0.4621 - acc: 0.8653 - auroc: 0.9616 - val_loss: 0.8676 - val_acc: 0.7150 - val_auroc: 0.8628\n",
      "\n",
      "Epoch 00100: val_acc did not improve from 0.74062\n"
     ]
    },
    {
     "data": {
      "text/plain": [
       "<keras.callbacks.History at 0x7fa463509080>"
      ]
     },
     "execution_count": 47,
     "metadata": {
      "tags": []
     },
     "output_type": "execute_result"
    }
   ],
   "source": [
    "model.fit_generator(gen(train, train_person_to_images_map, batch_size=16), use_multiprocessing=True,\n",
    "                    validation_data=gen(val, val_person_to_images_map, batch_size=16), epochs=100, verbose=1,\n",
    "                    workers = 4, callbacks=callbacks_list, steps_per_epoch=200, validation_steps=100)"
   ]
  },
  {
   "cell_type": "code",
   "execution_count": null,
   "metadata": {
    "colab": {},
    "colab_type": "code",
    "id": "J1D9wm1yuoWe"
   },
   "outputs": [],
   "source": [
    "# def triplet_loss(y_true, y_pred, alpha = 0.3):    \n",
    "#     anchor, positive, negative = y_pred[0], y_pred[1], y_pred[2]    \n",
    "#     pos_dist = tf.reduce_sum(tf.square(tf.subtract(anchor, positive)), axis=-1)    \n",
    "#     neg_dist = tf.reduce_sum(tf.square(tf.subtract(anchor, negative)), axis=-1)    \n",
    "#     basic_loss = tf.add(tf.subtract(pos_dist, neg_dist), alpha)    \n",
    "#     loss = tf.reduce_sum(tf.maximum(basic_loss, 0.0))       \n",
    "#     return loss"
   ]
  },
  {
   "cell_type": "code",
   "execution_count": null,
   "metadata": {
    "colab": {},
    "colab_type": "code",
    "id": "-Ai0iJmyW5r5"
   },
   "outputs": [],
   "source": [
    "model.load_weights(\"drive/My Drive/Face_recognition/vgg_face_cosine_focal2\")"
   ]
  },
  {
   "cell_type": "code",
   "execution_count": null,
   "metadata": {
    "colab": {},
    "colab_type": "code",
    "id": "eGLVOhNkW5lY"
   },
   "outputs": [],
   "source": [
    "model.compile(loss=[focal_loss(alpha=.25, gamma=2)], metrics=['acc',auroc], optimizer=Adam(0.00001))"
   ]
  },
  {
   "cell_type": "code",
   "execution_count": null,
   "metadata": {
    "colab": {
     "base_uri": "https://localhost:8080/",
     "height": 34
    },
    "colab_type": "code",
    "id": "PxRBWDUvW5b1",
    "outputId": "f6832657-4d55-4783-cef1-bed8c4a8ab22"
   },
   "outputs": [
    {
     "name": "stderr",
     "output_type": "stream",
     "text": [
      "166it [54:19, 14.17s/it]\n"
     ]
    }
   ],
   "source": [
    "test_path = \"drive/My Drive/Face_recognition/test/\"\n",
    "def chunker(seq, size=32):\n",
    "    return (seq[pos:pos + size] for pos in range(0, len(seq), size))\n",
    "\n",
    "\n",
    "from tqdm import tqdm\n",
    "\n",
    "submission = pd.read_csv('drive/My Drive/Face_recognition/sample_submission.csv')\n",
    "\n",
    "predictions = []\n",
    "\n",
    "for batch in tqdm(chunker(submission.img_pair.values)):\n",
    "    X1 = [x.split(\"-\")[0] for x in batch]\n",
    "    X1 = np.array([read_img(test_path + x) for x in X1])\n",
    "\n",
    "    X2 = [x.split(\"-\")[1] for x in batch]\n",
    "    X2 = np.array([read_img(test_path + x) for x in X2])\n",
    "\n",
    "    pred = model.predict([X1, X2]).ravel().tolist()\n",
    "    predictions += pred\n",
    "\n",
    "submission['is_related'] = predictions\n",
    "\n",
    "submission.to_csv(\"drive/My Drive/Face_recognition/cosine_focal_submission2.csv\", index=False)"
   ]
  },
  {
   "cell_type": "markdown",
   "metadata": {
    "colab_type": "text",
    "id": "rB28wIWHVqQF"
   },
   "source": [
    "### Test Score 0.8666"
   ]
  },
  {
   "cell_type": "code",
   "execution_count": null,
   "metadata": {
    "colab": {},
    "colab_type": "code",
    "id": "X44ag-eH9fSh"
   },
   "outputs": [],
   "source": []
  },
  {
   "cell_type": "markdown",
   "metadata": {
    "colab_type": "text",
    "id": "BWCsKPG_x29M"
   },
   "source": [
    "### 7. Siamese model using custom layers instead of VGGFace with 197X197X3 input"
   ]
  },
  {
   "cell_type": "markdown",
   "metadata": {
    "colab_type": "text",
    "id": "M8-L5jzlDRsN"
   },
   "source": [
    "### https://github.com/hlamba28/One-Shot-Learning-with-Siamese-Networks/blob/master/Siamese%20on%20Omniglot%20Dataset.ipynb"
   ]
  },
  {
   "cell_type": "code",
   "execution_count": null,
   "metadata": {
    "colab": {},
    "colab_type": "code",
    "id": "s4JbsscSk5Ug"
   },
   "outputs": [],
   "source": [
    "def initialize_weights(shape, name=None):\n",
    "    \"\"\"\n",
    "        The paper, http://www.cs.utoronto.ca/~gkoch/files/msc-thesis.pdf\n",
    "        suggests to initialize CNN layer weights with mean as 0.0 and standard deviation of 0.01\n",
    "    \"\"\"\n",
    "    return np.random.normal(loc = 0.0, scale = 1e-2, size = shape)"
   ]
  },
  {
   "cell_type": "code",
   "execution_count": null,
   "metadata": {
    "colab": {},
    "colab_type": "code",
    "id": "sRekVlANmLjE"
   },
   "outputs": [],
   "source": [
    "def initialize_bias(shape, name=None):\n",
    "    \"\"\"\n",
    "        The paper, http://www.cs.utoronto.ca/~gkoch/files/msc-thesis.pdf\n",
    "        suggests to initialize CNN layer bias with mean as 0.5 and standard deviation of 0.01\n",
    "    \"\"\"\n",
    "    return np.random.normal(loc = 0.5, scale = 1e-2, size = shape)"
   ]
  },
  {
   "cell_type": "code",
   "execution_count": null,
   "metadata": {
    "colab": {},
    "colab_type": "code",
    "id": "U-ap7Y3Tk5YN"
   },
   "outputs": [],
   "source": [
    "\n",
    "\n",
    "\n",
    "def get_siamese_model(input_shape=(197, 197, 3)):\n",
    "    \"\"\"\n",
    "        Model architecture\n",
    "    \"\"\"\n",
    "    \n",
    "    # Define the tensors for the two input images\n",
    "    left_input = Input(input_shape)\n",
    "    right_input = Input(input_shape)\n",
    "    \n",
    "    # Convolutional Neural Network\n",
    "    model = Sequential()\n",
    "    model.add(Conv2D(64, (10,10), activation='relu', input_shape=input_shape,\n",
    "                   kernel_initializer=initialize_weights, kernel_regularizer=l2(2e-4)))\n",
    "    model.add(MaxPooling2D())\n",
    "    model.add(Conv2D(128, (7,7), activation='relu',\n",
    "                     kernel_initializer=initialize_weights,\n",
    "                     bias_initializer=initialize_bias, kernel_regularizer=l2(2e-4)))\n",
    "    model.add(MaxPooling2D())\n",
    "    model.add(Conv2D(128, (4,4), activation='relu', kernel_initializer=initialize_weights,\n",
    "                     bias_initializer=initialize_bias, kernel_regularizer=l2(2e-4)))\n",
    "    model.add(MaxPooling2D())\n",
    "    model.add(Conv2D(256, (4,4), activation='relu', kernel_initializer=initialize_weights,\n",
    "                     bias_initializer=initialize_bias, kernel_regularizer=l2(2e-4)))\n",
    "    model.add(Flatten())\n",
    "    model.add(Dense(4096, activation='sigmoid',\n",
    "                   kernel_regularizer=l2(1e-3),\n",
    "                   kernel_initializer=initialize_weights,bias_initializer=initialize_bias))\n",
    "    \n",
    "    # Generate the encodings (feature vectors) for the two images\n",
    "    encoded_l = model(left_input)\n",
    "    encoded_r = model(right_input)\n",
    "    \n",
    "    # Add a customized layer to compute the absolute difference between the encodings\n",
    "    L1_layer = Lambda(lambda tensors:K.abs(tensors[0] - tensors[1]))\n",
    "    L1_distance = L1_layer([encoded_l, encoded_r])\n",
    "    \n",
    "    # Add a dense layer with a sigmoid unit to generate the similarity score\n",
    "    prediction = Dense(1,activation='sigmoid',bias_initializer=initialize_bias)(L1_distance)\n",
    "    \n",
    "    # Connect the inputs with the outputs\n",
    "    siamese_net = Model(inputs=[left_input,right_input],outputs=prediction)\n",
    "    \n",
    "    # return the model\n",
    "    return siamese_net"
   ]
  },
  {
   "cell_type": "code",
   "execution_count": null,
   "metadata": {
    "colab": {
     "base_uri": "https://localhost:8080/",
     "height": 188
    },
    "colab_type": "code",
    "id": "o7VRDnI0lK6V",
    "outputId": "2f3ae8b4-4fd4-43a2-d67a-830a4b0feadf"
   },
   "outputs": [
    {
     "name": "stdout",
     "output_type": "stream",
     "text": [
      "WARNING:tensorflow:From C:\\Users\\prabh\\Anaconda3\\lib\\site-packages\\tensorflow\\python\\framework\\op_def_library.py:263: colocate_with (from tensorflow.python.framework.ops) is deprecated and will be removed in a future version.\n",
      "Instructions for updating:\n",
      "Colocations handled automatically by placer.\n"
     ]
    }
   ],
   "source": [
    "file_path = \"siamese_model1.h5\"\n",
    "\n",
    "checkpoint = ModelCheckpoint(file_path, monitor='val_auroc', verbose=1, save_best_only=True, mode='max')\n",
    "\n",
    "reduce_on_plateau = ReduceLROnPlateau(monitor=\"val_auroc\", mode=\"max\", factor=0.1, patience=20, verbose=1)\n",
    "\n",
    "callbacks_list = [checkpoint, reduce_on_plateau]\n",
    "\n",
    "model = get_siamese_model()"
   ]
  },
  {
   "cell_type": "code",
   "execution_count": null,
   "metadata": {
    "colab": {
     "base_uri": "https://localhost:8080/",
     "height": 373
    },
    "colab_type": "code",
    "id": "00Nr82d8todH",
    "outputId": "91250a17-9540-4a8a-9724-684402fbbb61"
   },
   "outputs": [
    {
     "name": "stdout",
     "output_type": "stream",
     "text": [
      "WARNING:tensorflow:From <ipython-input-35-a8e5eda55064>:4: py_func (from tensorflow.python.ops.script_ops) is deprecated and will be removed in a future version.\n",
      "Instructions for updating:\n",
      "tf.py_func is deprecated in TF V2. Instead, use\n",
      "    tf.py_function, which takes a python function which manipulates tf eager\n",
      "    tensors instead of numpy arrays. It's easy to convert a tf eager tensor to\n",
      "    an ndarray (just call tensor.numpy()) but having access to eager tensors\n",
      "    means `tf.py_function`s can use accelerators such as GPUs as well as\n",
      "    being differentiable using a gradient tape.\n",
      "    \n"
     ]
    }
   ],
   "source": [
    "model.compile(loss=\"binary_crossentropy\", metrics=['acc',auroc], optimizer=Adam(0.00001))"
   ]
  },
  {
   "cell_type": "code",
   "execution_count": null,
   "metadata": {
    "colab": {
     "base_uri": "https://localhost:8080/",
     "height": 336
    },
    "colab_type": "code",
    "id": "i7bovkz0BgKo",
    "outputId": "b7d03d60-48a9-457f-c028-2db240dd089f"
   },
   "outputs": [
    {
     "name": "stdout",
     "output_type": "stream",
     "text": [
      "__________________________________________________________________________________________________\n",
      "Layer (type)                    Output Shape         Param #     Connected to                     \n",
      "==================================================================================================\n",
      "input_1 (InputLayer)            (None, 197, 197, 3)  0                                            \n",
      "__________________________________________________________________________________________________\n",
      "input_2 (InputLayer)            (None, 197, 197, 3)  0                                            \n",
      "__________________________________________________________________________________________________\n",
      "sequential_1 (Sequential)       (None, 4096)         304250176   input_1[0][0]                    \n",
      "                                                                 input_2[0][0]                    \n",
      "__________________________________________________________________________________________________\n",
      "lambda_1 (Lambda)               (None, 4096)         0           sequential_1[1][0]               \n",
      "                                                                 sequential_1[2][0]               \n",
      "__________________________________________________________________________________________________\n",
      "dense_2 (Dense)                 (None, 1)            4097        lambda_1[0][0]                   \n",
      "==================================================================================================\n",
      "Total params: 304,254,273\n",
      "Trainable params: 304,254,273\n",
      "Non-trainable params: 0\n",
      "__________________________________________________________________________________________________\n"
     ]
    }
   ],
   "source": [
    "model.summary()"
   ]
  },
  {
   "cell_type": "code",
   "execution_count": null,
   "metadata": {
    "colab": {},
    "colab_type": "code",
    "id": "DwYfLWzAlR9b"
   },
   "outputs": [],
   "source": [
    "model.fit_generator(gen(train, train_person_to_images_map, batch_size=16),\n",
    "                    validation_data=gen(val, val_person_to_images_map, batch_size=16), epochs=20, verbose=2,\n",
    "                    callbacks=callbacks_list, steps_per_epoch=200, validation_steps=100)"
   ]
  },
  {
   "cell_type": "code",
   "execution_count": null,
   "metadata": {
    "colab": {},
    "colab_type": "code",
    "id": "LtK5p-mZtfQX"
   },
   "outputs": [],
   "source": [
    "### The above model takes a lot of time and runs out of memroy  so, reducing the trainable params"
   ]
  },
  {
   "cell_type": "code",
   "execution_count": null,
   "metadata": {
    "colab": {},
    "colab_type": "code",
    "id": "4RCZ2KEU92tS"
   },
   "outputs": [],
   "source": [
    "### Siamese model with 160X160X3 input"
   ]
  },
  {
   "cell_type": "code",
   "execution_count": null,
   "metadata": {
    "colab": {},
    "colab_type": "code",
    "id": "IJT4q1m0937y"
   },
   "outputs": [],
   "source": [
    "#from keras.preprocessing import image\n",
    "def read_img2(path):\n",
    "    #change1\n",
    "    img = image.load_img(path, target_size=(160, 160))\n",
    "    img = np.array(img).astype(np.float)\n",
    "    return img\n",
    "def gen2(list_tuples, person_to_images_map, batch_size=16):\n",
    "    ppl = list(person_to_images_map.keys())\n",
    "    while True:\n",
    "        #sample() Chooses k unique random elements from a population sequence or set\n",
    "        # Filling batch tuples with half 1 lables\n",
    "        batch_tuples = sample(list_tuples, batch_size // 2)\n",
    "        # Assigning 1 label to all the pairs given in relationships file\n",
    "        labels = [1] * len(batch_tuples)\n",
    "        # Filling half batch_tuples with 0 labels\n",
    "        while len(batch_tuples) < batch_size:\n",
    "            p1 = choice(ppl)\n",
    "            p2 = choice(ppl)\n",
    "\n",
    "            if p1 != p2 and (p1, p2) not in list_tuples and (p2, p1) not in list_tuples:\n",
    "                batch_tuples.append((p1, p2))\n",
    "                labels.append(0)\n",
    "\n",
    "        for x in batch_tuples:\n",
    "            if not len(person_to_images_map[x[0]]):\n",
    "                print(x[0])\n",
    "        \n",
    "        # Selecting a single image out of many provided for each user\n",
    "        X1 = [choice(person_to_images_map[x[0]]) for x in batch_tuples]\n",
    "        X1 = np.array([read_img2(x) for x in X1])\n",
    "        \n",
    "        # Selecting a single image out of many provided for each user\n",
    "        X2 = [choice(person_to_images_map[x[1]]) for x in batch_tuples]\n",
    "        X2 = np.array([read_img2(x) for x in X2])\n",
    "\n",
    "        yield [X1, X2], labels\n"
   ]
  },
  {
   "cell_type": "code",
   "execution_count": null,
   "metadata": {
    "colab": {},
    "colab_type": "code",
    "id": "VgDlZ4CDDRsi"
   },
   "outputs": [],
   "source": [
    "def get_siamese_model2(input_shape=(160, 160,3)):\n",
    "    \"\"\"\n",
    "        Model architecture\n",
    "    \"\"\"\n",
    "    \n",
    "    # Define the tensors for the two input images\n",
    "    left_input = Input(input_shape)\n",
    "    right_input = Input(input_shape)\n",
    "    \n",
    "    # Convolutional Neural Network\n",
    "    model = Sequential()\n",
    "    model.add(Conv2D(64, (10,10), activation='relu', input_shape=input_shape,\n",
    "                   kernel_initializer=initialize_weights, kernel_regularizer=l2(2e-4)))\n",
    "    model.add(MaxPooling2D())\n",
    "    model.add(Conv2D(128, (7,7), activation='relu',\n",
    "                     kernel_initializer=initialize_weights,\n",
    "                     bias_initializer=initialize_bias, kernel_regularizer=l2(2e-4)))\n",
    "    model.add(MaxPooling2D())\n",
    "    model.add(Conv2D(128, (4,4), activation='relu', kernel_initializer=initialize_weights,\n",
    "                     bias_initializer=initialize_bias, kernel_regularizer=l2(2e-4)))\n",
    "    model.add(MaxPooling2D())\n",
    "    model.add(Conv2D(256, (4,4), activation='relu', kernel_initializer=initialize_weights,\n",
    "                     bias_initializer=initialize_bias, kernel_regularizer=l2(2e-4)))\n",
    "    model.add(Flatten())\n",
    "    model.add(Dense(4096, activation='sigmoid',\n",
    "                   kernel_regularizer=l2(1e-3),\n",
    "                   kernel_initializer=initialize_weights,bias_initializer=initialize_bias))\n",
    "    \n",
    "    # Generate the encodings (feature vectors) for the two images\n",
    "    encoded_l = model(left_input)\n",
    "    encoded_r = model(right_input)\n",
    "    \n",
    "    # Add a customized layer to compute the absolute difference between the encodings\n",
    "    L1_layer = Lambda(lambda tensors:K.abs(tensors[0] - tensors[1]))\n",
    "    L1_distance = L1_layer([encoded_l, encoded_r])\n",
    "    \n",
    "    # Add a dense layer with a sigmoid unit to generate the similarity score\n",
    "    prediction = Dense(1,activation='sigmoid',bias_initializer=initialize_bias)(L1_distance)\n",
    "    \n",
    "    # Connect the inputs with the outputs\n",
    "    siamese_net = Model(inputs=[left_input,right_input],outputs=prediction)\n",
    "    \n",
    "    # return the model\n",
    "    return siamese_net\n",
    "\n",
    "file_path = \"siamese_model2.h5\"\n",
    "\n",
    "checkpoint = ModelCheckpoint(file_path, monitor='val_auroc', verbose=1, save_best_only=True, mode='max')\n",
    "\n",
    "reduce_on_plateau = ReduceLROnPlateau(monitor=\"val_auroc\", mode=\"max\", factor=0.1, patience=20, verbose=1)\n",
    "\n",
    "callbacks_list = [checkpoint, reduce_on_plateau]\n",
    "\n",
    "model = get_siamese_model2()"
   ]
  },
  {
   "cell_type": "code",
   "execution_count": null,
   "metadata": {
    "colab": {},
    "colab_type": "code",
    "id": "SWU_eY8BDRsm",
    "outputId": "24c11d80-98d4-440b-e4e0-6b7338a9110e"
   },
   "outputs": [
    {
     "name": "stdout",
     "output_type": "stream",
     "text": [
      "__________________________________________________________________________________________________\n",
      "Layer (type)                    Output Shape         Param #     Connected to                     \n",
      "==================================================================================================\n",
      "input_5 (InputLayer)            (None, 160, 160, 3)  0                                            \n",
      "__________________________________________________________________________________________________\n",
      "input_6 (InputLayer)            (None, 160, 160, 3)  0                                            \n",
      "__________________________________________________________________________________________________\n",
      "sequential_3 (Sequential)       (None, 4096)         152206656   input_5[0][0]                    \n",
      "                                                                 input_6[0][0]                    \n",
      "__________________________________________________________________________________________________\n",
      "lambda_3 (Lambda)               (None, 4096)         0           sequential_3[1][0]               \n",
      "                                                                 sequential_3[2][0]               \n",
      "__________________________________________________________________________________________________\n",
      "dense_6 (Dense)                 (None, 1)            4097        lambda_3[0][0]                   \n",
      "==================================================================================================\n",
      "Total params: 152,210,753\n",
      "Trainable params: 152,210,753\n",
      "Non-trainable params: 0\n",
      "__________________________________________________________________________________________________\n"
     ]
    }
   ],
   "source": [
    "model.compile(loss=\"binary_crossentropy\", metrics=['acc',auroc], optimizer=Adam(0.0001))\n",
    "model.summary()"
   ]
  },
  {
   "cell_type": "code",
   "execution_count": null,
   "metadata": {
    "colab": {},
    "colab_type": "code",
    "id": "NBTG8yGmDRso"
   },
   "outputs": [],
   "source": []
  },
  {
   "cell_type": "code",
   "execution_count": null,
   "metadata": {
    "colab": {},
    "colab_type": "code",
    "id": "K-kgSC18DRsp",
    "outputId": "21533d2a-525e-449e-f314-684d60d68bee"
   },
   "outputs": [
    {
     "name": "stdout",
     "output_type": "stream",
     "text": [
      "WARNING:tensorflow:From C:\\Users\\prabh\\Anaconda3\\lib\\site-packages\\tensorflow\\python\\ops\\math_ops.py:3066: to_int32 (from tensorflow.python.ops.math_ops) is deprecated and will be removed in a future version.\n",
      "Instructions for updating:\n",
      "Use tf.cast instead.\n",
      "Epoch 1/20\n",
      "100/100 [==============================] - 865s 9s/step - loss: 10.7282 - acc: 0.5187 - auroc: 0.5380 - val_loss: 6.7384 - val_acc: 0.5000 - val_auroc: 0.4980\n",
      "\n",
      "Epoch 00001: val_auroc improved from -inf to 0.49797, saving model to siamese_model1.h5\n",
      "Epoch 2/20\n",
      "100/100 [==============================] - 854s 9s/step - loss: 4.7585 - acc: 0.5000 - auroc: 0.5149 - val_loss: 3.3080 - val_acc: 0.5000 - val_auroc: 0.4872\n",
      "\n",
      "Epoch 00002: val_auroc did not improve from 0.49797\n",
      "Epoch 3/20\n",
      "100/100 [==============================] - 774s 8s/step - loss: 2.5574 - acc: 0.5000 - auroc: 0.5130 - val_loss: 1.9874 - val_acc: 0.5000 - val_auroc: 0.5055\n",
      "\n",
      "Epoch 00003: val_auroc improved from 0.49797 to 0.50555, saving model to siamese_model1.h5\n",
      "Epoch 4/20\n",
      "100/100 [==============================] - 777s 8s/step - loss: 1.6681 - acc: 0.5000 - auroc: 0.5066 - val_loss: 1.4157 - val_acc: 0.5000 - val_auroc: 0.5403\n",
      "\n",
      "Epoch 00004: val_auroc improved from 0.50555 to 0.54031, saving model to siamese_model1.h5\n",
      "Epoch 5/20\n",
      "100/100 [==============================] - 869s 9s/step - loss: 1.2762 - acc: 0.5000 - auroc: 0.4935 - val_loss: 1.1464 - val_acc: 0.5000 - val_auroc: 0.4764\n",
      "\n",
      "Epoch 00005: val_auroc did not improve from 0.54031\n",
      "Epoch 6/20\n",
      "100/100 [==============================] - 892s 9s/step - loss: 1.0616 - acc: 0.5000 - auroc: 0.5125 - val_loss: 0.9913 - val_acc: 0.5000 - val_auroc: 0.5016\n",
      "\n",
      "Epoch 00006: val_auroc did not improve from 0.54031\n",
      "Epoch 7/20\n",
      "100/100 [==============================] - 893s 9s/step - loss: 0.9433 - acc: 0.5000 - auroc: 0.5089 - val_loss: 0.9029 - val_acc: 0.5000 - val_auroc: 0.5081\n",
      "\n",
      "Epoch 00007: val_auroc did not improve from 0.54031\n",
      "Epoch 8/20\n",
      "100/100 [==============================] - 894s 9s/step - loss: 0.8773 - acc: 0.5000 - auroc: 0.5048 - val_loss: 0.8527 - val_acc: 0.5000 - val_auroc: 0.4981\n",
      "\n",
      "Epoch 00008: val_auroc did not improve from 0.54031\n",
      "Epoch 9/20\n",
      "100/100 [==============================] - 899s 9s/step - loss: 0.8341 - acc: 0.5000 - auroc: 0.5040 - val_loss: 0.8169 - val_acc: 0.5000 - val_auroc: 0.4973\n",
      "\n",
      "Epoch 00009: val_auroc did not improve from 0.54031\n",
      "Epoch 10/20\n",
      "100/100 [==============================] - 827s 8s/step - loss: 0.8071 - acc: 0.5000 - auroc: 0.5020 - val_loss: 0.7954 - val_acc: 0.5000 - val_auroc: 0.5156\n",
      "\n",
      "Epoch 00010: val_auroc did not improve from 0.54031\n",
      "Epoch 11/20\n",
      "100/100 [==============================] - 779s 8s/step - loss: 0.7875 - acc: 0.5000 - auroc: 0.5022 - val_loss: 0.7820 - val_acc: 0.5000 - val_auroc: 0.4972\n",
      "\n",
      "Epoch 00011: val_auroc did not improve from 0.54031\n",
      "Epoch 12/20\n",
      "100/100 [==============================] - 772s 8s/step - loss: 0.7761 - acc: 0.5000 - auroc: 0.5338 - val_loss: 0.7764 - val_acc: 0.5000 - val_auroc: 0.4894\n",
      "\n",
      "Epoch 00012: val_auroc did not improve from 0.54031\n",
      "Epoch 13/20\n",
      "100/100 [==============================] - 788s 8s/step - loss: 0.7752 - acc: 0.5000 - auroc: 0.5003 - val_loss: 0.7711 - val_acc: 0.5000 - val_auroc: 0.4958\n",
      "\n",
      "Epoch 00013: val_auroc did not improve from 0.54031\n",
      "Epoch 14/20\n",
      "100/100 [==============================] - 892s 9s/step - loss: 0.7708 - acc: 0.5000 - auroc: 0.5175 - val_loss: 0.7783 - val_acc: 0.5000 - val_auroc: 0.4942\n",
      "\n",
      "Epoch 00014: val_auroc did not improve from 0.54031\n",
      "Epoch 15/20\n",
      "100/100 [==============================] - 865s 9s/step - loss: 0.7812 - acc: 0.5000 - auroc: 0.5001 - val_loss: 0.7809 - val_acc: 0.5000 - val_auroc: 0.5144\n",
      "\n",
      "Epoch 00015: val_auroc did not improve from 0.54031\n",
      "Epoch 16/20\n",
      "100/100 [==============================] - 816s 8s/step - loss: 0.7783 - acc: 0.5000 - auroc: 0.4937 - val_loss: 0.7744 - val_acc: 0.5000 - val_auroc: 0.4927\n",
      "\n",
      "Epoch 00016: val_auroc did not improve from 0.54031\n",
      "Epoch 17/20\n",
      "100/100 [==============================] - 768s 8s/step - loss: 0.7709 - acc: 0.5000 - auroc: 0.4973 - val_loss: 0.7679 - val_acc: 0.5000 - val_auroc: 0.4942\n",
      "\n",
      "Epoch 00017: val_auroc did not improve from 0.54031\n",
      "Epoch 18/20\n",
      "100/100 [==============================] - 955s 10s/step - loss: 0.7643 - acc: 0.5000 - auroc: 0.5277 - val_loss: 0.7619 - val_acc: 0.5000 - val_auroc: 0.5028\n",
      "\n",
      "Epoch 00018: val_auroc did not improve from 0.54031\n",
      "Epoch 19/20\n",
      "100/100 [==============================] - 995s 10s/step - loss: 0.7598 - acc: 0.5000 - auroc: 0.4902 - val_loss: 0.7587 - val_acc: 0.5000 - val_auroc: 0.4933\n",
      "\n",
      "Epoch 00019: val_auroc did not improve from 0.54031\n",
      "Epoch 20/20\n",
      "100/100 [==============================] - 800s 8s/step - loss: 0.7583 - acc: 0.5000 - auroc: 0.5174 - val_loss: 0.7571 - val_acc: 0.5000 - val_auroc: 0.5077\n",
      "\n",
      "Epoch 00020: val_auroc did not improve from 0.54031\n"
     ]
    },
    {
     "data": {
      "text/plain": [
       "<keras.callbacks.History at 0x20d8012f400>"
      ]
     },
     "execution_count": 41,
     "metadata": {
      "tags": []
     },
     "output_type": "execute_result"
    }
   ],
   "source": [
    "model.fit_generator(gen2(train, train_person_to_images_map, batch_size=16),\n",
    "                    validation_data=gen2(val, val_person_to_images_map, batch_size=16), epochs=20, verbose=1,\n",
    "                    callbacks=callbacks_list, steps_per_epoch=100, validation_steps=100)"
   ]
  },
  {
   "cell_type": "code",
   "execution_count": null,
   "metadata": {
    "colab": {},
    "colab_type": "code",
    "id": "gNeHls08DRss"
   },
   "outputs": [],
   "source": [
    "model.load_weights('siamese_model1.h5')"
   ]
  },
  {
   "cell_type": "code",
   "execution_count": null,
   "metadata": {
    "colab": {},
    "colab_type": "code",
    "id": "fVkefbbyDRst"
   },
   "outputs": [],
   "source": [
    "model.compile(loss=\"binary_crossentropy\", metrics=['acc',auroc], optimizer=Adam(0.0001))"
   ]
  },
  {
   "cell_type": "markdown",
   "metadata": {
    "colab": {},
    "colab_type": "code",
    "id": "wXYEKU5IdAGP"
   },
   "source": [
    "#### Ignoring the above model due to low scores"
   ]
  },
  {
   "cell_type": "markdown",
   "metadata": {
    "colab_type": "text",
    "id": "R0l1qMih4sP8"
   },
   "source": [
    "### 8. Using pre-trained models for feature extraction and using those features in classical ml models"
   ]
  },
  {
   "cell_type": "code",
   "execution_count": null,
   "metadata": {
    "colab": {
     "base_uri": "https://localhost:8080/",
     "height": 356
    },
    "colab_type": "code",
    "id": "mGSTeqL8dH4l",
    "outputId": "da733cad-21f1-41c0-8df9-f077e3aae506"
   },
   "outputs": [
    {
     "name": "stderr",
     "output_type": "stream",
     "text": [
      "WARNING: Logging before flag parsing goes to stderr.\n",
      "W0801 16:12:53.832464 139786712209280 deprecation_wrapper.py:119] From /usr/local/lib/python3.6/dist-packages/keras/backend/tensorflow_backend.py:74: The name tf.get_default_graph is deprecated. Please use tf.compat.v1.get_default_graph instead.\n",
      "\n",
      "W0801 16:12:53.885083 139786712209280 deprecation_wrapper.py:119] From /usr/local/lib/python3.6/dist-packages/keras/backend/tensorflow_backend.py:517: The name tf.placeholder is deprecated. Please use tf.compat.v1.placeholder instead.\n",
      "\n",
      "W0801 16:12:53.894682 139786712209280 deprecation_wrapper.py:119] From /usr/local/lib/python3.6/dist-packages/keras/backend/tensorflow_backend.py:4138: The name tf.random_uniform is deprecated. Please use tf.random.uniform instead.\n",
      "\n",
      "W0801 16:12:53.943369 139786712209280 deprecation_wrapper.py:119] From /usr/local/lib/python3.6/dist-packages/keras/backend/tensorflow_backend.py:174: The name tf.get_default_session is deprecated. Please use tf.compat.v1.get_default_session instead.\n",
      "\n",
      "W0801 16:12:53.944971 139786712209280 deprecation_wrapper.py:119] From /usr/local/lib/python3.6/dist-packages/keras/backend/tensorflow_backend.py:181: The name tf.ConfigProto is deprecated. Please use tf.compat.v1.ConfigProto instead.\n",
      "\n",
      "W0801 16:12:56.863303 139786712209280 deprecation_wrapper.py:119] From /usr/local/lib/python3.6/dist-packages/keras/backend/tensorflow_backend.py:1834: The name tf.nn.fused_batch_norm is deprecated. Please use tf.compat.v1.nn.fused_batch_norm instead.\n",
      "\n",
      "W0801 16:12:56.953384 139786712209280 deprecation_wrapper.py:119] From /usr/local/lib/python3.6/dist-packages/keras/backend/tensorflow_backend.py:3976: The name tf.nn.max_pool is deprecated. Please use tf.nn.max_pool2d instead.\n",
      "\n",
      "W0801 16:13:02.571284 139786712209280 deprecation_wrapper.py:119] From /usr/local/lib/python3.6/dist-packages/keras/backend/tensorflow_backend.py:3980: The name tf.nn.avg_pool is deprecated. Please use tf.nn.avg_pool2d instead.\n",
      "\n"
     ]
    },
    {
     "name": "stdout",
     "output_type": "stream",
     "text": [
      "Downloading data from https://github.com/rcmalli/keras-vggface/releases/download/v2.0/rcmalli_vggface_tf_notop_resnet50.h5\n",
      "94699520/94694792 [==============================] - 1s 0us/step\n"
     ]
    }
   ],
   "source": [
    "base_model = VGGFace(model='resnet50', include_top=False)"
   ]
  },
  {
   "cell_type": "code",
   "execution_count": null,
   "metadata": {
    "colab": {
     "base_uri": "https://localhost:8080/",
     "height": 34
    },
    "colab_type": "code",
    "id": "IVOxQfuUdIXz",
    "outputId": "8365eee5-0987-4074-d435-9c6752fbbc65"
   },
   "outputs": [
    {
     "data": {
      "text/plain": [
       "(197, 197, 3)"
      ]
     },
     "execution_count": 52,
     "metadata": {
      "tags": []
     },
     "output_type": "execute_result"
    }
   ],
   "source": [
    "np.array(read_img('drive/My Drive/Face_recognition/train/F0002/MID1/P00010_face4.jpg')).shape"
   ]
  },
  {
   "cell_type": "code",
   "execution_count": null,
   "metadata": {
    "colab": {
     "base_uri": "https://localhost:8080/",
     "height": 34
    },
    "colab_type": "code",
    "id": "HTmpMe5QeZnq",
    "outputId": "4ab08d9c-063f-4363-f7f4-52bbde31845d"
   },
   "outputs": [
    {
     "data": {
      "text/plain": [
       "(1, 197, 197, 3)"
      ]
     },
     "execution_count": 53,
     "metadata": {
      "tags": []
     },
     "output_type": "execute_result"
    }
   ],
   "source": [
    "np.expand_dims(np.array(read_img('drive/My Drive/Face_recognition/train/F0002/MID1/P00010_face4.jpg')), axis=0).shape"
   ]
  },
  {
   "cell_type": "code",
   "execution_count": null,
   "metadata": {
    "colab": {
     "base_uri": "https://localhost:8080/",
     "height": 34
    },
    "colab_type": "code",
    "id": "g9T1x-WFd9kx",
    "outputId": "9f62f037-48ec-47e8-900b-66dcdff9ae86"
   },
   "outputs": [
    {
     "data": {
      "text/plain": [
       "(1, 1, 1, 2048)"
      ]
     },
     "execution_count": 54,
     "metadata": {
      "tags": []
     },
     "output_type": "execute_result"
    }
   ],
   "source": [
    "base_model.predict(np.expand_dims(np.array(read_img('drive/My Drive/Face_recognition/train/F0002/MID1/P00010_face4.jpg')), axis=0)).shape"
   ]
  },
  {
   "cell_type": "code",
   "execution_count": null,
   "metadata": {
    "colab": {
     "base_uri": "https://localhost:8080/",
     "height": 34
    },
    "colab_type": "code",
    "id": "H3TQYPsqeL5z",
    "outputId": "a0e70c81-5bb3-4ab5-dc72-b77544184587"
   },
   "outputs": [
    {
     "data": {
      "text/plain": [
       "(2048,)"
      ]
     },
     "execution_count": 55,
     "metadata": {
      "tags": []
     },
     "output_type": "execute_result"
    }
   ],
   "source": [
    "base_model.predict(np.expand_dims(np.array(read_img('drive/My Drive/Face_recognition/train/F0002/MID1/P00010_face4.jpg')), axis=0)).reshape((2048)).shape"
   ]
  },
  {
   "cell_type": "code",
   "execution_count": null,
   "metadata": {
    "colab": {},
    "colab_type": "code",
    "id": "sbg4OsJ0kHH1"
   },
   "outputs": [],
   "source": [
    "### Generating training and validation sets"
   ]
  },
  {
   "cell_type": "code",
   "execution_count": null,
   "metadata": {
    "colab": {},
    "colab_type": "code",
    "id": "lyDTeqWunupC"
   },
   "outputs": [],
   "source": [
    "training_set = []\n",
    "training_labels = []\n",
    "ppl = list(train_person_to_images_map.keys())\n",
    "for p1,p2 in train:\n",
    "    #print(p1)\n",
    "    img1 = choice(train_person_to_images_map[p1])\n",
    "    img2 = choice(train_person_to_images_map[p2])\n",
    "    \n",
    "    #print(base_model.predict(np.expand_dims(np.array(read_img(img1)), axis=0)).reshape((2048)).shape)\n",
    "    training_set.append(np.concatenate((base_model.predict(np.expand_dims(np.array(read_img(img1)), axis=0)).reshape((2048)), base_model.predict(np.expand_dims(np.array(read_img(img2)), axis=0)).reshape((2048)))))\n",
    "    training_labels.append(1)\n",
    "    \n",
    "    flag = 0\n",
    "    while(flag == 0):\n",
    "        p1 = choice(ppl)\n",
    "        p2 = choice(ppl)\n",
    "        \n",
    "        if p1 != p2 and (p1, p2) not in train and (p2, p1) not in train:\n",
    "            flag=1\n",
    "            img1 = choice(train_person_to_images_map[p1])\n",
    "            img2 = choice(train_person_to_images_map[p2])\n",
    "            #print(base_model.predict(np.expand_dims(np.array(read_img(img1)), axis=0)).reshape((2048)).shape)\n",
    "            training_set.append(np.concatenate((base_model.predict(np.expand_dims(np.array(read_img(img1)), axis=0)).reshape((2048)), base_model.predict(np.expand_dims(np.array(read_img(img2)), axis=0)).reshape((2048)))))\n",
    "            training_labels.append(0)\n",
    "    "
   ]
  },
  {
   "cell_type": "code",
   "execution_count": null,
   "metadata": {
    "colab": {},
    "colab_type": "code",
    "id": "7yMxnRm06z7G"
   },
   "outputs": [],
   "source": [
    "training_set = np.array(training_set)"
   ]
  },
  {
   "cell_type": "code",
   "execution_count": null,
   "metadata": {
    "colab": {
     "base_uri": "https://localhost:8080/",
     "height": 34
    },
    "colab_type": "code",
    "id": "gkHAjUrX9THw",
    "outputId": "ce678053-0ed7-4b7c-afe2-f97e7f05decd"
   },
   "outputs": [
    {
     "data": {
      "text/plain": [
       "(6132, 4096)"
      ]
     },
     "execution_count": 112,
     "metadata": {
      "tags": []
     },
     "output_type": "execute_result"
    }
   ],
   "source": [
    "training_set.shape"
   ]
  },
  {
   "cell_type": "code",
   "execution_count": null,
   "metadata": {
    "colab": {
     "base_uri": "https://localhost:8080/",
     "height": 34
    },
    "colab_type": "code",
    "id": "pGQJSb149xZa",
    "outputId": "8fff1a3a-2273-4962-cf41-a68b471c1c98"
   },
   "outputs": [
    {
     "data": {
      "text/plain": [
       "6132"
      ]
     },
     "execution_count": 113,
     "metadata": {
      "tags": []
     },
     "output_type": "execute_result"
    }
   ],
   "source": [
    "len(train)*2"
   ]
  },
  {
   "cell_type": "code",
   "execution_count": null,
   "metadata": {
    "colab": {
     "base_uri": "https://localhost:8080/",
     "height": 34
    },
    "colab_type": "code",
    "id": "wbra-rHE-ySX",
    "outputId": "6729783a-833c-48ec-a914-3550ba085119"
   },
   "outputs": [
    {
     "data": {
      "text/plain": [
       "6132"
      ]
     },
     "execution_count": 116,
     "metadata": {
      "tags": []
     },
     "output_type": "execute_result"
    }
   ],
   "source": [
    "len(training_labels)"
   ]
  },
  {
   "cell_type": "code",
   "execution_count": null,
   "metadata": {
    "colab": {
     "base_uri": "https://localhost:8080/",
     "height": 34
    },
    "colab_type": "code",
    "id": "UvVb6SLu__Bt",
    "outputId": "752927cc-c62a-4520-dc48-ab6f3fb8716a"
   },
   "outputs": [
    {
     "name": "stdout",
     "output_type": "stream",
     "text": [
      "Requirement already satisfied: joblib in /usr/local/lib/python3.6/dist-packages (0.13.2)\n"
     ]
    }
   ],
   "source": [
    "! pip install joblib\n",
    "import joblib"
   ]
  },
  {
   "cell_type": "code",
   "execution_count": null,
   "metadata": {
    "colab": {
     "base_uri": "https://localhost:8080/",
     "height": 34
    },
    "colab_type": "code",
    "id": "D_nBm04qUd-G",
    "outputId": "16d06cf1-96f5-4a89-e851-7f30148af846"
   },
   "outputs": [
    {
     "data": {
      "text/plain": [
       "['drive/My Drive/Face_recognition/X_train1']"
      ]
     },
     "execution_count": 121,
     "metadata": {
      "tags": []
     },
     "output_type": "execute_result"
    }
   ],
   "source": [
    "joblib.dump(training_set,\"drive/My Drive/Face_recognition/X_train1\")"
   ]
  },
  {
   "cell_type": "code",
   "execution_count": null,
   "metadata": {
    "colab": {
     "base_uri": "https://localhost:8080/",
     "height": 34
    },
    "colab_type": "code",
    "id": "QVK6DgcDYrvl",
    "outputId": "4e03b3ef-42c1-4a65-cf88-261b5957383a"
   },
   "outputs": [
    {
     "data": {
      "text/plain": [
       "['drive/My Drive/Face_recognition/y_train1']"
      ]
     },
     "execution_count": 122,
     "metadata": {
      "tags": []
     },
     "output_type": "execute_result"
    }
   ],
   "source": [
    "joblib.dump(training_labels,\"drive/My Drive/Face_recognition/y_train1\")"
   ]
  },
  {
   "cell_type": "code",
   "execution_count": null,
   "metadata": {
    "colab": {
     "base_uri": "https://localhost:8080/",
     "height": 34
    },
    "colab_type": "code",
    "id": "q2atyCZOY4pW",
    "outputId": "d01f7e5c-89f4-401d-f143-e247ae53f445"
   },
   "outputs": [
    {
     "data": {
      "text/plain": [
       "(6132, 4096)"
      ]
     },
     "execution_count": 124,
     "metadata": {
      "tags": []
     },
     "output_type": "execute_result"
    }
   ],
   "source": [
    "training_set.shape"
   ]
  },
  {
   "cell_type": "code",
   "execution_count": null,
   "metadata": {
    "colab": {},
    "colab_type": "code",
    "id": "4getbPHbZhdE"
   },
   "outputs": [],
   "source": [
    "val_set = []\n",
    "val_labels = []\n",
    "ppl = list(val_person_to_images_map.keys())\n",
    "for p1,p2 in val:\n",
    "    #print(p1)\n",
    "    img1 = choice(val_person_to_images_map[p1])\n",
    "    img2 = choice(val_person_to_images_map[p2])\n",
    "    \n",
    "    #print(base_model.predict(np.expand_dims(np.array(read_img(img1)), axis=0)).reshape((2048)).shape)\n",
    "    val_set.append(np.concatenate((base_model.predict(np.expand_dims(np.array(read_img(img1)), axis=0)).reshape((2048)), base_model.predict(np.expand_dims(np.array(read_img(img2)), axis=0)).reshape((2048)))))\n",
    "    val_labels.append(1)\n",
    "    \n",
    "    flag = 0\n",
    "    while(flag == 0):\n",
    "        p1 = choice(ppl)\n",
    "        p2 = choice(ppl)\n",
    "        \n",
    "        if p1 != p2 and (p1, p2) not in val and (p2, p1) not in val:\n",
    "            flag=1\n",
    "            img1 = choice(val_person_to_images_map[p1])\n",
    "            img2 = choice(val_person_to_images_map[p2])\n",
    "            #print(base_model.predict(np.expand_dims(np.array(read_img(img1)), axis=0)).reshape((2048)).shape)\n",
    "            val_set.append(np.concatenate((base_model.predict(np.expand_dims(np.array(read_img(img1)), axis=0)).reshape((2048)), base_model.predict(np.expand_dims(np.array(read_img(img2)), axis=0)).reshape((2048)))))\n",
    "            val_labels.append(0)"
   ]
  },
  {
   "cell_type": "code",
   "execution_count": null,
   "metadata": {
    "colab": {
     "base_uri": "https://localhost:8080/",
     "height": 34
    },
    "colab_type": "code",
    "id": "ugxxMpRuecxe",
    "outputId": "8ea60ce6-8d9c-4eea-d96d-bbc68b1d9b8a"
   },
   "outputs": [
    {
     "data": {
      "text/plain": [
       "['drive/My Drive/Face_recognition/y_val1']"
      ]
     },
     "execution_count": 138,
     "metadata": {
      "tags": []
     },
     "output_type": "execute_result"
    }
   ],
   "source": [
    "joblib.dump(val_set,\"drive/My Drive/Face_recognition/X_val1\")\n",
    "joblib.dump(val_labels,\"drive/My Drive/Face_recognition/y_val1\")"
   ]
  },
  {
   "cell_type": "code",
   "execution_count": null,
   "metadata": {
    "colab": {
     "base_uri": "https://localhost:8080/",
     "height": 34
    },
    "colab_type": "code",
    "id": "yM8eNzXxePDs",
    "outputId": "8effc463-4ceb-4888-c084-6d53b508cd94"
   },
   "outputs": [
    {
     "data": {
      "text/plain": [
       "592"
      ]
     },
     "execution_count": 137,
     "metadata": {
      "tags": []
     },
     "output_type": "execute_result"
    }
   ],
   "source": [
    "len(val_labels)"
   ]
  },
  {
   "cell_type": "code",
   "execution_count": null,
   "metadata": {
    "colab": {},
    "colab_type": "code",
    "id": "x6Ic7bCid9Rp"
   },
   "outputs": [],
   "source": [
    "val_set = np.array(val_set)"
   ]
  },
  {
   "cell_type": "code",
   "execution_count": null,
   "metadata": {
    "colab": {
     "base_uri": "https://localhost:8080/",
     "height": 34
    },
    "colab_type": "code",
    "id": "iMZpgktyeFr5",
    "outputId": "b3b9d09d-7ece-4fce-d106-0cf7a3a97a96"
   },
   "outputs": [
    {
     "data": {
      "text/plain": [
       "(592, 4096)"
      ]
     },
     "execution_count": 133,
     "metadata": {
      "tags": []
     },
     "output_type": "execute_result"
    }
   ],
   "source": [
    "val_set.shape"
   ]
  },
  {
   "cell_type": "code",
   "execution_count": null,
   "metadata": {
    "colab": {
     "base_uri": "https://localhost:8080/",
     "height": 34
    },
    "colab_type": "code",
    "id": "7Pe9ElumeKlo",
    "outputId": "fce18350-9155-4b50-bd46-c5e7502f8f39"
   },
   "outputs": [
    {
     "data": {
      "text/plain": [
       "592"
      ]
     },
     "execution_count": 134,
     "metadata": {
      "tags": []
     },
     "output_type": "execute_result"
    }
   ],
   "source": [
    "len(val)*2"
   ]
  },
  {
   "cell_type": "code",
   "execution_count": null,
   "metadata": {
    "colab": {},
    "colab_type": "code",
    "id": "-TozDh0pdJQE"
   },
   "outputs": [],
   "source": []
  },
  {
   "cell_type": "markdown",
   "metadata": {
    "colab_type": "text",
    "id": "FcBbArHQRLxW"
   },
   "source": [
    "#### Getting base scores on a simple RF model"
   ]
  },
  {
   "cell_type": "code",
   "execution_count": null,
   "metadata": {
    "colab": {},
    "colab_type": "code",
    "id": "hrp_HAg1Y9gR"
   },
   "outputs": [],
   "source": [
    "from sklearn.ensemble import RandomForestClassifier"
   ]
  },
  {
   "cell_type": "code",
   "execution_count": null,
   "metadata": {
    "colab": {
     "base_uri": "https://localhost:8080/",
     "height": 188
    },
    "colab_type": "code",
    "id": "FHqzXQDOZFgP",
    "outputId": "6c8bb890-717b-47f7-e03f-bee7518fa57b"
   },
   "outputs": [
    {
     "name": "stderr",
     "output_type": "stream",
     "text": [
      "/usr/local/lib/python3.6/dist-packages/sklearn/ensemble/forest.py:245: FutureWarning: The default value of n_estimators will change from 10 in version 0.20 to 100 in 0.22.\n",
      "  \"10 in version 0.20 to 100 in 0.22.\", FutureWarning)\n"
     ]
    },
    {
     "data": {
      "text/plain": [
       "RandomForestClassifier(bootstrap=True, class_weight=None, criterion='gini',\n",
       "                       max_depth=None, max_features='auto', max_leaf_nodes=None,\n",
       "                       min_impurity_decrease=0.0, min_impurity_split=None,\n",
       "                       min_samples_leaf=1, min_samples_split=2,\n",
       "                       min_weight_fraction_leaf=0.0, n_estimators=10,\n",
       "                       n_jobs=None, oob_score=False, random_state=None,\n",
       "                       verbose=0, warm_start=False)"
      ]
     },
     "execution_count": 139,
     "metadata": {
      "tags": []
     },
     "output_type": "execute_result"
    }
   ],
   "source": [
    "rf = RandomForestClassifier()\n",
    "rf.fit(training_set, training_labels)"
   ]
  },
  {
   "cell_type": "code",
   "execution_count": null,
   "metadata": {
    "colab": {},
    "colab_type": "code",
    "id": "Qc41QrKUZHvZ"
   },
   "outputs": [],
   "source": [
    "val_pred = rf.predict(val_set)"
   ]
  },
  {
   "cell_type": "code",
   "execution_count": null,
   "metadata": {
    "colab": {},
    "colab_type": "code",
    "id": "kOtb4m9wfve4"
   },
   "outputs": [],
   "source": [
    "val_prob = rf.predict_proba(val_set)"
   ]
  },
  {
   "cell_type": "code",
   "execution_count": null,
   "metadata": {
    "colab": {},
    "colab_type": "code",
    "id": "6bp9pHENexal"
   },
   "outputs": [],
   "source": [
    "from sklearn import metrics"
   ]
  },
  {
   "cell_type": "code",
   "execution_count": null,
   "metadata": {
    "colab": {
     "base_uri": "https://localhost:8080/",
     "height": 34
    },
    "colab_type": "code",
    "id": "WEzipbeEe-IN",
    "outputId": "b9e6fd2b-2cc5-44b2-b139-20371e2af508"
   },
   "outputs": [
    {
     "data": {
      "text/plain": [
       "0.6606213476990505"
      ]
     },
     "execution_count": 149,
     "metadata": {
      "tags": []
     },
     "output_type": "execute_result"
    }
   ],
   "source": [
    "metrics.roc_auc_score(val_labels, val_prob[:,1])"
   ]
  },
  {
   "cell_type": "code",
   "execution_count": null,
   "metadata": {
    "colab": {},
    "colab_type": "code",
    "id": "lFYEhK9ifU9v"
   },
   "outputs": [],
   "source": [
    "import joblib\n",
    "X_train = joblib.load(\"drive/My Drive/Face_recognition/X_train1\")\n",
    "y_train = joblib.load(\"drive/My Drive/Face_recognition/y_train1\")"
   ]
  },
  {
   "cell_type": "code",
   "execution_count": null,
   "metadata": {
    "colab": {},
    "colab_type": "code",
    "id": "V2t89AQk3ELJ"
   },
   "outputs": [],
   "source": [
    "X_val = joblib.load(\"drive/My Drive/Face_recognition/X_val1\")\n",
    "y_val = joblib.load(\"drive/My Drive/Face_recognition/y_val1\")"
   ]
  },
  {
   "cell_type": "markdown",
   "metadata": {
    "colab_type": "text",
    "id": "qkhuugx-RT4L"
   },
   "source": [
    "#### Trying out tuning of XGBoost"
   ]
  },
  {
   "cell_type": "code",
   "execution_count": null,
   "metadata": {
    "colab": {},
    "colab_type": "code",
    "id": "Cff0saldeO6q"
   },
   "outputs": [],
   "source": [
    "from sklearn.model_selection import GridSearchCV\n",
    "from xgboost import XGBClassifier"
   ]
  },
  {
   "cell_type": "code",
   "execution_count": null,
   "metadata": {
    "colab": {
     "base_uri": "https://localhost:8080/",
     "height": 390
    },
    "colab_type": "code",
    "id": "-6oYMWD8fExI",
    "outputId": "797b982e-6e7c-4bcf-d05c-2d0bc96de06f"
   },
   "outputs": [
    {
     "name": "stdout",
     "output_type": "stream",
     "text": [
      "Fitting 3 folds for each of 16 candidates, totalling 48 fits\n"
     ]
    },
    {
     "name": "stderr",
     "output_type": "stream",
     "text": [
      "[Parallel(n_jobs=-1)]: Using backend LokyBackend with 2 concurrent workers.\n",
      "/usr/local/lib/python3.6/dist-packages/joblib/externals/loky/process_executor.py:706: UserWarning: A worker stopped while some jobs were given to the executor. This can be caused by a too short worker timeout or by a memory leak.\n",
      "  \"timeout or by a memory leak.\", UserWarning\n",
      "[Parallel(n_jobs=-1)]: Done  48 out of  48 | elapsed: 88.2min finished\n"
     ]
    },
    {
     "data": {
      "text/plain": [
       "GridSearchCV(cv=3, error_score='raise-deprecating',\n",
       "             estimator=XGBClassifier(base_score=0.5, booster='gbtree',\n",
       "                                     colsample_bylevel=1, colsample_bynode=1,\n",
       "                                     colsample_bytree=1, gamma=0,\n",
       "                                     learning_rate=0.1, max_delta_step=0,\n",
       "                                     max_depth=3, min_child_weight=1,\n",
       "                                     missing=None, n_estimators=100, n_jobs=-1,\n",
       "                                     nthread=None, objective='binary:logistic',\n",
       "                                     random_state=0, reg_alpha=0, reg_lambda=1,\n",
       "                                     scale_pos_weight=1, seed=None, silent=None,\n",
       "                                     subsample=1, verbosity=1),\n",
       "             iid='warn', n_jobs=-1,\n",
       "             param_grid={'max_depth': [2, 4, 6, 8],\n",
       "                         'n_estimators': [10, 50, 100, 200]},\n",
       "             pre_dispatch='2*n_jobs', refit=True, return_train_score=True,\n",
       "             scoring='roc_auc', verbose=1)"
      ]
     },
     "execution_count": 18,
     "metadata": {
      "tags": []
     },
     "output_type": "execute_result"
    }
   ],
   "source": [
    "params = {'max_depth':[2,4,6,8], 'n_estimators':[10,50,100,200]}\n",
    "model = GridSearchCV(XGBClassifier(n_jobs=-1), param_grid=params,scoring='roc_auc',n_jobs=-1,cv=3, return_train_score=True, verbose=1)\n",
    "model.fit(X_train,y_train)"
   ]
  },
  {
   "cell_type": "code",
   "execution_count": null,
   "metadata": {
    "colab": {
     "base_uri": "https://localhost:8080/",
     "height": 34
    },
    "colab_type": "code",
    "id": "px5hVu_x1OHL",
    "outputId": "07b275c0-0038-4794-a43c-4508df4b9a5c"
   },
   "outputs": [
    {
     "data": {
      "text/plain": [
       "0.6681436320071281"
      ]
     },
     "execution_count": 19,
     "metadata": {
      "tags": []
     },
     "output_type": "execute_result"
    }
   ],
   "source": [
    "model.best_score_"
   ]
  },
  {
   "cell_type": "code",
   "execution_count": null,
   "metadata": {
    "colab": {
     "base_uri": "https://localhost:8080/",
     "height": 34
    },
    "colab_type": "code",
    "id": "lfsR08zE1QXm",
    "outputId": "a101b722-6663-46fa-9ceb-a03d31afad7c"
   },
   "outputs": [
    {
     "data": {
      "text/plain": [
       "['drive/My Drive/Face_recognition/xgb1']"
      ]
     },
     "execution_count": 20,
     "metadata": {
      "tags": []
     },
     "output_type": "execute_result"
    }
   ],
   "source": [
    "joblib.dump(model,\"drive/My Drive/Face_recognition/xgb1\")"
   ]
  },
  {
   "cell_type": "code",
   "execution_count": null,
   "metadata": {
    "colab": {},
    "colab_type": "code",
    "id": "jMGvdkV_1cA7"
   },
   "outputs": [],
   "source": [
    "val_proba = model.best_estimator_.predict(X_val)"
   ]
  },
  {
   "cell_type": "code",
   "execution_count": null,
   "metadata": {
    "colab": {
     "base_uri": "https://localhost:8080/",
     "height": 34
    },
    "colab_type": "code",
    "id": "6PSImG_U3NRc",
    "outputId": "6bf9e4e9-aa43-4285-d8b6-312a77d47f5e"
   },
   "outputs": [
    {
     "data": {
      "text/plain": [
       "0.6959459459459459"
      ]
     },
     "execution_count": 24,
     "metadata": {
      "tags": []
     },
     "output_type": "execute_result"
    }
   ],
   "source": [
    "roc_auc_score(y_val,val_proba)"
   ]
  },
  {
   "cell_type": "markdown",
   "metadata": {
    "colab_type": "text",
    "id": "X_Qd5zpcReHC"
   },
   "source": [
    "#### Experimenting by tripling the size of train and val sets"
   ]
  },
  {
   "cell_type": "code",
   "execution_count": null,
   "metadata": {
    "colab": {},
    "colab_type": "code",
    "id": "WxtNe5723R6j"
   },
   "outputs": [],
   "source": []
  },
  {
   "cell_type": "code",
   "execution_count": null,
   "metadata": {
    "colab": {},
    "colab_type": "code",
    "id": "m4KiKp7pUPt8"
   },
   "outputs": [],
   "source": [
    "training_set = []\n",
    "training_labels = []\n",
    "ppl = list(train_person_to_images_map.keys())\n",
    "count = 0\n",
    "while(count !=3):\n",
    "    for p1,p2 in train:\n",
    "        #print(p1)\n",
    "        img1 = choice(train_person_to_images_map[p1])\n",
    "        img2 = choice(train_person_to_images_map[p2])\n",
    "\n",
    "        #print(base_model.predict(np.expand_dims(np.array(read_img(img1)), axis=0)).reshape((2048)).shape)\n",
    "        training_set.append(np.concatenate((base_model.predict(np.expand_dims(np.array(read_img(img1)), axis=0)).reshape((2048)), base_model.predict(np.expand_dims(np.array(read_img(img2)), axis=0)).reshape((2048)))))\n",
    "        training_labels.append(1)\n",
    "\n",
    "        flag = 0\n",
    "        while(flag == 0):\n",
    "            p1 = choice(ppl)\n",
    "            p2 = choice(ppl)\n",
    "\n",
    "            if p1 != p2 and (p1, p2) not in train and (p2, p1) not in train:\n",
    "                flag=1\n",
    "                img1 = choice(train_person_to_images_map[p1])\n",
    "                img2 = choice(train_person_to_images_map[p2])\n",
    "                #print(base_model.predict(np.expand_dims(np.array(read_img(img1)), axis=0)).reshape((2048)).shape)\n",
    "                training_set.append(np.concatenate((base_model.predict(np.expand_dims(np.array(read_img(img1)), axis=0)).reshape((2048)), base_model.predict(np.expand_dims(np.array(read_img(img2)), axis=0)).reshape((2048)))))\n",
    "                training_labels.append(0)\n",
    "    count+=1"
   ]
  },
  {
   "cell_type": "code",
   "execution_count": null,
   "metadata": {
    "colab": {},
    "colab_type": "code",
    "id": "3fM6k6u2XoPU"
   },
   "outputs": [],
   "source": [
    "training_set = np.array(training_set)"
   ]
  },
  {
   "cell_type": "code",
   "execution_count": null,
   "metadata": {
    "colab": {
     "base_uri": "https://localhost:8080/",
     "height": 34
    },
    "colab_type": "code",
    "id": "25OgY80msiIy",
    "outputId": "2a00b6ad-1a98-4f1b-c4a0-65af4b6fd2cd"
   },
   "outputs": [
    {
     "data": {
      "text/plain": [
       "['drive/My Drive/Face_recognition/X_train2']"
      ]
     },
     "execution_count": 55,
     "metadata": {
      "tags": []
     },
     "output_type": "execute_result"
    }
   ],
   "source": [
    "joblib.dump(training_set,\"drive/My Drive/Face_recognition/X_train2\")"
   ]
  },
  {
   "cell_type": "code",
   "execution_count": null,
   "metadata": {
    "colab": {
     "base_uri": "https://localhost:8080/",
     "height": 34
    },
    "colab_type": "code",
    "id": "45w7TYWIs5bb",
    "outputId": "46fe9488-2e77-43df-c09e-e3d2e2a822fc"
   },
   "outputs": [
    {
     "data": {
      "text/plain": [
       "['drive/My Drive/Face_recognition/y_train2']"
      ]
     },
     "execution_count": 56,
     "metadata": {
      "tags": []
     },
     "output_type": "execute_result"
    }
   ],
   "source": [
    "joblib.dump(training_labels,\"drive/My Drive/Face_recognition/y_train2\")"
   ]
  },
  {
   "cell_type": "code",
   "execution_count": null,
   "metadata": {
    "colab": {},
    "colab_type": "code",
    "id": "h7VuDFlutUPZ"
   },
   "outputs": [],
   "source": [
    "val_set = []\n",
    "val_labels = []\n",
    "ppl = list(val_person_to_images_map.keys())\n",
    "count=0\n",
    "while(count !=3):\n",
    "    for p1,p2 in val:\n",
    "        #print(p1)\n",
    "        img1 = choice(val_person_to_images_map[p1])\n",
    "        img2 = choice(val_person_to_images_map[p2])\n",
    "\n",
    "        #print(base_model.predict(np.expand_dims(np.array(read_img(img1)), axis=0)).reshape((2048)).shape)\n",
    "        val_set.append(np.concatenate((base_model.predict(np.expand_dims(np.array(read_img(img1)), axis=0)).reshape((2048)), base_model.predict(np.expand_dims(np.array(read_img(img2)), axis=0)).reshape((2048)))))\n",
    "        val_labels.append(1)\n",
    "\n",
    "        flag = 0\n",
    "        while(flag == 0):\n",
    "            p1 = choice(ppl)\n",
    "            p2 = choice(ppl)\n",
    "\n",
    "            if p1 != p2 and (p1, p2) not in val and (p2, p1) not in val:\n",
    "                flag=1\n",
    "                img1 = choice(val_person_to_images_map[p1])\n",
    "                img2 = choice(val_person_to_images_map[p2])\n",
    "                #print(base_model.predict(np.expand_dims(np.array(read_img(img1)), axis=0)).reshape((2048)).shape)\n",
    "                val_set.append(np.concatenate((base_model.predict(np.expand_dims(np.array(read_img(img1)), axis=0)).reshape((2048)), base_model.predict(np.expand_dims(np.array(read_img(img2)), axis=0)).reshape((2048)))))\n",
    "                val_labels.append(0)\n",
    "    count+=1"
   ]
  },
  {
   "cell_type": "code",
   "execution_count": null,
   "metadata": {
    "colab": {},
    "colab_type": "code",
    "id": "28nc--Nqtohq"
   },
   "outputs": [],
   "source": [
    "val_set = np.array(val_set)"
   ]
  },
  {
   "cell_type": "code",
   "execution_count": null,
   "metadata": {
    "colab": {
     "base_uri": "https://localhost:8080/",
     "height": 34
    },
    "colab_type": "code",
    "id": "iYaqSK47yT4p",
    "outputId": "381d0de9-29f7-42b0-f5ca-20f5b4e7d4ec"
   },
   "outputs": [
    {
     "data": {
      "text/plain": [
       "['drive/My Drive/Face_recognition/y_val2']"
      ]
     },
     "execution_count": 63,
     "metadata": {
      "tags": []
     },
     "output_type": "execute_result"
    }
   ],
   "source": [
    "joblib.dump(val_set, \"drive/My Drive/Face_recognition/val_train2\")\n",
    "joblib.dump(val_labels, \"drive/My Drive/Face_recognition/y_val2\")"
   ]
  },
  {
   "cell_type": "code",
   "execution_count": null,
   "metadata": {
    "colab": {},
    "colab_type": "code",
    "id": "ZYuIe8iAyW9d"
   },
   "outputs": [],
   "source": [
    "from sklearn.ensemble import RandomForestClassifier"
   ]
  },
  {
   "cell_type": "code",
   "execution_count": null,
   "metadata": {
    "colab": {},
    "colab_type": "code",
    "id": "25pzD4tIzUi8"
   },
   "outputs": [],
   "source": [
    "model = RandomForestClassifier(n_estimators=50)"
   ]
  },
  {
   "cell_type": "code",
   "execution_count": null,
   "metadata": {
    "colab": {
     "base_uri": "https://localhost:8080/",
     "height": 134
    },
    "colab_type": "code",
    "id": "Ns2g0xa-zajv",
    "outputId": "9fbdb36b-7ee9-4dba-bb0d-5a326253f437"
   },
   "outputs": [
    {
     "data": {
      "text/plain": [
       "RandomForestClassifier(bootstrap=True, class_weight=None, criterion='gini',\n",
       "                       max_depth=None, max_features='auto', max_leaf_nodes=None,\n",
       "                       min_impurity_decrease=0.0, min_impurity_split=None,\n",
       "                       min_samples_leaf=1, min_samples_split=2,\n",
       "                       min_weight_fraction_leaf=0.0, n_estimators=50,\n",
       "                       n_jobs=None, oob_score=False, random_state=None,\n",
       "                       verbose=0, warm_start=False)"
      ]
     },
     "execution_count": 66,
     "metadata": {
      "tags": []
     },
     "output_type": "execute_result"
    }
   ],
   "source": [
    "model.fit(training_set,training_labels)"
   ]
  },
  {
   "cell_type": "code",
   "execution_count": null,
   "metadata": {
    "colab": {},
    "colab_type": "code",
    "id": "6MKvCoY6zhaz"
   },
   "outputs": [],
   "source": [
    "train_proba = model.predict(training_set)"
   ]
  },
  {
   "cell_type": "code",
   "execution_count": null,
   "metadata": {
    "colab": {
     "base_uri": "https://localhost:8080/",
     "height": 34
    },
    "colab_type": "code",
    "id": "quxKJHvA3Y5F",
    "outputId": "920a6c72-d121-465f-a6b9-2f2d7ae3d08e"
   },
   "outputs": [
    {
     "data": {
      "text/plain": [
       "1.0"
      ]
     },
     "execution_count": 70,
     "metadata": {
      "tags": []
     },
     "output_type": "execute_result"
    }
   ],
   "source": [
    "metrics.roc_auc_score(training_labels, train_proba)"
   ]
  },
  {
   "cell_type": "code",
   "execution_count": null,
   "metadata": {
    "colab": {
     "base_uri": "https://localhost:8080/",
     "height": 34
    },
    "colab_type": "code",
    "id": "A9TV_Nuk3l4T",
    "outputId": "ed1e834b-f974-44c6-c558-6f362867cc2f"
   },
   "outputs": [
    {
     "data": {
      "text/plain": [
       "0.6373873873873873"
      ]
     },
     "execution_count": 71,
     "metadata": {
      "tags": []
     },
     "output_type": "execute_result"
    }
   ],
   "source": [
    "val_proba = model.predict(val_set)\n",
    "metrics.roc_auc_score(val_labels, val_proba)"
   ]
  },
  {
   "cell_type": "code",
   "execution_count": null,
   "metadata": {
    "colab": {},
    "colab_type": "code",
    "id": "nHi3IROo34wm"
   },
   "outputs": [],
   "source": []
  },
  {
   "cell_type": "code",
   "execution_count": null,
   "metadata": {
    "colab": {},
    "colab_type": "code",
    "id": "Pw6Noct1j3Np"
   },
   "outputs": [],
   "source": []
  },
  {
   "cell_type": "code",
   "execution_count": null,
   "metadata": {
    "colab": {},
    "colab_type": "code",
    "id": "8qmfWjjRj3Ih"
   },
   "outputs": [],
   "source": []
  },
  {
   "cell_type": "markdown",
   "metadata": {
    "colab_type": "text",
    "id": "vVhYambFRqax"
   },
   "source": [
    "### Adding distance metrics and cosine sim along with featurized images"
   ]
  },
  {
   "cell_type": "code",
   "execution_count": null,
   "metadata": {
    "colab": {
     "base_uri": "https://localhost:8080/",
     "height": 34
    },
    "colab_type": "code",
    "id": "c-WeW1c77Tob",
    "outputId": "f8ca95bd-6ef5-4ed6-9b9a-f5ec80892887"
   },
   "outputs": [
    {
     "data": {
      "text/plain": [
       "(6132, 4096)"
      ]
     },
     "execution_count": 50,
     "metadata": {
      "tags": []
     },
     "output_type": "execute_result"
    }
   ],
   "source": [
    "X_train.shape"
   ]
  },
  {
   "cell_type": "code",
   "execution_count": null,
   "metadata": {
    "colab": {
     "base_uri": "https://localhost:8080/",
     "height": 34
    },
    "colab_type": "code",
    "id": "ZVrm3ogrYff7",
    "outputId": "966ff267-8b2e-4de6-8453-f4209199600f"
   },
   "outputs": [
    {
     "data": {
      "text/plain": [
       "(592, 4096)"
      ]
     },
     "execution_count": 51,
     "metadata": {
      "tags": []
     },
     "output_type": "execute_result"
    }
   ],
   "source": [
    "X_val.shape"
   ]
  },
  {
   "cell_type": "code",
   "execution_count": null,
   "metadata": {
    "colab": {},
    "colab_type": "code",
    "id": "Ok9KisGUYhWX"
   },
   "outputs": [],
   "source": [
    "euc_train = X_train[:,:2048]**2 - X_train[:,2048:]**2"
   ]
  },
  {
   "cell_type": "code",
   "execution_count": null,
   "metadata": {
    "colab": {},
    "colab_type": "code",
    "id": "AMm1IFiipryw"
   },
   "outputs": [],
   "source": [
    "euc_val = X_val[:,:2048]**2 - X_val[:,2048:]**2"
   ]
  },
  {
   "cell_type": "code",
   "execution_count": null,
   "metadata": {
    "colab": {},
    "colab_type": "code",
    "id": "WFELcO88ZGQi"
   },
   "outputs": [],
   "source": [
    "euc_train = np.sum(euc_train, axis=1)"
   ]
  },
  {
   "cell_type": "code",
   "execution_count": null,
   "metadata": {
    "colab": {},
    "colab_type": "code",
    "id": "Ick74MxRp1YH"
   },
   "outputs": [],
   "source": [
    "euc_val = np.sum(euc_val, axis=1)"
   ]
  },
  {
   "cell_type": "code",
   "execution_count": null,
   "metadata": {
    "colab": {},
    "colab_type": "code",
    "id": "ENpBBLI2YsFM"
   },
   "outputs": [],
   "source": [
    "dis_train = (X_train[:,:2048] - X_train[:,2048:])**2"
   ]
  },
  {
   "cell_type": "code",
   "execution_count": null,
   "metadata": {
    "colab": {},
    "colab_type": "code",
    "id": "Mn7diuteZWcA"
   },
   "outputs": [],
   "source": [
    "dis_train = np.sum(dis_train, axis=1)"
   ]
  },
  {
   "cell_type": "code",
   "execution_count": null,
   "metadata": {
    "colab": {},
    "colab_type": "code",
    "id": "PM6m9cKzp6su"
   },
   "outputs": [],
   "source": [
    "dis_val = (X_val[:,:2048] - X_val[:,2048:])**2\n",
    "dis_val = np.sum(dis_val, axis=1)"
   ]
  },
  {
   "cell_type": "code",
   "execution_count": null,
   "metadata": {
    "colab": {},
    "colab_type": "code",
    "id": "j9txE4wxZXf-"
   },
   "outputs": [],
   "source": [
    "from scipy import spatial"
   ]
  },
  {
   "cell_type": "code",
   "execution_count": null,
   "metadata": {
    "colab": {},
    "colab_type": "code",
    "id": "UAs1D5ROar-w"
   },
   "outputs": [],
   "source": [
    "cosine_train = np.array(list(map(lambda x,y: 1-spatial.distance.cosine(x,y), X_train[:,:2048], X_train[:,2048:])))"
   ]
  },
  {
   "cell_type": "code",
   "execution_count": null,
   "metadata": {
    "colab": {},
    "colab_type": "code",
    "id": "XGUfg9i5qEPy"
   },
   "outputs": [],
   "source": [
    "cosine_val = np.array(list(map(lambda x,y: 1-spatial.distance.cosine(x,y), X_val[:,:2048], X_val[:,2048:])))"
   ]
  },
  {
   "cell_type": "code",
   "execution_count": null,
   "metadata": {
    "colab": {
     "base_uri": "https://localhost:8080/",
     "height": 84
    },
    "colab_type": "code",
    "id": "a1bY2InXatNV",
    "outputId": "1b02e64b-a5de-4a48-c0c3-f495111d2bec"
   },
   "outputs": [
    {
     "name": "stdout",
     "output_type": "stream",
     "text": [
      "(6132, 4096)\n",
      "(6132,)\n",
      "(6132,)\n",
      "(6132,)\n"
     ]
    }
   ],
   "source": [
    "print(X_train.shape)\n",
    "print(euc_train.shape)\n",
    "print(dis_train.shape)\n",
    "print(cosine_train.shape)"
   ]
  },
  {
   "cell_type": "code",
   "execution_count": null,
   "metadata": {
    "colab": {},
    "colab_type": "code",
    "id": "CZI7ReKfbb7I"
   },
   "outputs": [],
   "source": [
    "X_train = np.column_stack((X_train, euc_train, dis_train, cosine_train))"
   ]
  },
  {
   "cell_type": "code",
   "execution_count": null,
   "metadata": {
    "colab": {},
    "colab_type": "code",
    "id": "qVNyl7dIqNp8"
   },
   "outputs": [],
   "source": [
    "X_val = np.column_stack((X_val, euc_val, dis_val, cosine_val))"
   ]
  },
  {
   "cell_type": "code",
   "execution_count": null,
   "metadata": {
    "colab": {
     "base_uri": "https://localhost:8080/",
     "height": 34
    },
    "colab_type": "code",
    "id": "3AZF4DUBooZM",
    "outputId": "488f4539-f6a6-49d8-f820-959874843072"
   },
   "outputs": [
    {
     "data": {
      "text/plain": [
       "(6132, 4099)"
      ]
     },
     "execution_count": 65,
     "metadata": {
      "tags": []
     },
     "output_type": "execute_result"
    }
   ],
   "source": [
    "X_train.shape"
   ]
  },
  {
   "cell_type": "code",
   "execution_count": null,
   "metadata": {
    "colab": {
     "base_uri": "https://localhost:8080/",
     "height": 34
    },
    "colab_type": "code",
    "id": "XLGJ_lY2qUT-",
    "outputId": "df486aea-f72b-46b7-d795-5c4500984e99"
   },
   "outputs": [
    {
     "data": {
      "text/plain": [
       "(592, 4099)"
      ]
     },
     "execution_count": 66,
     "metadata": {
      "tags": []
     },
     "output_type": "execute_result"
    }
   ],
   "source": [
    "X_val.shape"
   ]
  },
  {
   "cell_type": "code",
   "execution_count": null,
   "metadata": {
    "colab": {},
    "colab_type": "code",
    "id": "gK3QiAKQcBJH"
   },
   "outputs": [],
   "source": [
    "from xgboost import XGBClassifier"
   ]
  },
  {
   "cell_type": "code",
   "execution_count": null,
   "metadata": {
    "colab": {
     "base_uri": "https://localhost:8080/",
     "height": 134
    },
    "colab_type": "code",
    "id": "gTyXtL30cT39",
    "outputId": "fd025bbc-88f3-4851-f9db-37810c03d3bb"
   },
   "outputs": [
    {
     "data": {
      "text/plain": [
       "XGBClassifier(base_score=0.5, booster='gbtree', colsample_bylevel=1,\n",
       "              colsample_bynode=1, colsample_bytree=1, gamma=0,\n",
       "              learning_rate=0.1, max_delta_step=0, max_depth=5,\n",
       "              min_child_weight=1, missing=None, n_estimators=200, n_jobs=1,\n",
       "              nthread=None, objective='binary:logistic', random_state=0,\n",
       "              reg_alpha=0, reg_lambda=1, scale_pos_weight=1, seed=None,\n",
       "              silent=None, subsample=1, verbosity=1)"
      ]
     },
     "execution_count": 132,
     "metadata": {
      "tags": []
     },
     "output_type": "execute_result"
    }
   ],
   "source": [
    "rf = XGBClassifier(max_depth=5,n_estimators=200)\n",
    "rf.fit(X_train, y_train)"
   ]
  },
  {
   "cell_type": "code",
   "execution_count": null,
   "metadata": {
    "colab": {},
    "colab_type": "code",
    "id": "eg1FizRHolvD"
   },
   "outputs": [],
   "source": [
    "train_pred_proba = rf.predict_proba(X_train)"
   ]
  },
  {
   "cell_type": "code",
   "execution_count": null,
   "metadata": {
    "colab": {},
    "colab_type": "code",
    "id": "WmL3oUO8pcuc"
   },
   "outputs": [],
   "source": [
    "from sklearn import metrics"
   ]
  },
  {
   "cell_type": "code",
   "execution_count": null,
   "metadata": {
    "colab": {
     "base_uri": "https://localhost:8080/",
     "height": 34
    },
    "colab_type": "code",
    "id": "5s-Qo8olpe1K",
    "outputId": "52f58110-8f09-4fda-9c6e-d3d734fce994"
   },
   "outputs": [
    {
     "data": {
      "text/plain": [
       "1.0"
      ]
     },
     "execution_count": 142,
     "metadata": {
      "tags": []
     },
     "output_type": "execute_result"
    }
   ],
   "source": [
    "\n",
    "metrics.roc_auc_score(y_train, train_pred_proba[:,1])"
   ]
  },
  {
   "cell_type": "code",
   "execution_count": null,
   "metadata": {
    "colab": {
     "base_uri": "https://localhost:8080/",
     "height": 34
    },
    "colab_type": "code",
    "id": "F3QassO0pnj9",
    "outputId": "4fe4e4ca-7a06-4637-be31-0cf74a1bfebc"
   },
   "outputs": [
    {
     "data": {
      "text/plain": [
       "0.8506665449233017"
      ]
     },
     "execution_count": 145,
     "metadata": {
      "tags": []
     },
     "output_type": "execute_result"
    }
   ],
   "source": [
    "val_pred_proba = rf.predict_proba(X_val)\n",
    "metrics.roc_auc_score(y_val, val_pred_proba[:,1])"
   ]
  },
  {
   "cell_type": "code",
   "execution_count": null,
   "metadata": {
    "colab": {},
    "colab_type": "code",
    "id": "k4iHBVvPkB8P"
   },
   "outputs": [],
   "source": []
  },
  {
   "cell_type": "code",
   "execution_count": null,
   "metadata": {
    "colab": {},
    "colab_type": "code",
    "id": "8yeLRF_ykB3U"
   },
   "outputs": [],
   "source": []
  },
  {
   "cell_type": "code",
   "execution_count": null,
   "metadata": {
    "colab": {},
    "colab_type": "code",
    "id": "m2eg-VEDkByg"
   },
   "outputs": [],
   "source": [
    "### Hyper param tuning the XGBoost"
   ]
  },
  {
   "cell_type": "code",
   "execution_count": null,
   "metadata": {
    "colab": {
     "base_uri": "https://localhost:8080/",
     "height": 390
    },
    "colab_type": "code",
    "id": "V3bkR-3akBtW",
    "outputId": "bca2523e-4c67-44e1-9e71-10d4b0c5d6fb"
   },
   "outputs": [
    {
     "name": "stdout",
     "output_type": "stream",
     "text": [
      "Fitting 3 folds for each of 16 candidates, totalling 48 fits\n"
     ]
    },
    {
     "name": "stderr",
     "output_type": "stream",
     "text": [
      "[Parallel(n_jobs=-1)]: Using backend LokyBackend with 2 concurrent workers.\n",
      "/usr/local/lib/python3.6/dist-packages/joblib/externals/loky/process_executor.py:706: UserWarning: A worker stopped while some jobs were given to the executor. This can be caused by a too short worker timeout or by a memory leak.\n",
      "  \"timeout or by a memory leak.\", UserWarning\n",
      "[Parallel(n_jobs=-1)]: Done  48 out of  48 | elapsed: 88.4min finished\n"
     ]
    },
    {
     "data": {
      "text/plain": [
       "GridSearchCV(cv=3, error_score='raise-deprecating',\n",
       "             estimator=XGBClassifier(base_score=0.5, booster='gbtree',\n",
       "                                     colsample_bylevel=1, colsample_bynode=1,\n",
       "                                     colsample_bytree=1, gamma=0,\n",
       "                                     learning_rate=0.1, max_delta_step=0,\n",
       "                                     max_depth=3, min_child_weight=1,\n",
       "                                     missing=None, n_estimators=100, n_jobs=-1,\n",
       "                                     nthread=None, objective='binary:logistic',\n",
       "                                     random_state=0, reg_alpha=0, reg_lambda=1,\n",
       "                                     scale_pos_weight=1, seed=None, silent=None,\n",
       "                                     subsample=1, verbosity=1),\n",
       "             iid='warn', n_jobs=-1,\n",
       "             param_grid={'max_depth': [2, 4, 6, 8],\n",
       "                         'n_estimators': [10, 50, 100, 200]},\n",
       "             pre_dispatch='2*n_jobs', refit=True, return_train_score=True,\n",
       "             scoring='roc_auc', verbose=1)"
      ]
     },
     "execution_count": 68,
     "metadata": {
      "tags": []
     },
     "output_type": "execute_result"
    }
   ],
   "source": [
    "params = {'max_depth':[2,4,6,8], 'n_estimators':[10,50,100,200]}\n",
    "model = GridSearchCV(XGBClassifier(n_jobs=-1), param_grid=params,scoring='roc_auc',n_jobs=-1,cv=3, return_train_score=True, verbose=1)\n",
    "model.fit(X_train,y_train)"
   ]
  },
  {
   "cell_type": "code",
   "execution_count": null,
   "metadata": {
    "colab": {},
    "colab_type": "code",
    "id": "cPJelQgI6Bnn"
   },
   "outputs": [],
   "source": [
    "from sklearn import metrics"
   ]
  },
  {
   "cell_type": "code",
   "execution_count": null,
   "metadata": {
    "colab": {
     "base_uri": "https://localhost:8080/",
     "height": 34
    },
    "colab_type": "code",
    "id": "kd--IrRH56Fm",
    "outputId": "96cecf59-7cdb-431c-8063-d387d914c964"
   },
   "outputs": [
    {
     "data": {
      "text/plain": [
       "0.8591487918117144"
      ]
     },
     "execution_count": 71,
     "metadata": {
      "tags": []
     },
     "output_type": "execute_result"
    }
   ],
   "source": [
    "train_pred_proba = model.best_estimator_.predict_proba(X_train)\n",
    "metrics.roc_auc_score(y_train, train_pred_proba[:,1])"
   ]
  },
  {
   "cell_type": "code",
   "execution_count": null,
   "metadata": {
    "colab": {
     "base_uri": "https://localhost:8080/",
     "height": 34
    },
    "colab_type": "code",
    "id": "sWKjlwGx558H",
    "outputId": "9599fdac-f342-4fa6-f7c0-0e2ab50eee22"
   },
   "outputs": [
    {
     "data": {
      "text/plain": [
       "0.8528465120525931"
      ]
     },
     "execution_count": 72,
     "metadata": {
      "tags": []
     },
     "output_type": "execute_result"
    }
   ],
   "source": [
    "val_pred_proba = model.best_estimator_.predict_proba(X_val)\n",
    "metrics.roc_auc_score(y_val, val_pred_proba[:,1])"
   ]
  },
  {
   "cell_type": "code",
   "execution_count": null,
   "metadata": {
    "colab": {},
    "colab_type": "code",
    "id": "7jbvqATEu78E"
   },
   "outputs": [],
   "source": []
  },
  {
   "cell_type": "code",
   "execution_count": null,
   "metadata": {
    "colab": {},
    "colab_type": "code",
    "id": "p0JkAMoFqcl-"
   },
   "outputs": [],
   "source": [
    "# test_path = \"drive/My Drive/Face_recognition/test/\"\n",
    "# def chunker(seq, size=32):\n",
    "#     return (seq[pos:pos + size] for pos in range(0, len(seq), size))\n",
    "\n",
    "\n",
    "# from tqdm import tqdm\n",
    "\n",
    "# submission = pd.read_csv('drive/My Drive/Face_recognition/sample_submission.csv')\n",
    "\n",
    "# predictions = []\n",
    "\n",
    "# for batch in tqdm(chunker(submission.img_pair.values)):\n",
    "#     X1 = [x.split(\"-\")[0] for x in batch]\n",
    "#     X1 = np.array([read_img(test_path + x) for x in X1])\n",
    "\n",
    "#     X2 = [x.split(\"-\")[1] for x in batch]\n",
    "#     X2 = np.array([read_img(test_path + x) for x in X2])\n",
    "\n",
    "#     pred = model.predict([X1, X2]).ravel().tolist()\n",
    "#     predictions += pred\n",
    "\n",
    "# submission['is_related'] = predictions\n",
    "\n",
    "# submission.to_csv(\"vgg_face.csv\", index=False)"
   ]
  },
  {
   "cell_type": "code",
   "execution_count": null,
   "metadata": {
    "colab": {},
    "colab_type": "code",
    "id": "LzIp3p0XkAs8"
   },
   "outputs": [],
   "source": [
    "submission = pd.read_csv('drive/My Drive/Face_recognition/sample_submission.csv')"
   ]
  },
  {
   "cell_type": "code",
   "execution_count": null,
   "metadata": {
    "colab": {},
    "colab_type": "code",
    "id": "xyu18lOrkAn-"
   },
   "outputs": [],
   "source": [
    "test_path = \"drive/My Drive/Face_recognition/test/\"\n",
    "X_test = []\n",
    "for img_pair in submission['img_pair'].values:\n",
    "    x1 = img_pair.split('-')[0]\n",
    "    x1 = np.array(read_img(test_path + x1))\n",
    "    x1 = base_model.predict(np.expand_dims(x1,axis=0)).reshape(2048)\n",
    "    x2 = img_pair.split('-')[1]\n",
    "    x2 = np.array(read_img(test_path + x2))\n",
    "    x2 = base_model.predict(np.expand_dims(x2,axis=0)).reshape(2048)\n",
    "    euc = np.sum(x1**2 - x2**2)\n",
    "    dis = np.sum((x1-x2)**2)\n",
    "    cosine = 1-spatial.distance.cosine(x1,x2)\n",
    "    ip = np.concatenate((x1,x2, [euc,dis,cosine]))\n",
    "    X_test.append(ip)"
   ]
  },
  {
   "cell_type": "code",
   "execution_count": null,
   "metadata": {
    "colab": {},
    "colab_type": "code",
    "id": "JWUeywpm-_dv"
   },
   "outputs": [],
   "source": []
  },
  {
   "cell_type": "code",
   "execution_count": null,
   "metadata": {
    "colab": {},
    "colab_type": "code",
    "id": "xvvQY4AOkAjD"
   },
   "outputs": [],
   "source": [
    "test_proba = model.best_estimator_.predict_proba(X_test)"
   ]
  },
  {
   "cell_type": "code",
   "execution_count": null,
   "metadata": {
    "colab": {},
    "colab_type": "code",
    "id": "phL0WKNlkAee"
   },
   "outputs": [],
   "source": [
    "submission['is_related'] = test_proba[:,1]"
   ]
  },
  {
   "cell_type": "code",
   "execution_count": null,
   "metadata": {
    "colab": {},
    "colab_type": "code",
    "id": "VWI2eigJOK8e"
   },
   "outputs": [],
   "source": [
    "submission.to_csv(\"drive/My Drive/Face_recognition/xgbpred.csv\",index=False)"
   ]
  },
  {
   "cell_type": "markdown",
   "metadata": {
    "colab_type": "text",
    "id": "OM62Li_aPARN"
   },
   "source": [
    "### Test score: 84.0"
   ]
  },
  {
   "cell_type": "markdown",
   "metadata": {},
   "source": [
    "### 9. Taking mean of different models and other miscellaneous experimentation"
   ]
  },
  {
   "cell_type": "code",
   "execution_count": null,
   "metadata": {
    "colab": {},
    "colab_type": "code",
    "id": "5Osilfq01zbX"
   },
   "outputs": [],
   "source": [
    "sub_files = ['/content/drive/My Drive/Face_recognition/cosine_focal_submission.csv',\n",
    "        '/content/drive/My Drive/Face_recognition/cosine_focal_submission2.csv',\n",
    "        '/content/drive/My Drive/Face_recognition/cosine_submission.csv',\n",
    "        '/content/drive/My Drive/Face_recognition/cosine_submission2.csv',\n",
    "        '/content/drive/My Drive/Face_recognition/xgbpred.csv'\n",
    "        ]"
   ]
  },
  {
   "cell_type": "code",
   "execution_count": null,
   "metadata": {
    "colab": {
     "base_uri": "https://localhost:8080/",
     "height": 521
    },
    "colab_type": "code",
    "id": "8f8CEXMA1Qxi",
    "outputId": "dce49537-7dc0-4bc0-b79c-c75f10518596"
   },
   "outputs": [
    {
     "name": "stdout",
     "output_type": "stream",
     "text": [
      "                      img_pair  is_related\n",
      "0  face05508.jpg-face01210.jpg    0.042997\n",
      "1  face05750.jpg-face00898.jpg    0.658368\n",
      "2  face05820.jpg-face03938.jpg    0.579603\n",
      "3  face02104.jpg-face01172.jpg    0.633630\n",
      "4  face02428.jpg-face05611.jpg    0.624601\n",
      "                      img_pair  is_related\n",
      "0  face05508.jpg-face01210.jpg    0.090727\n",
      "1  face05750.jpg-face00898.jpg    0.665668\n",
      "2  face05820.jpg-face03938.jpg    0.507103\n",
      "3  face02104.jpg-face01172.jpg    0.572642\n",
      "4  face02428.jpg-face05611.jpg    0.531363\n",
      "                      img_pair  is_related\n",
      "0  face05508.jpg-face01210.jpg    0.000461\n",
      "1  face05750.jpg-face00898.jpg    0.946379\n",
      "2  face05820.jpg-face03938.jpg    0.584920\n",
      "3  face02104.jpg-face01172.jpg    0.623860\n",
      "4  face02428.jpg-face05611.jpg    0.844366\n",
      "                      img_pair  is_related\n",
      "0  face05508.jpg-face01210.jpg    0.000461\n",
      "1  face05750.jpg-face00898.jpg    0.946379\n",
      "2  face05820.jpg-face03938.jpg    0.584920\n",
      "3  face02104.jpg-face01172.jpg    0.623860\n",
      "4  face02428.jpg-face05611.jpg    0.844366\n",
      "                      img_pair  is_related\n",
      "0  face05508.jpg-face01210.jpg    0.198339\n",
      "1  face05750.jpg-face00898.jpg    0.593600\n",
      "2  face05820.jpg-face03938.jpg    0.736615\n",
      "3  face02104.jpg-face01172.jpg    0.847105\n",
      "4  face02428.jpg-face05611.jpg    0.572516\n"
     ]
    }
   ],
   "source": [
    "for f in sub_files:\n",
    "    d = pd.read_csv(f)\n",
    "    print(d.head())"
   ]
  },
  {
   "cell_type": "code",
   "execution_count": null,
   "metadata": {
    "colab": {},
    "colab_type": "code",
    "id": "_VltIO-szyol"
   },
   "outputs": [],
   "source": [
    "scores = []\n",
    "for f in sub_files:\n",
    "    d = pd.read_csv(f)\n",
    "    scores.append(np.array(d['is_related']))"
   ]
  },
  {
   "cell_type": "code",
   "execution_count": null,
   "metadata": {
    "colab": {},
    "colab_type": "code",
    "id": "nosAwV3MrvcH"
   },
   "outputs": [],
   "source": [
    "scores = np.array(scores)"
   ]
  },
  {
   "cell_type": "code",
   "execution_count": null,
   "metadata": {
    "colab": {
     "base_uri": "https://localhost:8080/",
     "height": 34
    },
    "colab_type": "code",
    "id": "R3T26kwDsFZ6",
    "outputId": "33b6cb7f-1c46-467d-ce38-9565d808843f"
   },
   "outputs": [
    {
     "data": {
      "text/plain": [
       "(5, 5310)"
      ]
     },
     "execution_count": 24,
     "metadata": {
      "tags": []
     },
     "output_type": "execute_result"
    }
   ],
   "source": [
    "scores.shape"
   ]
  },
  {
   "cell_type": "code",
   "execution_count": null,
   "metadata": {
    "colab": {},
    "colab_type": "code",
    "id": "KDTCa46ssG8s"
   },
   "outputs": [],
   "source": []
  },
  {
   "cell_type": "code",
   "execution_count": null,
   "metadata": {
    "colab": {},
    "colab_type": "code",
    "id": "421FlXB9sV5_"
   },
   "outputs": [],
   "source": [
    "submission = pd.read_csv('/content/drive/My Drive/Face_recognition/sample_submission.csv')"
   ]
  },
  {
   "cell_type": "code",
   "execution_count": null,
   "metadata": {
    "colab": {},
    "colab_type": "code",
    "id": "xELeFipWsqH2"
   },
   "outputs": [],
   "source": [
    "submission['is_related'] = np.sum(scores, axis=0)"
   ]
  },
  {
   "cell_type": "code",
   "execution_count": null,
   "metadata": {
    "colab": {
     "base_uri": "https://localhost:8080/",
     "height": 195
    },
    "colab_type": "code",
    "id": "Q89ayAUJsruO",
    "outputId": "e17c706d-7a71-4bb0-a052-f355f956cef9"
   },
   "outputs": [
    {
     "data": {
      "text/html": [
       "<div>\n",
       "<style scoped>\n",
       "    .dataframe tbody tr th:only-of-type {\n",
       "        vertical-align: middle;\n",
       "    }\n",
       "\n",
       "    .dataframe tbody tr th {\n",
       "        vertical-align: top;\n",
       "    }\n",
       "\n",
       "    .dataframe thead th {\n",
       "        text-align: right;\n",
       "    }\n",
       "</style>\n",
       "<table border=\"1\" class=\"dataframe\">\n",
       "  <thead>\n",
       "    <tr style=\"text-align: right;\">\n",
       "      <th></th>\n",
       "      <th>img_pair</th>\n",
       "      <th>is_related</th>\n",
       "    </tr>\n",
       "  </thead>\n",
       "  <tbody>\n",
       "    <tr>\n",
       "      <th>0</th>\n",
       "      <td>face05508.jpg-face01210.jpg</td>\n",
       "      <td>0.332984</td>\n",
       "    </tr>\n",
       "    <tr>\n",
       "      <th>1</th>\n",
       "      <td>face05750.jpg-face00898.jpg</td>\n",
       "      <td>3.810393</td>\n",
       "    </tr>\n",
       "    <tr>\n",
       "      <th>2</th>\n",
       "      <td>face05820.jpg-face03938.jpg</td>\n",
       "      <td>2.993161</td>\n",
       "    </tr>\n",
       "    <tr>\n",
       "      <th>3</th>\n",
       "      <td>face02104.jpg-face01172.jpg</td>\n",
       "      <td>3.301096</td>\n",
       "    </tr>\n",
       "    <tr>\n",
       "      <th>4</th>\n",
       "      <td>face02428.jpg-face05611.jpg</td>\n",
       "      <td>3.417211</td>\n",
       "    </tr>\n",
       "  </tbody>\n",
       "</table>\n",
       "</div>"
      ],
      "text/plain": [
       "                      img_pair  is_related\n",
       "0  face05508.jpg-face01210.jpg    0.332984\n",
       "1  face05750.jpg-face00898.jpg    3.810393\n",
       "2  face05820.jpg-face03938.jpg    2.993161\n",
       "3  face02104.jpg-face01172.jpg    3.301096\n",
       "4  face02428.jpg-face05611.jpg    3.417211"
      ]
     },
     "execution_count": 19,
     "metadata": {
      "tags": []
     },
     "output_type": "execute_result"
    }
   ],
   "source": [
    "submission.head()\n"
   ]
  },
  {
   "cell_type": "code",
   "execution_count": null,
   "metadata": {
    "colab": {},
    "colab_type": "code",
    "id": "PBKqqDSIs09O"
   },
   "outputs": [],
   "source": [
    "submission.to_csv(\"/content/drive/My Drive/Face_recognition/sub5.csv\", index=False)"
   ]
  },
  {
   "cell_type": "code",
   "execution_count": null,
   "metadata": {
    "colab": {
     "base_uri": "https://localhost:8080/",
     "height": 101
    },
    "colab_type": "code",
    "id": "GIb1ONuzt3nQ",
    "outputId": "044a425a-be9b-4e27-8097-a11e64f5df4f"
   },
   "outputs": [
    {
     "data": {
      "text/plain": [
       "['/content/drive/My Drive/Face_recognition/cosine_focal_submission.csv',\n",
       " '/content/drive/My Drive/Face_recognition/cosine_focal_submission2.csv',\n",
       " '/content/drive/My Drive/Face_recognition/cosine_submission.csv',\n",
       " '/content/drive/My Drive/Face_recognition/cosine_submission2.csv',\n",
       " '/content/drive/My Drive/Face_recognition/xgbpred.csv']"
      ]
     },
     "execution_count": 32,
     "metadata": {
      "tags": []
     },
     "output_type": "execute_result"
    }
   ],
   "source": [
    "sub_files"
   ]
  },
  {
   "cell_type": "code",
   "execution_count": null,
   "metadata": {
    "colab": {
     "base_uri": "https://localhost:8080/",
     "height": 50
    },
    "colab_type": "code",
    "id": "5hM96KQ8C5Pe",
    "outputId": "f2619be4-fc58-4b85-dc3b-eab8ccdc6338"
   },
   "outputs": [
    {
     "data": {
      "text/plain": [
       "array([0.04299739, 0.65836751, 0.57960308, ..., 0.5060814 , 0.41394684,\n",
       "       0.43831879])"
      ]
     },
     "execution_count": 37,
     "metadata": {
      "tags": []
     },
     "output_type": "execute_result"
    }
   ],
   "source": [
    "scores[0]"
   ]
  },
  {
   "cell_type": "code",
   "execution_count": null,
   "metadata": {
    "colab": {},
    "colab_type": "code",
    "id": "lxQdoxMvC_EC"
   },
   "outputs": [],
   "source": [
    "scores[0] = scores[0]*0.3\n",
    "scores[1] = scores[1]*0.3\n",
    "scores[2] = scores[2]*0.15\n",
    "scores[3] = scores[3]*0.15\n",
    "scores[4] = scores[4]*0.1"
   ]
  },
  {
   "cell_type": "code",
   "execution_count": null,
   "metadata": {
    "colab": {},
    "colab_type": "code",
    "id": "ALrBhbDgDNyE"
   },
   "outputs": [],
   "source": [
    "submission['is_related'] = np.sum(scores, axis=0)"
   ]
  },
  {
   "cell_type": "code",
   "execution_count": null,
   "metadata": {
    "colab": {},
    "colab_type": "code",
    "id": "4SWeOCv0DxU_"
   },
   "outputs": [],
   "source": [
    "submission.to_csv(\"/content/drive/My Drive/Face_recognition/sub6.csv\", index=False)"
   ]
  },
  {
   "cell_type": "code",
   "execution_count": null,
   "metadata": {
    "colab": {},
    "colab_type": "code",
    "id": "KG0g1lXiDzEs"
   },
   "outputs": [],
   "source": []
  },
  {
   "cell_type": "code",
   "execution_count": null,
   "metadata": {
    "colab": {},
    "colab_type": "code",
    "id": "h8vRsuDlwNff"
   },
   "outputs": [],
   "source": [
    "#from keras.preprocessing import image\n",
    "def read_img_facenet(path):\n",
    "    #change1\n",
    "    img = image.load_img(path, target_size=(160, 160))\n",
    "    img = np.array(img).astype(np.float)\n",
    "    return preprocess_input(img, version=2)"
   ]
  },
  {
   "cell_type": "code",
   "execution_count": null,
   "metadata": {
    "colab": {},
    "colab_type": "code",
    "id": "2_hYQU3vwNyF"
   },
   "outputs": [],
   "source": [
    "def gen(list_tuples, person_to_images_map, batch_size=16):\n",
    "    ppl = list(person_to_images_map.keys())\n",
    "    while True:\n",
    "        #sample() Chooses k unique random elements from a population sequence or set\n",
    "        # Filling batch tuples with half 1 lables\n",
    "        batch_tuples = sample(list_tuples, batch_size // 2)\n",
    "        # Assigning 1 label to all the pairs given in relationships file\n",
    "        labels = [1] * len(batch_tuples)\n",
    "        # Filling half batch_tuples with 0 labels\n",
    "        while len(batch_tuples) < batch_size:\n",
    "            p1 = choice(ppl)\n",
    "            p2 = choice(ppl)\n",
    "\n",
    "            if p1 != p2 and (p1, p2) not in list_tuples and (p2, p1) not in list_tuples:\n",
    "                batch_tuples.append((p1, p2))\n",
    "                labels.append(0)\n",
    "\n",
    "        for x in batch_tuples:\n",
    "            if not len(person_to_images_map[x[0]]):\n",
    "                print(x[0])\n",
    "        \n",
    "        # Selecting a single image out of many provided for each user\n",
    "        X1 = [choice(person_to_images_map[x[0]]) for x in batch_tuples]\n",
    "        X1 = np.array([read_img_facenet(x) for x in X1])\n",
    "        \n",
    "        # Selecting a single image out of many provided for each user\n",
    "        X2 = [choice(person_to_images_map[x[1]]) for x in batch_tuples]\n",
    "        X2 = np.array([read_img_facenet(x) for x in X2])\n",
    "\n",
    "        yield [X1, X2], labels\n",
    "        \n",
    "def focal_loss(gamma=2., alpha=.25):\n",
    "    def focal_loss_fixed(y_true, y_pred):\n",
    "        pt_1 = tf.where(tf.equal(y_true, 1), y_pred, tf.ones_like(y_pred))\n",
    "        pt_0 = tf.where(tf.equal(y_true, 0), y_pred, tf.zeros_like(y_pred))\n",
    "        return -K.sum(alpha * K.pow(1. - pt_1, gamma) * K.log(K.epsilon()+pt_1))-K.sum((1-alpha) * K.pow( pt_0, gamma) * K.log(1. - pt_0 + K.epsilon()))\n",
    "    return focal_loss_fixed\n",
    "\n",
    "from keras import backend as K\n",
    "\n",
    "def cosine_distance(vests):\n",
    "    x, y = vests\n",
    "    x = K.l2_normalize(x, axis=-1)\n",
    "    y = K.l2_normalize(y, axis=-1)\n",
    "    return -K.mean(x * y, axis=-1, keepdims=True)\n",
    "\n",
    "def cos_dist_output_shape(shapes):\n",
    "    shape1, shape2 = shapes\n",
    "    return (shape1[0],1)\n"
   ]
  },
  {
   "cell_type": "code",
   "execution_count": null,
   "metadata": {
    "colab": {},
    "colab_type": "code",
    "id": "tMIUVgOixMcA"
   },
   "outputs": [],
   "source": [
    "\n",
    "# example of loading the keras facenet model\n",
    "from keras.models import load_model\n"
   ]
  },
  {
   "cell_type": "code",
   "execution_count": null,
   "metadata": {
    "colab": {
     "base_uri": "https://localhost:8080/",
     "height": 70
    },
    "colab_type": "code",
    "id": "44H7DuN01FCG",
    "outputId": "9dd43caf-96d3-4519-b216-107f4f754d72"
   },
   "outputs": [
    {
     "name": "stderr",
     "output_type": "stream",
     "text": [
      "/usr/local/lib/python3.6/dist-packages/keras/engine/saving.py:292: UserWarning: No training configuration found in save file: the model was *not* compiled. Compile it manually.\n",
      "  warnings.warn('No training configuration found in save file: '\n"
     ]
    }
   ],
   "source": [
    "base_model = load_model('/content/drive/My Drive/Face_recognition/facenet_keras.h5')\n",
    "t = base_model.predict(np.expand_dims(np.array(read_img_facenet('drive/My Drive/Face_recognition/train/F0002/MID1/P00010_face4.jpg')), axis=0))"
   ]
  },
  {
   "cell_type": "code",
   "execution_count": null,
   "metadata": {
    "colab": {
     "base_uri": "https://localhost:8080/",
     "height": 34
    },
    "colab_type": "code",
    "id": "4fXe7osn1Gp7",
    "outputId": "0b5b9437-43e5-42a4-83ce-5835d625c889"
   },
   "outputs": [
    {
     "data": {
      "text/plain": [
       "(1, 128)"
      ]
     },
     "execution_count": 54,
     "metadata": {
      "tags": []
     },
     "output_type": "execute_result"
    }
   ],
   "source": [
    "t.shape"
   ]
  },
  {
   "cell_type": "code",
   "execution_count": null,
   "metadata": {
    "colab": {},
    "colab_type": "code",
    "id": "AXDuHn_uwXl3"
   },
   "outputs": [],
   "source": [
    "def face_cosine_focal_model():\n",
    "    #change 2\n",
    "    input_1 = Input(shape=(160, 160, 3))\n",
    "    input_2 = Input(shape=(160, 160, 3))\n",
    "\n",
    "    base_model = load_model('/content/drive/My Drive/Face_recognition/facenet_keras.h5')\n",
    "\n",
    "    for x in base_model.layers[:-3]:\n",
    "        x.trainable = True\n",
    "\n",
    "    x1 = base_model(input_1)\n",
    "    x2 = base_model(input_2)\n",
    "\n",
    "    #x1 = GlobalAvgPool2D()(x1)\n",
    "    #x2 = GlobalAvgPool2D()(x2)\n",
    "\n",
    "    x3 = Subtract()([x1, x2])\n",
    "    x3 = Multiply()([x3, x3])\n",
    "\n",
    "    x1_ = Multiply()([x1, x1])\n",
    "    x2_ = Multiply()([x2, x2])\n",
    "    x4 = Subtract()([x1_, x2_])\n",
    "    \n",
    "    #https://stackoverflow.com/a/51003359/10650182\n",
    "    x5 = Lambda(cosine_distance, output_shape=cos_dist_output_shape)([x1, x2])\n",
    "    \n",
    "    x = Concatenate(axis=-1)([x5,x4, x3])\n",
    "\n",
    "    x = Dense(100, activation=\"relu\")(x)\n",
    "    x = Dropout(0.01)(x)\n",
    "    out = Dense(1, activation=\"sigmoid\")(x)\n",
    "\n",
    "    model = Model([input_1, input_2], out)\n",
    "\n",
    "    model.compile(loss=[focal_loss(alpha=.25, gamma=2)], metrics=['acc',auroc], optimizer=Adam(0.00001))\n",
    "\n",
    "    model.summary()\n",
    "\n",
    "    return model\n"
   ]
  },
  {
   "cell_type": "code",
   "execution_count": null,
   "metadata": {
    "colab": {
     "base_uri": "https://localhost:8080/",
     "height": 1000
    },
    "colab_type": "code",
    "id": "0WNa2gR7wQtq",
    "outputId": "82115ef5-c4c1-406a-9f71-1a23908545ac"
   },
   "outputs": [
    {
     "name": "stderr",
     "output_type": "stream",
     "text": [
      "/usr/local/lib/python3.6/dist-packages/keras/engine/saving.py:292: UserWarning: No training configuration found in save file: the model was *not* compiled. Compile it manually.\n",
      "  warnings.warn('No training configuration found in save file: '\n",
      "W0806 02:58:22.415379 140359944357760 deprecation_wrapper.py:119] From /usr/local/lib/python3.6/dist-packages/keras/optimizers.py:790: The name tf.train.Optimizer is deprecated. Please use tf.compat.v1.train.Optimizer instead.\n",
      "\n",
      "W0806 02:58:22.427185 140359944357760 deprecation.py:323] From <ipython-input-57-512924c48ae6>:34: add_dispatch_support.<locals>.wrapper (from tensorflow.python.ops.array_ops) is deprecated and will be removed in a future version.\n",
      "Instructions for updating:\n",
      "Use tf.where in 2.0, which has the same broadcast rule as np.where\n",
      "W0806 02:58:22.469060 140359944357760 deprecation.py:323] From <ipython-input-2-bc412d992b42>:14: py_func (from tensorflow.python.ops.script_ops) is deprecated and will be removed in a future version.\n",
      "Instructions for updating:\n",
      "tf.py_func is deprecated in TF V2. Instead, there are two\n",
      "    options available in V2.\n",
      "    - tf.py_function takes a python function which manipulates tf eager\n",
      "    tensors instead of numpy arrays. It's easy to convert a tf eager tensor to\n",
      "    an ndarray (just call tensor.numpy()) but having access to eager tensors\n",
      "    means `tf.py_function`s can use accelerators such as GPUs as well as\n",
      "    being differentiable using a gradient tape.\n",
      "    - tf.numpy_function maintains the semantics of the deprecated tf.py_func\n",
      "    (it is not differentiable, and manipulates numpy arrays). It drops the\n",
      "    stateful argument making all functions stateful.\n",
      "    \n"
     ]
    },
    {
     "name": "stdout",
     "output_type": "stream",
     "text": [
      "__________________________________________________________________________________________________\n",
      "Layer (type)                    Output Shape         Param #     Connected to                     \n",
      "==================================================================================================\n",
      "input_9 (InputLayer)            (None, 160, 160, 3)  0                                            \n",
      "__________________________________________________________________________________________________\n",
      "input_10 (InputLayer)           (None, 160, 160, 3)  0                                            \n",
      "__________________________________________________________________________________________________\n",
      "inception_resnet_v1 (Model)     (None, 128)          22808144    input_9[0][0]                    \n",
      "                                                                 input_10[0][0]                   \n",
      "__________________________________________________________________________________________________\n",
      "multiply_5 (Multiply)           (None, 128)          0           inception_resnet_v1[1][0]        \n",
      "                                                                 inception_resnet_v1[1][0]        \n",
      "__________________________________________________________________________________________________\n",
      "multiply_6 (Multiply)           (None, 128)          0           inception_resnet_v1[2][0]        \n",
      "                                                                 inception_resnet_v1[2][0]        \n",
      "__________________________________________________________________________________________________\n",
      "subtract_3 (Subtract)           (None, 128)          0           inception_resnet_v1[1][0]        \n",
      "                                                                 inception_resnet_v1[2][0]        \n",
      "__________________________________________________________________________________________________\n",
      "lambda_1 (Lambda)               (None, 1)            0           inception_resnet_v1[1][0]        \n",
      "                                                                 inception_resnet_v1[2][0]        \n",
      "__________________________________________________________________________________________________\n",
      "subtract_4 (Subtract)           (None, 128)          0           multiply_5[0][0]                 \n",
      "                                                                 multiply_6[0][0]                 \n",
      "__________________________________________________________________________________________________\n",
      "multiply_4 (Multiply)           (None, 128)          0           subtract_3[0][0]                 \n",
      "                                                                 subtract_3[0][0]                 \n",
      "__________________________________________________________________________________________________\n",
      "concatenate_2 (Concatenate)     (None, 257)          0           lambda_1[0][0]                   \n",
      "                                                                 subtract_4[0][0]                 \n",
      "                                                                 multiply_4[0][0]                 \n",
      "__________________________________________________________________________________________________\n",
      "dense_1 (Dense)                 (None, 100)          25800       concatenate_2[0][0]              \n",
      "__________________________________________________________________________________________________\n",
      "dropout_1 (Dropout)             (None, 100)          0           dense_1[0][0]                    \n",
      "__________________________________________________________________________________________________\n",
      "dense_2 (Dense)                 (None, 1)            101         dropout_1[0][0]                  \n",
      "==================================================================================================\n",
      "Total params: 22,834,045\n",
      "Trainable params: 22,805,213\n",
      "Non-trainable params: 28,832\n",
      "__________________________________________________________________________________________________\n"
     ]
    }
   ],
   "source": [
    "file_path = \"drive/My Drive/Face_recognition/facenet_cosine_focal.h5\"\n",
    "\n",
    "checkpoint = ModelCheckpoint(file_path, monitor='val_auroc', verbose=1, save_best_only=True, mode='max')\n",
    "\n",
    "reduce_on_plateau = ReduceLROnPlateau(monitor=\"val_auroc\", mode=\"max\", factor=0.1, patience=10, verbose=1)\n",
    "\n",
    "callbacks_list = [checkpoint, reduce_on_plateau]\n",
    "\n",
    "model = face_cosine_focal_model()"
   ]
  },
  {
   "cell_type": "code",
   "execution_count": null,
   "metadata": {
    "colab": {
     "base_uri": "https://localhost:8080/",
     "height": 1000
    },
    "colab_type": "code",
    "id": "uykBo2wC0Tqz",
    "outputId": "86f1340f-11a2-4d9d-caa2-cac3c45d24c9"
   },
   "outputs": [
    {
     "name": "stdout",
     "output_type": "stream",
     "text": [
      "Epoch 1/100\n"
     ]
    },
    {
     "name": "stderr",
     "output_type": "stream",
     "text": [
      "/usr/local/lib/python3.6/dist-packages/keras/engine/training_generator.py:47: UserWarning: Using a generator with `use_multiprocessing=True` and multiple workers may duplicate your data. Please consider using the`keras.utils.Sequence class.\n",
      "  UserWarning('Using a generator with `use_multiprocessing=True`'\n"
     ]
    },
    {
     "name": "stdout",
     "output_type": "stream",
     "text": [
      "200/200 [==============================] - 522s 3s/step - loss: 14.4668 - acc: 0.4959 - auroc: 0.4809 - val_loss: 8.5882 - val_acc: 0.5231 - val_auroc: 0.5422\n",
      "\n",
      "Epoch 00001: val_auroc improved from -inf to 0.54219, saving model to drive/My Drive/Face_recognition/facenet_cosine_focal.h5\n",
      "Epoch 2/100\n",
      "200/200 [==============================] - 233s 1s/step - loss: 7.1287 - acc: 0.5278 - auroc: 0.5331 - val_loss: 6.0816 - val_acc: 0.5294 - val_auroc: 0.5506\n",
      "\n",
      "Epoch 00002: val_auroc improved from 0.54219 to 0.55063, saving model to drive/My Drive/Face_recognition/facenet_cosine_focal.h5\n",
      "Epoch 3/100\n",
      "200/200 [==============================] - 152s 758ms/step - loss: 5.3286 - acc: 0.5406 - auroc: 0.5727 - val_loss: 5.6818 - val_acc: 0.5169 - val_auroc: 0.5436\n",
      "\n",
      "Epoch 00003: val_auroc did not improve from 0.55063\n",
      "Epoch 4/100\n",
      "200/200 [==============================] - 141s 705ms/step - loss: 4.7327 - acc: 0.5269 - auroc: 0.5711 - val_loss: 4.4726 - val_acc: 0.5531 - val_auroc: 0.6067\n",
      "\n",
      "Epoch 00004: val_auroc improved from 0.55063 to 0.60672, saving model to drive/My Drive/Face_recognition/facenet_cosine_focal.h5\n",
      "Epoch 5/100\n",
      "200/200 [==============================] - 141s 704ms/step - loss: 4.7083 - acc: 0.5381 - auroc: 0.5690 - val_loss: 4.5058 - val_acc: 0.5394 - val_auroc: 0.6000\n",
      "\n",
      "Epoch 00005: val_auroc did not improve from 0.60672\n",
      "Epoch 6/100\n",
      "200/200 [==============================] - 139s 695ms/step - loss: 4.3808 - acc: 0.5453 - auroc: 0.5924 - val_loss: 4.0820 - val_acc: 0.5419 - val_auroc: 0.6062\n",
      "\n",
      "Epoch 00006: val_auroc did not improve from 0.60672\n",
      "Epoch 7/100\n",
      "200/200 [==============================] - 142s 711ms/step - loss: 4.1318 - acc: 0.5422 - auroc: 0.6038 - val_loss: 4.3484 - val_acc: 0.5325 - val_auroc: 0.5814\n",
      "\n",
      "Epoch 00007: val_auroc did not improve from 0.60672\n",
      "Epoch 8/100\n",
      "200/200 [==============================] - 142s 709ms/step - loss: 3.7004 - acc: 0.5663 - auroc: 0.6272 - val_loss: 3.7964 - val_acc: 0.5563 - val_auroc: 0.6166\n",
      "\n",
      "Epoch 00008: val_auroc improved from 0.60672 to 0.61656, saving model to drive/My Drive/Face_recognition/facenet_cosine_focal.h5\n",
      "Epoch 9/100\n",
      "200/200 [==============================] - 145s 723ms/step - loss: 3.8894 - acc: 0.5609 - auroc: 0.6151 - val_loss: 4.2099 - val_acc: 0.5450 - val_auroc: 0.6048\n",
      "\n",
      "Epoch 00009: val_auroc did not improve from 0.61656\n",
      "Epoch 10/100\n",
      "200/200 [==============================] - 144s 722ms/step - loss: 3.4283 - acc: 0.5672 - auroc: 0.6348 - val_loss: 3.7873 - val_acc: 0.5531 - val_auroc: 0.6075\n",
      "\n",
      "Epoch 00010: val_auroc did not improve from 0.61656\n",
      "Epoch 11/100\n",
      "200/200 [==============================] - 145s 723ms/step - loss: 3.3673 - acc: 0.5744 - auroc: 0.6533 - val_loss: 3.9095 - val_acc: 0.5475 - val_auroc: 0.6030\n",
      "\n",
      "Epoch 00011: val_auroc did not improve from 0.61656\n",
      "Epoch 12/100\n",
      "200/200 [==============================] - 144s 720ms/step - loss: 3.0476 - acc: 0.5872 - auroc: 0.6655 - val_loss: 4.0600 - val_acc: 0.5419 - val_auroc: 0.6058\n",
      "\n",
      "Epoch 00012: val_auroc did not improve from 0.61656\n",
      "Epoch 13/100\n",
      "200/200 [==============================] - 143s 716ms/step - loss: 2.9482 - acc: 0.5981 - auroc: 0.6695 - val_loss: 3.6429 - val_acc: 0.5763 - val_auroc: 0.6352\n",
      "\n",
      "Epoch 00013: val_auroc improved from 0.61656 to 0.63516, saving model to drive/My Drive/Face_recognition/facenet_cosine_focal.h5\n",
      "Epoch 14/100\n",
      "200/200 [==============================] - 142s 709ms/step - loss: 2.8312 - acc: 0.5978 - auroc: 0.6934 - val_loss: 3.3755 - val_acc: 0.5519 - val_auroc: 0.6291\n",
      "\n",
      "Epoch 00014: val_auroc did not improve from 0.63516\n",
      "Epoch 15/100\n",
      "200/200 [==============================] - 142s 711ms/step - loss: 2.8109 - acc: 0.5972 - auroc: 0.6869 - val_loss: 3.2658 - val_acc: 0.5669 - val_auroc: 0.6272\n",
      "\n",
      "Epoch 00015: val_auroc did not improve from 0.63516\n",
      "Epoch 16/100\n",
      "200/200 [==============================] - 141s 707ms/step - loss: 2.7365 - acc: 0.5966 - auroc: 0.6848 - val_loss: 3.1167 - val_acc: 0.5737 - val_auroc: 0.6398\n",
      "\n",
      "Epoch 00016: val_auroc improved from 0.63516 to 0.63984, saving model to drive/My Drive/Face_recognition/facenet_cosine_focal.h5\n",
      "Epoch 17/100\n",
      "200/200 [==============================] - 143s 715ms/step - loss: 2.7334 - acc: 0.5962 - auroc: 0.6950 - val_loss: 3.2432 - val_acc: 0.5787 - val_auroc: 0.6408\n",
      "\n",
      "Epoch 00017: val_auroc improved from 0.63984 to 0.64078, saving model to drive/My Drive/Face_recognition/facenet_cosine_focal.h5\n",
      "Epoch 18/100\n",
      "200/200 [==============================] - 144s 718ms/step - loss: 2.5985 - acc: 0.6000 - auroc: 0.6905 - val_loss: 3.3758 - val_acc: 0.5700 - val_auroc: 0.6286\n",
      "\n",
      "Epoch 00018: val_auroc did not improve from 0.64078\n",
      "Epoch 19/100\n",
      "200/200 [==============================] - 142s 712ms/step - loss: 2.3153 - acc: 0.6166 - auroc: 0.7202 - val_loss: 2.9167 - val_acc: 0.5644 - val_auroc: 0.6600\n",
      "\n",
      "Epoch 00019: val_auroc improved from 0.64078 to 0.66000, saving model to drive/My Drive/Face_recognition/facenet_cosine_focal.h5\n",
      "Epoch 20/100\n",
      "200/200 [==============================] - 141s 705ms/step - loss: 2.5143 - acc: 0.6109 - auroc: 0.6950 - val_loss: 3.1668 - val_acc: 0.5837 - val_auroc: 0.6545\n",
      "\n",
      "Epoch 00020: val_auroc did not improve from 0.66000\n",
      "Epoch 21/100\n",
      "200/200 [==============================] - 144s 718ms/step - loss: 2.0286 - acc: 0.6400 - auroc: 0.7448 - val_loss: 3.0628 - val_acc: 0.5919 - val_auroc: 0.6539\n",
      "\n",
      "Epoch 00021: val_auroc did not improve from 0.66000\n",
      "Epoch 22/100\n",
      "200/200 [==============================] - 144s 718ms/step - loss: 2.2291 - acc: 0.6197 - auroc: 0.7220 - val_loss: 2.7802 - val_acc: 0.5931 - val_auroc: 0.6758\n",
      "\n",
      "Epoch 00022: val_auroc improved from 0.66000 to 0.67578, saving model to drive/My Drive/Face_recognition/facenet_cosine_focal.h5\n",
      "Epoch 23/100\n",
      "200/200 [==============================] - 143s 715ms/step - loss: 2.0503 - acc: 0.6350 - auroc: 0.7395 - val_loss: 2.6374 - val_acc: 0.5825 - val_auroc: 0.6623\n",
      "\n",
      "Epoch 00023: val_auroc did not improve from 0.67578\n",
      "Epoch 24/100\n",
      "200/200 [==============================] - 143s 713ms/step - loss: 1.9637 - acc: 0.6506 - auroc: 0.7440 - val_loss: 2.6220 - val_acc: 0.5850 - val_auroc: 0.6791\n",
      "\n",
      "Epoch 00024: val_auroc improved from 0.67578 to 0.67906, saving model to drive/My Drive/Face_recognition/facenet_cosine_focal.h5\n",
      "Epoch 25/100\n",
      "200/200 [==============================] - 144s 719ms/step - loss: 1.9520 - acc: 0.6406 - auroc: 0.7460 - val_loss: 2.5536 - val_acc: 0.6150 - val_auroc: 0.6808\n",
      "\n",
      "Epoch 00025: val_auroc improved from 0.67906 to 0.68078, saving model to drive/My Drive/Face_recognition/facenet_cosine_focal.h5\n",
      "Epoch 26/100\n",
      "200/200 [==============================] - 144s 718ms/step - loss: 2.1154 - acc: 0.6244 - auroc: 0.7316 - val_loss: 2.3411 - val_acc: 0.6156 - val_auroc: 0.6911\n",
      "\n",
      "Epoch 00026: val_auroc improved from 0.68078 to 0.69109, saving model to drive/My Drive/Face_recognition/facenet_cosine_focal.h5\n",
      "Epoch 27/100\n",
      "200/200 [==============================] - 142s 712ms/step - loss: 1.9921 - acc: 0.6206 - auroc: 0.7494 - val_loss: 2.0802 - val_acc: 0.6200 - val_auroc: 0.7145\n",
      "\n",
      "Epoch 00027: val_auroc improved from 0.69109 to 0.71453, saving model to drive/My Drive/Face_recognition/facenet_cosine_focal.h5\n",
      "Epoch 28/100\n",
      "200/200 [==============================] - 142s 709ms/step - loss: 1.9503 - acc: 0.6344 - auroc: 0.7454 - val_loss: 2.3410 - val_acc: 0.5913 - val_auroc: 0.6758\n",
      "\n",
      "Epoch 00028: val_auroc did not improve from 0.71453\n",
      "Epoch 29/100\n",
      "200/200 [==============================] - 142s 712ms/step - loss: 1.9078 - acc: 0.6447 - auroc: 0.7471 - val_loss: 2.4067 - val_acc: 0.5931 - val_auroc: 0.6700\n",
      "\n",
      "Epoch 00029: val_auroc did not improve from 0.71453\n",
      "Epoch 30/100\n",
      "200/200 [==============================] - 144s 718ms/step - loss: 1.7605 - acc: 0.6541 - auroc: 0.7605 - val_loss: 2.4654 - val_acc: 0.5944 - val_auroc: 0.6731\n",
      "\n",
      "Epoch 00030: val_auroc did not improve from 0.71453\n",
      "Epoch 31/100\n",
      "200/200 [==============================] - 146s 731ms/step - loss: 1.7209 - acc: 0.6434 - auroc: 0.7648 - val_loss: 2.2690 - val_acc: 0.6131 - val_auroc: 0.6797\n",
      "\n",
      "Epoch 00031: val_auroc did not improve from 0.71453\n",
      "Epoch 32/100\n",
      "200/200 [==============================] - 144s 720ms/step - loss: 1.6544 - acc: 0.6466 - auroc: 0.7755 - val_loss: 2.3207 - val_acc: 0.6131 - val_auroc: 0.7063\n",
      "\n",
      "Epoch 00032: val_auroc did not improve from 0.71453\n",
      "Epoch 33/100\n",
      "200/200 [==============================] - 145s 726ms/step - loss: 1.8121 - acc: 0.6338 - auroc: 0.7450 - val_loss: 2.2250 - val_acc: 0.6119 - val_auroc: 0.6992\n",
      "\n",
      "Epoch 00033: val_auroc did not improve from 0.71453\n",
      "Epoch 34/100\n",
      "200/200 [==============================] - 145s 727ms/step - loss: 1.6347 - acc: 0.6559 - auroc: 0.7704 - val_loss: 2.1834 - val_acc: 0.6062 - val_auroc: 0.6984\n",
      "\n",
      "Epoch 00034: val_auroc did not improve from 0.71453\n",
      "Epoch 35/100\n",
      "200/200 [==============================] - 143s 715ms/step - loss: 1.7067 - acc: 0.6522 - auroc: 0.7651 - val_loss: 2.0712 - val_acc: 0.6225 - val_auroc: 0.6883\n",
      "\n",
      "Epoch 00035: val_auroc did not improve from 0.71453\n",
      "Epoch 36/100\n",
      "200/200 [==============================] - 143s 714ms/step - loss: 1.5772 - acc: 0.6547 - auroc: 0.7748 - val_loss: 2.1539 - val_acc: 0.6069 - val_auroc: 0.6894\n",
      "\n",
      "Epoch 00036: val_auroc did not improve from 0.71453\n",
      "Epoch 37/100\n",
      "200/200 [==============================] - 143s 713ms/step - loss: 1.6499 - acc: 0.6578 - auroc: 0.7699 - val_loss: 2.2287 - val_acc: 0.6019 - val_auroc: 0.6761\n",
      "\n",
      "Epoch 00037: val_auroc did not improve from 0.71453\n",
      "\n",
      "Epoch 00037: ReduceLROnPlateau reducing learning rate to 9.999999747378752e-07.\n",
      "Epoch 38/100\n",
      "200/200 [==============================] - 143s 716ms/step - loss: 1.4775 - acc: 0.6725 - auroc: 0.7971 - val_loss: 2.2594 - val_acc: 0.5737 - val_auroc: 0.6641\n",
      "\n",
      "Epoch 00038: val_auroc did not improve from 0.71453\n",
      "Epoch 39/100\n",
      "200/200 [==============================] - 143s 717ms/step - loss: 1.5130 - acc: 0.6772 - auroc: 0.7932 - val_loss: 2.0236 - val_acc: 0.6169 - val_auroc: 0.6897\n",
      "\n",
      "Epoch 00039: val_auroc did not improve from 0.71453\n",
      "Epoch 40/100\n",
      "200/200 [==============================] - 145s 723ms/step - loss: 1.5854 - acc: 0.6697 - auroc: 0.7774 - val_loss: 2.1004 - val_acc: 0.5875 - val_auroc: 0.6772\n",
      "\n",
      "Epoch 00040: val_auroc did not improve from 0.71453\n",
      "Epoch 41/100\n",
      "200/200 [==============================] - 144s 722ms/step - loss: 1.6443 - acc: 0.6484 - auroc: 0.7616 - val_loss: 2.0843 - val_acc: 0.6106 - val_auroc: 0.6841\n",
      "\n",
      "Epoch 00041: val_auroc did not improve from 0.71453\n",
      "Epoch 42/100\n",
      "200/200 [==============================] - 145s 724ms/step - loss: 1.5366 - acc: 0.6603 - auroc: 0.7826 - val_loss: 2.0779 - val_acc: 0.6075 - val_auroc: 0.6792\n",
      "\n",
      "Epoch 00042: val_auroc did not improve from 0.71453\n",
      "Epoch 43/100\n",
      "200/200 [==============================] - 144s 721ms/step - loss: 1.5561 - acc: 0.6684 - auroc: 0.7823 - val_loss: 2.0216 - val_acc: 0.6188 - val_auroc: 0.7002\n",
      "\n",
      "Epoch 00043: val_auroc did not improve from 0.71453\n",
      "Epoch 44/100\n",
      "200/200 [==============================] - 143s 715ms/step - loss: 1.5642 - acc: 0.6625 - auroc: 0.7784 - val_loss: 1.8676 - val_acc: 0.6269 - val_auroc: 0.7016\n",
      "\n",
      "Epoch 00044: val_auroc did not improve from 0.71453\n",
      "Epoch 45/100\n",
      "200/200 [==============================] - 143s 713ms/step - loss: 1.5227 - acc: 0.6591 - auroc: 0.7832 - val_loss: 2.0190 - val_acc: 0.6044 - val_auroc: 0.6884\n",
      "\n",
      "Epoch 00045: val_auroc did not improve from 0.71453\n",
      "Epoch 46/100\n",
      "200/200 [==============================] - 141s 706ms/step - loss: 1.5665 - acc: 0.6572 - auroc: 0.7808 - val_loss: 1.9417 - val_acc: 0.6188 - val_auroc: 0.7025\n",
      "\n",
      "Epoch 00046: val_auroc did not improve from 0.71453\n",
      "Epoch 47/100\n",
      "200/200 [==============================] - 143s 716ms/step - loss: 1.5965 - acc: 0.6500 - auroc: 0.7680 - val_loss: 1.9865 - val_acc: 0.6162 - val_auroc: 0.6978\n",
      "\n",
      "Epoch 00047: val_auroc did not improve from 0.71453\n",
      "\n",
      "Epoch 00047: ReduceLROnPlateau reducing learning rate to 9.999999974752428e-08.\n",
      "Epoch 48/100\n",
      "200/200 [==============================] - 145s 726ms/step - loss: 1.6004 - acc: 0.6516 - auroc: 0.7799 - val_loss: 2.0509 - val_acc: 0.6012 - val_auroc: 0.6859\n",
      "\n",
      "Epoch 00048: val_auroc did not improve from 0.71453\n",
      "Epoch 49/100\n",
      "200/200 [==============================] - 145s 725ms/step - loss: 1.5850 - acc: 0.6547 - auroc: 0.7690 - val_loss: 2.1497 - val_acc: 0.6269 - val_auroc: 0.6948\n",
      "\n",
      "Epoch 00049: val_auroc did not improve from 0.71453\n",
      "Epoch 50/100\n",
      "200/200 [==============================] - 144s 721ms/step - loss: 1.4879 - acc: 0.6694 - auroc: 0.7934 - val_loss: 1.9788 - val_acc: 0.6394 - val_auroc: 0.7303\n",
      "\n",
      "Epoch 00050: val_auroc improved from 0.71453 to 0.73031, saving model to drive/My Drive/Face_recognition/facenet_cosine_focal.h5\n",
      "Epoch 51/100\n",
      "200/200 [==============================] - 144s 720ms/step - loss: 1.4963 - acc: 0.6675 - auroc: 0.7859 - val_loss: 2.1725 - val_acc: 0.6131 - val_auroc: 0.6802\n",
      "\n",
      "Epoch 00051: val_auroc did not improve from 0.73031\n",
      "Epoch 52/100\n",
      "200/200 [==============================] - 143s 717ms/step - loss: 1.4417 - acc: 0.6756 - auroc: 0.7938 - val_loss: 1.8967 - val_acc: 0.6106 - val_auroc: 0.7042\n",
      "\n",
      "Epoch 00052: val_auroc did not improve from 0.73031\n",
      "Epoch 53/100\n",
      "200/200 [==============================] - 144s 719ms/step - loss: 1.5365 - acc: 0.6562 - auroc: 0.7800 - val_loss: 2.1284 - val_acc: 0.6100 - val_auroc: 0.6959\n",
      "\n",
      "Epoch 00053: val_auroc did not improve from 0.73031\n",
      "Epoch 54/100\n",
      "200/200 [==============================] - 143s 714ms/step - loss: 1.5084 - acc: 0.6716 - auroc: 0.7858 - val_loss: 1.8558 - val_acc: 0.6138 - val_auroc: 0.7009\n",
      "\n",
      "Epoch 00054: val_auroc did not improve from 0.73031\n",
      "Epoch 55/100\n",
      "200/200 [==============================] - 145s 724ms/step - loss: 1.5714 - acc: 0.6797 - auroc: 0.7817 - val_loss: 1.9169 - val_acc: 0.6294 - val_auroc: 0.7256\n",
      "\n",
      "Epoch 00055: val_auroc did not improve from 0.73031\n",
      "Epoch 56/100\n",
      "200/200 [==============================] - 145s 725ms/step - loss: 1.6015 - acc: 0.6619 - auroc: 0.7740 - val_loss: 2.0974 - val_acc: 0.6025 - val_auroc: 0.6803\n",
      "\n",
      "Epoch 00056: val_auroc did not improve from 0.73031\n",
      "Epoch 57/100\n",
      "200/200 [==============================] - 145s 725ms/step - loss: 1.5872 - acc: 0.6528 - auroc: 0.7813 - val_loss: 1.8696 - val_acc: 0.6181 - val_auroc: 0.7078\n",
      "\n",
      "Epoch 00057: val_auroc did not improve from 0.73031\n",
      "Epoch 58/100\n",
      "200/200 [==============================] - 145s 727ms/step - loss: 1.5126 - acc: 0.6528 - auroc: 0.7783 - val_loss: 1.9444 - val_acc: 0.5956 - val_auroc: 0.6819\n",
      "\n",
      "Epoch 00058: val_auroc did not improve from 0.73031\n",
      "Epoch 59/100\n",
      "200/200 [==============================] - 144s 721ms/step - loss: 1.5511 - acc: 0.6622 - auroc: 0.7735 - val_loss: 1.9679 - val_acc: 0.6112 - val_auroc: 0.6939\n",
      "\n",
      "Epoch 00059: val_auroc did not improve from 0.73031\n",
      "Epoch 60/100\n",
      "200/200 [==============================] - 143s 717ms/step - loss: 1.5472 - acc: 0.6512 - auroc: 0.7765 - val_loss: 2.0006 - val_acc: 0.6106 - val_auroc: 0.6863\n",
      "\n",
      "Epoch 00060: val_auroc did not improve from 0.73031\n",
      "\n",
      "Epoch 00060: ReduceLROnPlateau reducing learning rate to 1.0000000116860975e-08.\n",
      "Epoch 61/100\n",
      "200/200 [==============================] - 145s 725ms/step - loss: 1.5129 - acc: 0.6675 - auroc: 0.7891 - val_loss: 1.9799 - val_acc: 0.6244 - val_auroc: 0.6961\n",
      "\n",
      "Epoch 00061: val_auroc did not improve from 0.73031\n",
      "Epoch 62/100\n",
      "200/200 [==============================] - 144s 722ms/step - loss: 1.5375 - acc: 0.6613 - auroc: 0.7820 - val_loss: 2.0559 - val_acc: 0.6212 - val_auroc: 0.6980\n",
      "\n",
      "Epoch 00062: val_auroc did not improve from 0.73031\n",
      "Epoch 63/100\n",
      "200/200 [==============================] - 144s 721ms/step - loss: 1.5968 - acc: 0.6575 - auroc: 0.7757 - val_loss: 2.0841 - val_acc: 0.6131 - val_auroc: 0.6823\n",
      "\n",
      "Epoch 00063: val_auroc did not improve from 0.73031\n",
      "Epoch 64/100\n",
      "200/200 [==============================] - 145s 724ms/step - loss: 1.4986 - acc: 0.6734 - auroc: 0.7923 - val_loss: 2.0656 - val_acc: 0.6075 - val_auroc: 0.6892\n",
      "\n",
      "Epoch 00064: val_auroc did not improve from 0.73031\n",
      "Epoch 65/100\n",
      "200/200 [==============================] - 145s 726ms/step - loss: 1.6313 - acc: 0.6466 - auroc: 0.7632 - val_loss: 2.0118 - val_acc: 0.6238 - val_auroc: 0.6973\n",
      "\n",
      "Epoch 00065: val_auroc did not improve from 0.73031\n",
      "Epoch 66/100\n",
      "200/200 [==============================] - 145s 723ms/step - loss: 1.4992 - acc: 0.6738 - auroc: 0.7851 - val_loss: 1.9304 - val_acc: 0.6250 - val_auroc: 0.7014\n",
      "\n",
      "Epoch 00066: val_auroc did not improve from 0.73031\n",
      "Epoch 67/100\n",
      "200/200 [==============================] - 144s 720ms/step - loss: 1.5818 - acc: 0.6559 - auroc: 0.7693 - val_loss: 2.0238 - val_acc: 0.6231 - val_auroc: 0.6994\n",
      "\n",
      "Epoch 00067: val_auroc did not improve from 0.73031\n",
      "Epoch 68/100\n",
      "200/200 [==============================] - 143s 717ms/step - loss: 1.4245 - acc: 0.6653 - auroc: 0.7962 - val_loss: 2.0222 - val_acc: 0.5956 - val_auroc: 0.6900\n",
      "\n",
      "Epoch 00068: val_auroc did not improve from 0.73031\n",
      "Epoch 69/100\n",
      "200/200 [==============================] - 143s 716ms/step - loss: 1.5934 - acc: 0.6550 - auroc: 0.7664 - val_loss: 2.2081 - val_acc: 0.6050 - val_auroc: 0.6956\n",
      "\n",
      "Epoch 00069: val_auroc did not improve from 0.73031\n",
      "Epoch 70/100\n",
      "200/200 [==============================] - 145s 724ms/step - loss: 1.4578 - acc: 0.6731 - auroc: 0.7943 - val_loss: 1.9316 - val_acc: 0.6325 - val_auroc: 0.7058\n",
      "\n",
      "Epoch 00070: val_auroc did not improve from 0.73031\n",
      "\n",
      "Epoch 00070: ReduceLROnPlateau reducing learning rate to 9.999999939225292e-10.\n",
      "Epoch 71/100\n",
      "200/200 [==============================] - 145s 726ms/step - loss: 1.5615 - acc: 0.6587 - auroc: 0.7777 - val_loss: 1.9066 - val_acc: 0.6288 - val_auroc: 0.7020\n",
      "\n",
      "Epoch 00071: val_auroc did not improve from 0.73031\n",
      "Epoch 72/100\n",
      "200/200 [==============================] - 145s 723ms/step - loss: 1.5712 - acc: 0.6675 - auroc: 0.7829 - val_loss: 2.1443 - val_acc: 0.5944 - val_auroc: 0.6878\n",
      "\n",
      "Epoch 00072: val_auroc did not improve from 0.73031\n",
      "Epoch 73/100\n",
      "200/200 [==============================] - 145s 727ms/step - loss: 1.5291 - acc: 0.6631 - auroc: 0.7885 - val_loss: 2.2143 - val_acc: 0.5919 - val_auroc: 0.6639\n",
      "\n",
      "Epoch 00073: val_auroc did not improve from 0.73031\n",
      "Epoch 74/100\n",
      "200/200 [==============================] - 145s 725ms/step - loss: 1.5290 - acc: 0.6753 - auroc: 0.7872 - val_loss: 1.9816 - val_acc: 0.6075 - val_auroc: 0.6925\n",
      "\n",
      "Epoch 00074: val_auroc did not improve from 0.73031\n",
      "Epoch 75/100\n",
      "200/200 [==============================] - 144s 720ms/step - loss: 1.6282 - acc: 0.6603 - auroc: 0.7712 - val_loss: 2.0333 - val_acc: 0.6100 - val_auroc: 0.6995\n",
      "\n",
      "Epoch 00075: val_auroc did not improve from 0.73031\n",
      "Epoch 76/100\n",
      "200/200 [==============================] - 142s 712ms/step - loss: 1.5475 - acc: 0.6738 - auroc: 0.7873 - val_loss: 2.0819 - val_acc: 0.6262 - val_auroc: 0.7244\n",
      "\n",
      "Epoch 00076: val_auroc did not improve from 0.73031\n",
      "Epoch 77/100\n",
      "200/200 [==============================] - 143s 716ms/step - loss: 1.4914 - acc: 0.6641 - auroc: 0.7866 - val_loss: 2.2755 - val_acc: 0.5831 - val_auroc: 0.6484\n",
      "\n",
      "Epoch 00077: val_auroc did not improve from 0.73031\n",
      "Epoch 78/100\n",
      "200/200 [==============================] - 144s 721ms/step - loss: 1.5170 - acc: 0.6703 - auroc: 0.7828 - val_loss: 1.9277 - val_acc: 0.6394 - val_auroc: 0.7130\n",
      "\n",
      "Epoch 00078: val_auroc did not improve from 0.73031\n",
      "Epoch 79/100\n",
      "200/200 [==============================] - 145s 724ms/step - loss: 1.5161 - acc: 0.6544 - auroc: 0.7797 - val_loss: 1.9784 - val_acc: 0.6144 - val_auroc: 0.7066\n",
      "\n",
      "Epoch 00079: val_auroc did not improve from 0.73031\n",
      "Epoch 80/100\n",
      "200/200 [==============================] - 146s 729ms/step - loss: 1.5418 - acc: 0.6497 - auroc: 0.7749 - val_loss: 1.9855 - val_acc: 0.6188 - val_auroc: 0.6936\n",
      "\n",
      "Epoch 00080: val_auroc did not improve from 0.73031\n",
      "\n",
      "Epoch 00080: ReduceLROnPlateau reducing learning rate to 9.999999717180686e-11.\n",
      "Epoch 81/100\n",
      "200/200 [==============================] - 144s 722ms/step - loss: 1.4892 - acc: 0.6772 - auroc: 0.7932 - val_loss: 1.8143 - val_acc: 0.6312 - val_auroc: 0.7203\n",
      "\n",
      "Epoch 00081: val_auroc did not improve from 0.73031\n",
      "Epoch 82/100\n",
      "200/200 [==============================] - 144s 722ms/step - loss: 1.5123 - acc: 0.6684 - auroc: 0.7880 - val_loss: 1.9345 - val_acc: 0.6119 - val_auroc: 0.6953\n",
      "\n",
      "Epoch 00082: val_auroc did not improve from 0.73031\n",
      "Epoch 83/100\n",
      "200/200 [==============================] - 143s 715ms/step - loss: 1.5738 - acc: 0.6459 - auroc: 0.7801 - val_loss: 2.0702 - val_acc: 0.5944 - val_auroc: 0.6883\n",
      "\n",
      "Epoch 00083: val_auroc did not improve from 0.73031\n",
      "Epoch 84/100\n",
      "200/200 [==============================] - 144s 719ms/step - loss: 1.5211 - acc: 0.6572 - auroc: 0.7788 - val_loss: 2.0618 - val_acc: 0.6138 - val_auroc: 0.6994\n",
      "\n",
      "Epoch 00084: val_auroc did not improve from 0.73031\n",
      "Epoch 85/100\n",
      "200/200 [==============================] - 144s 720ms/step - loss: 1.5723 - acc: 0.6606 - auroc: 0.7791 - val_loss: 2.0401 - val_acc: 0.6138 - val_auroc: 0.6900\n",
      "\n",
      "Epoch 00085: val_auroc did not improve from 0.73031\n",
      "Epoch 86/100\n",
      "200/200 [==============================] - 144s 719ms/step - loss: 1.5367 - acc: 0.6666 - auroc: 0.7867 - val_loss: 2.1064 - val_acc: 0.6112 - val_auroc: 0.6936\n",
      "\n",
      "Epoch 00086: val_auroc did not improve from 0.73031\n",
      "Epoch 87/100\n",
      " 31/200 [===>..........................] - ETA: 1:46 - loss: 1.3983 - acc: 0.6653 - auroc: 0.7908"
     ]
    }
   ],
   "source": [
    "model.fit_generator(gen(train, train_person_to_images_map, batch_size=16), use_multiprocessing=True,\n",
    "                    validation_data=gen(val, val_person_to_images_map, batch_size=16), epochs=100, verbose=1,\n",
    "                    workers = 4, callbacks=callbacks_list, steps_per_epoch=200, validation_steps=100)"
   ]
  },
  {
   "cell_type": "code",
   "execution_count": null,
   "metadata": {
    "colab": {},
    "colab_type": "code",
    "id": "8dzv1uRM3hmR"
   },
   "outputs": [],
   "source": []
  },
  {
   "cell_type": "code",
   "execution_count": null,
   "metadata": {
    "colab": {},
    "colab_type": "code",
    "id": "kOtujUw2Yp-P"
   },
   "outputs": [],
   "source": [
    "def sum_output_shape(shapes):\n",
    "    #print(\"***********************\",shapes)\n",
    "    shape1, shape2 = shapes\n",
    "    return (shape1,1)\n",
    "\n",
    "def sum_fn(x):\n",
    "    return K.sum(x, axis=1, keepdims=True)\n"
   ]
  },
  {
   "cell_type": "code",
   "execution_count": null,
   "metadata": {
    "colab": {},
    "colab_type": "code",
    "id": "lnNqgHttmhUA"
   },
   "outputs": [],
   "source": [
    "from keras.optimizers import SGD"
   ]
  },
  {
   "cell_type": "code",
   "execution_count": null,
   "metadata": {
    "colab": {},
    "colab_type": "code",
    "id": "CmnduxpkoIUh"
   },
   "outputs": [],
   "source": [
    "# def cosine_focal_model2():\n",
    "#     #change 2\n",
    "#     input_1 = Input(shape=(197, 197, 3))\n",
    "#     input_2 = Input(shape=(197, 197, 3))\n",
    "\n",
    "#     base_model = VGGFace(model='resnet50', include_top=False)\n",
    "\n",
    "#     for x in base_model.layers[:-3]:\n",
    "#         x.trainable = True\n",
    "\n",
    "#     x1 = base_model(input_1)\n",
    "#     x2 = base_model(input_2)\n",
    "\n",
    "#     x1 = Concatenate(axis=-1)([GlobalMaxPool2D()(x1), GlobalAvgPool2D()(x1)])\n",
    "#     x2 = Concatenate(axis=-1)([GlobalMaxPool2D()(x2), GlobalAvgPool2D()(x2)])\n",
    "\n",
    "#     x3 = Subtract()([x1, x2])\n",
    "#     x3 = Multiply()([x3, x3])\n",
    "#     x3 = Lambda(sum_fn, output_shape=sum_output_shape)(x3)\n",
    "\n",
    "#     x1_ = Multiply()([x1, x1])\n",
    "#     x2_ = Multiply()([x2, x2])\n",
    "#     x4 = Subtract()([x1_, x2_])\n",
    "#     x4 = Lambda(sum_fn, output_shape=sum_output_shape)(x4)\n",
    "    \n",
    "#     #https://stackoverflow.com/a/51003359/10650182\n",
    "#     x5 = Lambda(cosine_distance, output_shape=cos_dist_output_shape)([x1, x2])\n",
    "    \n",
    "#     x = Concatenate(axis=-1)([x5,x4, x3, x1, x2])\n",
    "\n",
    "#     x = Dense(100, activation=\"relu\")(x)\n",
    "#     x = Dropout(0.01)(x)\n",
    "#     out = Dense(1, activation=\"sigmoid\")(x)\n",
    "\n",
    "#     model = Model([input_1, input_2], out)\n",
    "\n",
    "#     model.compile(loss=[focal_loss(alpha=.25, gamma=2)], metrics=['acc',auroc], optimizer=SGD(lr=0.01, decay=1e-6, momentum=0.9, nesterov=True))\n",
    "\n",
    "#     model.summary()\n",
    "\n",
    "#     return model"
   ]
  },
  {
   "cell_type": "code",
   "execution_count": null,
   "metadata": {
    "colab": {},
    "colab_type": "code",
    "id": "3exUq1QVYp3T"
   },
   "outputs": [],
   "source": [
    "def cosine_focal_model2():\n",
    "    #change 2\n",
    "    input_1 = Input(shape=(197, 197, 3))\n",
    "    input_2 = Input(shape=(197, 197, 3))\n",
    "\n",
    "    base_model = VGGFace(model='resnet50', include_top=False)\n",
    "\n",
    "    for x in base_model.layers[:-3]:\n",
    "        x.trainable = True\n",
    "\n",
    "    x1 = base_model(input_1)\n",
    "    x2 = base_model(input_2)\n",
    "\n",
    "    x1 = Concatenate(axis=-1)([GlobalMaxPool2D()(x1), GlobalAvgPool2D()(x1)])\n",
    "    x2 = Concatenate(axis=-1)([GlobalMaxPool2D()(x2), GlobalAvgPool2D()(x2)])\n",
    "\n",
    "    x3 = Subtract()([x1, x2])\n",
    "    x3 = Multiply()([x3, x3])\n",
    "\n",
    "    x1_ = Multiply()([x1, x1])\n",
    "    x2_ = Multiply()([x2, x2])\n",
    "    x4 = Subtract()([x1_, x2_])\n",
    "    \n",
    "    \n",
    "    \n",
    "    #https://stackoverflow.com/a/51003359/10650182\n",
    "    x5 = Lambda(cosine_distance, output_shape=cos_dist_output_shape)([x1, x2])\n",
    "    \n",
    "    x6 = Lambda(sum_fn, output_shape=sum_output_shape)(x3)\n",
    "    \n",
    "    x7 = Lambda(sum_fn, output_shape=sum_output_shape)(x4)\n",
    "    \n",
    "    \n",
    "    x = Concatenate(axis=-1)([x7, x6, x5,x4, x3])\n",
    "\n",
    "    x = Dense(200, activation=\"relu\")(x)\n",
    "    x = Dropout(0.1)(x)\n",
    "    x = Dense(50, activation=\"relu\")(x)\n",
    "    out = Dense(1, activation=\"sigmoid\")(x)\n",
    "\n",
    "    model = Model([input_1, input_2], out)\n",
    "\n",
    "    model.compile(loss=[focal_loss(alpha=.25, gamma=2)], metrics=['acc',auroc], optimizer=Adam(0.00001))\n",
    "\n",
    "    model.summary()\n",
    "\n",
    "    return model"
   ]
  },
  {
   "cell_type": "code",
   "execution_count": null,
   "metadata": {
    "colab": {},
    "colab_type": "code",
    "id": "MLIwuLBIb5t6"
   },
   "outputs": [],
   "source": [
    "#model = cosine_focal_model()"
   ]
  },
  {
   "cell_type": "code",
   "execution_count": null,
   "metadata": {
    "colab": {
     "base_uri": "https://localhost:8080/",
     "height": 1000
    },
    "colab_type": "code",
    "id": "lykx1sK-cAhw",
    "outputId": "8dd51abf-d3bc-42a7-d91d-f5a863680a6c"
   },
   "outputs": [
    {
     "name": "stdout",
     "output_type": "stream",
     "text": [
      "__________________________________________________________________________________________________\n",
      "Layer (type)                    Output Shape         Param #     Connected to                     \n",
      "==================================================================================================\n",
      "input_4 (InputLayer)            (None, 197, 197, 3)  0                                            \n",
      "__________________________________________________________________________________________________\n",
      "input_5 (InputLayer)            (None, 197, 197, 3)  0                                            \n",
      "__________________________________________________________________________________________________\n",
      "vggface_resnet50 (Model)        multiple             23561152    input_4[0][0]                    \n",
      "                                                                 input_5[0][0]                    \n",
      "__________________________________________________________________________________________________\n",
      "global_max_pooling2d_3 (GlobalM (None, 2048)         0           vggface_resnet50[1][0]           \n",
      "__________________________________________________________________________________________________\n",
      "global_average_pooling2d_3 (Glo (None, 2048)         0           vggface_resnet50[1][0]           \n",
      "__________________________________________________________________________________________________\n",
      "global_max_pooling2d_4 (GlobalM (None, 2048)         0           vggface_resnet50[2][0]           \n",
      "__________________________________________________________________________________________________\n",
      "global_average_pooling2d_4 (Glo (None, 2048)         0           vggface_resnet50[2][0]           \n",
      "__________________________________________________________________________________________________\n",
      "concatenate_4 (Concatenate)     (None, 4096)         0           global_max_pooling2d_3[0][0]     \n",
      "                                                                 global_average_pooling2d_3[0][0] \n",
      "__________________________________________________________________________________________________\n",
      "concatenate_5 (Concatenate)     (None, 4096)         0           global_max_pooling2d_4[0][0]     \n",
      "                                                                 global_average_pooling2d_4[0][0] \n",
      "__________________________________________________________________________________________________\n",
      "multiply_5 (Multiply)           (None, 4096)         0           concatenate_4[0][0]              \n",
      "                                                                 concatenate_4[0][0]              \n",
      "__________________________________________________________________________________________________\n",
      "multiply_6 (Multiply)           (None, 4096)         0           concatenate_5[0][0]              \n",
      "                                                                 concatenate_5[0][0]              \n",
      "__________________________________________________________________________________________________\n",
      "subtract_3 (Subtract)           (None, 4096)         0           concatenate_4[0][0]              \n",
      "                                                                 concatenate_5[0][0]              \n",
      "__________________________________________________________________________________________________\n",
      "subtract_4 (Subtract)           (None, 4096)         0           multiply_5[0][0]                 \n",
      "                                                                 multiply_6[0][0]                 \n",
      "__________________________________________________________________________________________________\n",
      "multiply_4 (Multiply)           (None, 4096)         0           subtract_3[0][0]                 \n",
      "                                                                 subtract_3[0][0]                 \n",
      "__________________________________________________________________________________________________\n",
      "lambda_6 (Lambda)               (None, 1)            0           subtract_4[0][0]                 \n",
      "__________________________________________________________________________________________________\n",
      "lambda_5 (Lambda)               (None, 1)            0           multiply_4[0][0]                 \n",
      "__________________________________________________________________________________________________\n",
      "lambda_4 (Lambda)               (None, 1)            0           concatenate_4[0][0]              \n",
      "                                                                 concatenate_5[0][0]              \n",
      "__________________________________________________________________________________________________\n",
      "concatenate_6 (Concatenate)     (None, 8195)         0           lambda_6[0][0]                   \n",
      "                                                                 lambda_5[0][0]                   \n",
      "                                                                 lambda_4[0][0]                   \n",
      "                                                                 subtract_4[0][0]                 \n",
      "                                                                 multiply_4[0][0]                 \n",
      "__________________________________________________________________________________________________\n",
      "dense_4 (Dense)                 (None, 200)          1639200     concatenate_6[0][0]              \n",
      "__________________________________________________________________________________________________\n",
      "dropout_2 (Dropout)             (None, 200)          0           dense_4[0][0]                    \n",
      "__________________________________________________________________________________________________\n",
      "dense_5 (Dense)                 (None, 50)           10050       dropout_2[0][0]                  \n",
      "__________________________________________________________________________________________________\n",
      "dense_6 (Dense)                 (None, 1)            51          dense_5[0][0]                    \n",
      "==================================================================================================\n",
      "Total params: 25,210,453\n",
      "Trainable params: 25,157,333\n",
      "Non-trainable params: 53,120\n",
      "__________________________________________________________________________________________________\n"
     ]
    }
   ],
   "source": [
    "\n",
    "file_path = \"drive/My Drive/Face_recognition/vgg_face_cosine_focal_withvectors.h5\"\n",
    "\n",
    "checkpoint = ModelCheckpoint(file_path, monitor='val_auroc', verbose=1, save_best_only=True, mode='max')\n",
    "\n",
    "reduce_on_plateau = ReduceLROnPlateau(monitor=\"val_auroc\", mode=\"max\", factor=0.1, patience=10, verbose=1)\n",
    "\n",
    "callbacks_list = [checkpoint, reduce_on_plateau]\n",
    "\n",
    "model = cosine_focal_model2()\n"
   ]
  },
  {
   "cell_type": "markdown",
   "metadata": {},
   "source": [
    "#### Interrupting the cell below because of score stuck at 0.5"
   ]
  },
  {
   "cell_type": "code",
   "execution_count": null,
   "metadata": {
    "colab": {
     "base_uri": "https://localhost:8080/",
     "height": 1000
    },
    "colab_type": "code",
    "id": "XAtq1OKEjHgU",
    "outputId": "619123f8-00a1-4d9d-f7a7-2d1a974ffe47"
   },
   "outputs": [
    {
     "name": "stderr",
     "output_type": "stream",
     "text": [
      "/usr/local/lib/python3.6/dist-packages/keras/engine/training_generator.py:47: UserWarning: Using a generator with `use_multiprocessing=True` and multiple workers may duplicate your data. Please consider using the`keras.utils.Sequence class.\n",
      "  UserWarning('Using a generator with `use_multiprocessing=True`'\n"
     ]
    },
    {
     "name": "stdout",
     "output_type": "stream",
     "text": [
      "Epoch 1/100\n",
      " 92/200 [============>.................] - ETA: 2:03 - loss: 32.2362 - acc: 0.5000 - auroc: 0.5000"
     ]
    },
    {
     "name": "stderr",
     "output_type": "stream",
     "text": [
      "Process ForkPoolWorker-48:\n",
      "Process ForkPoolWorker-45:\n",
      "Process ForkPoolWorker-41:\n",
      "Process ForkPoolWorker-43:\n",
      "Process ForkPoolWorker-46:\n",
      "Traceback (most recent call last):\n",
      "Process ForkPoolWorker-44:\n",
      "Process ForkPoolWorker-42:\n",
      "Process ForkPoolWorker-47:\n",
      "  File \"/usr/lib/python3.6/multiprocessing/process.py\", line 258, in _bootstrap\n",
      "    self.run()\n",
      "Traceback (most recent call last):\n",
      "Traceback (most recent call last):\n",
      "Traceback (most recent call last):\n",
      "  File \"/usr/lib/python3.6/multiprocessing/process.py\", line 258, in _bootstrap\n",
      "    self.run()\n",
      "  File \"/usr/lib/python3.6/multiprocessing/process.py\", line 93, in run\n",
      "    self._target(*self._args, **self._kwargs)\n",
      "Traceback (most recent call last):\n",
      "Traceback (most recent call last):\n",
      "  File \"/usr/lib/python3.6/multiprocessing/process.py\", line 258, in _bootstrap\n",
      "    self.run()\n",
      "  File \"/usr/lib/python3.6/multiprocessing/process.py\", line 258, in _bootstrap\n",
      "    self.run()\n",
      "Traceback (most recent call last):\n",
      "  File \"/usr/lib/python3.6/multiprocessing/process.py\", line 93, in run\n",
      "    self._target(*self._args, **self._kwargs)\n",
      "Traceback (most recent call last):\n",
      "  File \"/usr/lib/python3.6/multiprocessing/pool.py\", line 108, in worker\n",
      "    task = get()\n",
      "  File \"/usr/lib/python3.6/multiprocessing/process.py\", line 258, in _bootstrap\n",
      "    self.run()\n",
      "  File \"/usr/lib/python3.6/multiprocessing/process.py\", line 258, in _bootstrap\n",
      "    self.run()\n",
      "  File \"/usr/lib/python3.6/multiprocessing/process.py\", line 93, in run\n",
      "    self._target(*self._args, **self._kwargs)\n",
      "  File \"/usr/lib/python3.6/multiprocessing/queues.py\", line 334, in get\n",
      "    with self._rlock:\n",
      "  File \"/usr/lib/python3.6/multiprocessing/process.py\", line 258, in _bootstrap\n",
      "    self.run()\n",
      "  File \"/usr/lib/python3.6/multiprocessing/process.py\", line 258, in _bootstrap\n",
      "    self.run()\n",
      "  File \"/usr/lib/python3.6/multiprocessing/pool.py\", line 108, in worker\n",
      "    task = get()\n",
      "  File \"/usr/lib/python3.6/multiprocessing/process.py\", line 93, in run\n",
      "    self._target(*self._args, **self._kwargs)\n",
      "  File \"/usr/lib/python3.6/multiprocessing/process.py\", line 93, in run\n",
      "    self._target(*self._args, **self._kwargs)\n",
      "  File \"/usr/lib/python3.6/multiprocessing/process.py\", line 93, in run\n",
      "    self._target(*self._args, **self._kwargs)\n",
      "  File \"/usr/lib/python3.6/multiprocessing/pool.py\", line 108, in worker\n",
      "    task = get()\n",
      "  File \"/usr/lib/python3.6/multiprocessing/process.py\", line 93, in run\n",
      "    self._target(*self._args, **self._kwargs)\n",
      "  File \"/usr/lib/python3.6/multiprocessing/synchronize.py\", line 95, in __enter__\n",
      "    return self._semlock.__enter__()\n",
      "  File \"/usr/lib/python3.6/multiprocessing/process.py\", line 93, in run\n",
      "    self._target(*self._args, **self._kwargs)\n",
      "  File \"/usr/lib/python3.6/multiprocessing/queues.py\", line 334, in get\n",
      "    with self._rlock:\n",
      "  File \"/usr/lib/python3.6/multiprocessing/pool.py\", line 108, in worker\n",
      "    task = get()\n",
      "  File \"/usr/lib/python3.6/multiprocessing/pool.py\", line 119, in worker\n",
      "    result = (True, func(*args, **kwds))\n",
      "  File \"/usr/lib/python3.6/multiprocessing/pool.py\", line 108, in worker\n",
      "    task = get()\n",
      "  File \"/usr/lib/python3.6/multiprocessing/queues.py\", line 334, in get\n",
      "    with self._rlock:\n",
      "KeyboardInterrupt\n",
      "  File \"/usr/lib/python3.6/multiprocessing/pool.py\", line 108, in worker\n",
      "    task = get()\n",
      "  File \"/usr/lib/python3.6/multiprocessing/synchronize.py\", line 95, in __enter__\n",
      "    return self._semlock.__enter__()\n",
      "  File \"/usr/lib/python3.6/multiprocessing/pool.py\", line 108, in worker\n",
      "    task = get()\n",
      "  File \"/usr/lib/python3.6/multiprocessing/queues.py\", line 334, in get\n",
      "    with self._rlock:\n",
      "  File \"/usr/local/lib/python3.6/dist-packages/keras/utils/data_utils.py\", line 626, in next_sample\n",
      "    return six.next(_SHARED_SEQUENCES[uid])\n",
      "  File \"/usr/lib/python3.6/multiprocessing/queues.py\", line 335, in get\n",
      "    res = self._reader.recv_bytes()\n",
      "  File \"/usr/lib/python3.6/multiprocessing/synchronize.py\", line 95, in __enter__\n",
      "    return self._semlock.__enter__()\n",
      "  File \"/usr/lib/python3.6/multiprocessing/synchronize.py\", line 95, in __enter__\n",
      "    return self._semlock.__enter__()\n",
      "KeyboardInterrupt\n",
      "  File \"/usr/lib/python3.6/multiprocessing/queues.py\", line 334, in get\n",
      "    with self._rlock:\n",
      "  File \"/usr/lib/python3.6/multiprocessing/queues.py\", line 335, in get\n",
      "    res = self._reader.recv_bytes()\n",
      "  File \"<ipython-input-40-f112435959b0>\", line 28, in gen\n",
      "    X2 = np.array([read_img(x) for x in X2])\n",
      "KeyboardInterrupt\n",
      "  File \"/usr/lib/python3.6/multiprocessing/connection.py\", line 216, in recv_bytes\n",
      "    buf = self._recv_bytes(maxlength)\n",
      "KeyboardInterrupt\n",
      "  File \"/usr/lib/python3.6/multiprocessing/connection.py\", line 216, in recv_bytes\n",
      "    buf = self._recv_bytes(maxlength)\n",
      "  File \"/usr/lib/python3.6/multiprocessing/synchronize.py\", line 95, in __enter__\n",
      "    return self._semlock.__enter__()\n",
      "  File \"<ipython-input-40-f112435959b0>\", line 28, in <listcomp>\n",
      "    X2 = np.array([read_img(x) for x in X2])\n",
      "  File \"/usr/lib/python3.6/multiprocessing/connection.py\", line 407, in _recv_bytes\n",
      "    buf = self._recv(4)\n"
     ]
    },
    {
     "name": "stdout",
     "output_type": "stream",
     "text": [
      "Epoch 1/100"
     ]
    },
    {
     "name": "stderr",
     "output_type": "stream",
     "text": [
      "  File \"<ipython-input-30-4a8ec4dc9549>\", line 4, in read_img\n",
      "    img = np.array(img).astype(np.float)\n",
      "KeyboardInterrupt\n",
      "  File \"/usr/lib/python3.6/multiprocessing/connection.py\", line 407, in _recv_bytes\n",
      "    buf = self._recv(4)\n",
      "  File \"/usr/lib/python3.6/multiprocessing/connection.py\", line 379, in _recv\n",
      "    chunk = read(handle, remaining)\n",
      "KeyboardInterrupt\n",
      "  File \"/usr/lib/python3.6/multiprocessing/connection.py\", line 379, in _recv\n",
      "    chunk = read(handle, remaining)\n",
      "KeyboardInterrupt\n",
      "KeyboardInterrupt\n"
     ]
    },
    {
     "ename": "KeyboardInterrupt",
     "evalue": "ignored",
     "output_type": "error",
     "traceback": [
      "\u001b[0;31m---------------------------------------------------------------------------\u001b[0m",
      "\u001b[0;31mKeyboardInterrupt\u001b[0m                         Traceback (most recent call last)",
      "\u001b[0;32m<ipython-input-56-8279149ad808>\u001b[0m in \u001b[0;36m<module>\u001b[0;34m()\u001b[0m\n\u001b[1;32m      1\u001b[0m model.fit_generator(gen(train, train_person_to_images_map, batch_size=16), use_multiprocessing=True,\n\u001b[1;32m      2\u001b[0m                     \u001b[0mvalidation_data\u001b[0m\u001b[0;34m=\u001b[0m\u001b[0mgen\u001b[0m\u001b[0;34m(\u001b[0m\u001b[0mval\u001b[0m\u001b[0;34m,\u001b[0m \u001b[0mval_person_to_images_map\u001b[0m\u001b[0;34m,\u001b[0m \u001b[0mbatch_size\u001b[0m\u001b[0;34m=\u001b[0m\u001b[0;36m16\u001b[0m\u001b[0;34m)\u001b[0m\u001b[0;34m,\u001b[0m \u001b[0mepochs\u001b[0m\u001b[0;34m=\u001b[0m\u001b[0;36m100\u001b[0m\u001b[0;34m,\u001b[0m \u001b[0mverbose\u001b[0m\u001b[0;34m=\u001b[0m\u001b[0;36m1\u001b[0m\u001b[0;34m,\u001b[0m\u001b[0;34m\u001b[0m\u001b[0;34m\u001b[0m\u001b[0m\n\u001b[0;32m----> 3\u001b[0;31m                     workers = 4, callbacks=callbacks_list, steps_per_epoch=200, validation_steps=100)\n\u001b[0m",
      "\u001b[0;32m/usr/local/lib/python3.6/dist-packages/keras/legacy/interfaces.py\u001b[0m in \u001b[0;36mwrapper\u001b[0;34m(*args, **kwargs)\u001b[0m\n\u001b[1;32m     89\u001b[0m                 warnings.warn('Update your `' + object_name + '` call to the ' +\n\u001b[1;32m     90\u001b[0m                               'Keras 2 API: ' + signature, stacklevel=2)\n\u001b[0;32m---> 91\u001b[0;31m             \u001b[0;32mreturn\u001b[0m \u001b[0mfunc\u001b[0m\u001b[0;34m(\u001b[0m\u001b[0;34m*\u001b[0m\u001b[0margs\u001b[0m\u001b[0;34m,\u001b[0m \u001b[0;34m**\u001b[0m\u001b[0mkwargs\u001b[0m\u001b[0;34m)\u001b[0m\u001b[0;34m\u001b[0m\u001b[0;34m\u001b[0m\u001b[0m\n\u001b[0m\u001b[1;32m     92\u001b[0m         \u001b[0mwrapper\u001b[0m\u001b[0;34m.\u001b[0m\u001b[0m_original_function\u001b[0m \u001b[0;34m=\u001b[0m \u001b[0mfunc\u001b[0m\u001b[0;34m\u001b[0m\u001b[0;34m\u001b[0m\u001b[0m\n\u001b[1;32m     93\u001b[0m         \u001b[0;32mreturn\u001b[0m \u001b[0mwrapper\u001b[0m\u001b[0;34m\u001b[0m\u001b[0;34m\u001b[0m\u001b[0m\n",
      "\u001b[0;32m/usr/local/lib/python3.6/dist-packages/keras/engine/training.py\u001b[0m in \u001b[0;36mfit_generator\u001b[0;34m(self, generator, steps_per_epoch, epochs, verbose, callbacks, validation_data, validation_steps, class_weight, max_queue_size, workers, use_multiprocessing, shuffle, initial_epoch)\u001b[0m\n\u001b[1;32m   1416\u001b[0m             \u001b[0muse_multiprocessing\u001b[0m\u001b[0;34m=\u001b[0m\u001b[0muse_multiprocessing\u001b[0m\u001b[0;34m,\u001b[0m\u001b[0;34m\u001b[0m\u001b[0;34m\u001b[0m\u001b[0m\n\u001b[1;32m   1417\u001b[0m             \u001b[0mshuffle\u001b[0m\u001b[0;34m=\u001b[0m\u001b[0mshuffle\u001b[0m\u001b[0;34m,\u001b[0m\u001b[0;34m\u001b[0m\u001b[0;34m\u001b[0m\u001b[0m\n\u001b[0;32m-> 1418\u001b[0;31m             initial_epoch=initial_epoch)\n\u001b[0m\u001b[1;32m   1419\u001b[0m \u001b[0;34m\u001b[0m\u001b[0m\n\u001b[1;32m   1420\u001b[0m     \u001b[0;34m@\u001b[0m\u001b[0minterfaces\u001b[0m\u001b[0;34m.\u001b[0m\u001b[0mlegacy_generator_methods_support\u001b[0m\u001b[0;34m\u001b[0m\u001b[0;34m\u001b[0m\u001b[0m\n",
      "\u001b[0;32m/usr/local/lib/python3.6/dist-packages/keras/engine/training_generator.py\u001b[0m in \u001b[0;36mfit_generator\u001b[0;34m(model, generator, steps_per_epoch, epochs, verbose, callbacks, validation_data, validation_steps, class_weight, max_queue_size, workers, use_multiprocessing, shuffle, initial_epoch)\u001b[0m\n\u001b[1;32m    215\u001b[0m                 outs = model.train_on_batch(x, y,\n\u001b[1;32m    216\u001b[0m                                             \u001b[0msample_weight\u001b[0m\u001b[0;34m=\u001b[0m\u001b[0msample_weight\u001b[0m\u001b[0;34m,\u001b[0m\u001b[0;34m\u001b[0m\u001b[0;34m\u001b[0m\u001b[0m\n\u001b[0;32m--> 217\u001b[0;31m                                             class_weight=class_weight)\n\u001b[0m\u001b[1;32m    218\u001b[0m \u001b[0;34m\u001b[0m\u001b[0m\n\u001b[1;32m    219\u001b[0m                 \u001b[0mouts\u001b[0m \u001b[0;34m=\u001b[0m \u001b[0mto_list\u001b[0m\u001b[0;34m(\u001b[0m\u001b[0mouts\u001b[0m\u001b[0;34m)\u001b[0m\u001b[0;34m\u001b[0m\u001b[0;34m\u001b[0m\u001b[0m\n",
      "\u001b[0;32m/usr/local/lib/python3.6/dist-packages/keras/engine/training.py\u001b[0m in \u001b[0;36mtrain_on_batch\u001b[0;34m(self, x, y, sample_weight, class_weight)\u001b[0m\n\u001b[1;32m   1215\u001b[0m             \u001b[0mins\u001b[0m \u001b[0;34m=\u001b[0m \u001b[0mx\u001b[0m \u001b[0;34m+\u001b[0m \u001b[0my\u001b[0m \u001b[0;34m+\u001b[0m \u001b[0msample_weights\u001b[0m\u001b[0;34m\u001b[0m\u001b[0;34m\u001b[0m\u001b[0m\n\u001b[1;32m   1216\u001b[0m         \u001b[0mself\u001b[0m\u001b[0;34m.\u001b[0m\u001b[0m_make_train_function\u001b[0m\u001b[0;34m(\u001b[0m\u001b[0;34m)\u001b[0m\u001b[0;34m\u001b[0m\u001b[0;34m\u001b[0m\u001b[0m\n\u001b[0;32m-> 1217\u001b[0;31m         \u001b[0moutputs\u001b[0m \u001b[0;34m=\u001b[0m \u001b[0mself\u001b[0m\u001b[0;34m.\u001b[0m\u001b[0mtrain_function\u001b[0m\u001b[0;34m(\u001b[0m\u001b[0mins\u001b[0m\u001b[0;34m)\u001b[0m\u001b[0;34m\u001b[0m\u001b[0;34m\u001b[0m\u001b[0m\n\u001b[0m\u001b[1;32m   1218\u001b[0m         \u001b[0;32mreturn\u001b[0m \u001b[0munpack_singleton\u001b[0m\u001b[0;34m(\u001b[0m\u001b[0moutputs\u001b[0m\u001b[0;34m)\u001b[0m\u001b[0;34m\u001b[0m\u001b[0;34m\u001b[0m\u001b[0m\n\u001b[1;32m   1219\u001b[0m \u001b[0;34m\u001b[0m\u001b[0m\n",
      "\u001b[0;32m/usr/local/lib/python3.6/dist-packages/keras/backend/tensorflow_backend.py\u001b[0m in \u001b[0;36m__call__\u001b[0;34m(self, inputs)\u001b[0m\n\u001b[1;32m   2713\u001b[0m                 \u001b[0;32mreturn\u001b[0m \u001b[0mself\u001b[0m\u001b[0;34m.\u001b[0m\u001b[0m_legacy_call\u001b[0m\u001b[0;34m(\u001b[0m\u001b[0minputs\u001b[0m\u001b[0;34m)\u001b[0m\u001b[0;34m\u001b[0m\u001b[0;34m\u001b[0m\u001b[0m\n\u001b[1;32m   2714\u001b[0m \u001b[0;34m\u001b[0m\u001b[0m\n\u001b[0;32m-> 2715\u001b[0;31m             \u001b[0;32mreturn\u001b[0m \u001b[0mself\u001b[0m\u001b[0;34m.\u001b[0m\u001b[0m_call\u001b[0m\u001b[0;34m(\u001b[0m\u001b[0minputs\u001b[0m\u001b[0;34m)\u001b[0m\u001b[0;34m\u001b[0m\u001b[0;34m\u001b[0m\u001b[0m\n\u001b[0m\u001b[1;32m   2716\u001b[0m         \u001b[0;32melse\u001b[0m\u001b[0;34m:\u001b[0m\u001b[0;34m\u001b[0m\u001b[0;34m\u001b[0m\u001b[0m\n\u001b[1;32m   2717\u001b[0m             \u001b[0;32mif\u001b[0m \u001b[0mpy_any\u001b[0m\u001b[0;34m(\u001b[0m\u001b[0mis_tensor\u001b[0m\u001b[0;34m(\u001b[0m\u001b[0mx\u001b[0m\u001b[0;34m)\u001b[0m \u001b[0;32mfor\u001b[0m \u001b[0mx\u001b[0m \u001b[0;32min\u001b[0m \u001b[0minputs\u001b[0m\u001b[0;34m)\u001b[0m\u001b[0;34m:\u001b[0m\u001b[0;34m\u001b[0m\u001b[0;34m\u001b[0m\u001b[0m\n",
      "\u001b[0;32m/usr/local/lib/python3.6/dist-packages/keras/backend/tensorflow_backend.py\u001b[0m in \u001b[0;36m_call\u001b[0;34m(self, inputs)\u001b[0m\n\u001b[1;32m   2673\u001b[0m             \u001b[0mfetched\u001b[0m \u001b[0;34m=\u001b[0m \u001b[0mself\u001b[0m\u001b[0;34m.\u001b[0m\u001b[0m_callable_fn\u001b[0m\u001b[0;34m(\u001b[0m\u001b[0;34m*\u001b[0m\u001b[0marray_vals\u001b[0m\u001b[0;34m,\u001b[0m \u001b[0mrun_metadata\u001b[0m\u001b[0;34m=\u001b[0m\u001b[0mself\u001b[0m\u001b[0;34m.\u001b[0m\u001b[0mrun_metadata\u001b[0m\u001b[0;34m)\u001b[0m\u001b[0;34m\u001b[0m\u001b[0;34m\u001b[0m\u001b[0m\n\u001b[1;32m   2674\u001b[0m         \u001b[0;32melse\u001b[0m\u001b[0;34m:\u001b[0m\u001b[0;34m\u001b[0m\u001b[0;34m\u001b[0m\u001b[0m\n\u001b[0;32m-> 2675\u001b[0;31m             \u001b[0mfetched\u001b[0m \u001b[0;34m=\u001b[0m \u001b[0mself\u001b[0m\u001b[0;34m.\u001b[0m\u001b[0m_callable_fn\u001b[0m\u001b[0;34m(\u001b[0m\u001b[0;34m*\u001b[0m\u001b[0marray_vals\u001b[0m\u001b[0;34m)\u001b[0m\u001b[0;34m\u001b[0m\u001b[0;34m\u001b[0m\u001b[0m\n\u001b[0m\u001b[1;32m   2676\u001b[0m         \u001b[0;32mreturn\u001b[0m \u001b[0mfetched\u001b[0m\u001b[0;34m[\u001b[0m\u001b[0;34m:\u001b[0m\u001b[0mlen\u001b[0m\u001b[0;34m(\u001b[0m\u001b[0mself\u001b[0m\u001b[0;34m.\u001b[0m\u001b[0moutputs\u001b[0m\u001b[0;34m)\u001b[0m\u001b[0;34m]\u001b[0m\u001b[0;34m\u001b[0m\u001b[0;34m\u001b[0m\u001b[0m\n\u001b[1;32m   2677\u001b[0m \u001b[0;34m\u001b[0m\u001b[0m\n",
      "\u001b[0;32m/usr/local/lib/python3.6/dist-packages/tensorflow/python/client/session.py\u001b[0m in \u001b[0;36m__call__\u001b[0;34m(self, *args, **kwargs)\u001b[0m\n\u001b[1;32m   1456\u001b[0m         ret = tf_session.TF_SessionRunCallable(self._session._session,\n\u001b[1;32m   1457\u001b[0m                                                \u001b[0mself\u001b[0m\u001b[0;34m.\u001b[0m\u001b[0m_handle\u001b[0m\u001b[0;34m,\u001b[0m \u001b[0margs\u001b[0m\u001b[0;34m,\u001b[0m\u001b[0;34m\u001b[0m\u001b[0;34m\u001b[0m\u001b[0m\n\u001b[0;32m-> 1458\u001b[0;31m                                                run_metadata_ptr)\n\u001b[0m\u001b[1;32m   1459\u001b[0m         \u001b[0;32mif\u001b[0m \u001b[0mrun_metadata\u001b[0m\u001b[0;34m:\u001b[0m\u001b[0;34m\u001b[0m\u001b[0;34m\u001b[0m\u001b[0m\n\u001b[1;32m   1460\u001b[0m           \u001b[0mproto_data\u001b[0m \u001b[0;34m=\u001b[0m \u001b[0mtf_session\u001b[0m\u001b[0;34m.\u001b[0m\u001b[0mTF_GetBuffer\u001b[0m\u001b[0;34m(\u001b[0m\u001b[0mrun_metadata_ptr\u001b[0m\u001b[0;34m)\u001b[0m\u001b[0;34m\u001b[0m\u001b[0;34m\u001b[0m\u001b[0m\n",
      "\u001b[0;31mKeyboardInterrupt\u001b[0m: "
     ]
    }
   ],
   "source": [
    "model.fit_generator(gen(train, train_person_to_images_map, batch_size=16), use_multiprocessing=True,\n",
    "                    validation_data=gen(val, val_person_to_images_map, batch_size=16), epochs=100, verbose=1,\n",
    "                    workers = 4, callbacks=callbacks_list, steps_per_epoch=200, validation_steps=100)"
   ]
  },
  {
   "cell_type": "code",
   "execution_count": null,
   "metadata": {
    "colab": {
     "base_uri": "https://localhost:8080/",
     "height": 356
    },
    "colab_type": "code",
    "id": "0v3TUvxfjXik",
    "outputId": "8892d291-929b-40fd-921e-db3c45f51c4e"
   },
   "outputs": [
    {
     "name": "stderr",
     "output_type": "stream",
     "text": [
      "WARNING: Logging before flag parsing goes to stderr.\n",
      "W0807 02:10:21.755585 140385125271424 deprecation_wrapper.py:119] From /usr/local/lib/python3.6/dist-packages/keras/backend/tensorflow_backend.py:74: The name tf.get_default_graph is deprecated. Please use tf.compat.v1.get_default_graph instead.\n",
      "\n",
      "W0807 02:10:21.804287 140385125271424 deprecation_wrapper.py:119] From /usr/local/lib/python3.6/dist-packages/keras/backend/tensorflow_backend.py:517: The name tf.placeholder is deprecated. Please use tf.compat.v1.placeholder instead.\n",
      "\n",
      "W0807 02:10:21.813905 140385125271424 deprecation_wrapper.py:119] From /usr/local/lib/python3.6/dist-packages/keras/backend/tensorflow_backend.py:4138: The name tf.random_uniform is deprecated. Please use tf.random.uniform instead.\n",
      "\n",
      "W0807 02:10:21.857730 140385125271424 deprecation_wrapper.py:119] From /usr/local/lib/python3.6/dist-packages/keras/backend/tensorflow_backend.py:174: The name tf.get_default_session is deprecated. Please use tf.compat.v1.get_default_session instead.\n",
      "\n",
      "W0807 02:10:21.859973 140385125271424 deprecation_wrapper.py:119] From /usr/local/lib/python3.6/dist-packages/keras/backend/tensorflow_backend.py:181: The name tf.ConfigProto is deprecated. Please use tf.compat.v1.ConfigProto instead.\n",
      "\n",
      "W0807 02:10:24.812133 140385125271424 deprecation_wrapper.py:119] From /usr/local/lib/python3.6/dist-packages/keras/backend/tensorflow_backend.py:1834: The name tf.nn.fused_batch_norm is deprecated. Please use tf.compat.v1.nn.fused_batch_norm instead.\n",
      "\n",
      "W0807 02:10:24.901563 140385125271424 deprecation_wrapper.py:119] From /usr/local/lib/python3.6/dist-packages/keras/backend/tensorflow_backend.py:3976: The name tf.nn.max_pool is deprecated. Please use tf.nn.max_pool2d instead.\n",
      "\n",
      "W0807 02:10:30.425071 140385125271424 deprecation_wrapper.py:119] From /usr/local/lib/python3.6/dist-packages/keras/backend/tensorflow_backend.py:3980: The name tf.nn.avg_pool is deprecated. Please use tf.nn.avg_pool2d instead.\n",
      "\n"
     ]
    },
    {
     "name": "stdout",
     "output_type": "stream",
     "text": [
      "Downloading data from https://github.com/rcmalli/keras-vggface/releases/download/v2.0/rcmalli_vggface_tf_notop_resnet50.h5\n",
      "94699520/94694792 [==============================] - 8s 0us/step\n"
     ]
    }
   ],
   "source": [
    "base_model = VGGFace(model='resnet50', include_top=False)"
   ]
  },
  {
   "cell_type": "code",
   "execution_count": null,
   "metadata": {
    "colab": {},
    "colab_type": "code",
    "id": "yi3mWzBB_qJ7"
   },
   "outputs": [],
   "source": [
    "training_set = []\n",
    "training_labels = []\n",
    "ppl = list(train_person_to_images_map.keys())\n",
    "count = 0\n",
    "while(count !=3):\n",
    "    for p1,p2 in train:\n",
    "        #print(p1)\n",
    "        img1 = choice(train_person_to_images_map[p1])\n",
    "        img2 = choice(train_person_to_images_map[p2])\n",
    "\n",
    "        #print(base_model.predict(np.expand_dims(np.array(read_img(img1)), axis=0)).reshape((2048)).shape)\n",
    "        training_set.append((base_model.predict(np.expand_dims(np.array(read_img(img1)), axis=0)).reshape((2048)) - base_model.predict(np.expand_dims(np.array(read_img(img2)), axis=0)).reshape((2048)))**2)\n",
    "        training_labels.append(1)\n",
    "\n",
    "        flag = 0\n",
    "        while(flag == 0):\n",
    "            p1 = choice(ppl)\n",
    "            p2 = choice(ppl)\n",
    "\n",
    "            if p1 != p2 and (p1, p2) not in train and (p2, p1) not in train:\n",
    "                flag=1\n",
    "                img1 = choice(train_person_to_images_map[p1])\n",
    "                img2 = choice(train_person_to_images_map[p2])\n",
    "                #print(base_model.predict(np.expand_dims(np.array(read_img(img1)), axis=0)).reshape((2048)).shape)\n",
    "                training_set.append((base_model.predict(np.expand_dims(np.array(read_img(img1)), axis=0)).reshape((2048)) - base_model.predict(np.expand_dims(np.array(read_img(img2)), axis=0)).reshape((2048)))**2)\n",
    "                training_labels.append(0)\n",
    "    count+=1\n",
    "training_set = np.array(training_set)"
   ]
  },
  {
   "cell_type": "code",
   "execution_count": null,
   "metadata": {
    "colab": {},
    "colab_type": "code",
    "id": "n-1mPTxdUxZO"
   },
   "outputs": [],
   "source": [
    "from scipy import spatial"
   ]
  },
  {
   "cell_type": "code",
   "execution_count": null,
   "metadata": {
    "colab": {},
    "colab_type": "code",
    "id": "ulgSOYxTTx2R"
   },
   "outputs": [],
   "source": [
    "training_sim_metrics = []\n",
    "training_set = []\n",
    "training_labels = []\n",
    "ppl = list(train_person_to_images_map.keys())\n",
    "count = 0\n",
    "while(count !=3):\n",
    "    for p1,p2 in train:\n",
    "        #print(p1)\n",
    "        img1 = choice(train_person_to_images_map[p1])\n",
    "        img2 = choice(train_person_to_images_map[p2])\n",
    "\n",
    "        #print(base_model.predict(np.expand_dims(np.array(read_img(img1)), axis=0)).reshape((2048)).shape)\n",
    "        pred1 = base_model.predict(np.expand_dims(np.array(read_img(img1)), axis=0)).reshape((2048))\n",
    "        pred2 = base_model.predict(np.expand_dims(np.array(read_img(img2)), axis=0)).reshape((2048))\n",
    "        \n",
    "        training_sim_metrics.append([np.sum((pred1-pred2)**2), np.sum((pred1**2 - pred2**2)), 1 - spatial.distance.cosine(pred1, pred2)] )\n",
    "        training_set.append((pred1-pred2)**2)\n",
    "        training_labels.append(1)\n",
    "\n",
    "        flag = 0\n",
    "        while(flag == 0):\n",
    "            p1 = choice(ppl)\n",
    "            p2 = choice(ppl)\n",
    "\n",
    "            if p1 != p2 and (p1, p2) not in train and (p2, p1) not in train:\n",
    "                flag=1\n",
    "                img1 = choice(train_person_to_images_map[p1])\n",
    "                img2 = choice(train_person_to_images_map[p2])\n",
    "                #print(base_model.predict(np.expand_dims(np.array(read_img(img1)), axis=0)).reshape((2048)).shape)\n",
    "                #training_set.append((base_model.predict(np.expand_dims(np.array(read_img(img1)), axis=0)).reshape((2048)) - base_model.predict(np.expand_dims(np.array(read_img(img2)), axis=0)).reshape((2048)))**2)\n",
    "                \n",
    "                pred1 = base_model.predict(np.expand_dims(np.array(read_img(img1)), axis=0)).reshape((2048))\n",
    "                pred2 = base_model.predict(np.expand_dims(np.array(read_img(img2)), axis=0)).reshape((2048))\n",
    "        \n",
    "                training_sim_metrics.append([np.sum((pred1-pred2)**2), np.sum((pred1**2 - pred2**2)), 1 - spatial.distance.cosine(pred1, pred2)] )\n",
    "                training_set.append((pred1-pred2)**2)\n",
    "                training_labels.append(0)\n",
    "    count+=1"
   ]
  },
  {
   "cell_type": "code",
   "execution_count": null,
   "metadata": {
    "colab": {},
    "colab_type": "code",
    "id": "Fsp8mab0dhe6"
   },
   "outputs": [],
   "source": [
    "training_set = np.array(training_set)\n",
    "training_sim_metrics = np.array(training_sim_metrics)\n",
    "training_labels = np.array(training_labels)"
   ]
  },
  {
   "cell_type": "code",
   "execution_count": null,
   "metadata": {
    "colab": {
     "base_uri": "https://localhost:8080/",
     "height": 34
    },
    "colab_type": "code",
    "id": "L1VjDwpWN96d",
    "outputId": "44098718-e05e-4f42-95ef-c280f3264691"
   },
   "outputs": [
    {
     "data": {
      "text/plain": [
       "array([ 1.86470840e+04, -6.60191211e+03,  2.22686201e-01])"
      ]
     },
     "execution_count": 106,
     "metadata": {
      "tags": []
     },
     "output_type": "execute_result"
    }
   ],
   "source": [
    "training_sim_metrics[1]"
   ]
  },
  {
   "cell_type": "code",
   "execution_count": null,
   "metadata": {
    "colab": {
     "base_uri": "https://localhost:8080/",
     "height": 67
    },
    "colab_type": "code",
    "id": "OI8vJKjqzetd",
    "outputId": "f1c04953-4f5d-4d5d-ee43-96734b6573e6"
   },
   "outputs": [
    {
     "name": "stdout",
     "output_type": "stream",
     "text": [
      "(18396, 2048)\n",
      "(18396, 3)\n",
      "(18396,)\n"
     ]
    }
   ],
   "source": [
    "print(training_set.shape)\n",
    "print(training_sim_metrics.shape)\n",
    "print(training_labels.shape)"
   ]
  },
  {
   "cell_type": "code",
   "execution_count": null,
   "metadata": {
    "colab": {},
    "colab_type": "code",
    "id": "l5kfOrdHFsDJ"
   },
   "outputs": [],
   "source": [
    "X_train = np.column_stack((training_set, training_sim_metrics))"
   ]
  },
  {
   "cell_type": "code",
   "execution_count": null,
   "metadata": {
    "colab": {
     "base_uri": "https://localhost:8080/",
     "height": 34
    },
    "colab_type": "code",
    "id": "JqkwdzYiAWUV",
    "outputId": "5fdb077b-226c-49cc-a5d5-a381a1bc9319"
   },
   "outputs": [
    {
     "data": {
      "text/plain": [
       "['/content/drive/My Drive/Face_recognition/y_train2']"
      ]
     },
     "execution_count": 109,
     "metadata": {
      "tags": []
     },
     "output_type": "execute_result"
    }
   ],
   "source": [
    "joblib.dump(X_train,\"/content/drive/My Drive/Face_recognition/X_train2\")\n",
    "joblib.dump(training_labels,\"/content/drive/My Drive/Face_recognition/y_train2\")"
   ]
  },
  {
   "cell_type": "code",
   "execution_count": null,
   "metadata": {
    "colab": {},
    "colab_type": "code",
    "id": "y2K8WUMTLQyB"
   },
   "outputs": [],
   "source": [
    "from xgboost import XGBClassifier"
   ]
  },
  {
   "cell_type": "code",
   "execution_count": null,
   "metadata": {
    "colab": {},
    "colab_type": "code",
    "id": "9Nha2lsDLS4Y"
   },
   "outputs": [],
   "source": [
    "xgb = XGBClassifier()"
   ]
  },
  {
   "cell_type": "code",
   "execution_count": null,
   "metadata": {
    "colab": {
     "base_uri": "https://localhost:8080/",
     "height": 134
    },
    "colab_type": "code",
    "id": "R9g6aWmrKDqH",
    "outputId": "b285f929-6242-45cd-a7a0-25d00ab8be48"
   },
   "outputs": [
    {
     "data": {
      "text/plain": [
       "XGBClassifier(base_score=0.5, booster='gbtree', colsample_bylevel=1,\n",
       "              colsample_bynode=1, colsample_bytree=1, gamma=0,\n",
       "              learning_rate=0.1, max_delta_step=0, max_depth=3,\n",
       "              min_child_weight=1, missing=None, n_estimators=100, n_jobs=1,\n",
       "              nthread=None, objective='binary:logistic', random_state=0,\n",
       "              reg_alpha=0, reg_lambda=1, scale_pos_weight=1, seed=None,\n",
       "              silent=None, subsample=1, verbosity=1)"
      ]
     },
     "execution_count": 112,
     "metadata": {
      "tags": []
     },
     "output_type": "execute_result"
    }
   ],
   "source": [
    "xgb.fit(X_train, training_labels)"
   ]
  },
  {
   "cell_type": "code",
   "execution_count": null,
   "metadata": {
    "colab": {},
    "colab_type": "code",
    "id": "6sMzi0LEL2Vv"
   },
   "outputs": [],
   "source": [
    "train_proba = xgb.predict_proba(X_train)"
   ]
  },
  {
   "cell_type": "code",
   "execution_count": null,
   "metadata": {
    "colab": {},
    "colab_type": "code",
    "id": "41i3ILKbaQOD"
   },
   "outputs": [],
   "source": [
    "from sklearn import metrics"
   ]
  },
  {
   "cell_type": "code",
   "execution_count": null,
   "metadata": {
    "colab": {
     "base_uri": "https://localhost:8080/",
     "height": 34
    },
    "colab_type": "code",
    "id": "KrhdD-AsaVJb",
    "outputId": "fae8a790-8eca-40e9-accd-4fecdb222071"
   },
   "outputs": [
    {
     "data": {
      "text/plain": [
       "0.8655705344208948"
      ]
     },
     "execution_count": 117,
     "metadata": {
      "tags": []
     },
     "output_type": "execute_result"
    }
   ],
   "source": [
    "metrics.roc_auc_score(training_labels, train_proba[:,1])"
   ]
  },
  {
   "cell_type": "code",
   "execution_count": null,
   "metadata": {
    "colab": {},
    "colab_type": "code",
    "id": "UXr1EYN_aexN"
   },
   "outputs": [],
   "source": [
    "test_path = \"drive/My Drive/Face_recognition/test/\"\n",
    "X_test = []\n",
    "for img_pair in submission['img_pair'].values:\n",
    "    x1 = img_pair.split('-')[0]\n",
    "    x1 = np.array(read_img(test_path + x1))\n",
    "    x1 = base_model.predict(np.expand_dims(x1,axis=0)).reshape(2048)\n",
    "    x2 = img_pair.split('-')[1]\n",
    "    x2 = np.array(read_img(test_path + x2))\n",
    "    x2 = base_model.predict(np.expand_dims(x2,axis=0)).reshape(2048)\n",
    "    \n",
    "    dis = np.sum((x1-x2)**2)\n",
    "    euc = np.sum(x1**2 - x2**2)\n",
    "    cosine = 1-spatial.distance.cosine(x1,x2)\n",
    "    \n",
    "    ip = np.concatenate(((x1-x2)**2, [dis,euc,cosine]))\n",
    "    X_test.append(ip)"
   ]
  },
  {
   "cell_type": "code",
   "execution_count": null,
   "metadata": {
    "colab": {},
    "colab_type": "code",
    "id": "YWOwrIRAdfSa"
   },
   "outputs": [],
   "source": [
    "test_proba = xgb.predict_proba(np.array(X_test))"
   ]
  },
  {
   "cell_type": "code",
   "execution_count": null,
   "metadata": {
    "colab": {},
    "colab_type": "code",
    "id": "GYrTQcCJpkOC"
   },
   "outputs": [],
   "source": []
  },
  {
   "cell_type": "code",
   "execution_count": null,
   "metadata": {
    "colab": {},
    "colab_type": "code",
    "id": "YEywfzaxdlgC"
   },
   "outputs": [],
   "source": [
    "submission['is_related'] =test_proba[:,1]"
   ]
  },
  {
   "cell_type": "code",
   "execution_count": null,
   "metadata": {
    "colab": {},
    "colab_type": "code",
    "id": "uKipeI90pc2i"
   },
   "outputs": [],
   "source": [
    "submission.to_csv(\"/content/drive/My Drive/Face_recognition/sub_6.csv\", index=False)"
   ]
  },
  {
   "cell_type": "code",
   "execution_count": null,
   "metadata": {
    "colab": {},
    "colab_type": "code",
    "id": "rx9XMaNrp2TC"
   },
   "outputs": [],
   "source": [
    "sub_files = ['/content/drive/My Drive/Face_recognition/cosine_focal_submission.csv',\n",
    "        '/content/drive/My Drive/Face_recognition/cosine_focal_submission2.csv',\n",
    "        '/content/drive/My Drive/Face_recognition/cosine_submission.csv',\n",
    "        '/content/drive/My Drive/Face_recognition/cosine_submission2.csv',\n",
    "        '/content/drive/My Drive/Face_recognition/xgbpred.csv',\n",
    "        '/content/drive/My Drive/Face_recognition/sub_6.csv'\n",
    "        ]\n",
    "scores = []\n",
    "for f in sub_files:\n",
    "    d = pd.read_csv(f)\n",
    "    scores.append(np.array(d['is_related']))\n",
    "scores = np.array(scores)\n",
    "submission = pd.read_csv('/content/drive/My Drive/Face_recognition/sample_submission.csv')\n",
    "submission['is_related'] = np.sum(scores, axis=0)"
   ]
  },
  {
   "cell_type": "code",
   "execution_count": null,
   "metadata": {
    "colab": {},
    "colab_type": "code",
    "id": "Z2-mkOuEqrNv"
   },
   "outputs": [],
   "source": [
    "submission.to_csv(\"/content/drive/My Drive/Face_recognition/sub_7.csv\", index=False)"
   ]
  },
  {
   "cell_type": "code",
   "execution_count": null,
   "metadata": {
    "colab": {},
    "colab_type": "code",
    "id": "9jLVPKCAqtnY"
   },
   "outputs": [],
   "source": []
  },
  {
   "cell_type": "code",
   "execution_count": null,
   "metadata": {
    "colab": {},
    "colab_type": "code",
    "id": "y9BhFGjM0QJM"
   },
   "outputs": [],
   "source": []
  },
  {
   "cell_type": "code",
   "execution_count": null,
   "metadata": {
    "colab": {},
    "colab_type": "code",
    "id": "-hukzk4S0QBf"
   },
   "outputs": [],
   "source": []
  },
  {
   "cell_type": "code",
   "execution_count": null,
   "metadata": {
    "colab": {},
    "colab_type": "code",
    "id": "w0TZ3HMm0P6i"
   },
   "outputs": [],
   "source": [
    "sub_files = ['/content/drive/My Drive/Face_recognition/cosine_focal_submission.csv',\n",
    "        '/content/drive/My Drive/Face_recognition/cosine_focal_submission2.csv',\n",
    "        '/content/drive/My Drive/Face_recognition/cosine_submission.csv',\n",
    "        '/content/drive/My Drive/Face_recognition/cosine_submission2.csv',\n",
    "        '/content/drive/My Drive/Face_recognition/xgbpred.csv',\n",
    "        '/content/drive/My Drive/Face_recognition/sub_6.csv',\n",
    "         '/content/drive/My Drive/Face_recognition/vgg_face (2) (1).csv'\n",
    "        ]\n",
    "scores = []\n",
    "for f in sub_files:\n",
    "    d = pd.read_csv(f)\n",
    "    scores.append(np.array(d['is_related']))\n",
    "scores = np.array(scores)\n",
    "submission = pd.read_csv('/content/drive/My Drive/Face_recognition/sample_submission.csv')\n",
    "submission['is_related'] = np.sum(scores, axis=0)\n",
    "submission.to_csv(\"/content/drive/My Drive/Face_recognition/sub_9.csv\", index=False)"
   ]
  },
  {
   "cell_type": "code",
   "execution_count": null,
   "metadata": {
    "colab": {},
    "colab_type": "code",
    "id": "xvkzld4F0M0L"
   },
   "outputs": [],
   "source": [
    "def cosine_focal_model3():\n",
    "    #change 2\n",
    "    input_1 = Input(shape=(197, 197, 3))\n",
    "    input_2 = Input(shape=(197, 197, 3))\n",
    "\n",
    "    base_model = VGGFace(model='resnet50', include_top=False)\n",
    "\n",
    "    for x in base_model.layers[:-3]:\n",
    "        x.trainable = True\n",
    "\n",
    "    x1 = base_model(input_1)\n",
    "    x2 = base_model(input_2)\n",
    "\n",
    "    x1 = GlobalMaxPool2D()(x1)\n",
    "    x2 = GlobalMaxPool2D()(x2)\n",
    "\n",
    "    x3 = Subtract()([x1, x2])\n",
    "    x3 = Multiply()([x3, x3])\n",
    "    #x3 = Dense(100, activation = 'relu')(x3)\n",
    "\n",
    "    x1_ = Multiply()([x1, x1])\n",
    "    x2_ = Multiply()([x2, x2])\n",
    "    x4 = Subtract()([x1_, x2_])\n",
    "    #x4 = Dense(100, activation = 'relu')(x4)\n",
    "    \n",
    "    \n",
    "    #https://stackoverflow.com/a/51003359/10650182\n",
    "    x5 = Lambda(cosine_distance, output_shape=cos_dist_output_shape)([x1, x2])\n",
    "    #x5 = Dense(100, activation = 'relu')(x5)\n",
    "    \n",
    "    x = Concatenate(axis=-1)([x5,x4, x3])\n",
    "\n",
    "    x = Dense(256, activation=\"relu\")(x)\n",
    "    x = Dropout(0.1)(x)\n",
    "    out = Dense(1, activation=\"sigmoid\")(x)\n",
    "\n",
    "    model = Model([input_1, input_2], out)\n",
    "\n",
    "    model.compile(loss=[focal_loss(alpha=.25, gamma=2)], metrics=['acc',auroc], optimizer=Adam(0.0001))\n",
    "\n",
    "    model.summary()\n",
    "\n",
    "    return model"
   ]
  },
  {
   "cell_type": "code",
   "execution_count": null,
   "metadata": {
    "colab": {
     "base_uri": "https://localhost:8080/",
     "height": 1000
    },
    "colab_type": "code",
    "id": "6Rk9JylHIFF-",
    "outputId": "1199f1d4-5d21-4818-fff7-054cb29c6964"
   },
   "outputs": [
    {
     "name": "stderr",
     "output_type": "stream",
     "text": [
      "WARNING: Logging before flag parsing goes to stderr.\n",
      "W0808 02:48:49.752418 139852148569984 deprecation_wrapper.py:119] From /usr/local/lib/python3.6/dist-packages/keras/backend/tensorflow_backend.py:74: The name tf.get_default_graph is deprecated. Please use tf.compat.v1.get_default_graph instead.\n",
      "\n",
      "W0808 02:48:49.814620 139852148569984 deprecation_wrapper.py:119] From /usr/local/lib/python3.6/dist-packages/keras/backend/tensorflow_backend.py:517: The name tf.placeholder is deprecated. Please use tf.compat.v1.placeholder instead.\n",
      "\n",
      "W0808 02:48:49.825923 139852148569984 deprecation_wrapper.py:119] From /usr/local/lib/python3.6/dist-packages/keras/backend/tensorflow_backend.py:4138: The name tf.random_uniform is deprecated. Please use tf.random.uniform instead.\n",
      "\n",
      "W0808 02:48:49.865954 139852148569984 deprecation_wrapper.py:119] From /usr/local/lib/python3.6/dist-packages/keras/backend/tensorflow_backend.py:174: The name tf.get_default_session is deprecated. Please use tf.compat.v1.get_default_session instead.\n",
      "\n",
      "W0808 02:48:49.867467 139852148569984 deprecation_wrapper.py:119] From /usr/local/lib/python3.6/dist-packages/keras/backend/tensorflow_backend.py:181: The name tf.ConfigProto is deprecated. Please use tf.compat.v1.ConfigProto instead.\n",
      "\n",
      "W0808 02:48:52.728067 139852148569984 deprecation_wrapper.py:119] From /usr/local/lib/python3.6/dist-packages/keras/backend/tensorflow_backend.py:1834: The name tf.nn.fused_batch_norm is deprecated. Please use tf.compat.v1.nn.fused_batch_norm instead.\n",
      "\n",
      "W0808 02:48:52.820637 139852148569984 deprecation_wrapper.py:119] From /usr/local/lib/python3.6/dist-packages/keras/backend/tensorflow_backend.py:3976: The name tf.nn.max_pool is deprecated. Please use tf.nn.max_pool2d instead.\n",
      "\n",
      "W0808 02:48:58.341189 139852148569984 deprecation_wrapper.py:119] From /usr/local/lib/python3.6/dist-packages/keras/backend/tensorflow_backend.py:3980: The name tf.nn.avg_pool is deprecated. Please use tf.nn.avg_pool2d instead.\n",
      "\n"
     ]
    },
    {
     "name": "stdout",
     "output_type": "stream",
     "text": [
      "Downloading data from https://github.com/rcmalli/keras-vggface/releases/download/v2.0/rcmalli_vggface_tf_notop_resnet50.h5\n",
      "94699520/94694792 [==============================] - 8s 0us/step\n"
     ]
    },
    {
     "name": "stderr",
     "output_type": "stream",
     "text": [
      "W0808 02:49:19.382060 139852148569984 deprecation.py:506] From /usr/local/lib/python3.6/dist-packages/keras/backend/tensorflow_backend.py:3445: calling dropout (from tensorflow.python.ops.nn_ops) with keep_prob is deprecated and will be removed in a future version.\n",
      "Instructions for updating:\n",
      "Please use `rate` instead of `keep_prob`. Rate should be set to `rate = 1 - keep_prob`.\n",
      "W0808 02:49:19.432348 139852148569984 deprecation_wrapper.py:119] From /usr/local/lib/python3.6/dist-packages/keras/optimizers.py:790: The name tf.train.Optimizer is deprecated. Please use tf.compat.v1.train.Optimizer instead.\n",
      "\n",
      "W0808 02:49:19.441350 139852148569984 deprecation.py:323] From <ipython-input-42-fdd85ade61a6>:4: add_dispatch_support.<locals>.wrapper (from tensorflow.python.ops.array_ops) is deprecated and will be removed in a future version.\n",
      "Instructions for updating:\n",
      "Use tf.where in 2.0, which has the same broadcast rule as np.where\n",
      "W0808 02:49:19.480211 139852148569984 deprecation.py:323] From <ipython-input-2-bc412d992b42>:14: py_func (from tensorflow.python.ops.script_ops) is deprecated and will be removed in a future version.\n",
      "Instructions for updating:\n",
      "tf.py_func is deprecated in TF V2. Instead, there are two\n",
      "    options available in V2.\n",
      "    - tf.py_function takes a python function which manipulates tf eager\n",
      "    tensors instead of numpy arrays. It's easy to convert a tf eager tensor to\n",
      "    an ndarray (just call tensor.numpy()) but having access to eager tensors\n",
      "    means `tf.py_function`s can use accelerators such as GPUs as well as\n",
      "    being differentiable using a gradient tape.\n",
      "    - tf.numpy_function maintains the semantics of the deprecated tf.py_func\n",
      "    (it is not differentiable, and manipulates numpy arrays). It drops the\n",
      "    stateful argument making all functions stateful.\n",
      "    \n"
     ]
    },
    {
     "name": "stdout",
     "output_type": "stream",
     "text": [
      "__________________________________________________________________________________________________\n",
      "Layer (type)                    Output Shape         Param #     Connected to                     \n",
      "==================================================================================================\n",
      "input_1 (InputLayer)            (None, 197, 197, 3)  0                                            \n",
      "__________________________________________________________________________________________________\n",
      "input_2 (InputLayer)            (None, 197, 197, 3)  0                                            \n",
      "__________________________________________________________________________________________________\n",
      "vggface_resnet50 (Model)        multiple             23561152    input_1[0][0]                    \n",
      "                                                                 input_2[0][0]                    \n",
      "__________________________________________________________________________________________________\n",
      "global_max_pooling2d_1 (GlobalM (None, 2048)         0           vggface_resnet50[1][0]           \n",
      "__________________________________________________________________________________________________\n",
      "global_max_pooling2d_2 (GlobalM (None, 2048)         0           vggface_resnet50[2][0]           \n",
      "__________________________________________________________________________________________________\n",
      "multiply_2 (Multiply)           (None, 2048)         0           global_max_pooling2d_1[0][0]     \n",
      "                                                                 global_max_pooling2d_1[0][0]     \n",
      "__________________________________________________________________________________________________\n",
      "multiply_3 (Multiply)           (None, 2048)         0           global_max_pooling2d_2[0][0]     \n",
      "                                                                 global_max_pooling2d_2[0][0]     \n",
      "__________________________________________________________________________________________________\n",
      "subtract_1 (Subtract)           (None, 2048)         0           global_max_pooling2d_1[0][0]     \n",
      "                                                                 global_max_pooling2d_2[0][0]     \n",
      "__________________________________________________________________________________________________\n",
      "lambda_1 (Lambda)               (None, 1)            0           global_max_pooling2d_1[0][0]     \n",
      "                                                                 global_max_pooling2d_2[0][0]     \n",
      "__________________________________________________________________________________________________\n",
      "subtract_2 (Subtract)           (None, 2048)         0           multiply_2[0][0]                 \n",
      "                                                                 multiply_3[0][0]                 \n",
      "__________________________________________________________________________________________________\n",
      "multiply_1 (Multiply)           (None, 2048)         0           subtract_1[0][0]                 \n",
      "                                                                 subtract_1[0][0]                 \n",
      "__________________________________________________________________________________________________\n",
      "concatenate_1 (Concatenate)     (None, 4097)         0           lambda_1[0][0]                   \n",
      "                                                                 subtract_2[0][0]                 \n",
      "                                                                 multiply_1[0][0]                 \n",
      "__________________________________________________________________________________________________\n",
      "dense_1 (Dense)                 (None, 256)          1049088     concatenate_1[0][0]              \n",
      "__________________________________________________________________________________________________\n",
      "dropout_1 (Dropout)             (None, 256)          0           dense_1[0][0]                    \n",
      "__________________________________________________________________________________________________\n",
      "dense_2 (Dense)                 (None, 1)            257         dropout_1[0][0]                  \n",
      "==================================================================================================\n",
      "Total params: 24,610,497\n",
      "Trainable params: 24,557,377\n",
      "Non-trainable params: 53,120\n",
      "__________________________________________________________________________________________________\n"
     ]
    }
   ],
   "source": [
    "file_path = \"drive/My Drive/Face_recognition/vgg_face_cosine_focal3\"\n",
    "\n",
    "checkpoint = ModelCheckpoint(file_path, monitor='val_acc', verbose=1, save_best_only=True, mode='max')\n",
    "\n",
    "reduce_on_plateau = ReduceLROnPlateau(monitor=\"val_acc\", mode=\"max\", factor=0.1, patience=10, verbose=1)\n",
    "\n",
    "callbacks_list = [checkpoint, reduce_on_plateau]\n",
    "\n",
    "model = cosine_focal_model3()"
   ]
  },
  {
   "cell_type": "code",
   "execution_count": null,
   "metadata": {
    "colab": {
     "base_uri": "https://localhost:8080/",
     "height": 1000
    },
    "colab_type": "code",
    "id": "4cKwss6hINYX",
    "outputId": "81c6614e-c21f-4184-f2f2-5806045733e2"
   },
   "outputs": [
    {
     "name": "stdout",
     "output_type": "stream",
     "text": [
      "Epoch 1/100\n"
     ]
    },
    {
     "name": "stderr",
     "output_type": "stream",
     "text": [
      "/usr/local/lib/python3.6/dist-packages/keras/engine/training_generator.py:47: UserWarning: Using a generator with `use_multiprocessing=True` and multiple workers may duplicate your data. Please consider using the`keras.utils.Sequence class.\n",
      "  UserWarning('Using a generator with `use_multiprocessing=True`'\n"
     ]
    },
    {
     "name": "stdout",
     "output_type": "stream",
     "text": [
      "200/200 [==============================] - 402s 2s/step - loss: 6.9778 - acc: 0.5619 - auroc: 0.6318 - val_loss: 1.3286 - val_acc: 0.6156 - val_auroc: 0.6855\n",
      "\n",
      "Epoch 00001: val_acc improved from -inf to 0.61562, saving model to drive/My Drive/Face_recognition/vgg_face_cosine_focal3\n",
      "Epoch 2/100\n",
      "200/200 [==============================] - 205s 1s/step - loss: 1.1079 - acc: 0.6003 - auroc: 0.7245 - val_loss: 1.0724 - val_acc: 0.6169 - val_auroc: 0.7367\n",
      "\n",
      "Epoch 00002: val_acc improved from 0.61562 to 0.61687, saving model to drive/My Drive/Face_recognition/vgg_face_cosine_focal3\n",
      "Epoch 3/100\n",
      "200/200 [==============================] - 187s 934ms/step - loss: 1.0102 - acc: 0.6006 - auroc: 0.7585 - val_loss: 0.9616 - val_acc: 0.6169 - val_auroc: 0.7758\n",
      "\n",
      "Epoch 00003: val_acc did not improve from 0.61687\n",
      "Epoch 4/100\n",
      "200/200 [==============================] - 187s 934ms/step - loss: 0.9370 - acc: 0.6312 - auroc: 0.8016 - val_loss: 0.9171 - val_acc: 0.6531 - val_auroc: 0.8058\n",
      "\n",
      "Epoch 00004: val_acc improved from 0.61687 to 0.65312, saving model to drive/My Drive/Face_recognition/vgg_face_cosine_focal3\n",
      "Epoch 5/100\n",
      "200/200 [==============================] - 187s 934ms/step - loss: 0.9144 - acc: 0.6331 - auroc: 0.8035 - val_loss: 0.9080 - val_acc: 0.6706 - val_auroc: 0.8027\n",
      "\n",
      "Epoch 00005: val_acc improved from 0.65312 to 0.67063, saving model to drive/My Drive/Face_recognition/vgg_face_cosine_focal3\n",
      "Epoch 6/100\n",
      "200/200 [==============================] - 187s 935ms/step - loss: 0.8559 - acc: 0.6750 - auroc: 0.8342 - val_loss: 0.8771 - val_acc: 0.6744 - val_auroc: 0.8242\n",
      "\n",
      "Epoch 00006: val_acc improved from 0.67063 to 0.67437, saving model to drive/My Drive/Face_recognition/vgg_face_cosine_focal3\n",
      "Epoch 7/100\n",
      "200/200 [==============================] - 187s 933ms/step - loss: 0.8852 - acc: 0.6550 - auroc: 0.8178 - val_loss: 0.8263 - val_acc: 0.6981 - val_auroc: 0.8512\n",
      "\n",
      "Epoch 00007: val_acc improved from 0.67437 to 0.69812, saving model to drive/My Drive/Face_recognition/vgg_face_cosine_focal3\n",
      "Epoch 8/100\n",
      "200/200 [==============================] - 187s 936ms/step - loss: 0.8371 - acc: 0.6712 - auroc: 0.8426 - val_loss: 0.8656 - val_acc: 0.6769 - val_auroc: 0.8281\n",
      "\n",
      "Epoch 00008: val_acc did not improve from 0.69812\n",
      "Epoch 9/100\n",
      "200/200 [==============================] - 186s 929ms/step - loss: 0.8020 - acc: 0.7069 - auroc: 0.8620 - val_loss: 0.9071 - val_acc: 0.6562 - val_auroc: 0.8117\n",
      "\n",
      "Epoch 00009: val_acc did not improve from 0.69812\n",
      "Epoch 10/100\n",
      "200/200 [==============================] - 186s 929ms/step - loss: 0.8246 - acc: 0.6931 - auroc: 0.8449 - val_loss: 0.8859 - val_acc: 0.6725 - val_auroc: 0.8209\n",
      "\n",
      "Epoch 00010: val_acc did not improve from 0.69812\n",
      "Epoch 11/100\n",
      "200/200 [==============================] - 185s 927ms/step - loss: 0.8139 - acc: 0.6909 - auroc: 0.8525 - val_loss: 0.8392 - val_acc: 0.6925 - val_auroc: 0.8425\n",
      "\n",
      "Epoch 00011: val_acc did not improve from 0.69812\n",
      "Epoch 12/100\n",
      "200/200 [==============================] - 186s 931ms/step - loss: 0.7924 - acc: 0.7025 - auroc: 0.8622 - val_loss: 0.8962 - val_acc: 0.6969 - val_auroc: 0.8134\n",
      "\n",
      "Epoch 00012: val_acc did not improve from 0.69812\n",
      "Epoch 13/100\n",
      "200/200 [==============================] - 186s 931ms/step - loss: 0.7834 - acc: 0.7159 - auroc: 0.8700 - val_loss: 0.9325 - val_acc: 0.6737 - val_auroc: 0.8044\n",
      "\n",
      "Epoch 00013: val_acc did not improve from 0.69812\n",
      "Epoch 14/100\n",
      "200/200 [==============================] - 186s 930ms/step - loss: 0.7832 - acc: 0.7188 - auroc: 0.8673 - val_loss: 0.8245 - val_acc: 0.6850 - val_auroc: 0.8497\n",
      "\n",
      "Epoch 00014: val_acc did not improve from 0.69812\n",
      "Epoch 15/100\n",
      "200/200 [==============================] - 186s 930ms/step - loss: 0.7748 - acc: 0.7241 - auroc: 0.8674 - val_loss: 0.8757 - val_acc: 0.6763 - val_auroc: 0.8195\n",
      "\n",
      "Epoch 00015: val_acc did not improve from 0.69812\n",
      "Epoch 16/100\n",
      "200/200 [==============================] - 186s 931ms/step - loss: 0.7856 - acc: 0.7097 - auroc: 0.8642 - val_loss: 0.8533 - val_acc: 0.6906 - val_auroc: 0.8372\n",
      "\n",
      "Epoch 00016: val_acc did not improve from 0.69812\n",
      "Epoch 17/100\n",
      "200/200 [==============================] - 186s 930ms/step - loss: 0.7777 - acc: 0.7097 - auroc: 0.8667 - val_loss: 0.9929 - val_acc: 0.6706 - val_auroc: 0.7853\n",
      "\n",
      "Epoch 00017: val_acc did not improve from 0.69812\n",
      "\n",
      "Epoch 00017: ReduceLROnPlateau reducing learning rate to 9.999999747378752e-06.\n",
      "Epoch 18/100\n",
      "200/200 [==============================] - 187s 933ms/step - loss: 0.7664 - acc: 0.7056 - auroc: 0.8676 - val_loss: 0.8233 - val_acc: 0.6863 - val_auroc: 0.8533\n",
      "\n",
      "Epoch 00018: val_acc did not improve from 0.69812\n",
      "Epoch 19/100\n",
      "200/200 [==============================] - 187s 933ms/step - loss: 0.6993 - acc: 0.7469 - auroc: 0.8971 - val_loss: 0.8214 - val_acc: 0.7144 - val_auroc: 0.8538\n",
      "\n",
      "Epoch 00019: val_acc improved from 0.69812 to 0.71437, saving model to drive/My Drive/Face_recognition/vgg_face_cosine_focal3\n",
      "Epoch 20/100\n",
      "200/200 [==============================] - 186s 931ms/step - loss: 0.6834 - acc: 0.7538 - auroc: 0.9052 - val_loss: 0.8000 - val_acc: 0.7238 - val_auroc: 0.8652\n",
      "\n",
      "Epoch 00020: val_acc improved from 0.71437 to 0.72375, saving model to drive/My Drive/Face_recognition/vgg_face_cosine_focal3\n",
      "Epoch 21/100\n",
      "200/200 [==============================] - 187s 936ms/step - loss: 0.6606 - acc: 0.7672 - auroc: 0.9134 - val_loss: 0.8360 - val_acc: 0.6881 - val_auroc: 0.8472\n",
      "\n",
      "Epoch 00021: val_acc did not improve from 0.72375\n",
      "Epoch 22/100\n",
      "200/200 [==============================] - 186s 929ms/step - loss: 0.6606 - acc: 0.7647 - auroc: 0.9093 - val_loss: 0.8114 - val_acc: 0.6963 - val_auroc: 0.8573\n",
      "\n",
      "Epoch 00022: val_acc did not improve from 0.72375\n",
      "Epoch 23/100\n",
      "200/200 [==============================] - 185s 926ms/step - loss: 0.6453 - acc: 0.7738 - auroc: 0.9127 - val_loss: 0.8298 - val_acc: 0.7031 - val_auroc: 0.8541\n",
      "\n",
      "Epoch 00023: val_acc did not improve from 0.72375\n",
      "Epoch 24/100\n",
      "200/200 [==============================] - 187s 933ms/step - loss: 0.6066 - acc: 0.7844 - auroc: 0.9270 - val_loss: 0.8578 - val_acc: 0.7169 - val_auroc: 0.8619\n",
      "\n",
      "Epoch 00024: val_acc did not improve from 0.72375\n",
      "Epoch 25/100\n",
      "200/200 [==============================] - 186s 930ms/step - loss: 0.6216 - acc: 0.7916 - auroc: 0.9234 - val_loss: 0.8558 - val_acc: 0.7069 - val_auroc: 0.8491\n",
      "\n",
      "Epoch 00025: val_acc did not improve from 0.72375\n",
      "Epoch 26/100\n",
      "200/200 [==============================] - 186s 931ms/step - loss: 0.6061 - acc: 0.8087 - auroc: 0.9227 - val_loss: 0.7885 - val_acc: 0.7212 - val_auroc: 0.8709\n",
      "\n",
      "Epoch 00026: val_acc did not improve from 0.72375\n",
      "Epoch 27/100\n",
      "200/200 [==============================] - 186s 932ms/step - loss: 0.6030 - acc: 0.8050 - auroc: 0.9279 - val_loss: 0.7880 - val_acc: 0.7225 - val_auroc: 0.8694\n",
      "\n",
      "Epoch 00027: val_acc did not improve from 0.72375\n",
      "Epoch 28/100\n",
      "200/200 [==============================] - 187s 934ms/step - loss: 0.6059 - acc: 0.8003 - auroc: 0.9245 - val_loss: 0.8529 - val_acc: 0.6963 - val_auroc: 0.8584\n",
      "\n",
      "Epoch 00028: val_acc did not improve from 0.72375\n",
      "Epoch 29/100\n",
      "200/200 [==============================] - 186s 931ms/step - loss: 0.5975 - acc: 0.8056 - auroc: 0.9270 - val_loss: 0.8391 - val_acc: 0.7000 - val_auroc: 0.8659\n",
      "\n",
      "Epoch 00029: val_acc did not improve from 0.72375\n",
      "Epoch 30/100\n",
      "200/200 [==============================] - 187s 933ms/step - loss: 0.5739 - acc: 0.8191 - auroc: 0.9346 - val_loss: 0.8885 - val_acc: 0.7144 - val_auroc: 0.8508\n",
      "\n",
      "Epoch 00030: val_acc did not improve from 0.72375\n",
      "\n",
      "Epoch 00030: ReduceLROnPlateau reducing learning rate to 9.999999747378752e-07.\n",
      "Epoch 31/100\n",
      "200/200 [==============================] - 187s 934ms/step - loss: 0.5713 - acc: 0.8122 - auroc: 0.9348 - val_loss: 0.8676 - val_acc: 0.7013 - val_auroc: 0.8573\n",
      "\n",
      "Epoch 00031: val_acc did not improve from 0.72375\n",
      "Epoch 32/100\n",
      "200/200 [==============================] - 186s 932ms/step - loss: 0.5690 - acc: 0.8116 - auroc: 0.9380 - val_loss: 0.8937 - val_acc: 0.6994 - val_auroc: 0.8509\n",
      "\n",
      "Epoch 00032: val_acc did not improve from 0.72375\n",
      "Epoch 33/100\n",
      "200/200 [==============================] - 187s 934ms/step - loss: 0.5745 - acc: 0.8166 - auroc: 0.9334 - val_loss: 0.7915 - val_acc: 0.7225 - val_auroc: 0.8748\n",
      "\n",
      "Epoch 00033: val_acc did not improve from 0.72375\n",
      "Epoch 34/100\n",
      "200/200 [==============================] - 186s 932ms/step - loss: 0.5455 - acc: 0.8184 - auroc: 0.9427 - val_loss: 0.8773 - val_acc: 0.7087 - val_auroc: 0.8583\n",
      "\n",
      "Epoch 00034: val_acc did not improve from 0.72375\n",
      "Epoch 35/100\n",
      "200/200 [==============================] - 187s 934ms/step - loss: 0.5885 - acc: 0.8169 - auroc: 0.9325 - val_loss: 0.8599 - val_acc: 0.6919 - val_auroc: 0.8572\n",
      "\n",
      "Epoch 00035: val_acc did not improve from 0.72375\n",
      "Epoch 36/100\n",
      "200/200 [==============================] - 186s 932ms/step - loss: 0.5320 - acc: 0.8200 - auroc: 0.9451 - val_loss: 0.8372 - val_acc: 0.7081 - val_auroc: 0.8558\n",
      "\n",
      "Epoch 00036: val_acc did not improve from 0.72375\n",
      "Epoch 37/100\n",
      "200/200 [==============================] - 187s 934ms/step - loss: 0.5743 - acc: 0.8225 - auroc: 0.9357 - val_loss: 0.8118 - val_acc: 0.7238 - val_auroc: 0.8752\n",
      "\n",
      "Epoch 00037: val_acc did not improve from 0.72375\n",
      "Epoch 38/100\n",
      "200/200 [==============================] - 186s 932ms/step - loss: 0.5628 - acc: 0.8103 - auroc: 0.9370 - val_loss: 0.8597 - val_acc: 0.6963 - val_auroc: 0.8597\n",
      "\n",
      "Epoch 00038: val_acc did not improve from 0.72375\n",
      "Epoch 39/100\n",
      "200/200 [==============================] - 187s 933ms/step - loss: 0.5767 - acc: 0.8116 - auroc: 0.9308 - val_loss: 0.8405 - val_acc: 0.7131 - val_auroc: 0.8527\n",
      "\n",
      "Epoch 00039: val_acc did not improve from 0.72375\n",
      "Epoch 40/100\n",
      "200/200 [==============================] - 186s 929ms/step - loss: 0.5381 - acc: 0.8262 - auroc: 0.9436 - val_loss: 0.8823 - val_acc: 0.7031 - val_auroc: 0.8494\n",
      "\n",
      "Epoch 00040: val_acc did not improve from 0.72375\n",
      "\n",
      "Epoch 00040: ReduceLROnPlateau reducing learning rate to 9.999999974752428e-08.\n",
      "Epoch 41/100\n",
      "200/200 [==============================] - 186s 930ms/step - loss: 0.5740 - acc: 0.8103 - auroc: 0.9320 - val_loss: 0.8765 - val_acc: 0.7087 - val_auroc: 0.8639\n",
      "\n",
      "Epoch 00041: val_acc did not improve from 0.72375\n",
      "Epoch 42/100\n",
      "200/200 [==============================] - 186s 930ms/step - loss: 0.5592 - acc: 0.8103 - auroc: 0.9373 - val_loss: 0.8509 - val_acc: 0.7125 - val_auroc: 0.8633\n",
      "\n",
      "Epoch 00042: val_acc did not improve from 0.72375\n",
      "Epoch 43/100\n",
      "200/200 [==============================] - 186s 931ms/step - loss: 0.5460 - acc: 0.8134 - auroc: 0.9402 - val_loss: 0.8463 - val_acc: 0.7031 - val_auroc: 0.8620\n",
      "\n",
      "Epoch 00043: val_acc did not improve from 0.72375\n",
      "Epoch 44/100\n",
      "200/200 [==============================] - 186s 931ms/step - loss: 0.5529 - acc: 0.8156 - auroc: 0.9388 - val_loss: 0.8554 - val_acc: 0.6919 - val_auroc: 0.8528\n",
      "\n",
      "Epoch 00044: val_acc did not improve from 0.72375\n",
      "Epoch 45/100\n",
      "200/200 [==============================] - 186s 932ms/step - loss: 0.5507 - acc: 0.8212 - auroc: 0.9364 - val_loss: 0.8857 - val_acc: 0.7000 - val_auroc: 0.8522\n",
      "\n",
      "Epoch 00045: val_acc did not improve from 0.72375\n",
      "Epoch 46/100\n",
      "200/200 [==============================] - 187s 935ms/step - loss: 0.5771 - acc: 0.8097 - auroc: 0.9330 - val_loss: 0.8279 - val_acc: 0.7194 - val_auroc: 0.8642\n",
      "\n",
      "Epoch 00046: val_acc did not improve from 0.72375\n",
      "Epoch 47/100\n",
      "200/200 [==============================] - 186s 931ms/step - loss: 0.5310 - acc: 0.8262 - auroc: 0.9441 - val_loss: 0.8683 - val_acc: 0.7137 - val_auroc: 0.8555\n",
      "\n",
      "Epoch 00047: val_acc did not improve from 0.72375\n",
      "Epoch 48/100\n",
      "200/200 [==============================] - 187s 933ms/step - loss: 0.5286 - acc: 0.8247 - auroc: 0.9427 - val_loss: 0.8418 - val_acc: 0.7131 - val_auroc: 0.8639\n",
      "\n",
      "Epoch 00048: val_acc did not improve from 0.72375\n",
      "Epoch 49/100\n",
      "200/200 [==============================] - 186s 932ms/step - loss: 0.5552 - acc: 0.8272 - auroc: 0.9391 - val_loss: 0.8552 - val_acc: 0.7163 - val_auroc: 0.8800\n",
      "\n",
      "Epoch 00049: val_acc did not improve from 0.72375\n",
      "Epoch 50/100\n",
      "200/200 [==============================] - 187s 933ms/step - loss: 0.5416 - acc: 0.8225 - auroc: 0.9390 - val_loss: 0.8342 - val_acc: 0.7194 - val_auroc: 0.8650\n",
      "\n",
      "Epoch 00050: val_acc did not improve from 0.72375\n",
      "\n",
      "Epoch 00050: ReduceLROnPlateau reducing learning rate to 1.0000000116860975e-08.\n",
      "Epoch 51/100\n",
      "200/200 [==============================] - 187s 934ms/step - loss: 0.5410 - acc: 0.8300 - auroc: 0.9459 - val_loss: 0.8911 - val_acc: 0.6919 - val_auroc: 0.8453\n",
      "\n",
      "Epoch 00051: val_acc did not improve from 0.72375\n",
      "Epoch 52/100\n",
      "200/200 [==============================] - 186s 932ms/step - loss: 0.5467 - acc: 0.8187 - auroc: 0.9426 - val_loss: 0.7933 - val_acc: 0.7181 - val_auroc: 0.8794\n",
      "\n",
      "Epoch 00052: val_acc did not improve from 0.72375\n",
      "Epoch 53/100\n",
      "200/200 [==============================] - 187s 935ms/step - loss: 0.5264 - acc: 0.8253 - auroc: 0.9459 - val_loss: 0.8080 - val_acc: 0.7219 - val_auroc: 0.8780\n",
      "\n",
      "Epoch 00053: val_acc did not improve from 0.72375\n",
      "Epoch 54/100\n",
      "200/200 [==============================] - 186s 932ms/step - loss: 0.5781 - acc: 0.8087 - auroc: 0.9331 - val_loss: 0.8174 - val_acc: 0.7131 - val_auroc: 0.8653\n",
      "\n",
      "Epoch 00054: val_acc did not improve from 0.72375\n",
      "Epoch 55/100\n",
      "200/200 [==============================] - 187s 934ms/step - loss: 0.5697 - acc: 0.8150 - auroc: 0.9342 - val_loss: 0.8625 - val_acc: 0.6994 - val_auroc: 0.8642\n",
      "\n",
      "Epoch 00055: val_acc did not improve from 0.72375\n",
      "Epoch 56/100\n",
      "200/200 [==============================] - 186s 931ms/step - loss: 0.5160 - acc: 0.8369 - auroc: 0.9481 - val_loss: 0.8362 - val_acc: 0.7081 - val_auroc: 0.8575\n",
      "\n",
      "Epoch 00056: val_acc did not improve from 0.72375\n",
      "Epoch 57/100\n",
      "200/200 [==============================] - 187s 937ms/step - loss: 0.5564 - acc: 0.8197 - auroc: 0.9364 - val_loss: 0.8308 - val_acc: 0.7156 - val_auroc: 0.8636\n",
      "\n",
      "Epoch 00057: val_acc did not improve from 0.72375\n",
      "Epoch 58/100\n",
      "200/200 [==============================] - 186s 932ms/step - loss: 0.5519 - acc: 0.8113 - auroc: 0.9384 - val_loss: 0.8532 - val_acc: 0.7050 - val_auroc: 0.8580\n",
      "\n",
      "Epoch 00058: val_acc did not improve from 0.72375\n",
      "Epoch 59/100\n",
      "200/200 [==============================] - 186s 932ms/step - loss: 0.5433 - acc: 0.8309 - auroc: 0.9428 - val_loss: 0.8261 - val_acc: 0.7063 - val_auroc: 0.8681\n",
      "\n",
      "Epoch 00059: val_acc did not improve from 0.72375\n",
      "Epoch 60/100\n",
      "200/200 [==============================] - 187s 937ms/step - loss: 0.5560 - acc: 0.8156 - auroc: 0.9373 - val_loss: 0.7873 - val_acc: 0.7194 - val_auroc: 0.8725\n",
      "\n",
      "Epoch 00060: val_acc did not improve from 0.72375\n",
      "\n",
      "Epoch 00060: ReduceLROnPlateau reducing learning rate to 9.999999939225292e-10.\n",
      "Epoch 61/100\n",
      "200/200 [==============================] - 187s 937ms/step - loss: 0.5538 - acc: 0.8244 - auroc: 0.9390 - val_loss: 0.8442 - val_acc: 0.7113 - val_auroc: 0.8667\n",
      "\n",
      "Epoch 00061: val_acc did not improve from 0.72375\n",
      "Epoch 62/100\n",
      "200/200 [==============================] - 188s 942ms/step - loss: 0.5387 - acc: 0.8259 - auroc: 0.9416 - val_loss: 0.8312 - val_acc: 0.6894 - val_auroc: 0.8666\n",
      "\n",
      "Epoch 00062: val_acc did not improve from 0.72375\n",
      "Epoch 63/100\n",
      "200/200 [==============================] - 188s 938ms/step - loss: 0.5523 - acc: 0.8237 - auroc: 0.9363 - val_loss: 0.8176 - val_acc: 0.7081 - val_auroc: 0.8719\n",
      "\n",
      "Epoch 00063: val_acc did not improve from 0.72375\n",
      "Epoch 64/100\n",
      "200/200 [==============================] - 188s 939ms/step - loss: 0.5752 - acc: 0.8041 - auroc: 0.9339 - val_loss: 0.8575 - val_acc: 0.7144 - val_auroc: 0.8628\n",
      "\n",
      "Epoch 00064: val_acc did not improve from 0.72375\n",
      "Epoch 65/100\n",
      "200/200 [==============================] - 188s 940ms/step - loss: 0.5441 - acc: 0.8313 - auroc: 0.9434 - val_loss: 0.8482 - val_acc: 0.7137 - val_auroc: 0.8514\n",
      "\n",
      "Epoch 00065: val_acc did not improve from 0.72375\n",
      "Epoch 66/100\n",
      "200/200 [==============================] - 188s 939ms/step - loss: 0.5482 - acc: 0.8241 - auroc: 0.9406 - val_loss: 0.8409 - val_acc: 0.6994 - val_auroc: 0.8642\n",
      "\n",
      "Epoch 00066: val_acc did not improve from 0.72375\n",
      "Epoch 67/100\n",
      "200/200 [==============================] - 188s 939ms/step - loss: 0.5508 - acc: 0.8237 - auroc: 0.9411 - val_loss: 0.8373 - val_acc: 0.7169 - val_auroc: 0.8708\n",
      "\n",
      "Epoch 00067: val_acc did not improve from 0.72375\n",
      "Epoch 68/100\n",
      "200/200 [==============================] - 188s 939ms/step - loss: 0.5566 - acc: 0.8219 - auroc: 0.9369 - val_loss: 0.7840 - val_acc: 0.7156 - val_auroc: 0.8708\n",
      "\n",
      "Epoch 00068: val_acc did not improve from 0.72375\n",
      "Epoch 69/100\n",
      "200/200 [==============================] - 188s 940ms/step - loss: 0.5477 - acc: 0.8244 - auroc: 0.9401 - val_loss: 0.8822 - val_acc: 0.6869 - val_auroc: 0.8466\n",
      "\n",
      "Epoch 00069: val_acc did not improve from 0.72375\n",
      "Epoch 70/100\n",
      "200/200 [==============================] - 188s 939ms/step - loss: 0.5532 - acc: 0.8256 - auroc: 0.9415 - val_loss: 0.8326 - val_acc: 0.7219 - val_auroc: 0.8683\n",
      "\n",
      "Epoch 00070: val_acc did not improve from 0.72375\n",
      "\n",
      "Epoch 00070: ReduceLROnPlateau reducing learning rate to 9.999999717180686e-11.\n",
      "Epoch 71/100\n",
      "200/200 [==============================] - 188s 938ms/step - loss: 0.5425 - acc: 0.8269 - auroc: 0.9405 - val_loss: 0.8282 - val_acc: 0.7175 - val_auroc: 0.8666\n",
      "\n",
      "Epoch 00071: val_acc did not improve from 0.72375\n",
      "Epoch 72/100\n",
      "200/200 [==============================] - 188s 938ms/step - loss: 0.5356 - acc: 0.8262 - auroc: 0.9455 - val_loss: 0.8355 - val_acc: 0.7119 - val_auroc: 0.8739\n",
      "\n",
      "Epoch 00072: val_acc did not improve from 0.72375\n",
      "Epoch 73/100\n",
      "200/200 [==============================] - 188s 940ms/step - loss: 0.5602 - acc: 0.8216 - auroc: 0.9355 - val_loss: 0.8431 - val_acc: 0.7125 - val_auroc: 0.8680\n",
      "\n",
      "Epoch 00073: val_acc did not improve from 0.72375\n",
      "Epoch 74/100\n",
      "200/200 [==============================] - 188s 938ms/step - loss: 0.5614 - acc: 0.8256 - auroc: 0.9397 - val_loss: 0.8567 - val_acc: 0.7131 - val_auroc: 0.8683\n",
      "\n",
      "Epoch 00074: val_acc did not improve from 0.72375\n",
      "Epoch 75/100\n",
      "200/200 [==============================] - 188s 938ms/step - loss: 0.5562 - acc: 0.8228 - auroc: 0.9395 - val_loss: 0.8114 - val_acc: 0.7106 - val_auroc: 0.8752\n",
      "\n",
      "Epoch 00075: val_acc did not improve from 0.72375\n",
      "Epoch 76/100\n",
      "200/200 [==============================] - 187s 936ms/step - loss: 0.5581 - acc: 0.8225 - auroc: 0.9405 - val_loss: 0.8118 - val_acc: 0.7238 - val_auroc: 0.8777\n",
      "\n",
      "Epoch 00076: val_acc did not improve from 0.72375\n",
      "Epoch 77/100\n",
      "200/200 [==============================] - 188s 938ms/step - loss: 0.5292 - acc: 0.8228 - auroc: 0.9452 - val_loss: 0.8156 - val_acc: 0.7087 - val_auroc: 0.8670\n",
      "\n",
      "Epoch 00077: val_acc did not improve from 0.72375\n",
      "Epoch 78/100\n",
      "200/200 [==============================] - 187s 935ms/step - loss: 0.5725 - acc: 0.8175 - auroc: 0.9331 - val_loss: 0.8138 - val_acc: 0.7113 - val_auroc: 0.8753\n",
      "\n",
      "Epoch 00078: val_acc did not improve from 0.72375\n",
      "Epoch 79/100\n",
      "200/200 [==============================] - 187s 937ms/step - loss: 0.5447 - acc: 0.8294 - auroc: 0.9419 - val_loss: 0.8327 - val_acc: 0.7188 - val_auroc: 0.8684\n",
      "\n",
      "Epoch 00079: val_acc did not improve from 0.72375\n",
      "Epoch 80/100\n",
      "200/200 [==============================] - 187s 935ms/step - loss: 0.5510 - acc: 0.8191 - auroc: 0.9376 - val_loss: 0.8037 - val_acc: 0.7219 - val_auroc: 0.8823\n",
      "\n",
      "Epoch 00080: val_acc did not improve from 0.72375\n",
      "\n",
      "Epoch 00080: ReduceLROnPlateau reducing learning rate to 9.99999943962493e-12.\n",
      "Epoch 81/100\n",
      "200/200 [==============================] - 187s 936ms/step - loss: 0.5581 - acc: 0.8156 - auroc: 0.9382 - val_loss: 0.8861 - val_acc: 0.6863 - val_auroc: 0.8531\n",
      "\n",
      "Epoch 00081: val_acc did not improve from 0.72375\n",
      "Epoch 82/100\n",
      "200/200 [==============================] - 187s 937ms/step - loss: 0.5484 - acc: 0.8166 - auroc: 0.9421 - val_loss: 0.8547 - val_acc: 0.7156 - val_auroc: 0.8672\n",
      "\n",
      "Epoch 00082: val_acc did not improve from 0.72375\n",
      "Epoch 83/100\n",
      "200/200 [==============================] - 187s 935ms/step - loss: 0.5336 - acc: 0.8281 - auroc: 0.9445 - val_loss: 0.8406 - val_acc: 0.7044 - val_auroc: 0.8506\n",
      "\n",
      "Epoch 00083: val_acc did not improve from 0.72375\n",
      "Epoch 84/100\n",
      "200/200 [==============================] - 187s 936ms/step - loss: 0.5061 - acc: 0.8372 - auroc: 0.9526 - val_loss: 0.8592 - val_acc: 0.7013 - val_auroc: 0.8573\n",
      "\n",
      "Epoch 00084: val_acc did not improve from 0.72375\n",
      "Epoch 85/100\n",
      "200/200 [==============================] - 186s 932ms/step - loss: 0.5371 - acc: 0.8244 - auroc: 0.9414 - val_loss: 0.8570 - val_acc: 0.6913 - val_auroc: 0.8642\n",
      "\n",
      "Epoch 00085: val_acc did not improve from 0.72375\n",
      "Epoch 86/100\n",
      "200/200 [==============================] - 187s 934ms/step - loss: 0.5504 - acc: 0.8200 - auroc: 0.9420 - val_loss: 0.8980 - val_acc: 0.7013 - val_auroc: 0.8494\n",
      "\n",
      "Epoch 00086: val_acc did not improve from 0.72375\n",
      "Epoch 87/100\n",
      "200/200 [==============================] - 187s 936ms/step - loss: 0.5382 - acc: 0.8334 - auroc: 0.9437 - val_loss: 0.9206 - val_acc: 0.7100 - val_auroc: 0.8520\n",
      "\n",
      "Epoch 00087: val_acc did not improve from 0.72375\n",
      "Epoch 88/100\n",
      "200/200 [==============================] - 188s 938ms/step - loss: 0.5294 - acc: 0.8294 - auroc: 0.9451 - val_loss: 0.8550 - val_acc: 0.7006 - val_auroc: 0.8606\n",
      "\n",
      "Epoch 00088: val_acc did not improve from 0.72375\n",
      "Epoch 89/100\n",
      "200/200 [==============================] - 187s 934ms/step - loss: 0.5472 - acc: 0.8219 - auroc: 0.9395 - val_loss: 0.8328 - val_acc: 0.6956 - val_auroc: 0.8656\n",
      "\n",
      "Epoch 00089: val_acc did not improve from 0.72375\n",
      "Epoch 90/100\n",
      "200/200 [==============================] - 187s 936ms/step - loss: 0.5396 - acc: 0.8228 - auroc: 0.9425 - val_loss: 0.8425 - val_acc: 0.6963 - val_auroc: 0.8606\n",
      "\n",
      "Epoch 00090: val_acc did not improve from 0.72375\n",
      "\n",
      "Epoch 00090: ReduceLROnPlateau reducing learning rate to 9.999999092680235e-13.\n",
      "Epoch 91/100\n",
      "200/200 [==============================] - 187s 937ms/step - loss: 0.5543 - acc: 0.8222 - auroc: 0.9377 - val_loss: 0.8983 - val_acc: 0.6875 - val_auroc: 0.8545\n",
      "\n",
      "Epoch 00091: val_acc did not improve from 0.72375\n",
      "Epoch 92/100\n",
      "200/200 [==============================] - 187s 936ms/step - loss: 0.5642 - acc: 0.8187 - auroc: 0.9331 - val_loss: 0.8144 - val_acc: 0.7106 - val_auroc: 0.8697\n",
      "\n",
      "Epoch 00092: val_acc did not improve from 0.72375\n",
      "Epoch 93/100\n",
      "200/200 [==============================] - 187s 933ms/step - loss: 0.5533 - acc: 0.8269 - auroc: 0.9423 - val_loss: 0.8878 - val_acc: 0.6956 - val_auroc: 0.8505\n",
      "\n",
      "Epoch 00093: val_acc did not improve from 0.72375\n",
      "Epoch 94/100\n",
      "200/200 [==============================] - 187s 934ms/step - loss: 0.5597 - acc: 0.8159 - auroc: 0.9355 - val_loss: 0.8716 - val_acc: 0.7013 - val_auroc: 0.8517\n",
      "\n",
      "Epoch 00094: val_acc did not improve from 0.72375\n",
      "Epoch 95/100\n",
      "200/200 [==============================] - 187s 935ms/step - loss: 0.5302 - acc: 0.8284 - auroc: 0.9456 - val_loss: 0.8853 - val_acc: 0.7019 - val_auroc: 0.8514\n",
      "\n",
      "Epoch 00095: val_acc did not improve from 0.72375\n",
      "Epoch 96/100\n",
      "200/200 [==============================] - 187s 935ms/step - loss: 0.5463 - acc: 0.8306 - auroc: 0.9402 - val_loss: 0.8397 - val_acc: 0.7063 - val_auroc: 0.8742\n",
      "\n",
      "Epoch 00096: val_acc did not improve from 0.72375\n",
      "Epoch 97/100\n",
      "200/200 [==============================] - 187s 935ms/step - loss: 0.5458 - acc: 0.8209 - auroc: 0.9387 - val_loss: 0.8701 - val_acc: 0.7056 - val_auroc: 0.8573\n",
      "\n",
      "Epoch 00097: val_acc did not improve from 0.72375\n",
      "Epoch 98/100\n",
      "200/200 [==============================] - 186s 932ms/step - loss: 0.5517 - acc: 0.8113 - auroc: 0.9373 - val_loss: 0.8511 - val_acc: 0.7094 - val_auroc: 0.8648\n",
      "\n",
      "Epoch 00098: val_acc did not improve from 0.72375\n",
      "Epoch 99/100\n",
      "200/200 [==============================] - 186s 932ms/step - loss: 0.5393 - acc: 0.8281 - auroc: 0.9425 - val_loss: 0.8495 - val_acc: 0.7069 - val_auroc: 0.8633\n",
      "\n",
      "Epoch 00099: val_acc did not improve from 0.72375\n",
      "Epoch 100/100\n",
      "200/200 [==============================] - 186s 930ms/step - loss: 0.5476 - acc: 0.8234 - auroc: 0.9415 - val_loss: 0.8191 - val_acc: 0.7075 - val_auroc: 0.8755\n",
      "\n",
      "Epoch 00100: val_acc did not improve from 0.72375\n",
      "\n",
      "Epoch 00100: ReduceLROnPlateau reducing learning rate to 9.9999988758398e-14.\n"
     ]
    },
    {
     "data": {
      "text/plain": [
       "<keras.callbacks.History at 0x7f3182612da0>"
      ]
     },
     "execution_count": 45,
     "metadata": {
      "tags": []
     },
     "output_type": "execute_result"
    }
   ],
   "source": [
    "model.fit_generator(gen(train, train_person_to_images_map, batch_size=16), use_multiprocessing=True,\n",
    "                    validation_data=gen(val, val_person_to_images_map, batch_size=16), epochs=100, verbose=1,\n",
    "                    workers = 4, callbacks=callbacks_list, steps_per_epoch=200, validation_steps=100)"
   ]
  },
  {
   "cell_type": "code",
   "execution_count": null,
   "metadata": {
    "colab": {},
    "colab_type": "code",
    "id": "T_3T63w2IVyA"
   },
   "outputs": [],
   "source": [
    "model.load_weights(\"drive/My Drive/Face_recognition/vgg_face_cosine_focal3\")"
   ]
  },
  {
   "cell_type": "code",
   "execution_count": null,
   "metadata": {
    "colab": {},
    "colab_type": "code",
    "id": "oV-kgP65YyuL"
   },
   "outputs": [],
   "source": [
    "model.compile(loss=[focal_loss(alpha=.25, gamma=2)], metrics=['acc',auroc], optimizer=Adam(0.0001))"
   ]
  },
  {
   "cell_type": "code",
   "execution_count": null,
   "metadata": {
    "colab": {
     "base_uri": "https://localhost:8080/",
     "height": 34
    },
    "colab_type": "code",
    "id": "OCAaRsDHZhG0",
    "outputId": "7b344617-f88b-40a2-e77c-ae677803db92"
   },
   "outputs": [
    {
     "name": "stderr",
     "output_type": "stream",
     "text": [
      "166it [34:41,  9.47s/it]\n"
     ]
    }
   ],
   "source": [
    "test_path = \"drive/My Drive/Face_recognition/test/\"\n",
    "def chunker(seq, size=32):\n",
    "    return (seq[pos:pos + size] for pos in range(0, len(seq), size))\n",
    "\n",
    "\n",
    "from tqdm import tqdm\n",
    "\n",
    "submission = pd.read_csv('drive/My Drive/Face_recognition/sample_submission.csv')\n",
    "\n",
    "predictions = []\n",
    "\n",
    "for batch in tqdm(chunker(submission.img_pair.values)):\n",
    "    X1 = [x.split(\"-\")[0] for x in batch]\n",
    "    X1 = np.array([read_img(test_path + x) for x in X1])\n",
    "\n",
    "    X2 = [x.split(\"-\")[1] for x in batch]\n",
    "    X2 = np.array([read_img(test_path + x) for x in X2])\n",
    "\n",
    "    pred = model.predict([X1, X2]).ravel().tolist()\n",
    "    predictions += pred\n",
    "\n",
    "submission['is_related'] = predictions\n",
    "\n",
    "submission.to_csv(\"drive/My Drive/Face_recognition/cosine_focal_submission3.csv\", index=False)"
   ]
  },
  {
   "cell_type": "code",
   "execution_count": null,
   "metadata": {
    "colab": {},
    "colab_type": "code",
    "id": "ZNaXnURrZqkm"
   },
   "outputs": [],
   "source": [
    "sub_files = ['/content/drive/My Drive/Face_recognition/cosine_focal_submission.csv',\n",
    "        '/content/drive/My Drive/Face_recognition/cosine_focal_submission2.csv',\n",
    "        '/content/drive/My Drive/Face_recognition/cosine_submission.csv',\n",
    "        '/content/drive/My Drive/Face_recognition/cosine_submission2.csv',\n",
    "        '/content/drive/My Drive/Face_recognition/xgbpred.csv',\n",
    "        '/content/drive/My Drive/Face_recognition/sub_6.csv',\n",
    "         '/content/drive/My Drive/Face_recognition/vgg_face (2).csv',\n",
    "         \"drive/My Drive/Face_recognition/cosine_focal_submission3.csv\"\n",
    "        ]\n",
    "scores = []\n",
    "for f in sub_files:\n",
    "    d = pd.read_csv(f)\n",
    "    scores.append(np.array(d['is_related']))\n",
    "scores = np.array(scores)\n",
    "submission = pd.read_csv('/content/drive/My Drive/Face_recognition/sample_submission.csv')\n",
    "submission['is_related'] = np.sum(scores, axis=0)\n",
    "submission.to_csv(\"/content/drive/My Drive/Face_recognition/sub_10.csv\", index=False)"
   ]
  },
  {
   "cell_type": "markdown",
   "metadata": {
    "colab": {},
    "colab_type": "code",
    "id": "r4RRpYB6peCP"
   },
   "source": [
    "#### Final Best Score on kaggle leaderbaord: 0.908\n",
    "#### LB rank: 38"
   ]
  },
  {
   "cell_type": "code",
   "execution_count": 1,
   "metadata": {},
   "outputs": [
    {
     "name": "stdout",
     "output_type": "stream",
     "text": [
      "Collecting hyper\n",
      "  Downloading https://files.pythonhosted.org/packages/96/c3/e77072050a8d3a22255695d0cd7fde19bfe962364a6f6870ef47a9f9f66b/hyper-0.7.0-py2.py3-none-any.whl (269kB)\n",
      "Collecting h2<3.0,>=2.4 (from hyper)\n",
      "  Downloading https://files.pythonhosted.org/packages/d7/8b/8d5610e8ddbcde6d014907526b4c6c294520a7233fc456d7be1fcade3bbc/h2-2.6.2-py2.py3-none-any.whl (71kB)\n",
      "Collecting hyperframe<4.0,>=3.2 (from hyper)\n",
      "  Downloading https://files.pythonhosted.org/packages/d8/89/44ff46f15dba53a8c16cb8cab89ecb1e44f8aa211628b43d341004cfcf7a/hyperframe-3.2.0-py2.py3-none-any.whl\n",
      "Collecting hpack<4,>=2.2 (from h2<3.0,>=2.4->hyper)\n",
      "  Downloading https://files.pythonhosted.org/packages/8a/cc/e53517f4a1e13f74776ca93271caef378dadec14d71c61c949d759d3db69/hpack-3.0.0-py2.py3-none-any.whl\n",
      "Installing collected packages: hpack, hyperframe, h2, hyper\n",
      "Successfully installed h2-2.6.2 hpack-3.0.0 hyper-0.7.0 hyperframe-3.2.0\n"
     ]
    }
   ],
   "source": [
    "! pip install hyper"
   ]
  },
  {
   "cell_type": "code",
   "execution_count": 2,
   "metadata": {},
   "outputs": [
    {
     "name": "stdout",
     "output_type": "stream",
     "text": [
      "Collecting googletrans\n",
      "  Downloading https://files.pythonhosted.org/packages/fd/f0/a22d41d3846d1f46a4f20086141e0428ccc9c6d644aacbfd30990cf46886/googletrans-2.4.0.tar.gz\n",
      "Requirement already satisfied: requests in c:\\users\\prabh\\anaconda3\\lib\\site-packages (from googletrans) (2.21.0)\n",
      "Requirement already satisfied: idna<2.9,>=2.5 in c:\\users\\prabh\\anaconda3\\lib\\site-packages (from requests->googletrans) (2.8)\n",
      "Requirement already satisfied: certifi>=2017.4.17 in c:\\users\\prabh\\anaconda3\\lib\\site-packages (from requests->googletrans) (2018.11.29)\n",
      "Requirement already satisfied: chardet<3.1.0,>=3.0.2 in c:\\users\\prabh\\anaconda3\\lib\\site-packages (from requests->googletrans) (3.0.4)\n",
      "Requirement already satisfied: urllib3<1.25,>=1.21.1 in c:\\users\\prabh\\anaconda3\\lib\\site-packages (from requests->googletrans) (1.24.1)\n",
      "Building wheels for collected packages: googletrans\n",
      "  Building wheel for googletrans (setup.py): started\n",
      "  Building wheel for googletrans (setup.py): finished with status 'done'\n",
      "  Created wheel for googletrans: filename=googletrans-2.4.0-cp37-none-any.whl size=15782 sha256=7c75aa6e8ee21bc5f6a73b714d9d9ba5a462a6fbeed0c1d699caa03d4af3fc54\n",
      "  Stored in directory: C:\\Users\\prabh\\AppData\\Local\\pip\\Cache\\wheels\\50\\d6\\e7\\a8efd5f2427d5eb258070048718fa56ee5ac57fd6f53505f95\n",
      "Successfully built googletrans\n",
      "Installing collected packages: googletrans\n",
      "Successfully installed googletrans-2.4.0\n"
     ]
    }
   ],
   "source": [
    "! pip install googletrans"
   ]
  },
  {
   "cell_type": "code",
   "execution_count": 9,
   "metadata": {},
   "outputs": [],
   "source": [
    "from googletrans import Translator\n",
    "translator = Translator()"
   ]
  },
  {
   "cell_type": "code",
   "execution_count": 10,
   "metadata": {},
   "outputs": [
    {
     "name": "stdout",
     "output_type": "stream",
     "text": [
      "Wall time: 6.22 s\n"
     ]
    }
   ],
   "source": [
    "%%time\n",
    "t = translator.translate(\"এই সময় ডিজিটাল ডেস্ক: দেশের প্রত্যন্ত গ্রামের অতি সাধারণ একটি স্কুলকে 'অসাধারণ' হিসেবে গড়ে তুলে বিশ্বের সেরা শিক্ষক হলেন কেনিয়ার এক শিক্ষক। সম্প্রতি দুবাইয়ে তাঁর হাতে পুরস্কার এবং ১০ লক্ষ মার্কিন ডলার অর্থ তুলে দেওয়া হয়েছে। কেনিয়ার শুষ্ক রিফট উপত্যকার প্রত্যন্ত গ্রাম পওয়ানি। এই গ্রামের কেরিকো মিক্সড ডে সেকেন্ডারি স্কুলে অঙ্ক এবং পদার্থবিদ্যার শিক্ষক হিসেবে যোগ দিয়েছিলেন পিটার তাবিচি। এই স্কুলের ৯০ শতাংশ পড়ুয়া অতি দরিদ্র পরিবার থেকে উঠে আসা। এক সময় যেখানে পড়াশোনার বুনিয়াদি সুযোগ সুবিধা পর্যন্ত ছিল না সম্প্রতি সেই স্কুল জাতীয় বিজ্ঞান প্রতিযোগিতায় সেরা হয়েছে। আর স্কুলের এই সাফল্যের মূল কারিগর ৩৬ বছর বয়সী অংক এবং পদার্থবিদ্যার শিক্ষক তাবিচি। গ্লোবাল টিটার প্রাইজ ফর ২০১৯-এর আয়োজক ভারকি ফাউন্ডেশনের তরফে জানানো হয়েছে, মাসিক আয়ের ৮০ শতাংশ অর্থ দরিদ্রদের মধ্যে বিলিয়ে দেন পিটার তাবিচি। রিফট উপত্যকার যে গ্রামে খরা এবং দুর্ভিক্ষ নিয়মিত ঘটনা সেখানকার একটি স্কুলকে দেশের মধ্যে সেরা স্কুল হিসেবে তুলে ধরার স্বীকৃতি হিসেবে পিটার তাবিচিকে পুরস্কৃত করা হয়েছে। পুরস্কার গ্রহণের পরে তাবিচ বলেছেন, 'আফ্রিকায় আমরা প্রতি দিন নতুন পৃষ্ঠা এবং নতুন অধ্যায় যুক্ত করছি। এই পুরস্কার আমাকে নয়, বরং এই মহাদেশের তরুণ যুবককের প্রচেষ্টাকে স্বীকৃতি দিল। আমার স্কুলর পড়ুয়াদের সাফল্যের কারণে আজ আমি এখানে দাঁড়িয়ে আছি।\")"
   ]
  },
  {
   "cell_type": "code",
   "execution_count": 11,
   "metadata": {},
   "outputs": [
    {
     "data": {
      "text/plain": [
       "'This time the digital desk: Kenya\\'s teacher is one of the best teachers in the world, setting up a very ordinary school in a remote village in the country. He was recently given a prize and $ 1 million in Dubai in Dubai. Pawani, a remote village in Kenya\\'s dry rift valley. Peter Tabichi joined Carrick Mixed Day Secondary School as a math and physics teacher in this village. Five percent of the students in this school come from very poor families. At a time when the basics of study were not up to the mark, the school recently excelled in the national science competition. And the key to this school\\'s success is the 4-year-old marksman and physics teacher Tabichi. According to the Varki Foundation, the organizer of the Global Titter Prize for 20, Peter Tabichi spends 5 percent of his monthly income on the poor. Peter Tabichi has been awarded for recognizing a school in the Rift Valley village as one of the best schools in the country. After receiving the award, Tabich says, \"In Africa we are adding new pages and new chapters every day. This award recognizes the efforts of the young people of this continent, not me. I stand here today because of the success of my schoolteachers.'"
      ]
     },
     "execution_count": 11,
     "metadata": {},
     "output_type": "execute_result"
    }
   ],
   "source": [
    "t.text"
   ]
  },
  {
   "cell_type": "code",
   "execution_count": 7,
   "metadata": {},
   "outputs": [
    {
     "name": "stdout",
     "output_type": "stream",
     "text": [
      "Wall time: 195 ms\n"
     ]
    }
   ],
   "source": [
    "%%time\n",
    "t = translator.translate(\"This time the digital desk: Kenya\\'s teacher is one of the best teachers in the world, setting up a very ordinary school in a remote village in the country. He was recently given a prize and $ 1 million in Dubai in Dubai. Pawani, a remote village in Kenya\\'s dry rift valley. Peter Tabichi joined Carrick Mixed Day Secondary School as a math and physics teacher in this village. Five percent of the students in this school come from very poor families. At a time when the basics of study were not up to the mark, the school recently excelled in the national science competition. And the key to this school\\'s success is the 4-year-old marksman and physics teacher Tabichi. According to the Varki Foundation, the organizer of the Global Titter Prize for 20, Peter Tabichi spends 5 percent of his monthly income on the poor. Peter Tabichi has been awarded for recognizing a school in the Rift Valley village as one of the best schools in the country. After receiving the award, Tabich says, 'In Africa we are adding new pages and new chapters every day. This award recognizes the efforts of the young people of this continent, not me. I stand here today because of the success of my schoolteachers.\")"
   ]
  },
  {
   "cell_type": "code",
   "execution_count": 8,
   "metadata": {},
   "outputs": [
    {
     "data": {
      "text/plain": [
       "\"This time the digital desk: Kenya's teacher is one of the best teachers in the world, setting up a very ordinary school in a remote village in the country. He was recently given a prize and $ 1 million in Dubai in Dubai. Pawani, a remote village in Kenya's dry rift valley. Peter Tabichi joined Carrick Mixed Day Secondary School as a math and physics teacher in this village. Five percent of the students in this school come from very poor families. At a time when the basics of study were not up to the mark, the school recently excelled in the national science competition. And the key to this school's success is the 4-year-old marksman and physics teacher Tabichi. According to the Varki Foundation, the organizer of the Global Titter Prize for 20, Peter Tabichi spends 5 percent of his monthly income on the poor. Peter Tabichi has been awarded for recognizing a school in the Rift Valley village as one of the best schools in the country. After receiving the award, Tabich says, 'In Africa we are adding new pages and new chapters every day. This award recognizes the efforts of the young people of this continent, not me. I stand here today because of the success of my schoolteachers.\""
      ]
     },
     "execution_count": 8,
     "metadata": {},
     "output_type": "execute_result"
    }
   ],
   "source": [
    "t.text"
   ]
  },
  {
   "cell_type": "code",
   "execution_count": null,
   "metadata": {},
   "outputs": [],
   "source": []
  }
 ],
 "metadata": {
  "accelerator": "GPU",
  "colab": {
   "collapsed_sections": [],
   "name": "kinship (1).ipynb",
   "provenance": [],
   "toc_visible": true,
   "version": "0.3.2"
  },
  "kernelspec": {
   "display_name": "Python 3",
   "language": "python",
   "name": "python3"
  },
  "language_info": {
   "codemirror_mode": {
    "name": "ipython",
    "version": 3
   },
   "file_extension": ".py",
   "mimetype": "text/x-python",
   "name": "python",
   "nbconvert_exporter": "python",
   "pygments_lexer": "ipython3",
   "version": "3.7.1"
  }
 },
 "nbformat": 4,
 "nbformat_minor": 2
}
